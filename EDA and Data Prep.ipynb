{
 "cells": [
  {
   "cell_type": "code",
   "execution_count": 1,
   "id": "8840fa4f-98d8-41dc-95c7-ea02848a7999",
   "metadata": {},
   "outputs": [],
   "source": [
    "import pandas as pd\n",
    "import numpy as np\n",
    "import altair as alt\n",
    "import matplotlib.pyplot as plt\n",
    "\n",
    "alt.renderers.enable('mimetype')\n",
    "\n",
    "import warnings\n",
    "warnings.filterwarnings(\"ignore\")"
   ]
  },
  {
   "cell_type": "code",
   "execution_count": 2,
   "id": "4ec3a591-7ab5-4467-b29d-43c75f4aa2bc",
   "metadata": {},
   "outputs": [],
   "source": [
    "country_filter: str = 'Kenya'"
   ]
  },
  {
   "cell_type": "code",
   "execution_count": 3,
   "id": "981902af-e711-43c5-9d13-58c8262eee0f",
   "metadata": {},
   "outputs": [],
   "source": [
    "death_cause_source = 'datasets/causes-of-death-in-children.csv'\n",
    "death_cause_df = pd.read_csv(death_cause_source)\n",
    "\n",
    "#death_cause_df.sample(2)\n",
    "death_cause_df.drop(columns='Code', inplace=True)\n",
    "death_cause_df.columns = (death_cause_df.columns.str.replace(\"Sex: Both - Age: \",\"\").str.replace(\"/\",\"\").str.replace(\" - \",\"_\")\n",
    "                          .str.replace(\"Number\",\"\").str.replace(\")\",\"\").str.replace(\"(\",\"\").str.replace(\" \",\"_\").str.lower())\n",
    "\n",
    "kenya_under5_df = death_cause_df.query('entity == @country_filter')\n",
    "kenya_under5_df.drop(columns=\"entity\", inplace=True)\n",
    "\n",
    "#%mkdir prepped_data\n",
    "\n",
    "kenya_under5_df.to_csv('prepped_data/kenya_deaths_under_five.csv', index=False)"
   ]
  },
  {
   "cell_type": "code",
   "execution_count": 4,
   "id": "497514dc-3c3a-49f3-8251-63d9d94da320",
   "metadata": {},
   "outputs": [],
   "source": [
    "age_group = (pd\n",
    "             .read_csv('datasets/tuberculosis-death-rates-by-age.csv')\n",
    "             .query('Entity == @country_filter')\n",
    "             .drop(columns = ['Entity','Code']))\n",
    "\n",
    "age_group.columns = age_group.columns.str.replace(\"(\",\"\").str.replace(\")\",\"\").str.replace(\" Sex: Both - \",\"\").str.replace(\"Age:\",\"\").str.replace(\" - \",\"_\").str.replace(\" \",\"_\").str.lower()\n",
    "\n",
    "age_group.to_csv('prepped_data/kenya_tb_agegroup_death_rates.csv', index=False)"
   ]
  },
  {
   "cell_type": "markdown",
   "id": "2674b5b5-fd9f-4ba5-8a17-adf1635d1d17",
   "metadata": {},
   "source": [
    "#### line chart test tooltip and conditional color"
   ]
  },
  {
   "cell_type": "code",
   "execution_count": 5,
   "id": "abe0aaba-9166-44fe-ae60-c71c3a8ff902",
   "metadata": {
    "tags": []
   },
   "outputs": [
    {
     "data": {
      "application/vnd.vegalite.v5+json": {
       "$schema": "https://vega.github.io/schema/vega-lite/v5.14.1.json",
       "config": {
        "view": {
         "continuousHeight": 300,
         "continuousWidth": 300
        }
       },
       "data": {
        "name": "data-398776269df7c900e5ccab5b7931df2b"
       },
       "datasets": {
        "data-398776269df7c900e5ccab5b7931df2b": [
         {
          "deaths_tuberculosis_15-49_years_rate": 33.31,
          "deaths_tuberculosis_5-14_years_rate": 2,
          "deaths_tuberculosis_50-69_years_rate": 207.85,
          "deaths_tuberculosis_70+_years_rate": 664.95,
          "deaths_tuberculosis_under_5_rate": 22.99,
          "year": 1990
         },
         {
          "deaths_tuberculosis_15-49_years_rate": 33.5,
          "deaths_tuberculosis_5-14_years_rate": 1.97,
          "deaths_tuberculosis_50-69_years_rate": 205.82,
          "deaths_tuberculosis_70+_years_rate": 652.83,
          "deaths_tuberculosis_under_5_rate": 21.24,
          "year": 1991
         },
         {
          "deaths_tuberculosis_15-49_years_rate": 34.23,
          "deaths_tuberculosis_5-14_years_rate": 1.95,
          "deaths_tuberculosis_50-69_years_rate": 207.05,
          "deaths_tuberculosis_70+_years_rate": 650.55,
          "deaths_tuberculosis_under_5_rate": 19.91,
          "year": 1992
         },
         {
          "deaths_tuberculosis_15-49_years_rate": 34.98,
          "deaths_tuberculosis_5-14_years_rate": 1.93,
          "deaths_tuberculosis_50-69_years_rate": 208.76,
          "deaths_tuberculosis_70+_years_rate": 650.42,
          "deaths_tuberculosis_under_5_rate": 18.73,
          "year": 1993
         },
         {
          "deaths_tuberculosis_15-49_years_rate": 35.53,
          "deaths_tuberculosis_5-14_years_rate": 1.89,
          "deaths_tuberculosis_50-69_years_rate": 208.74,
          "deaths_tuberculosis_70+_years_rate": 645.17,
          "deaths_tuberculosis_under_5_rate": 17.56,
          "year": 1994
         },
         {
          "deaths_tuberculosis_15-49_years_rate": 35.84,
          "deaths_tuberculosis_5-14_years_rate": 1.84,
          "deaths_tuberculosis_50-69_years_rate": 207.83,
          "deaths_tuberculosis_70+_years_rate": 635.56,
          "deaths_tuberculosis_under_5_rate": 16.41,
          "year": 1995
         },
         {
          "deaths_tuberculosis_15-49_years_rate": 36.13,
          "deaths_tuberculosis_5-14_years_rate": 1.76,
          "deaths_tuberculosis_50-69_years_rate": 207.34,
          "deaths_tuberculosis_70+_years_rate": 626.01,
          "deaths_tuberculosis_under_5_rate": 15.36,
          "year": 1996
         },
         {
          "deaths_tuberculosis_15-49_years_rate": 37.01,
          "deaths_tuberculosis_5-14_years_rate": 1.73,
          "deaths_tuberculosis_50-69_years_rate": 210.69,
          "deaths_tuberculosis_70+_years_rate": 626.03,
          "deaths_tuberculosis_under_5_rate": 14.49,
          "year": 1997
         },
         {
          "deaths_tuberculosis_15-49_years_rate": 38.26,
          "deaths_tuberculosis_5-14_years_rate": 1.7,
          "deaths_tuberculosis_50-69_years_rate": 216.3,
          "deaths_tuberculosis_70+_years_rate": 630.93,
          "deaths_tuberculosis_under_5_rate": 13.67,
          "year": 1998
         },
         {
          "deaths_tuberculosis_15-49_years_rate": 38.9,
          "deaths_tuberculosis_5-14_years_rate": 1.65,
          "deaths_tuberculosis_50-69_years_rate": 218.01,
          "deaths_tuberculosis_70+_years_rate": 627.17,
          "deaths_tuberculosis_under_5_rate": 12.87,
          "year": 1999
         },
         {
          "deaths_tuberculosis_15-49_years_rate": 40.41,
          "deaths_tuberculosis_5-14_years_rate": 1.67,
          "deaths_tuberculosis_50-69_years_rate": 223.14,
          "deaths_tuberculosis_70+_years_rate": 627.67,
          "deaths_tuberculosis_under_5_rate": 12.71,
          "year": 2000
         },
         {
          "deaths_tuberculosis_15-49_years_rate": 41.13,
          "deaths_tuberculosis_5-14_years_rate": 1.62,
          "deaths_tuberculosis_50-69_years_rate": 223.54,
          "deaths_tuberculosis_70+_years_rate": 616.84,
          "deaths_tuberculosis_under_5_rate": 11.66,
          "year": 2001
         },
         {
          "deaths_tuberculosis_15-49_years_rate": 42.49,
          "deaths_tuberculosis_5-14_years_rate": 1.62,
          "deaths_tuberculosis_50-69_years_rate": 226.82,
          "deaths_tuberculosis_70+_years_rate": 612.44,
          "deaths_tuberculosis_under_5_rate": 11.02,
          "year": 2002
         },
         {
          "deaths_tuberculosis_15-49_years_rate": 44.17,
          "deaths_tuberculosis_5-14_years_rate": 1.75,
          "deaths_tuberculosis_50-69_years_rate": 229.52,
          "deaths_tuberculosis_70+_years_rate": 603.89,
          "deaths_tuberculosis_under_5_rate": 10.77,
          "year": 2003
         },
         {
          "deaths_tuberculosis_15-49_years_rate": 44.71,
          "deaths_tuberculosis_5-14_years_rate": 1.72,
          "deaths_tuberculosis_50-69_years_rate": 226.78,
          "deaths_tuberculosis_70+_years_rate": 587.54,
          "deaths_tuberculosis_under_5_rate": 10.14,
          "year": 2004
         },
         {
          "deaths_tuberculosis_15-49_years_rate": 44.48,
          "deaths_tuberculosis_5-14_years_rate": 1.67,
          "deaths_tuberculosis_50-69_years_rate": 222.04,
          "deaths_tuberculosis_70+_years_rate": 571.29,
          "deaths_tuberculosis_under_5_rate": 9.81,
          "year": 2005
         },
         {
          "deaths_tuberculosis_15-49_years_rate": 43.92,
          "deaths_tuberculosis_5-14_years_rate": 1.64,
          "deaths_tuberculosis_50-69_years_rate": 217.33,
          "deaths_tuberculosis_70+_years_rate": 558.04,
          "deaths_tuberculosis_under_5_rate": 9.48,
          "year": 2006
         },
         {
          "deaths_tuberculosis_15-49_years_rate": 43.16,
          "deaths_tuberculosis_5-14_years_rate": 1.65,
          "deaths_tuberculosis_50-69_years_rate": 213.21,
          "deaths_tuberculosis_70+_years_rate": 547.6,
          "deaths_tuberculosis_under_5_rate": 9.29,
          "year": 2007
         },
         {
          "deaths_tuberculosis_15-49_years_rate": 42.42,
          "deaths_tuberculosis_5-14_years_rate": 1.64,
          "deaths_tuberculosis_50-69_years_rate": 208.69,
          "deaths_tuberculosis_70+_years_rate": 540.11,
          "deaths_tuberculosis_under_5_rate": 8.87,
          "year": 2008
         },
         {
          "deaths_tuberculosis_15-49_years_rate": 41.63,
          "deaths_tuberculosis_5-14_years_rate": 1.65,
          "deaths_tuberculosis_50-69_years_rate": 203.64,
          "deaths_tuberculosis_70+_years_rate": 530.21,
          "deaths_tuberculosis_under_5_rate": 8.76,
          "year": 2009
         },
         {
          "deaths_tuberculosis_15-49_years_rate": 40.53,
          "deaths_tuberculosis_5-14_years_rate": 1.68,
          "deaths_tuberculosis_50-69_years_rate": 196.7,
          "deaths_tuberculosis_70+_years_rate": 514.01,
          "deaths_tuberculosis_under_5_rate": 9.04,
          "year": 2010
         },
         {
          "deaths_tuberculosis_15-49_years_rate": 39.31,
          "deaths_tuberculosis_5-14_years_rate": 1.7,
          "deaths_tuberculosis_50-69_years_rate": 189.48,
          "deaths_tuberculosis_70+_years_rate": 496.94,
          "deaths_tuberculosis_under_5_rate": 9.04,
          "year": 2011
         },
         {
          "deaths_tuberculosis_15-49_years_rate": 37.87,
          "deaths_tuberculosis_5-14_years_rate": 1.61,
          "deaths_tuberculosis_50-69_years_rate": 181.79,
          "deaths_tuberculosis_70+_years_rate": 480.82,
          "deaths_tuberculosis_under_5_rate": 8.43,
          "year": 2012
         },
         {
          "deaths_tuberculosis_15-49_years_rate": 36.53,
          "deaths_tuberculosis_5-14_years_rate": 1.53,
          "deaths_tuberculosis_50-69_years_rate": 175.05,
          "deaths_tuberculosis_70+_years_rate": 469.93,
          "deaths_tuberculosis_under_5_rate": 8.1,
          "year": 2013
         },
         {
          "deaths_tuberculosis_15-49_years_rate": 35.45,
          "deaths_tuberculosis_5-14_years_rate": 1.46,
          "deaths_tuberculosis_50-69_years_rate": 170.16,
          "deaths_tuberculosis_70+_years_rate": 463.88,
          "deaths_tuberculosis_under_5_rate": 7.66,
          "year": 2014
         },
         {
          "deaths_tuberculosis_15-49_years_rate": 34.14,
          "deaths_tuberculosis_5-14_years_rate": 1.36,
          "deaths_tuberculosis_50-69_years_rate": 164.84,
          "deaths_tuberculosis_70+_years_rate": 456.87,
          "deaths_tuberculosis_under_5_rate": 6.97,
          "year": 2015
         },
         {
          "deaths_tuberculosis_15-49_years_rate": 32.51,
          "deaths_tuberculosis_5-14_years_rate": 1.26,
          "deaths_tuberculosis_50-69_years_rate": 157.63,
          "deaths_tuberculosis_70+_years_rate": 442.07,
          "deaths_tuberculosis_under_5_rate": 6.26,
          "year": 2016
         },
         {
          "deaths_tuberculosis_15-49_years_rate": 30.87,
          "deaths_tuberculosis_5-14_years_rate": 1.19,
          "deaths_tuberculosis_50-69_years_rate": 149.47,
          "deaths_tuberculosis_70+_years_rate": 423.93,
          "deaths_tuberculosis_under_5_rate": 5.94,
          "year": 2017
         },
         {
          "deaths_tuberculosis_15-49_years_rate": 29.36,
          "deaths_tuberculosis_5-14_years_rate": 1.11,
          "deaths_tuberculosis_50-69_years_rate": 141.42,
          "deaths_tuberculosis_70+_years_rate": 403.78,
          "deaths_tuberculosis_under_5_rate": 5.36,
          "year": 2018
         },
         {
          "deaths_tuberculosis_15-49_years_rate": 28.14,
          "deaths_tuberculosis_5-14_years_rate": 1.03,
          "deaths_tuberculosis_50-69_years_rate": 134.91,
          "deaths_tuberculosis_70+_years_rate": 387.02,
          "deaths_tuberculosis_under_5_rate": 4.92,
          "year": 2019
         }
        ]
       },
       "encoding": {
        "color": {
         "condition": {
          "test": "(datum.year >= 2004)",
          "value": "red"
         },
         "value": "grey"
        },
        "tooltip": [
         {
          "field": "year",
          "type": "quantitative"
         },
         {
          "field": "deaths_tuberculosis_under_5_rate",
          "type": "quantitative"
         }
        ],
        "x": {
         "field": "year",
         "type": "ordinal"
        },
        "y": {
         "field": "deaths_tuberculosis_under_5_rate",
         "type": "quantitative"
        }
       },
       "mark": {
        "point": true,
        "type": "line"
       },
       "params": [
        {
         "bind": "scales",
         "name": "param_1",
         "select": {
          "encodings": [
           "x",
           "y"
          ],
          "type": "interval"
         }
        }
       ]
      },
      "text/plain": [
       "<VegaLite 5 object>\n",
       "\n",
       "If you see this message, it means the renderer has not been properly enabled\n",
       "for the frontend that you are using. For more information, see\n",
       "https://altair-viz.github.io/user_guide/display_frontends.html#troubleshooting\n"
      ]
     },
     "execution_count": 5,
     "metadata": {},
     "output_type": "execute_result"
    }
   ],
   "source": [
    "alt.Chart(age_group).mark_line(point=True).encode(\n",
    " x='year:O',\n",
    " y='deaths_tuberculosis_under_5_rate:Q',\n",
    " color= alt.condition(alt.datum.year >= 2004 , alt.value(\"red\"), alt.value(\"grey\")),\n",
    " tooltip=['year', 'deaths_tuberculosis_under_5_rate']\n",
    ").interactive()"
   ]
  },
  {
   "cell_type": "markdown",
   "id": "c4f629ab-d722-47d9-bed8-6cb7870f6c1c",
   "metadata": {},
   "source": [
    "### Under five tb deaths in east africa line chart"
   ]
  },
  {
   "cell_type": "code",
   "execution_count": 6,
   "id": "1e44e28b-ade2-40d9-9197-d4650ce27447",
   "metadata": {},
   "outputs": [
    {
     "data": {
      "application/vnd.vegalite.v5+json": {
       "$schema": "https://vega.github.io/schema/vega-lite/v5.14.1.json",
       "config": {
        "view": {
         "continuousHeight": 300,
         "continuousWidth": 300,
         "stroke": null
        }
       },
       "datasets": {
        "data-8df3b2ce3c2ce15608d91585717319c8": [
         {
          "deaths_congenital_birth_defects_under_5_": 3688,
          "deaths_diarrheal_diseases_under_5_": 12453,
          "deaths_drowning_under_5_": 269,
          "deaths_hivaids_under_5_": 6836,
          "deaths_lower_respiratory_infections_under_5_": 15821,
          "deaths_malaria_under_5_": 9707,
          "deaths_measles_under_5_": 7286,
          "deaths_meningitis_under_5_": 2772,
          "deaths_neonatal_encephalopathy_due_to_birth_asphyxia_and_trauma_under_5_": 5401,
          "deaths_neonatal_preterm_birth_under_5_": 4832,
          "deaths_neonatal_sepsis_and_other_neonatal_infections_under_5_": 3050,
          "deaths_neoplasms_under_5_": 420,
          "deaths_nutritional_deficiencies_under_5_": 5444,
          "deaths_other_neonatal_disorders_under_5_": 3855,
          "deaths_syphilis_under_5_": 1542,
          "deaths_tuberculosis_under_5_": 999,
          "deaths_whooping_cough_under_5_": 1210,
          "entity": "Kenya",
          "year": 1990
         },
         {
          "deaths_congenital_birth_defects_under_5_": 3585,
          "deaths_diarrheal_diseases_under_5_": 13879,
          "deaths_drowning_under_5_": 250,
          "deaths_hivaids_under_5_": 9309,
          "deaths_lower_respiratory_infections_under_5_": 15066,
          "deaths_malaria_under_5_": 10052,
          "deaths_measles_under_5_": 6752,
          "deaths_meningitis_under_5_": 2639,
          "deaths_neonatal_encephalopathy_due_to_birth_asphyxia_and_trauma_under_5_": 5448,
          "deaths_neonatal_preterm_birth_under_5_": 4850,
          "deaths_neonatal_sepsis_and_other_neonatal_infections_under_5_": 3066,
          "deaths_neoplasms_under_5_": 402,
          "deaths_nutritional_deficiencies_under_5_": 5286,
          "deaths_other_neonatal_disorders_under_5_": 3824,
          "deaths_syphilis_under_5_": 1458,
          "deaths_tuberculosis_under_5_": 940,
          "deaths_whooping_cough_under_5_": 1156,
          "entity": "Kenya",
          "year": 1991
         },
         {
          "deaths_congenital_birth_defects_under_5_": 3491,
          "deaths_diarrheal_diseases_under_5_": 15432,
          "deaths_drowning_under_5_": 235,
          "deaths_hivaids_under_5_": 11904,
          "deaths_lower_respiratory_infections_under_5_": 14483,
          "deaths_malaria_under_5_": 10161,
          "deaths_measles_under_5_": 6282,
          "deaths_meningitis_under_5_": 2519,
          "deaths_neonatal_encephalopathy_due_to_birth_asphyxia_and_trauma_under_5_": 5521,
          "deaths_neonatal_preterm_birth_under_5_": 4895,
          "deaths_neonatal_sepsis_and_other_neonatal_infections_under_5_": 3082,
          "deaths_neoplasms_under_5_": 384,
          "deaths_nutritional_deficiencies_under_5_": 5119,
          "deaths_other_neonatal_disorders_under_5_": 3814,
          "deaths_syphilis_under_5_": 1379,
          "deaths_tuberculosis_under_5_": 896,
          "deaths_whooping_cough_under_5_": 1115,
          "entity": "Kenya",
          "year": 1992
         },
         {
          "deaths_congenital_birth_defects_under_5_": 3396,
          "deaths_diarrheal_diseases_under_5_": 16739,
          "deaths_drowning_under_5_": 216,
          "deaths_hivaids_under_5_": 14327,
          "deaths_lower_respiratory_infections_under_5_": 13949,
          "deaths_malaria_under_5_": 10164,
          "deaths_measles_under_5_": 5855,
          "deaths_meningitis_under_5_": 2399,
          "deaths_neonatal_encephalopathy_due_to_birth_asphyxia_and_trauma_under_5_": 5590,
          "deaths_neonatal_preterm_birth_under_5_": 4940,
          "deaths_neonatal_sepsis_and_other_neonatal_infections_under_5_": 3091,
          "deaths_neoplasms_under_5_": 367,
          "deaths_nutritional_deficiencies_under_5_": 4918,
          "deaths_other_neonatal_disorders_under_5_": 3808,
          "deaths_syphilis_under_5_": 1308,
          "deaths_tuberculosis_under_5_": 858,
          "deaths_whooping_cough_under_5_": 1054,
          "entity": "Kenya",
          "year": 1993
         },
         {
          "deaths_congenital_birth_defects_under_5_": 3309,
          "deaths_diarrheal_diseases_under_5_": 17973,
          "deaths_drowning_under_5_": 204,
          "deaths_hivaids_under_5_": 16369,
          "deaths_lower_respiratory_infections_under_5_": 13427,
          "deaths_malaria_under_5_": 10163,
          "deaths_measles_under_5_": 5480,
          "deaths_meningitis_under_5_": 2284,
          "deaths_neonatal_encephalopathy_due_to_birth_asphyxia_and_trauma_under_5_": 5660,
          "deaths_neonatal_preterm_birth_under_5_": 4990,
          "deaths_neonatal_sepsis_and_other_neonatal_infections_under_5_": 3099,
          "deaths_neoplasms_under_5_": 351,
          "deaths_nutritional_deficiencies_under_5_": 4697,
          "deaths_other_neonatal_disorders_under_5_": 3809,
          "deaths_syphilis_under_5_": 1251,
          "deaths_tuberculosis_under_5_": 818,
          "deaths_whooping_cough_under_5_": 1043,
          "entity": "Kenya",
          "year": 1994
         },
         {
          "deaths_congenital_birth_defects_under_5_": 3242,
          "deaths_diarrheal_diseases_under_5_": 18978,
          "deaths_drowning_under_5_": 191,
          "deaths_hivaids_under_5_": 17949,
          "deaths_lower_respiratory_infections_under_5_": 12927,
          "deaths_malaria_under_5_": 10338,
          "deaths_measles_under_5_": 5056,
          "deaths_meningitis_under_5_": 2184,
          "deaths_neonatal_encephalopathy_due_to_birth_asphyxia_and_trauma_under_5_": 5747,
          "deaths_neonatal_preterm_birth_under_5_": 5051,
          "deaths_neonatal_sepsis_and_other_neonatal_infections_under_5_": 3113,
          "deaths_neoplasms_under_5_": 338,
          "deaths_nutritional_deficiencies_under_5_": 4485,
          "deaths_other_neonatal_disorders_under_5_": 3828,
          "deaths_syphilis_under_5_": 1210,
          "deaths_tuberculosis_under_5_": 778,
          "deaths_whooping_cough_under_5_": 955,
          "entity": "Kenya",
          "year": 1995
         },
         {
          "deaths_congenital_birth_defects_under_5_": 3206,
          "deaths_diarrheal_diseases_under_5_": 19129,
          "deaths_drowning_under_5_": 179,
          "deaths_hivaids_under_5_": 19041,
          "deaths_lower_respiratory_infections_under_5_": 12511,
          "deaths_malaria_under_5_": 10507,
          "deaths_measles_under_5_": 4782,
          "deaths_meningitis_under_5_": 2106,
          "deaths_neonatal_encephalopathy_due_to_birth_asphyxia_and_trauma_under_5_": 5862,
          "deaths_neonatal_preterm_birth_under_5_": 5138,
          "deaths_neonatal_sepsis_and_other_neonatal_infections_under_5_": 3154,
          "deaths_neoplasms_under_5_": 329,
          "deaths_nutritional_deficiencies_under_5_": 4275,
          "deaths_other_neonatal_disorders_under_5_": 3847,
          "deaths_syphilis_under_5_": 1183,
          "deaths_tuberculosis_under_5_": 743,
          "deaths_whooping_cough_under_5_": 938,
          "entity": "Kenya",
          "year": 1996
         },
         {
          "deaths_congenital_birth_defects_under_5_": 3182,
          "deaths_diarrheal_diseases_under_5_": 19622,
          "deaths_drowning_under_5_": 171,
          "deaths_hivaids_under_5_": 19693,
          "deaths_lower_respiratory_infections_under_5_": 12184,
          "deaths_malaria_under_5_": 10521,
          "deaths_measles_under_5_": 4570,
          "deaths_meningitis_under_5_": 2037,
          "deaths_neonatal_encephalopathy_due_to_birth_asphyxia_and_trauma_under_5_": 6003,
          "deaths_neonatal_preterm_birth_under_5_": 5250,
          "deaths_neonatal_sepsis_and_other_neonatal_infections_under_5_": 3209,
          "deaths_neoplasms_under_5_": 321,
          "deaths_nutritional_deficiencies_under_5_": 4046,
          "deaths_other_neonatal_disorders_under_5_": 3883,
          "deaths_syphilis_under_5_": 1164,
          "deaths_tuberculosis_under_5_": 716,
          "deaths_whooping_cough_under_5_": 961,
          "entity": "Kenya",
          "year": 1997
         },
         {
          "deaths_congenital_birth_defects_under_5_": 3156,
          "deaths_diarrheal_diseases_under_5_": 19733,
          "deaths_drowning_under_5_": 159,
          "deaths_hivaids_under_5_": 19907,
          "deaths_lower_respiratory_infections_under_5_": 11848,
          "deaths_malaria_under_5_": 10543,
          "deaths_measles_under_5_": 4392,
          "deaths_meningitis_under_5_": 1963,
          "deaths_neonatal_encephalopathy_due_to_birth_asphyxia_and_trauma_under_5_": 6140,
          "deaths_neonatal_preterm_birth_under_5_": 5358,
          "deaths_neonatal_sepsis_and_other_neonatal_infections_under_5_": 3265,
          "deaths_neoplasms_under_5_": 313,
          "deaths_nutritional_deficiencies_under_5_": 3786,
          "deaths_other_neonatal_disorders_under_5_": 3917,
          "deaths_syphilis_under_5_": 1143,
          "deaths_tuberculosis_under_5_": 690,
          "deaths_whooping_cough_under_5_": 921,
          "entity": "Kenya",
          "year": 1998
         },
         {
          "deaths_congenital_birth_defects_under_5_": 3140,
          "deaths_diarrheal_diseases_under_5_": 19122,
          "deaths_drowning_under_5_": 149,
          "deaths_hivaids_under_5_": 19786,
          "deaths_lower_respiratory_infections_under_5_": 11501,
          "deaths_malaria_under_5_": 10566,
          "deaths_measles_under_5_": 4267,
          "deaths_meningitis_under_5_": 1902,
          "deaths_neonatal_encephalopathy_due_to_birth_asphyxia_and_trauma_under_5_": 6267,
          "deaths_neonatal_preterm_birth_under_5_": 5475,
          "deaths_neonatal_sepsis_and_other_neonatal_infections_under_5_": 3326,
          "deaths_neoplasms_under_5_": 307,
          "deaths_nutritional_deficiencies_under_5_": 3540,
          "deaths_other_neonatal_disorders_under_5_": 3953,
          "deaths_syphilis_under_5_": 1127,
          "deaths_tuberculosis_under_5_": 665,
          "deaths_whooping_cough_under_5_": 1011,
          "entity": "Kenya",
          "year": 1999
         },
         {
          "deaths_congenital_birth_defects_under_5_": 3220,
          "deaths_diarrheal_diseases_under_5_": 17984,
          "deaths_drowning_under_5_": 148,
          "deaths_hivaids_under_5_": 19465,
          "deaths_lower_respiratory_infections_under_5_": 11579,
          "deaths_malaria_under_5_": 8978,
          "deaths_measles_under_5_": 4059,
          "deaths_meningitis_under_5_": 1919,
          "deaths_neonatal_encephalopathy_due_to_birth_asphyxia_and_trauma_under_5_": 6404,
          "deaths_neonatal_preterm_birth_under_5_": 5579,
          "deaths_neonatal_sepsis_and_other_neonatal_infections_under_5_": 3407,
          "deaths_neoplasms_under_5_": 316,
          "deaths_nutritional_deficiencies_under_5_": 3513,
          "deaths_other_neonatal_disorders_under_5_": 4006,
          "deaths_syphilis_under_5_": 1153,
          "deaths_tuberculosis_under_5_": 671,
          "deaths_whooping_cough_under_5_": 1077,
          "entity": "Kenya",
          "year": 2000
         },
         {
          "deaths_congenital_birth_defects_under_5_": 3235,
          "deaths_diarrheal_diseases_under_5_": 16731,
          "deaths_drowning_under_5_": 141,
          "deaths_hivaids_under_5_": 18926,
          "deaths_lower_respiratory_infections_under_5_": 11075,
          "deaths_malaria_under_5_": 10030,
          "deaths_measles_under_5_": 3852,
          "deaths_meningitis_under_5_": 1729,
          "deaths_neonatal_encephalopathy_due_to_birth_asphyxia_and_trauma_under_5_": 6538,
          "deaths_neonatal_preterm_birth_under_5_": 5659,
          "deaths_neonatal_sepsis_and_other_neonatal_infections_under_5_": 3471,
          "deaths_neoplasms_under_5_": 305,
          "deaths_nutritional_deficiencies_under_5_": 3229,
          "deaths_other_neonatal_disorders_under_5_": 4020,
          "deaths_syphilis_under_5_": 1188,
          "deaths_tuberculosis_under_5_": 629,
          "deaths_whooping_cough_under_5_": 1101,
          "entity": "Kenya",
          "year": 2001
         },
         {
          "deaths_congenital_birth_defects_under_5_": 3317,
          "deaths_diarrheal_diseases_under_5_": 15854,
          "deaths_drowning_under_5_": 140,
          "deaths_hivaids_under_5_": 18245,
          "deaths_lower_respiratory_infections_under_5_": 10913,
          "deaths_malaria_under_5_": 9545,
          "deaths_measles_under_5_": 3941,
          "deaths_meningitis_under_5_": 1718,
          "deaths_neonatal_encephalopathy_due_to_birth_asphyxia_and_trauma_under_5_": 6599,
          "deaths_neonatal_preterm_birth_under_5_": 5782,
          "deaths_neonatal_sepsis_and_other_neonatal_infections_under_5_": 3577,
          "deaths_neoplasms_under_5_": 306,
          "deaths_nutritional_deficiencies_under_5_": 3084,
          "deaths_other_neonatal_disorders_under_5_": 4085,
          "deaths_syphilis_under_5_": 1226,
          "deaths_tuberculosis_under_5_": 608,
          "deaths_whooping_cough_under_5_": 1118,
          "entity": "Kenya",
          "year": 2002
         },
         {
          "deaths_congenital_birth_defects_under_5_": 3409,
          "deaths_diarrheal_diseases_under_5_": 16518,
          "deaths_drowning_under_5_": 147,
          "deaths_hivaids_under_5_": 17418,
          "deaths_lower_respiratory_infections_under_5_": 11009,
          "deaths_malaria_under_5_": 10252,
          "deaths_measles_under_5_": 823,
          "deaths_meningitis_under_5_": 1750,
          "deaths_neonatal_encephalopathy_due_to_birth_asphyxia_and_trauma_under_5_": 6993,
          "deaths_neonatal_preterm_birth_under_5_": 5554,
          "deaths_neonatal_sepsis_and_other_neonatal_infections_under_5_": 3511,
          "deaths_neoplasms_under_5_": 320,
          "deaths_nutritional_deficiencies_under_5_": 3092,
          "deaths_other_neonatal_disorders_under_5_": 3965,
          "deaths_syphilis_under_5_": 1242,
          "deaths_tuberculosis_under_5_": 607,
          "deaths_whooping_cough_under_5_": 1077,
          "entity": "Kenya",
          "year": 2003
         },
         {
          "deaths_congenital_birth_defects_under_5_": 3463,
          "deaths_diarrheal_diseases_under_5_": 16422,
          "deaths_drowning_under_5_": 145,
          "deaths_hivaids_under_5_": 16282,
          "deaths_lower_respiratory_infections_under_5_": 10850,
          "deaths_malaria_under_5_": 9410,
          "deaths_measles_under_5_": 600,
          "deaths_meningitis_under_5_": 1734,
          "deaths_neonatal_encephalopathy_due_to_birth_asphyxia_and_trauma_under_5_": 7231,
          "deaths_neonatal_preterm_birth_under_5_": 5461,
          "deaths_neonatal_sepsis_and_other_neonatal_infections_under_5_": 3510,
          "deaths_neoplasms_under_5_": 320,
          "deaths_nutritional_deficiencies_under_5_": 3100,
          "deaths_other_neonatal_disorders_under_5_": 3936,
          "deaths_syphilis_under_5_": 1254,
          "deaths_tuberculosis_under_5_": 583,
          "deaths_whooping_cough_under_5_": 1066,
          "entity": "Kenya",
          "year": 2004
         },
         {
          "deaths_congenital_birth_defects_under_5_": 3571,
          "deaths_diarrheal_diseases_under_5_": 16331,
          "deaths_drowning_under_5_": 147,
          "deaths_hivaids_under_5_": 14982,
          "deaths_lower_respiratory_infections_under_5_": 10895,
          "deaths_malaria_under_5_": 7796,
          "deaths_measles_under_5_": 761,
          "deaths_meningitis_under_5_": 1770,
          "deaths_neonatal_encephalopathy_due_to_birth_asphyxia_and_trauma_under_5_": 7466,
          "deaths_neonatal_preterm_birth_under_5_": 5367,
          "deaths_neonatal_sepsis_and_other_neonatal_infections_under_5_": 3508,
          "deaths_neoplasms_under_5_": 327,
          "deaths_nutritional_deficiencies_under_5_": 3043,
          "deaths_other_neonatal_disorders_under_5_": 3916,
          "deaths_syphilis_under_5_": 1280,
          "deaths_tuberculosis_under_5_": 575,
          "deaths_whooping_cough_under_5_": 1089,
          "entity": "Kenya",
          "year": 2005
         },
         {
          "deaths_congenital_birth_defects_under_5_": 3650,
          "deaths_diarrheal_diseases_under_5_": 16380,
          "deaths_drowning_under_5_": 153,
          "deaths_hivaids_under_5_": 13669,
          "deaths_lower_respiratory_infections_under_5_": 10858,
          "deaths_malaria_under_5_": 6349,
          "deaths_measles_under_5_": 1051,
          "deaths_meningitis_under_5_": 1802,
          "deaths_neonatal_encephalopathy_due_to_birth_asphyxia_and_trauma_under_5_": 7654,
          "deaths_neonatal_preterm_birth_under_5_": 5337,
          "deaths_neonatal_sepsis_and_other_neonatal_infections_under_5_": 3517,
          "deaths_neoplasms_under_5_": 338,
          "deaths_nutritional_deficiencies_under_5_": 3031,
          "deaths_other_neonatal_disorders_under_5_": 3911,
          "deaths_syphilis_under_5_": 1253,
          "deaths_tuberculosis_under_5_": 565,
          "deaths_whooping_cough_under_5_": 1044,
          "entity": "Kenya",
          "year": 2006
         },
         {
          "deaths_congenital_birth_defects_under_5_": 3707,
          "deaths_diarrheal_diseases_under_5_": 16556,
          "deaths_drowning_under_5_": 157,
          "deaths_hivaids_under_5_": 11345,
          "deaths_lower_respiratory_infections_under_5_": 10835,
          "deaths_malaria_under_5_": 5655,
          "deaths_measles_under_5_": 874,
          "deaths_meningitis_under_5_": 1833,
          "deaths_neonatal_encephalopathy_due_to_birth_asphyxia_and_trauma_under_5_": 7682,
          "deaths_neonatal_preterm_birth_under_5_": 5294,
          "deaths_neonatal_sepsis_and_other_neonatal_infections_under_5_": 3532,
          "deaths_neoplasms_under_5_": 354,
          "deaths_nutritional_deficiencies_under_5_": 2987,
          "deaths_other_neonatal_disorders_under_5_": 3920,
          "deaths_syphilis_under_5_": 1161,
          "deaths_tuberculosis_under_5_": 562,
          "deaths_whooping_cough_under_5_": 1020,
          "entity": "Kenya",
          "year": 2007
         },
         {
          "deaths_congenital_birth_defects_under_5_": 3691,
          "deaths_diarrheal_diseases_under_5_": 16206,
          "deaths_drowning_under_5_": 155,
          "deaths_hivaids_under_5_": 9123,
          "deaths_lower_respiratory_infections_under_5_": 10551,
          "deaths_malaria_under_5_": 5017,
          "deaths_measles_under_5_": 1946,
          "deaths_meningitis_under_5_": 1772,
          "deaths_neonatal_encephalopathy_due_to_birth_asphyxia_and_trauma_under_5_": 7719,
          "deaths_neonatal_preterm_birth_under_5_": 5207,
          "deaths_neonatal_sepsis_and_other_neonatal_infections_under_5_": 3530,
          "deaths_neoplasms_under_5_": 358,
          "deaths_nutritional_deficiencies_under_5_": 2852,
          "deaths_other_neonatal_disorders_under_5_": 3910,
          "deaths_syphilis_under_5_": 1025,
          "deaths_tuberculosis_under_5_": 544,
          "deaths_whooping_cough_under_5_": 1009,
          "entity": "Kenya",
          "year": 2008
         },
         {
          "deaths_congenital_birth_defects_under_5_": 3735,
          "deaths_diarrheal_diseases_under_5_": 16214,
          "deaths_drowning_under_5_": 162,
          "deaths_hivaids_under_5_": 8065,
          "deaths_lower_respiratory_infections_under_5_": 10450,
          "deaths_malaria_under_5_": 4114,
          "deaths_measles_under_5_": 2127,
          "deaths_meningitis_under_5_": 1781,
          "deaths_neonatal_encephalopathy_due_to_birth_asphyxia_and_trauma_under_5_": 7661,
          "deaths_neonatal_preterm_birth_under_5_": 5197,
          "deaths_neonatal_sepsis_and_other_neonatal_infections_under_5_": 3554,
          "deaths_neoplasms_under_5_": 372,
          "deaths_nutritional_deficiencies_under_5_": 2829,
          "deaths_other_neonatal_disorders_under_5_": 3972,
          "deaths_syphilis_under_5_": 913,
          "deaths_tuberculosis_under_5_": 543,
          "deaths_whooping_cough_under_5_": 936,
          "entity": "Kenya",
          "year": 2009
         },
         {
          "deaths_congenital_birth_defects_under_5_": 3859,
          "deaths_diarrheal_diseases_under_5_": 15997,
          "deaths_drowning_under_5_": 179,
          "deaths_hivaids_under_5_": 7105,
          "deaths_lower_respiratory_infections_under_5_": 10611,
          "deaths_malaria_under_5_": 2557,
          "deaths_measles_under_5_": 1373,
          "deaths_meningitis_under_5_": 1863,
          "deaths_neonatal_encephalopathy_due_to_birth_asphyxia_and_trauma_under_5_": 7627,
          "deaths_neonatal_preterm_birth_under_5_": 5193,
          "deaths_neonatal_sepsis_and_other_neonatal_infections_under_5_": 3596,
          "deaths_neoplasms_under_5_": 410,
          "deaths_nutritional_deficiencies_under_5_": 2986,
          "deaths_other_neonatal_disorders_under_5_": 4041,
          "deaths_syphilis_under_5_": 872,
          "deaths_tuberculosis_under_5_": 565,
          "deaths_whooping_cough_under_5_": 1062,
          "entity": "Kenya",
          "year": 2010
         },
         {
          "deaths_congenital_birth_defects_under_5_": 3955,
          "deaths_diarrheal_diseases_under_5_": 15566,
          "deaths_drowning_under_5_": 188,
          "deaths_hivaids_under_5_": 6336,
          "deaths_lower_respiratory_infections_under_5_": 10384,
          "deaths_malaria_under_5_": 1411,
          "deaths_measles_under_5_": 1572,
          "deaths_meningitis_under_5_": 1323,
          "deaths_neonatal_encephalopathy_due_to_birth_asphyxia_and_trauma_under_5_": 7633,
          "deaths_neonatal_preterm_birth_under_5_": 5197,
          "deaths_neonatal_sepsis_and_other_neonatal_infections_under_5_": 3643,
          "deaths_neoplasms_under_5_": 433,
          "deaths_nutritional_deficiencies_under_5_": 3101,
          "deaths_other_neonatal_disorders_under_5_": 4093,
          "deaths_syphilis_under_5_": 880,
          "deaths_tuberculosis_under_5_": 570,
          "deaths_whooping_cough_under_5_": 1051,
          "entity": "Kenya",
          "year": 2011
         },
         {
          "deaths_congenital_birth_defects_under_5_": 3893,
          "deaths_diarrheal_diseases_under_5_": 14391,
          "deaths_drowning_under_5_": 184,
          "deaths_hivaids_under_5_": 5895,
          "deaths_lower_respiratory_infections_under_5_": 9811,
          "deaths_malaria_under_5_": 1203,
          "deaths_measles_under_5_": 2448,
          "deaths_meningitis_under_5_": 1256,
          "deaths_neonatal_encephalopathy_due_to_birth_asphyxia_and_trauma_under_5_": 7593,
          "deaths_neonatal_preterm_birth_under_5_": 5159,
          "deaths_neonatal_sepsis_and_other_neonatal_infections_under_5_": 3631,
          "deaths_neoplasms_under_5_": 425,
          "deaths_nutritional_deficiencies_under_5_": 2991,
          "deaths_other_neonatal_disorders_under_5_": 4098,
          "deaths_syphilis_under_5_": 871,
          "deaths_tuberculosis_under_5_": 535,
          "deaths_whooping_cough_under_5_": 990,
          "entity": "Kenya",
          "year": 2012
         },
         {
          "deaths_congenital_birth_defects_under_5_": 3841,
          "deaths_diarrheal_diseases_under_5_": 13485,
          "deaths_drowning_under_5_": 179,
          "deaths_hivaids_under_5_": 5409,
          "deaths_lower_respiratory_infections_under_5_": 9389,
          "deaths_malaria_under_5_": 2060,
          "deaths_measles_under_5_": 1507,
          "deaths_meningitis_under_5_": 1217,
          "deaths_neonatal_encephalopathy_due_to_birth_asphyxia_and_trauma_under_5_": 7530,
          "deaths_neonatal_preterm_birth_under_5_": 5092,
          "deaths_neonatal_sepsis_and_other_neonatal_infections_under_5_": 3601,
          "deaths_neoplasms_under_5_": 425,
          "deaths_nutritional_deficiencies_under_5_": 2952,
          "deaths_other_neonatal_disorders_under_5_": 4083,
          "deaths_syphilis_under_5_": 861,
          "deaths_tuberculosis_under_5_": 517,
          "deaths_whooping_cough_under_5_": 991,
          "entity": "Kenya",
          "year": 2013
         },
         {
          "deaths_congenital_birth_defects_under_5_": 3760,
          "deaths_diarrheal_diseases_under_5_": 12181,
          "deaths_drowning_under_5_": 165,
          "deaths_hivaids_under_5_": 4856,
          "deaths_lower_respiratory_infections_under_5_": 8910,
          "deaths_malaria_under_5_": 2680,
          "deaths_measles_under_5_": 1498,
          "deaths_meningitis_under_5_": 1175,
          "deaths_neonatal_encephalopathy_due_to_birth_asphyxia_and_trauma_under_5_": 7467,
          "deaths_neonatal_preterm_birth_under_5_": 5014,
          "deaths_neonatal_sepsis_and_other_neonatal_infections_under_5_": 3575,
          "deaths_neoplasms_under_5_": 412,
          "deaths_nutritional_deficiencies_under_5_": 2857,
          "deaths_other_neonatal_disorders_under_5_": 4070,
          "deaths_syphilis_under_5_": 849,
          "deaths_tuberculosis_under_5_": 490,
          "deaths_whooping_cough_under_5_": 1016,
          "entity": "Kenya",
          "year": 2014
         },
         {
          "deaths_congenital_birth_defects_under_5_": 3614,
          "deaths_diarrheal_diseases_under_5_": 10964,
          "deaths_drowning_under_5_": 153,
          "deaths_hivaids_under_5_": 4390,
          "deaths_lower_respiratory_infections_under_5_": 8232,
          "deaths_malaria_under_5_": 3031,
          "deaths_measles_under_5_": 2052,
          "deaths_meningitis_under_5_": 1112,
          "deaths_neonatal_encephalopathy_due_to_birth_asphyxia_and_trauma_under_5_": 7342,
          "deaths_neonatal_preterm_birth_under_5_": 4877,
          "deaths_neonatal_sepsis_and_other_neonatal_infections_under_5_": 3528,
          "deaths_neoplasms_under_5_": 390,
          "deaths_nutritional_deficiencies_under_5_": 2699,
          "deaths_other_neonatal_disorders_under_5_": 4015,
          "deaths_syphilis_under_5_": 838,
          "deaths_tuberculosis_under_5_": 447,
          "deaths_whooping_cough_under_5_": 956,
          "entity": "Kenya",
          "year": 2015
         },
         {
          "deaths_congenital_birth_defects_under_5_": 3465,
          "deaths_diarrheal_diseases_under_5_": 9736,
          "deaths_drowning_under_5_": 139,
          "deaths_hivaids_under_5_": 3924,
          "deaths_lower_respiratory_infections_under_5_": 7548,
          "deaths_malaria_under_5_": 3818,
          "deaths_measles_under_5_": 2009,
          "deaths_meningitis_under_5_": 1047,
          "deaths_neonatal_encephalopathy_due_to_birth_asphyxia_and_trauma_under_5_": 7233,
          "deaths_neonatal_preterm_birth_under_5_": 4748,
          "deaths_neonatal_sepsis_and_other_neonatal_infections_under_5_": 3469,
          "deaths_neoplasms_under_5_": 371,
          "deaths_nutritional_deficiencies_under_5_": 2579,
          "deaths_other_neonatal_disorders_under_5_": 3967,
          "deaths_syphilis_under_5_": 839,
          "deaths_tuberculosis_under_5_": 402,
          "deaths_whooping_cough_under_5_": 950,
          "entity": "Kenya",
          "year": 2016
         },
         {
          "deaths_congenital_birth_defects_under_5_": 3381,
          "deaths_diarrheal_diseases_under_5_": 9117,
          "deaths_drowning_under_5_": 138,
          "deaths_hivaids_under_5_": 3353,
          "deaths_lower_respiratory_infections_under_5_": 7107,
          "deaths_malaria_under_5_": 4498,
          "deaths_measles_under_5_": 372,
          "deaths_meningitis_under_5_": 1041,
          "deaths_neonatal_encephalopathy_due_to_birth_asphyxia_and_trauma_under_5_": 7105,
          "deaths_neonatal_preterm_birth_under_5_": 4578,
          "deaths_neonatal_sepsis_and_other_neonatal_infections_under_5_": 3410,
          "deaths_neoplasms_under_5_": 374,
          "deaths_nutritional_deficiencies_under_5_": 2698,
          "deaths_other_neonatal_disorders_under_5_": 3909,
          "deaths_syphilis_under_5_": 847,
          "deaths_tuberculosis_under_5_": 382,
          "deaths_whooping_cough_under_5_": 1000,
          "entity": "Kenya",
          "year": 2017
         },
         {
          "deaths_congenital_birth_defects_under_5_": 3287,
          "deaths_diarrheal_diseases_under_5_": 8409,
          "deaths_drowning_under_5_": 130,
          "deaths_hivaids_under_5_": 2806,
          "deaths_lower_respiratory_infections_under_5_": 6638,
          "deaths_malaria_under_5_": 4653,
          "deaths_measles_under_5_": 330,
          "deaths_meningitis_under_5_": 966,
          "deaths_neonatal_encephalopathy_due_to_birth_asphyxia_and_trauma_under_5_": 6852,
          "deaths_neonatal_preterm_birth_under_5_": 4456,
          "deaths_neonatal_sepsis_and_other_neonatal_infections_under_5_": 3330,
          "deaths_neoplasms_under_5_": 360,
          "deaths_nutritional_deficiencies_under_5_": 2415,
          "deaths_other_neonatal_disorders_under_5_": 3807,
          "deaths_syphilis_under_5_": 866,
          "deaths_tuberculosis_under_5_": 344,
          "deaths_whooping_cough_under_5_": 955,
          "entity": "Kenya",
          "year": 2018
         },
         {
          "deaths_congenital_birth_defects_under_5_": 3239,
          "deaths_diarrheal_diseases_under_5_": 7847,
          "deaths_drowning_under_5_": 123,
          "deaths_hivaids_under_5_": 2540,
          "deaths_lower_respiratory_infections_under_5_": 6307,
          "deaths_malaria_under_5_": 4618,
          "deaths_measles_under_5_": 369,
          "deaths_meningitis_under_5_": 916,
          "deaths_neonatal_encephalopathy_due_to_birth_asphyxia_and_trauma_under_5_": 6686,
          "deaths_neonatal_preterm_birth_under_5_": 4362,
          "deaths_neonatal_sepsis_and_other_neonatal_infections_under_5_": 3313,
          "deaths_neoplasms_under_5_": 350,
          "deaths_nutritional_deficiencies_under_5_": 2229,
          "deaths_other_neonatal_disorders_under_5_": 3746,
          "deaths_syphilis_under_5_": 899,
          "deaths_tuberculosis_under_5_": 316,
          "deaths_whooping_cough_under_5_": 962,
          "entity": "Kenya",
          "year": 2019
         }
        ],
        "data-e3cb4f07d9f61f08d3ac355056052134": [
         {
          "deaths_congenital_birth_defects_under_5_": 110,
          "deaths_diarrheal_diseases_under_5_": 505,
          "deaths_drowning_under_5_": 11,
          "deaths_hivaids_under_5_": 0,
          "deaths_lower_respiratory_infections_under_5_": 361,
          "deaths_malaria_under_5_": 16,
          "deaths_measles_under_5_": 171,
          "deaths_meningitis_under_5_": 57,
          "deaths_neonatal_encephalopathy_due_to_birth_asphyxia_and_trauma_under_5_": 162,
          "deaths_neonatal_preterm_birth_under_5_": 169,
          "deaths_neonatal_sepsis_and_other_neonatal_infections_under_5_": 80,
          "deaths_neoplasms_under_5_": 17,
          "deaths_nutritional_deficiencies_under_5_": 280,
          "deaths_other_neonatal_disorders_under_5_": 114,
          "deaths_syphilis_under_5_": 23,
          "deaths_tuberculosis_under_5_": 36,
          "deaths_whooping_cough_under_5_": 54,
          "entity": "Djibouti",
          "year": 1990
         },
         {
          "deaths_congenital_birth_defects_under_5_": 112,
          "deaths_diarrheal_diseases_under_5_": 485,
          "deaths_drowning_under_5_": 12,
          "deaths_hivaids_under_5_": 1,
          "deaths_lower_respiratory_infections_under_5_": 382,
          "deaths_malaria_under_5_": 39,
          "deaths_measles_under_5_": 188,
          "deaths_meningitis_under_5_": 60,
          "deaths_neonatal_encephalopathy_due_to_birth_asphyxia_and_trauma_under_5_": 158,
          "deaths_neonatal_preterm_birth_under_5_": 166,
          "deaths_neonatal_sepsis_and_other_neonatal_infections_under_5_": 74,
          "deaths_neoplasms_under_5_": 18,
          "deaths_nutritional_deficiencies_under_5_": 299,
          "deaths_other_neonatal_disorders_under_5_": 114,
          "deaths_syphilis_under_5_": 22,
          "deaths_tuberculosis_under_5_": 39,
          "deaths_whooping_cough_under_5_": 58,
          "entity": "Djibouti",
          "year": 1991
         },
         {
          "deaths_congenital_birth_defects_under_5_": 113,
          "deaths_diarrheal_diseases_under_5_": 474,
          "deaths_drowning_under_5_": 12,
          "deaths_hivaids_under_5_": 3,
          "deaths_lower_respiratory_infections_under_5_": 391,
          "deaths_malaria_under_5_": 41,
          "deaths_measles_under_5_": 212,
          "deaths_meningitis_under_5_": 61,
          "deaths_neonatal_encephalopathy_due_to_birth_asphyxia_and_trauma_under_5_": 158,
          "deaths_neonatal_preterm_birth_under_5_": 163,
          "deaths_neonatal_sepsis_and_other_neonatal_infections_under_5_": 73,
          "deaths_neoplasms_under_5_": 18,
          "deaths_nutritional_deficiencies_under_5_": 286,
          "deaths_other_neonatal_disorders_under_5_": 114,
          "deaths_syphilis_under_5_": 21,
          "deaths_tuberculosis_under_5_": 41,
          "deaths_whooping_cough_under_5_": 59,
          "entity": "Djibouti",
          "year": 1992
         },
         {
          "deaths_congenital_birth_defects_under_5_": 115,
          "deaths_diarrheal_diseases_under_5_": 555,
          "deaths_drowning_under_5_": 13,
          "deaths_hivaids_under_5_": 6,
          "deaths_lower_respiratory_infections_under_5_": 405,
          "deaths_malaria_under_5_": 4,
          "deaths_measles_under_5_": 217,
          "deaths_meningitis_under_5_": 63,
          "deaths_neonatal_encephalopathy_due_to_birth_asphyxia_and_trauma_under_5_": 163,
          "deaths_neonatal_preterm_birth_under_5_": 165,
          "deaths_neonatal_sepsis_and_other_neonatal_infections_under_5_": 77,
          "deaths_neoplasms_under_5_": 19,
          "deaths_nutritional_deficiencies_under_5_": 286,
          "deaths_other_neonatal_disorders_under_5_": 115,
          "deaths_syphilis_under_5_": 21,
          "deaths_tuberculosis_under_5_": 44,
          "deaths_whooping_cough_under_5_": 67,
          "entity": "Djibouti",
          "year": 1993
         },
         {
          "deaths_congenital_birth_defects_under_5_": 118,
          "deaths_diarrheal_diseases_under_5_": 469,
          "deaths_drowning_under_5_": 13,
          "deaths_hivaids_under_5_": 11,
          "deaths_lower_respiratory_infections_under_5_": 421,
          "deaths_malaria_under_5_": 34,
          "deaths_measles_under_5_": 199,
          "deaths_meningitis_under_5_": 64,
          "deaths_neonatal_encephalopathy_due_to_birth_asphyxia_and_trauma_under_5_": 170,
          "deaths_neonatal_preterm_birth_under_5_": 169,
          "deaths_neonatal_sepsis_and_other_neonatal_infections_under_5_": 79,
          "deaths_neoplasms_under_5_": 19,
          "deaths_nutritional_deficiencies_under_5_": 286,
          "deaths_other_neonatal_disorders_under_5_": 118,
          "deaths_syphilis_under_5_": 22,
          "deaths_tuberculosis_under_5_": 46,
          "deaths_whooping_cough_under_5_": 63,
          "entity": "Djibouti",
          "year": 1994
         },
         {
          "deaths_congenital_birth_defects_under_5_": 120,
          "deaths_diarrheal_diseases_under_5_": 458,
          "deaths_drowning_under_5_": 13,
          "deaths_hivaids_under_5_": 20,
          "deaths_lower_respiratory_infections_under_5_": 433,
          "deaths_malaria_under_5_": 6,
          "deaths_measles_under_5_": 201,
          "deaths_meningitis_under_5_": 66,
          "deaths_neonatal_encephalopathy_due_to_birth_asphyxia_and_trauma_under_5_": 175,
          "deaths_neonatal_preterm_birth_under_5_": 172,
          "deaths_neonatal_sepsis_and_other_neonatal_infections_under_5_": 80,
          "deaths_neoplasms_under_5_": 19,
          "deaths_nutritional_deficiencies_under_5_": 290,
          "deaths_other_neonatal_disorders_under_5_": 121,
          "deaths_syphilis_under_5_": 23,
          "deaths_tuberculosis_under_5_": 48,
          "deaths_whooping_cough_under_5_": 69,
          "entity": "Djibouti",
          "year": 1995
         },
         {
          "deaths_congenital_birth_defects_under_5_": 122,
          "deaths_diarrheal_diseases_under_5_": 434,
          "deaths_drowning_under_5_": 13,
          "deaths_hivaids_under_5_": 33,
          "deaths_lower_respiratory_infections_under_5_": 431,
          "deaths_malaria_under_5_": 6,
          "deaths_measles_under_5_": 207,
          "deaths_meningitis_under_5_": 66,
          "deaths_neonatal_encephalopathy_due_to_birth_asphyxia_and_trauma_under_5_": 184,
          "deaths_neonatal_preterm_birth_under_5_": 177,
          "deaths_neonatal_sepsis_and_other_neonatal_infections_under_5_": 84,
          "deaths_neoplasms_under_5_": 20,
          "deaths_nutritional_deficiencies_under_5_": 301,
          "deaths_other_neonatal_disorders_under_5_": 123,
          "deaths_syphilis_under_5_": 23,
          "deaths_tuberculosis_under_5_": 48,
          "deaths_whooping_cough_under_5_": 73,
          "entity": "Djibouti",
          "year": 1996
         },
         {
          "deaths_congenital_birth_defects_under_5_": 125,
          "deaths_diarrheal_diseases_under_5_": 438,
          "deaths_drowning_under_5_": 13,
          "deaths_hivaids_under_5_": 49,
          "deaths_lower_respiratory_infections_under_5_": 431,
          "deaths_malaria_under_5_": 24,
          "deaths_measles_under_5_": 206,
          "deaths_meningitis_under_5_": 67,
          "deaths_neonatal_encephalopathy_due_to_birth_asphyxia_and_trauma_under_5_": 195,
          "deaths_neonatal_preterm_birth_under_5_": 183,
          "deaths_neonatal_sepsis_and_other_neonatal_infections_under_5_": 89,
          "deaths_neoplasms_under_5_": 20,
          "deaths_nutritional_deficiencies_under_5_": 293,
          "deaths_other_neonatal_disorders_under_5_": 126,
          "deaths_syphilis_under_5_": 25,
          "deaths_tuberculosis_under_5_": 47,
          "deaths_whooping_cough_under_5_": 76,
          "entity": "Djibouti",
          "year": 1997
         },
         {
          "deaths_congenital_birth_defects_under_5_": 129,
          "deaths_diarrheal_diseases_under_5_": 401,
          "deaths_drowning_under_5_": 13,
          "deaths_hivaids_under_5_": 65,
          "deaths_lower_respiratory_infections_under_5_": 441,
          "deaths_malaria_under_5_": 6,
          "deaths_measles_under_5_": 211,
          "deaths_meningitis_under_5_": 69,
          "deaths_neonatal_encephalopathy_due_to_birth_asphyxia_and_trauma_under_5_": 206,
          "deaths_neonatal_preterm_birth_under_5_": 188,
          "deaths_neonatal_sepsis_and_other_neonatal_infections_under_5_": 92,
          "deaths_neoplasms_under_5_": 20,
          "deaths_nutritional_deficiencies_under_5_": 300,
          "deaths_other_neonatal_disorders_under_5_": 129,
          "deaths_syphilis_under_5_": 27,
          "deaths_tuberculosis_under_5_": 48,
          "deaths_whooping_cough_under_5_": 80,
          "entity": "Djibouti",
          "year": 1998
         },
         {
          "deaths_congenital_birth_defects_under_5_": 133,
          "deaths_diarrheal_diseases_under_5_": 377,
          "deaths_drowning_under_5_": 13,
          "deaths_hivaids_under_5_": 83,
          "deaths_lower_respiratory_infections_under_5_": 451,
          "deaths_malaria_under_5_": 6,
          "deaths_measles_under_5_": 223,
          "deaths_meningitis_under_5_": 71,
          "deaths_neonatal_encephalopathy_due_to_birth_asphyxia_and_trauma_under_5_": 216,
          "deaths_neonatal_preterm_birth_under_5_": 193,
          "deaths_neonatal_sepsis_and_other_neonatal_infections_under_5_": 96,
          "deaths_neoplasms_under_5_": 21,
          "deaths_nutritional_deficiencies_under_5_": 285,
          "deaths_other_neonatal_disorders_under_5_": 132,
          "deaths_syphilis_under_5_": 29,
          "deaths_tuberculosis_under_5_": 50,
          "deaths_whooping_cough_under_5_": 84,
          "entity": "Djibouti",
          "year": 1999
         },
         {
          "deaths_congenital_birth_defects_under_5_": 135,
          "deaths_diarrheal_diseases_under_5_": 357,
          "deaths_drowning_under_5_": 13,
          "deaths_hivaids_under_5_": 99,
          "deaths_lower_respiratory_infections_under_5_": 455,
          "deaths_malaria_under_5_": 5,
          "deaths_measles_under_5_": 235,
          "deaths_meningitis_under_5_": 72,
          "deaths_neonatal_encephalopathy_due_to_birth_asphyxia_and_trauma_under_5_": 226,
          "deaths_neonatal_preterm_birth_under_5_": 196,
          "deaths_neonatal_sepsis_and_other_neonatal_infections_under_5_": 99,
          "deaths_neoplasms_under_5_": 21,
          "deaths_nutritional_deficiencies_under_5_": 277,
          "deaths_other_neonatal_disorders_under_5_": 134,
          "deaths_syphilis_under_5_": 31,
          "deaths_tuberculosis_under_5_": 50,
          "deaths_whooping_cough_under_5_": 90,
          "entity": "Djibouti",
          "year": 2000
         },
         {
          "deaths_congenital_birth_defects_under_5_": 140,
          "deaths_diarrheal_diseases_under_5_": 326,
          "deaths_drowning_under_5_": 13,
          "deaths_hivaids_under_5_": 113,
          "deaths_lower_respiratory_infections_under_5_": 459,
          "deaths_malaria_under_5_": 5,
          "deaths_measles_under_5_": 239,
          "deaths_meningitis_under_5_": 74,
          "deaths_neonatal_encephalopathy_due_to_birth_asphyxia_and_trauma_under_5_": 236,
          "deaths_neonatal_preterm_birth_under_5_": 201,
          "deaths_neonatal_sepsis_and_other_neonatal_infections_under_5_": 102,
          "deaths_neoplasms_under_5_": 21,
          "deaths_nutritional_deficiencies_under_5_": 269,
          "deaths_other_neonatal_disorders_under_5_": 137,
          "deaths_syphilis_under_5_": 32,
          "deaths_tuberculosis_under_5_": 50,
          "deaths_whooping_cough_under_5_": 98,
          "entity": "Djibouti",
          "year": 2001
         },
         {
          "deaths_congenital_birth_defects_under_5_": 146,
          "deaths_diarrheal_diseases_under_5_": 298,
          "deaths_drowning_under_5_": 13,
          "deaths_hivaids_under_5_": 121,
          "deaths_lower_respiratory_infections_under_5_": 461,
          "deaths_malaria_under_5_": 6,
          "deaths_measles_under_5_": 234,
          "deaths_meningitis_under_5_": 76,
          "deaths_neonatal_encephalopathy_due_to_birth_asphyxia_and_trauma_under_5_": 246,
          "deaths_neonatal_preterm_birth_under_5_": 207,
          "deaths_neonatal_sepsis_and_other_neonatal_infections_under_5_": 106,
          "deaths_neoplasms_under_5_": 22,
          "deaths_nutritional_deficiencies_under_5_": 275,
          "deaths_other_neonatal_disorders_under_5_": 140,
          "deaths_syphilis_under_5_": 34,
          "deaths_tuberculosis_under_5_": 49,
          "deaths_whooping_cough_under_5_": 94,
          "entity": "Djibouti",
          "year": 2002
         },
         {
          "deaths_congenital_birth_defects_under_5_": 154,
          "deaths_diarrheal_diseases_under_5_": 279,
          "deaths_drowning_under_5_": 14,
          "deaths_hivaids_under_5_": 124,
          "deaths_lower_respiratory_infections_under_5_": 473,
          "deaths_malaria_under_5_": 37,
          "deaths_measles_under_5_": 152,
          "deaths_meningitis_under_5_": 80,
          "deaths_neonatal_encephalopathy_due_to_birth_asphyxia_and_trauma_under_5_": 253,
          "deaths_neonatal_preterm_birth_under_5_": 211,
          "deaths_neonatal_sepsis_and_other_neonatal_infections_under_5_": 108,
          "deaths_neoplasms_under_5_": 24,
          "deaths_nutritional_deficiencies_under_5_": 275,
          "deaths_other_neonatal_disorders_under_5_": 144,
          "deaths_syphilis_under_5_": 35,
          "deaths_tuberculosis_under_5_": 50,
          "deaths_whooping_cough_under_5_": 105,
          "entity": "Djibouti",
          "year": 2003
         },
         {
          "deaths_congenital_birth_defects_under_5_": 165,
          "deaths_diarrheal_diseases_under_5_": 267,
          "deaths_drowning_under_5_": 15,
          "deaths_hivaids_under_5_": 126,
          "deaths_lower_respiratory_infections_under_5_": 498,
          "deaths_malaria_under_5_": 4,
          "deaths_measles_under_5_": 94,
          "deaths_meningitis_under_5_": 87,
          "deaths_neonatal_encephalopathy_due_to_birth_asphyxia_and_trauma_under_5_": 258,
          "deaths_neonatal_preterm_birth_under_5_": 214,
          "deaths_neonatal_sepsis_and_other_neonatal_infections_under_5_": 109,
          "deaths_neoplasms_under_5_": 26,
          "deaths_nutritional_deficiencies_under_5_": 272,
          "deaths_other_neonatal_disorders_under_5_": 147,
          "deaths_syphilis_under_5_": 36,
          "deaths_tuberculosis_under_5_": 52,
          "deaths_whooping_cough_under_5_": 111,
          "entity": "Djibouti",
          "year": 2004
         },
         {
          "deaths_congenital_birth_defects_under_5_": 168,
          "deaths_diarrheal_diseases_under_5_": 238,
          "deaths_drowning_under_5_": 15,
          "deaths_hivaids_under_5_": 126,
          "deaths_lower_respiratory_infections_under_5_": 488,
          "deaths_malaria_under_5_": 7,
          "deaths_measles_under_5_": 84,
          "deaths_meningitis_under_5_": 87,
          "deaths_neonatal_encephalopathy_due_to_birth_asphyxia_and_trauma_under_5_": 261,
          "deaths_neonatal_preterm_birth_under_5_": 215,
          "deaths_neonatal_sepsis_and_other_neonatal_infections_under_5_": 110,
          "deaths_neoplasms_under_5_": 27,
          "deaths_nutritional_deficiencies_under_5_": 275,
          "deaths_other_neonatal_disorders_under_5_": 150,
          "deaths_syphilis_under_5_": 36,
          "deaths_tuberculosis_under_5_": 49,
          "deaths_whooping_cough_under_5_": 115,
          "entity": "Djibouti",
          "year": 2005
         },
         {
          "deaths_congenital_birth_defects_under_5_": 174,
          "deaths_diarrheal_diseases_under_5_": 239,
          "deaths_drowning_under_5_": 16,
          "deaths_hivaids_under_5_": 126,
          "deaths_lower_respiratory_infections_under_5_": 491,
          "deaths_malaria_under_5_": 25,
          "deaths_measles_under_5_": 34,
          "deaths_meningitis_under_5_": 89,
          "deaths_neonatal_encephalopathy_due_to_birth_asphyxia_and_trauma_under_5_": 264,
          "deaths_neonatal_preterm_birth_under_5_": 217,
          "deaths_neonatal_sepsis_and_other_neonatal_infections_under_5_": 112,
          "deaths_neoplasms_under_5_": 28,
          "deaths_nutritional_deficiencies_under_5_": 258,
          "deaths_other_neonatal_disorders_under_5_": 152,
          "deaths_syphilis_under_5_": 36,
          "deaths_tuberculosis_under_5_": 48,
          "deaths_whooping_cough_under_5_": 112,
          "entity": "Djibouti",
          "year": 2006
         },
         {
          "deaths_congenital_birth_defects_under_5_": 176,
          "deaths_diarrheal_diseases_under_5_": 224,
          "deaths_drowning_under_5_": 16,
          "deaths_hivaids_under_5_": 126,
          "deaths_lower_respiratory_infections_under_5_": 483,
          "deaths_malaria_under_5_": 4,
          "deaths_measles_under_5_": 35,
          "deaths_meningitis_under_5_": 84,
          "deaths_neonatal_encephalopathy_due_to_birth_asphyxia_and_trauma_under_5_": 268,
          "deaths_neonatal_preterm_birth_under_5_": 218,
          "deaths_neonatal_sepsis_and_other_neonatal_infections_under_5_": 114,
          "deaths_neoplasms_under_5_": 29,
          "deaths_nutritional_deficiencies_under_5_": 263,
          "deaths_other_neonatal_disorders_under_5_": 155,
          "deaths_syphilis_under_5_": 35,
          "deaths_tuberculosis_under_5_": 47,
          "deaths_whooping_cough_under_5_": 111,
          "entity": "Djibouti",
          "year": 2007
         },
         {
          "deaths_congenital_birth_defects_under_5_": 178,
          "deaths_diarrheal_diseases_under_5_": 206,
          "deaths_drowning_under_5_": 15,
          "deaths_hivaids_under_5_": 126,
          "deaths_lower_respiratory_infections_under_5_": 466,
          "deaths_malaria_under_5_": 2,
          "deaths_measles_under_5_": 55,
          "deaths_meningitis_under_5_": 83,
          "deaths_neonatal_encephalopathy_due_to_birth_asphyxia_and_trauma_under_5_": 271,
          "deaths_neonatal_preterm_birth_under_5_": 219,
          "deaths_neonatal_sepsis_and_other_neonatal_infections_under_5_": 116,
          "deaths_neoplasms_under_5_": 29,
          "deaths_nutritional_deficiencies_under_5_": 251,
          "deaths_other_neonatal_disorders_under_5_": 159,
          "deaths_syphilis_under_5_": 34,
          "deaths_tuberculosis_under_5_": 44,
          "deaths_whooping_cough_under_5_": 101,
          "entity": "Djibouti",
          "year": 2008
         },
         {
          "deaths_congenital_birth_defects_under_5_": 179,
          "deaths_diarrheal_diseases_under_5_": 194,
          "deaths_drowning_under_5_": 15,
          "deaths_hivaids_under_5_": 128,
          "deaths_lower_respiratory_infections_under_5_": 449,
          "deaths_malaria_under_5_": 18,
          "deaths_measles_under_5_": 37,
          "deaths_meningitis_under_5_": 82,
          "deaths_neonatal_encephalopathy_due_to_birth_asphyxia_and_trauma_under_5_": 273,
          "deaths_neonatal_preterm_birth_under_5_": 220,
          "deaths_neonatal_sepsis_and_other_neonatal_infections_under_5_": 117,
          "deaths_neoplasms_under_5_": 29,
          "deaths_nutritional_deficiencies_under_5_": 239,
          "deaths_other_neonatal_disorders_under_5_": 163,
          "deaths_syphilis_under_5_": 33,
          "deaths_tuberculosis_under_5_": 41,
          "deaths_whooping_cough_under_5_": 109,
          "entity": "Djibouti",
          "year": 2009
         },
         {
          "deaths_congenital_birth_defects_under_5_": 182,
          "deaths_diarrheal_diseases_under_5_": 201,
          "deaths_drowning_under_5_": 15,
          "deaths_hivaids_under_5_": 126,
          "deaths_lower_respiratory_infections_under_5_": 437,
          "deaths_malaria_under_5_": 6,
          "deaths_measles_under_5_": 44,
          "deaths_meningitis_under_5_": 81,
          "deaths_neonatal_encephalopathy_due_to_birth_asphyxia_and_trauma_under_5_": 275,
          "deaths_neonatal_preterm_birth_under_5_": 220,
          "deaths_neonatal_sepsis_and_other_neonatal_infections_under_5_": 118,
          "deaths_neoplasms_under_5_": 30,
          "deaths_nutritional_deficiencies_under_5_": 222,
          "deaths_other_neonatal_disorders_under_5_": 166,
          "deaths_syphilis_under_5_": 33,
          "deaths_tuberculosis_under_5_": 40,
          "deaths_whooping_cough_under_5_": 113,
          "entity": "Djibouti",
          "year": 2010
         },
         {
          "deaths_congenital_birth_defects_under_5_": 180,
          "deaths_diarrheal_diseases_under_5_": 178,
          "deaths_drowning_under_5_": 14,
          "deaths_hivaids_under_5_": 102,
          "deaths_lower_respiratory_infections_under_5_": 414,
          "deaths_malaria_under_5_": 0,
          "deaths_measles_under_5_": 78,
          "deaths_meningitis_under_5_": 78,
          "deaths_neonatal_encephalopathy_due_to_birth_asphyxia_and_trauma_under_5_": 273,
          "deaths_neonatal_preterm_birth_under_5_": 218,
          "deaths_neonatal_sepsis_and_other_neonatal_infections_under_5_": 117,
          "deaths_neoplasms_under_5_": 29,
          "deaths_nutritional_deficiencies_under_5_": 214,
          "deaths_other_neonatal_disorders_under_5_": 166,
          "deaths_syphilis_under_5_": 33,
          "deaths_tuberculosis_under_5_": 37,
          "deaths_whooping_cough_under_5_": 108,
          "entity": "Djibouti",
          "year": 2011
         },
         {
          "deaths_congenital_birth_defects_under_5_": 181,
          "deaths_diarrheal_diseases_under_5_": 170,
          "deaths_drowning_under_5_": 14,
          "deaths_hivaids_under_5_": 82,
          "deaths_lower_respiratory_infections_under_5_": 395,
          "deaths_malaria_under_5_": 0,
          "deaths_measles_under_5_": 82,
          "deaths_meningitis_under_5_": 58,
          "deaths_neonatal_encephalopathy_due_to_birth_asphyxia_and_trauma_under_5_": 271,
          "deaths_neonatal_preterm_birth_under_5_": 215,
          "deaths_neonatal_sepsis_and_other_neonatal_infections_under_5_": 116,
          "deaths_neoplasms_under_5_": 30,
          "deaths_nutritional_deficiencies_under_5_": 205,
          "deaths_other_neonatal_disorders_under_5_": 166,
          "deaths_syphilis_under_5_": 33,
          "deaths_tuberculosis_under_5_": 35,
          "deaths_whooping_cough_under_5_": 117,
          "entity": "Djibouti",
          "year": 2012
         },
         {
          "deaths_congenital_birth_defects_under_5_": 180,
          "deaths_diarrheal_diseases_under_5_": 165,
          "deaths_drowning_under_5_": 13,
          "deaths_hivaids_under_5_": 84,
          "deaths_lower_respiratory_infections_under_5_": 378,
          "deaths_malaria_under_5_": 5,
          "deaths_measles_under_5_": 63,
          "deaths_meningitis_under_5_": 57,
          "deaths_neonatal_encephalopathy_due_to_birth_asphyxia_and_trauma_under_5_": 266,
          "deaths_neonatal_preterm_birth_under_5_": 210,
          "deaths_neonatal_sepsis_and_other_neonatal_infections_under_5_": 114,
          "deaths_neoplasms_under_5_": 30,
          "deaths_nutritional_deficiencies_under_5_": 185,
          "deaths_other_neonatal_disorders_under_5_": 166,
          "deaths_syphilis_under_5_": 33,
          "deaths_tuberculosis_under_5_": 33,
          "deaths_whooping_cough_under_5_": 116,
          "entity": "Djibouti",
          "year": 2013
         },
         {
          "deaths_congenital_birth_defects_under_5_": 174,
          "deaths_diarrheal_diseases_under_5_": 146,
          "deaths_drowning_under_5_": 12,
          "deaths_hivaids_under_5_": 72,
          "deaths_lower_respiratory_infections_under_5_": 346,
          "deaths_malaria_under_5_": 30,
          "deaths_measles_under_5_": 75,
          "deaths_meningitis_under_5_": 53,
          "deaths_neonatal_encephalopathy_due_to_birth_asphyxia_and_trauma_under_5_": 259,
          "deaths_neonatal_preterm_birth_under_5_": 204,
          "deaths_neonatal_sepsis_and_other_neonatal_infections_under_5_": 111,
          "deaths_neoplasms_under_5_": 28,
          "deaths_nutritional_deficiencies_under_5_": 165,
          "deaths_other_neonatal_disorders_under_5_": 164,
          "deaths_syphilis_under_5_": 32,
          "deaths_tuberculosis_under_5_": 30,
          "deaths_whooping_cough_under_5_": 114,
          "entity": "Djibouti",
          "year": 2014
         },
         {
          "deaths_congenital_birth_defects_under_5_": 170,
          "deaths_diarrheal_diseases_under_5_": 139,
          "deaths_drowning_under_5_": 12,
          "deaths_hivaids_under_5_": 49,
          "deaths_lower_respiratory_infections_under_5_": 323,
          "deaths_malaria_under_5_": 23,
          "deaths_measles_under_5_": 60,
          "deaths_meningitis_under_5_": 51,
          "deaths_neonatal_encephalopathy_due_to_birth_asphyxia_and_trauma_under_5_": 251,
          "deaths_neonatal_preterm_birth_under_5_": 198,
          "deaths_neonatal_sepsis_and_other_neonatal_infections_under_5_": 107,
          "deaths_neoplasms_under_5_": 28,
          "deaths_nutritional_deficiencies_under_5_": 162,
          "deaths_other_neonatal_disorders_under_5_": 162,
          "deaths_syphilis_under_5_": 32,
          "deaths_tuberculosis_under_5_": 27,
          "deaths_whooping_cough_under_5_": 118,
          "entity": "Djibouti",
          "year": 2015
         },
         {
          "deaths_congenital_birth_defects_under_5_": 168,
          "deaths_diarrheal_diseases_under_5_": 142,
          "deaths_drowning_under_5_": 12,
          "deaths_hivaids_under_5_": 31,
          "deaths_lower_respiratory_infections_under_5_": 306,
          "deaths_malaria_under_5_": 30,
          "deaths_measles_under_5_": 14,
          "deaths_meningitis_under_5_": 50,
          "deaths_neonatal_encephalopathy_due_to_birth_asphyxia_and_trauma_under_5_": 242,
          "deaths_neonatal_preterm_birth_under_5_": 191,
          "deaths_neonatal_sepsis_and_other_neonatal_infections_under_5_": 104,
          "deaths_neoplasms_under_5_": 28,
          "deaths_nutritional_deficiencies_under_5_": 150,
          "deaths_other_neonatal_disorders_under_5_": 160,
          "deaths_syphilis_under_5_": 31,
          "deaths_tuberculosis_under_5_": 25,
          "deaths_whooping_cough_under_5_": 120,
          "entity": "Djibouti",
          "year": 2016
         },
         {
          "deaths_congenital_birth_defects_under_5_": 163,
          "deaths_diarrheal_diseases_under_5_": 138,
          "deaths_drowning_under_5_": 11,
          "deaths_hivaids_under_5_": 20,
          "deaths_lower_respiratory_infections_under_5_": 284,
          "deaths_malaria_under_5_": 21,
          "deaths_measles_under_5_": 11,
          "deaths_meningitis_under_5_": 47,
          "deaths_neonatal_encephalopathy_due_to_birth_asphyxia_and_trauma_under_5_": 231,
          "deaths_neonatal_preterm_birth_under_5_": 183,
          "deaths_neonatal_sepsis_and_other_neonatal_infections_under_5_": 100,
          "deaths_neoplasms_under_5_": 28,
          "deaths_nutritional_deficiencies_under_5_": 132,
          "deaths_other_neonatal_disorders_under_5_": 157,
          "deaths_syphilis_under_5_": 31,
          "deaths_tuberculosis_under_5_": 23,
          "deaths_whooping_cough_under_5_": 114,
          "entity": "Djibouti",
          "year": 2017
         },
         {
          "deaths_congenital_birth_defects_under_5_": 157,
          "deaths_diarrheal_diseases_under_5_": 126,
          "deaths_drowning_under_5_": 10,
          "deaths_hivaids_under_5_": 14,
          "deaths_lower_respiratory_infections_under_5_": 261,
          "deaths_malaria_under_5_": 13,
          "deaths_measles_under_5_": 15,
          "deaths_meningitis_under_5_": 43,
          "deaths_neonatal_encephalopathy_due_to_birth_asphyxia_and_trauma_under_5_": 222,
          "deaths_neonatal_preterm_birth_under_5_": 175,
          "deaths_neonatal_sepsis_and_other_neonatal_infections_under_5_": 96,
          "deaths_neoplasms_under_5_": 27,
          "deaths_nutritional_deficiencies_under_5_": 118,
          "deaths_other_neonatal_disorders_under_5_": 153,
          "deaths_syphilis_under_5_": 31,
          "deaths_tuberculosis_under_5_": 20,
          "deaths_whooping_cough_under_5_": 114,
          "entity": "Djibouti",
          "year": 2018
         },
         {
          "deaths_congenital_birth_defects_under_5_": 153,
          "deaths_diarrheal_diseases_under_5_": 116,
          "deaths_drowning_under_5_": 10,
          "deaths_hivaids_under_5_": 11,
          "deaths_lower_respiratory_infections_under_5_": 243,
          "deaths_malaria_under_5_": 14,
          "deaths_measles_under_5_": 12,
          "deaths_meningitis_under_5_": 40,
          "deaths_neonatal_encephalopathy_due_to_birth_asphyxia_and_trauma_under_5_": 214,
          "deaths_neonatal_preterm_birth_under_5_": 168,
          "deaths_neonatal_sepsis_and_other_neonatal_infections_under_5_": 94,
          "deaths_neoplasms_under_5_": 26,
          "deaths_nutritional_deficiencies_under_5_": 108,
          "deaths_other_neonatal_disorders_under_5_": 151,
          "deaths_syphilis_under_5_": 31,
          "deaths_tuberculosis_under_5_": 18,
          "deaths_whooping_cough_under_5_": 110,
          "entity": "Djibouti",
          "year": 2019
         },
         {
          "deaths_congenital_birth_defects_under_5_": 3688,
          "deaths_diarrheal_diseases_under_5_": 12453,
          "deaths_drowning_under_5_": 269,
          "deaths_hivaids_under_5_": 6836,
          "deaths_lower_respiratory_infections_under_5_": 15821,
          "deaths_malaria_under_5_": 9707,
          "deaths_measles_under_5_": 7286,
          "deaths_meningitis_under_5_": 2772,
          "deaths_neonatal_encephalopathy_due_to_birth_asphyxia_and_trauma_under_5_": 5401,
          "deaths_neonatal_preterm_birth_under_5_": 4832,
          "deaths_neonatal_sepsis_and_other_neonatal_infections_under_5_": 3050,
          "deaths_neoplasms_under_5_": 420,
          "deaths_nutritional_deficiencies_under_5_": 5444,
          "deaths_other_neonatal_disorders_under_5_": 3855,
          "deaths_syphilis_under_5_": 1542,
          "deaths_tuberculosis_under_5_": 999,
          "deaths_whooping_cough_under_5_": 1210,
          "entity": "Kenya",
          "year": 1990
         },
         {
          "deaths_congenital_birth_defects_under_5_": 3585,
          "deaths_diarrheal_diseases_under_5_": 13879,
          "deaths_drowning_under_5_": 250,
          "deaths_hivaids_under_5_": 9309,
          "deaths_lower_respiratory_infections_under_5_": 15066,
          "deaths_malaria_under_5_": 10052,
          "deaths_measles_under_5_": 6752,
          "deaths_meningitis_under_5_": 2639,
          "deaths_neonatal_encephalopathy_due_to_birth_asphyxia_and_trauma_under_5_": 5448,
          "deaths_neonatal_preterm_birth_under_5_": 4850,
          "deaths_neonatal_sepsis_and_other_neonatal_infections_under_5_": 3066,
          "deaths_neoplasms_under_5_": 402,
          "deaths_nutritional_deficiencies_under_5_": 5286,
          "deaths_other_neonatal_disorders_under_5_": 3824,
          "deaths_syphilis_under_5_": 1458,
          "deaths_tuberculosis_under_5_": 940,
          "deaths_whooping_cough_under_5_": 1156,
          "entity": "Kenya",
          "year": 1991
         },
         {
          "deaths_congenital_birth_defects_under_5_": 3491,
          "deaths_diarrheal_diseases_under_5_": 15432,
          "deaths_drowning_under_5_": 235,
          "deaths_hivaids_under_5_": 11904,
          "deaths_lower_respiratory_infections_under_5_": 14483,
          "deaths_malaria_under_5_": 10161,
          "deaths_measles_under_5_": 6282,
          "deaths_meningitis_under_5_": 2519,
          "deaths_neonatal_encephalopathy_due_to_birth_asphyxia_and_trauma_under_5_": 5521,
          "deaths_neonatal_preterm_birth_under_5_": 4895,
          "deaths_neonatal_sepsis_and_other_neonatal_infections_under_5_": 3082,
          "deaths_neoplasms_under_5_": 384,
          "deaths_nutritional_deficiencies_under_5_": 5119,
          "deaths_other_neonatal_disorders_under_5_": 3814,
          "deaths_syphilis_under_5_": 1379,
          "deaths_tuberculosis_under_5_": 896,
          "deaths_whooping_cough_under_5_": 1115,
          "entity": "Kenya",
          "year": 1992
         },
         {
          "deaths_congenital_birth_defects_under_5_": 3396,
          "deaths_diarrheal_diseases_under_5_": 16739,
          "deaths_drowning_under_5_": 216,
          "deaths_hivaids_under_5_": 14327,
          "deaths_lower_respiratory_infections_under_5_": 13949,
          "deaths_malaria_under_5_": 10164,
          "deaths_measles_under_5_": 5855,
          "deaths_meningitis_under_5_": 2399,
          "deaths_neonatal_encephalopathy_due_to_birth_asphyxia_and_trauma_under_5_": 5590,
          "deaths_neonatal_preterm_birth_under_5_": 4940,
          "deaths_neonatal_sepsis_and_other_neonatal_infections_under_5_": 3091,
          "deaths_neoplasms_under_5_": 367,
          "deaths_nutritional_deficiencies_under_5_": 4918,
          "deaths_other_neonatal_disorders_under_5_": 3808,
          "deaths_syphilis_under_5_": 1308,
          "deaths_tuberculosis_under_5_": 858,
          "deaths_whooping_cough_under_5_": 1054,
          "entity": "Kenya",
          "year": 1993
         },
         {
          "deaths_congenital_birth_defects_under_5_": 3309,
          "deaths_diarrheal_diseases_under_5_": 17973,
          "deaths_drowning_under_5_": 204,
          "deaths_hivaids_under_5_": 16369,
          "deaths_lower_respiratory_infections_under_5_": 13427,
          "deaths_malaria_under_5_": 10163,
          "deaths_measles_under_5_": 5480,
          "deaths_meningitis_under_5_": 2284,
          "deaths_neonatal_encephalopathy_due_to_birth_asphyxia_and_trauma_under_5_": 5660,
          "deaths_neonatal_preterm_birth_under_5_": 4990,
          "deaths_neonatal_sepsis_and_other_neonatal_infections_under_5_": 3099,
          "deaths_neoplasms_under_5_": 351,
          "deaths_nutritional_deficiencies_under_5_": 4697,
          "deaths_other_neonatal_disorders_under_5_": 3809,
          "deaths_syphilis_under_5_": 1251,
          "deaths_tuberculosis_under_5_": 818,
          "deaths_whooping_cough_under_5_": 1043,
          "entity": "Kenya",
          "year": 1994
         },
         {
          "deaths_congenital_birth_defects_under_5_": 3242,
          "deaths_diarrheal_diseases_under_5_": 18978,
          "deaths_drowning_under_5_": 191,
          "deaths_hivaids_under_5_": 17949,
          "deaths_lower_respiratory_infections_under_5_": 12927,
          "deaths_malaria_under_5_": 10338,
          "deaths_measles_under_5_": 5056,
          "deaths_meningitis_under_5_": 2184,
          "deaths_neonatal_encephalopathy_due_to_birth_asphyxia_and_trauma_under_5_": 5747,
          "deaths_neonatal_preterm_birth_under_5_": 5051,
          "deaths_neonatal_sepsis_and_other_neonatal_infections_under_5_": 3113,
          "deaths_neoplasms_under_5_": 338,
          "deaths_nutritional_deficiencies_under_5_": 4485,
          "deaths_other_neonatal_disorders_under_5_": 3828,
          "deaths_syphilis_under_5_": 1210,
          "deaths_tuberculosis_under_5_": 778,
          "deaths_whooping_cough_under_5_": 955,
          "entity": "Kenya",
          "year": 1995
         },
         {
          "deaths_congenital_birth_defects_under_5_": 3206,
          "deaths_diarrheal_diseases_under_5_": 19129,
          "deaths_drowning_under_5_": 179,
          "deaths_hivaids_under_5_": 19041,
          "deaths_lower_respiratory_infections_under_5_": 12511,
          "deaths_malaria_under_5_": 10507,
          "deaths_measles_under_5_": 4782,
          "deaths_meningitis_under_5_": 2106,
          "deaths_neonatal_encephalopathy_due_to_birth_asphyxia_and_trauma_under_5_": 5862,
          "deaths_neonatal_preterm_birth_under_5_": 5138,
          "deaths_neonatal_sepsis_and_other_neonatal_infections_under_5_": 3154,
          "deaths_neoplasms_under_5_": 329,
          "deaths_nutritional_deficiencies_under_5_": 4275,
          "deaths_other_neonatal_disorders_under_5_": 3847,
          "deaths_syphilis_under_5_": 1183,
          "deaths_tuberculosis_under_5_": 743,
          "deaths_whooping_cough_under_5_": 938,
          "entity": "Kenya",
          "year": 1996
         },
         {
          "deaths_congenital_birth_defects_under_5_": 3182,
          "deaths_diarrheal_diseases_under_5_": 19622,
          "deaths_drowning_under_5_": 171,
          "deaths_hivaids_under_5_": 19693,
          "deaths_lower_respiratory_infections_under_5_": 12184,
          "deaths_malaria_under_5_": 10521,
          "deaths_measles_under_5_": 4570,
          "deaths_meningitis_under_5_": 2037,
          "deaths_neonatal_encephalopathy_due_to_birth_asphyxia_and_trauma_under_5_": 6003,
          "deaths_neonatal_preterm_birth_under_5_": 5250,
          "deaths_neonatal_sepsis_and_other_neonatal_infections_under_5_": 3209,
          "deaths_neoplasms_under_5_": 321,
          "deaths_nutritional_deficiencies_under_5_": 4046,
          "deaths_other_neonatal_disorders_under_5_": 3883,
          "deaths_syphilis_under_5_": 1164,
          "deaths_tuberculosis_under_5_": 716,
          "deaths_whooping_cough_under_5_": 961,
          "entity": "Kenya",
          "year": 1997
         },
         {
          "deaths_congenital_birth_defects_under_5_": 3156,
          "deaths_diarrheal_diseases_under_5_": 19733,
          "deaths_drowning_under_5_": 159,
          "deaths_hivaids_under_5_": 19907,
          "deaths_lower_respiratory_infections_under_5_": 11848,
          "deaths_malaria_under_5_": 10543,
          "deaths_measles_under_5_": 4392,
          "deaths_meningitis_under_5_": 1963,
          "deaths_neonatal_encephalopathy_due_to_birth_asphyxia_and_trauma_under_5_": 6140,
          "deaths_neonatal_preterm_birth_under_5_": 5358,
          "deaths_neonatal_sepsis_and_other_neonatal_infections_under_5_": 3265,
          "deaths_neoplasms_under_5_": 313,
          "deaths_nutritional_deficiencies_under_5_": 3786,
          "deaths_other_neonatal_disorders_under_5_": 3917,
          "deaths_syphilis_under_5_": 1143,
          "deaths_tuberculosis_under_5_": 690,
          "deaths_whooping_cough_under_5_": 921,
          "entity": "Kenya",
          "year": 1998
         },
         {
          "deaths_congenital_birth_defects_under_5_": 3140,
          "deaths_diarrheal_diseases_under_5_": 19122,
          "deaths_drowning_under_5_": 149,
          "deaths_hivaids_under_5_": 19786,
          "deaths_lower_respiratory_infections_under_5_": 11501,
          "deaths_malaria_under_5_": 10566,
          "deaths_measles_under_5_": 4267,
          "deaths_meningitis_under_5_": 1902,
          "deaths_neonatal_encephalopathy_due_to_birth_asphyxia_and_trauma_under_5_": 6267,
          "deaths_neonatal_preterm_birth_under_5_": 5475,
          "deaths_neonatal_sepsis_and_other_neonatal_infections_under_5_": 3326,
          "deaths_neoplasms_under_5_": 307,
          "deaths_nutritional_deficiencies_under_5_": 3540,
          "deaths_other_neonatal_disorders_under_5_": 3953,
          "deaths_syphilis_under_5_": 1127,
          "deaths_tuberculosis_under_5_": 665,
          "deaths_whooping_cough_under_5_": 1011,
          "entity": "Kenya",
          "year": 1999
         },
         {
          "deaths_congenital_birth_defects_under_5_": 3220,
          "deaths_diarrheal_diseases_under_5_": 17984,
          "deaths_drowning_under_5_": 148,
          "deaths_hivaids_under_5_": 19465,
          "deaths_lower_respiratory_infections_under_5_": 11579,
          "deaths_malaria_under_5_": 8978,
          "deaths_measles_under_5_": 4059,
          "deaths_meningitis_under_5_": 1919,
          "deaths_neonatal_encephalopathy_due_to_birth_asphyxia_and_trauma_under_5_": 6404,
          "deaths_neonatal_preterm_birth_under_5_": 5579,
          "deaths_neonatal_sepsis_and_other_neonatal_infections_under_5_": 3407,
          "deaths_neoplasms_under_5_": 316,
          "deaths_nutritional_deficiencies_under_5_": 3513,
          "deaths_other_neonatal_disorders_under_5_": 4006,
          "deaths_syphilis_under_5_": 1153,
          "deaths_tuberculosis_under_5_": 671,
          "deaths_whooping_cough_under_5_": 1077,
          "entity": "Kenya",
          "year": 2000
         },
         {
          "deaths_congenital_birth_defects_under_5_": 3235,
          "deaths_diarrheal_diseases_under_5_": 16731,
          "deaths_drowning_under_5_": 141,
          "deaths_hivaids_under_5_": 18926,
          "deaths_lower_respiratory_infections_under_5_": 11075,
          "deaths_malaria_under_5_": 10030,
          "deaths_measles_under_5_": 3852,
          "deaths_meningitis_under_5_": 1729,
          "deaths_neonatal_encephalopathy_due_to_birth_asphyxia_and_trauma_under_5_": 6538,
          "deaths_neonatal_preterm_birth_under_5_": 5659,
          "deaths_neonatal_sepsis_and_other_neonatal_infections_under_5_": 3471,
          "deaths_neoplasms_under_5_": 305,
          "deaths_nutritional_deficiencies_under_5_": 3229,
          "deaths_other_neonatal_disorders_under_5_": 4020,
          "deaths_syphilis_under_5_": 1188,
          "deaths_tuberculosis_under_5_": 629,
          "deaths_whooping_cough_under_5_": 1101,
          "entity": "Kenya",
          "year": 2001
         },
         {
          "deaths_congenital_birth_defects_under_5_": 3317,
          "deaths_diarrheal_diseases_under_5_": 15854,
          "deaths_drowning_under_5_": 140,
          "deaths_hivaids_under_5_": 18245,
          "deaths_lower_respiratory_infections_under_5_": 10913,
          "deaths_malaria_under_5_": 9545,
          "deaths_measles_under_5_": 3941,
          "deaths_meningitis_under_5_": 1718,
          "deaths_neonatal_encephalopathy_due_to_birth_asphyxia_and_trauma_under_5_": 6599,
          "deaths_neonatal_preterm_birth_under_5_": 5782,
          "deaths_neonatal_sepsis_and_other_neonatal_infections_under_5_": 3577,
          "deaths_neoplasms_under_5_": 306,
          "deaths_nutritional_deficiencies_under_5_": 3084,
          "deaths_other_neonatal_disorders_under_5_": 4085,
          "deaths_syphilis_under_5_": 1226,
          "deaths_tuberculosis_under_5_": 608,
          "deaths_whooping_cough_under_5_": 1118,
          "entity": "Kenya",
          "year": 2002
         },
         {
          "deaths_congenital_birth_defects_under_5_": 3409,
          "deaths_diarrheal_diseases_under_5_": 16518,
          "deaths_drowning_under_5_": 147,
          "deaths_hivaids_under_5_": 17418,
          "deaths_lower_respiratory_infections_under_5_": 11009,
          "deaths_malaria_under_5_": 10252,
          "deaths_measles_under_5_": 823,
          "deaths_meningitis_under_5_": 1750,
          "deaths_neonatal_encephalopathy_due_to_birth_asphyxia_and_trauma_under_5_": 6993,
          "deaths_neonatal_preterm_birth_under_5_": 5554,
          "deaths_neonatal_sepsis_and_other_neonatal_infections_under_5_": 3511,
          "deaths_neoplasms_under_5_": 320,
          "deaths_nutritional_deficiencies_under_5_": 3092,
          "deaths_other_neonatal_disorders_under_5_": 3965,
          "deaths_syphilis_under_5_": 1242,
          "deaths_tuberculosis_under_5_": 607,
          "deaths_whooping_cough_under_5_": 1077,
          "entity": "Kenya",
          "year": 2003
         },
         {
          "deaths_congenital_birth_defects_under_5_": 3463,
          "deaths_diarrheal_diseases_under_5_": 16422,
          "deaths_drowning_under_5_": 145,
          "deaths_hivaids_under_5_": 16282,
          "deaths_lower_respiratory_infections_under_5_": 10850,
          "deaths_malaria_under_5_": 9410,
          "deaths_measles_under_5_": 600,
          "deaths_meningitis_under_5_": 1734,
          "deaths_neonatal_encephalopathy_due_to_birth_asphyxia_and_trauma_under_5_": 7231,
          "deaths_neonatal_preterm_birth_under_5_": 5461,
          "deaths_neonatal_sepsis_and_other_neonatal_infections_under_5_": 3510,
          "deaths_neoplasms_under_5_": 320,
          "deaths_nutritional_deficiencies_under_5_": 3100,
          "deaths_other_neonatal_disorders_under_5_": 3936,
          "deaths_syphilis_under_5_": 1254,
          "deaths_tuberculosis_under_5_": 583,
          "deaths_whooping_cough_under_5_": 1066,
          "entity": "Kenya",
          "year": 2004
         },
         {
          "deaths_congenital_birth_defects_under_5_": 3571,
          "deaths_diarrheal_diseases_under_5_": 16331,
          "deaths_drowning_under_5_": 147,
          "deaths_hivaids_under_5_": 14982,
          "deaths_lower_respiratory_infections_under_5_": 10895,
          "deaths_malaria_under_5_": 7796,
          "deaths_measles_under_5_": 761,
          "deaths_meningitis_under_5_": 1770,
          "deaths_neonatal_encephalopathy_due_to_birth_asphyxia_and_trauma_under_5_": 7466,
          "deaths_neonatal_preterm_birth_under_5_": 5367,
          "deaths_neonatal_sepsis_and_other_neonatal_infections_under_5_": 3508,
          "deaths_neoplasms_under_5_": 327,
          "deaths_nutritional_deficiencies_under_5_": 3043,
          "deaths_other_neonatal_disorders_under_5_": 3916,
          "deaths_syphilis_under_5_": 1280,
          "deaths_tuberculosis_under_5_": 575,
          "deaths_whooping_cough_under_5_": 1089,
          "entity": "Kenya",
          "year": 2005
         },
         {
          "deaths_congenital_birth_defects_under_5_": 3650,
          "deaths_diarrheal_diseases_under_5_": 16380,
          "deaths_drowning_under_5_": 153,
          "deaths_hivaids_under_5_": 13669,
          "deaths_lower_respiratory_infections_under_5_": 10858,
          "deaths_malaria_under_5_": 6349,
          "deaths_measles_under_5_": 1051,
          "deaths_meningitis_under_5_": 1802,
          "deaths_neonatal_encephalopathy_due_to_birth_asphyxia_and_trauma_under_5_": 7654,
          "deaths_neonatal_preterm_birth_under_5_": 5337,
          "deaths_neonatal_sepsis_and_other_neonatal_infections_under_5_": 3517,
          "deaths_neoplasms_under_5_": 338,
          "deaths_nutritional_deficiencies_under_5_": 3031,
          "deaths_other_neonatal_disorders_under_5_": 3911,
          "deaths_syphilis_under_5_": 1253,
          "deaths_tuberculosis_under_5_": 565,
          "deaths_whooping_cough_under_5_": 1044,
          "entity": "Kenya",
          "year": 2006
         },
         {
          "deaths_congenital_birth_defects_under_5_": 3707,
          "deaths_diarrheal_diseases_under_5_": 16556,
          "deaths_drowning_under_5_": 157,
          "deaths_hivaids_under_5_": 11345,
          "deaths_lower_respiratory_infections_under_5_": 10835,
          "deaths_malaria_under_5_": 5655,
          "deaths_measles_under_5_": 874,
          "deaths_meningitis_under_5_": 1833,
          "deaths_neonatal_encephalopathy_due_to_birth_asphyxia_and_trauma_under_5_": 7682,
          "deaths_neonatal_preterm_birth_under_5_": 5294,
          "deaths_neonatal_sepsis_and_other_neonatal_infections_under_5_": 3532,
          "deaths_neoplasms_under_5_": 354,
          "deaths_nutritional_deficiencies_under_5_": 2987,
          "deaths_other_neonatal_disorders_under_5_": 3920,
          "deaths_syphilis_under_5_": 1161,
          "deaths_tuberculosis_under_5_": 562,
          "deaths_whooping_cough_under_5_": 1020,
          "entity": "Kenya",
          "year": 2007
         },
         {
          "deaths_congenital_birth_defects_under_5_": 3691,
          "deaths_diarrheal_diseases_under_5_": 16206,
          "deaths_drowning_under_5_": 155,
          "deaths_hivaids_under_5_": 9123,
          "deaths_lower_respiratory_infections_under_5_": 10551,
          "deaths_malaria_under_5_": 5017,
          "deaths_measles_under_5_": 1946,
          "deaths_meningitis_under_5_": 1772,
          "deaths_neonatal_encephalopathy_due_to_birth_asphyxia_and_trauma_under_5_": 7719,
          "deaths_neonatal_preterm_birth_under_5_": 5207,
          "deaths_neonatal_sepsis_and_other_neonatal_infections_under_5_": 3530,
          "deaths_neoplasms_under_5_": 358,
          "deaths_nutritional_deficiencies_under_5_": 2852,
          "deaths_other_neonatal_disorders_under_5_": 3910,
          "deaths_syphilis_under_5_": 1025,
          "deaths_tuberculosis_under_5_": 544,
          "deaths_whooping_cough_under_5_": 1009,
          "entity": "Kenya",
          "year": 2008
         },
         {
          "deaths_congenital_birth_defects_under_5_": 3735,
          "deaths_diarrheal_diseases_under_5_": 16214,
          "deaths_drowning_under_5_": 162,
          "deaths_hivaids_under_5_": 8065,
          "deaths_lower_respiratory_infections_under_5_": 10450,
          "deaths_malaria_under_5_": 4114,
          "deaths_measles_under_5_": 2127,
          "deaths_meningitis_under_5_": 1781,
          "deaths_neonatal_encephalopathy_due_to_birth_asphyxia_and_trauma_under_5_": 7661,
          "deaths_neonatal_preterm_birth_under_5_": 5197,
          "deaths_neonatal_sepsis_and_other_neonatal_infections_under_5_": 3554,
          "deaths_neoplasms_under_5_": 372,
          "deaths_nutritional_deficiencies_under_5_": 2829,
          "deaths_other_neonatal_disorders_under_5_": 3972,
          "deaths_syphilis_under_5_": 913,
          "deaths_tuberculosis_under_5_": 543,
          "deaths_whooping_cough_under_5_": 936,
          "entity": "Kenya",
          "year": 2009
         },
         {
          "deaths_congenital_birth_defects_under_5_": 3859,
          "deaths_diarrheal_diseases_under_5_": 15997,
          "deaths_drowning_under_5_": 179,
          "deaths_hivaids_under_5_": 7105,
          "deaths_lower_respiratory_infections_under_5_": 10611,
          "deaths_malaria_under_5_": 2557,
          "deaths_measles_under_5_": 1373,
          "deaths_meningitis_under_5_": 1863,
          "deaths_neonatal_encephalopathy_due_to_birth_asphyxia_and_trauma_under_5_": 7627,
          "deaths_neonatal_preterm_birth_under_5_": 5193,
          "deaths_neonatal_sepsis_and_other_neonatal_infections_under_5_": 3596,
          "deaths_neoplasms_under_5_": 410,
          "deaths_nutritional_deficiencies_under_5_": 2986,
          "deaths_other_neonatal_disorders_under_5_": 4041,
          "deaths_syphilis_under_5_": 872,
          "deaths_tuberculosis_under_5_": 565,
          "deaths_whooping_cough_under_5_": 1062,
          "entity": "Kenya",
          "year": 2010
         },
         {
          "deaths_congenital_birth_defects_under_5_": 3955,
          "deaths_diarrheal_diseases_under_5_": 15566,
          "deaths_drowning_under_5_": 188,
          "deaths_hivaids_under_5_": 6336,
          "deaths_lower_respiratory_infections_under_5_": 10384,
          "deaths_malaria_under_5_": 1411,
          "deaths_measles_under_5_": 1572,
          "deaths_meningitis_under_5_": 1323,
          "deaths_neonatal_encephalopathy_due_to_birth_asphyxia_and_trauma_under_5_": 7633,
          "deaths_neonatal_preterm_birth_under_5_": 5197,
          "deaths_neonatal_sepsis_and_other_neonatal_infections_under_5_": 3643,
          "deaths_neoplasms_under_5_": 433,
          "deaths_nutritional_deficiencies_under_5_": 3101,
          "deaths_other_neonatal_disorders_under_5_": 4093,
          "deaths_syphilis_under_5_": 880,
          "deaths_tuberculosis_under_5_": 570,
          "deaths_whooping_cough_under_5_": 1051,
          "entity": "Kenya",
          "year": 2011
         },
         {
          "deaths_congenital_birth_defects_under_5_": 3893,
          "deaths_diarrheal_diseases_under_5_": 14391,
          "deaths_drowning_under_5_": 184,
          "deaths_hivaids_under_5_": 5895,
          "deaths_lower_respiratory_infections_under_5_": 9811,
          "deaths_malaria_under_5_": 1203,
          "deaths_measles_under_5_": 2448,
          "deaths_meningitis_under_5_": 1256,
          "deaths_neonatal_encephalopathy_due_to_birth_asphyxia_and_trauma_under_5_": 7593,
          "deaths_neonatal_preterm_birth_under_5_": 5159,
          "deaths_neonatal_sepsis_and_other_neonatal_infections_under_5_": 3631,
          "deaths_neoplasms_under_5_": 425,
          "deaths_nutritional_deficiencies_under_5_": 2991,
          "deaths_other_neonatal_disorders_under_5_": 4098,
          "deaths_syphilis_under_5_": 871,
          "deaths_tuberculosis_under_5_": 535,
          "deaths_whooping_cough_under_5_": 990,
          "entity": "Kenya",
          "year": 2012
         },
         {
          "deaths_congenital_birth_defects_under_5_": 3841,
          "deaths_diarrheal_diseases_under_5_": 13485,
          "deaths_drowning_under_5_": 179,
          "deaths_hivaids_under_5_": 5409,
          "deaths_lower_respiratory_infections_under_5_": 9389,
          "deaths_malaria_under_5_": 2060,
          "deaths_measles_under_5_": 1507,
          "deaths_meningitis_under_5_": 1217,
          "deaths_neonatal_encephalopathy_due_to_birth_asphyxia_and_trauma_under_5_": 7530,
          "deaths_neonatal_preterm_birth_under_5_": 5092,
          "deaths_neonatal_sepsis_and_other_neonatal_infections_under_5_": 3601,
          "deaths_neoplasms_under_5_": 425,
          "deaths_nutritional_deficiencies_under_5_": 2952,
          "deaths_other_neonatal_disorders_under_5_": 4083,
          "deaths_syphilis_under_5_": 861,
          "deaths_tuberculosis_under_5_": 517,
          "deaths_whooping_cough_under_5_": 991,
          "entity": "Kenya",
          "year": 2013
         },
         {
          "deaths_congenital_birth_defects_under_5_": 3760,
          "deaths_diarrheal_diseases_under_5_": 12181,
          "deaths_drowning_under_5_": 165,
          "deaths_hivaids_under_5_": 4856,
          "deaths_lower_respiratory_infections_under_5_": 8910,
          "deaths_malaria_under_5_": 2680,
          "deaths_measles_under_5_": 1498,
          "deaths_meningitis_under_5_": 1175,
          "deaths_neonatal_encephalopathy_due_to_birth_asphyxia_and_trauma_under_5_": 7467,
          "deaths_neonatal_preterm_birth_under_5_": 5014,
          "deaths_neonatal_sepsis_and_other_neonatal_infections_under_5_": 3575,
          "deaths_neoplasms_under_5_": 412,
          "deaths_nutritional_deficiencies_under_5_": 2857,
          "deaths_other_neonatal_disorders_under_5_": 4070,
          "deaths_syphilis_under_5_": 849,
          "deaths_tuberculosis_under_5_": 490,
          "deaths_whooping_cough_under_5_": 1016,
          "entity": "Kenya",
          "year": 2014
         },
         {
          "deaths_congenital_birth_defects_under_5_": 3614,
          "deaths_diarrheal_diseases_under_5_": 10964,
          "deaths_drowning_under_5_": 153,
          "deaths_hivaids_under_5_": 4390,
          "deaths_lower_respiratory_infections_under_5_": 8232,
          "deaths_malaria_under_5_": 3031,
          "deaths_measles_under_5_": 2052,
          "deaths_meningitis_under_5_": 1112,
          "deaths_neonatal_encephalopathy_due_to_birth_asphyxia_and_trauma_under_5_": 7342,
          "deaths_neonatal_preterm_birth_under_5_": 4877,
          "deaths_neonatal_sepsis_and_other_neonatal_infections_under_5_": 3528,
          "deaths_neoplasms_under_5_": 390,
          "deaths_nutritional_deficiencies_under_5_": 2699,
          "deaths_other_neonatal_disorders_under_5_": 4015,
          "deaths_syphilis_under_5_": 838,
          "deaths_tuberculosis_under_5_": 447,
          "deaths_whooping_cough_under_5_": 956,
          "entity": "Kenya",
          "year": 2015
         },
         {
          "deaths_congenital_birth_defects_under_5_": 3465,
          "deaths_diarrheal_diseases_under_5_": 9736,
          "deaths_drowning_under_5_": 139,
          "deaths_hivaids_under_5_": 3924,
          "deaths_lower_respiratory_infections_under_5_": 7548,
          "deaths_malaria_under_5_": 3818,
          "deaths_measles_under_5_": 2009,
          "deaths_meningitis_under_5_": 1047,
          "deaths_neonatal_encephalopathy_due_to_birth_asphyxia_and_trauma_under_5_": 7233,
          "deaths_neonatal_preterm_birth_under_5_": 4748,
          "deaths_neonatal_sepsis_and_other_neonatal_infections_under_5_": 3469,
          "deaths_neoplasms_under_5_": 371,
          "deaths_nutritional_deficiencies_under_5_": 2579,
          "deaths_other_neonatal_disorders_under_5_": 3967,
          "deaths_syphilis_under_5_": 839,
          "deaths_tuberculosis_under_5_": 402,
          "deaths_whooping_cough_under_5_": 950,
          "entity": "Kenya",
          "year": 2016
         },
         {
          "deaths_congenital_birth_defects_under_5_": 3381,
          "deaths_diarrheal_diseases_under_5_": 9117,
          "deaths_drowning_under_5_": 138,
          "deaths_hivaids_under_5_": 3353,
          "deaths_lower_respiratory_infections_under_5_": 7107,
          "deaths_malaria_under_5_": 4498,
          "deaths_measles_under_5_": 372,
          "deaths_meningitis_under_5_": 1041,
          "deaths_neonatal_encephalopathy_due_to_birth_asphyxia_and_trauma_under_5_": 7105,
          "deaths_neonatal_preterm_birth_under_5_": 4578,
          "deaths_neonatal_sepsis_and_other_neonatal_infections_under_5_": 3410,
          "deaths_neoplasms_under_5_": 374,
          "deaths_nutritional_deficiencies_under_5_": 2698,
          "deaths_other_neonatal_disorders_under_5_": 3909,
          "deaths_syphilis_under_5_": 847,
          "deaths_tuberculosis_under_5_": 382,
          "deaths_whooping_cough_under_5_": 1000,
          "entity": "Kenya",
          "year": 2017
         },
         {
          "deaths_congenital_birth_defects_under_5_": 3287,
          "deaths_diarrheal_diseases_under_5_": 8409,
          "deaths_drowning_under_5_": 130,
          "deaths_hivaids_under_5_": 2806,
          "deaths_lower_respiratory_infections_under_5_": 6638,
          "deaths_malaria_under_5_": 4653,
          "deaths_measles_under_5_": 330,
          "deaths_meningitis_under_5_": 966,
          "deaths_neonatal_encephalopathy_due_to_birth_asphyxia_and_trauma_under_5_": 6852,
          "deaths_neonatal_preterm_birth_under_5_": 4456,
          "deaths_neonatal_sepsis_and_other_neonatal_infections_under_5_": 3330,
          "deaths_neoplasms_under_5_": 360,
          "deaths_nutritional_deficiencies_under_5_": 2415,
          "deaths_other_neonatal_disorders_under_5_": 3807,
          "deaths_syphilis_under_5_": 866,
          "deaths_tuberculosis_under_5_": 344,
          "deaths_whooping_cough_under_5_": 955,
          "entity": "Kenya",
          "year": 2018
         },
         {
          "deaths_congenital_birth_defects_under_5_": 3239,
          "deaths_diarrheal_diseases_under_5_": 7847,
          "deaths_drowning_under_5_": 123,
          "deaths_hivaids_under_5_": 2540,
          "deaths_lower_respiratory_infections_under_5_": 6307,
          "deaths_malaria_under_5_": 4618,
          "deaths_measles_under_5_": 369,
          "deaths_meningitis_under_5_": 916,
          "deaths_neonatal_encephalopathy_due_to_birth_asphyxia_and_trauma_under_5_": 6686,
          "deaths_neonatal_preterm_birth_under_5_": 4362,
          "deaths_neonatal_sepsis_and_other_neonatal_infections_under_5_": 3313,
          "deaths_neoplasms_under_5_": 350,
          "deaths_nutritional_deficiencies_under_5_": 2229,
          "deaths_other_neonatal_disorders_under_5_": 3746,
          "deaths_syphilis_under_5_": 899,
          "deaths_tuberculosis_under_5_": 316,
          "deaths_whooping_cough_under_5_": 962,
          "entity": "Kenya",
          "year": 2019
         },
         {
          "deaths_congenital_birth_defects_under_5_": 2247,
          "deaths_diarrheal_diseases_under_5_": 11883,
          "deaths_drowning_under_5_": 217,
          "deaths_hivaids_under_5_": 436,
          "deaths_lower_respiratory_infections_under_5_": 9051,
          "deaths_malaria_under_5_": 7870,
          "deaths_measles_under_5_": 2703,
          "deaths_meningitis_under_5_": 1656,
          "deaths_neonatal_encephalopathy_due_to_birth_asphyxia_and_trauma_under_5_": 2988,
          "deaths_neonatal_preterm_birth_under_5_": 3082,
          "deaths_neonatal_sepsis_and_other_neonatal_infections_under_5_": 1288,
          "deaths_neoplasms_under_5_": 340,
          "deaths_nutritional_deficiencies_under_5_": 2604,
          "deaths_other_neonatal_disorders_under_5_": 1584,
          "deaths_syphilis_under_5_": 372,
          "deaths_tuberculosis_under_5_": 1106,
          "deaths_whooping_cough_under_5_": 607,
          "entity": "Rwanda",
          "year": 1990
         },
         {
          "deaths_congenital_birth_defects_under_5_": 2255,
          "deaths_diarrheal_diseases_under_5_": 12421,
          "deaths_drowning_under_5_": 220,
          "deaths_hivaids_under_5_": 545,
          "deaths_lower_respiratory_infections_under_5_": 9111,
          "deaths_malaria_under_5_": 8015,
          "deaths_measles_under_5_": 2652,
          "deaths_meningitis_under_5_": 1640,
          "deaths_neonatal_encephalopathy_due_to_birth_asphyxia_and_trauma_under_5_": 2988,
          "deaths_neonatal_preterm_birth_under_5_": 3018,
          "deaths_neonatal_sepsis_and_other_neonatal_infections_under_5_": 1297,
          "deaths_neoplasms_under_5_": 342,
          "deaths_nutritional_deficiencies_under_5_": 2721,
          "deaths_other_neonatal_disorders_under_5_": 1567,
          "deaths_syphilis_under_5_": 369,
          "deaths_tuberculosis_under_5_": 1125,
          "deaths_whooping_cough_under_5_": 527,
          "entity": "Rwanda",
          "year": 1991
         },
         {
          "deaths_congenital_birth_defects_under_5_": 2147,
          "deaths_diarrheal_diseases_under_5_": 11756,
          "deaths_drowning_under_5_": 228,
          "deaths_hivaids_under_5_": 655,
          "deaths_lower_respiratory_infections_under_5_": 9222,
          "deaths_malaria_under_5_": 8371,
          "deaths_measles_under_5_": 2665,
          "deaths_meningitis_under_5_": 1694,
          "deaths_neonatal_encephalopathy_due_to_birth_asphyxia_and_trauma_under_5_": 2664,
          "deaths_neonatal_preterm_birth_under_5_": 2686,
          "deaths_neonatal_sepsis_and_other_neonatal_infections_under_5_": 1069,
          "deaths_neoplasms_under_5_": 340,
          "deaths_nutritional_deficiencies_under_5_": 2893,
          "deaths_other_neonatal_disorders_under_5_": 1398,
          "deaths_syphilis_under_5_": 379,
          "deaths_tuberculosis_under_5_": 1176,
          "deaths_whooping_cough_under_5_": 551,
          "entity": "Rwanda",
          "year": 1992
         },
         {
          "deaths_congenital_birth_defects_under_5_": 1823,
          "deaths_diarrheal_diseases_under_5_": 9878,
          "deaths_drowning_under_5_": 213,
          "deaths_hivaids_under_5_": 875,
          "deaths_lower_respiratory_infections_under_5_": 8350,
          "deaths_malaria_under_5_": 9055,
          "deaths_measles_under_5_": 2556,
          "deaths_meningitis_under_5_": 1472,
          "deaths_neonatal_encephalopathy_due_to_birth_asphyxia_and_trauma_under_5_": 2125,
          "deaths_neonatal_preterm_birth_under_5_": 2129,
          "deaths_neonatal_sepsis_and_other_neonatal_infections_under_5_": 785,
          "deaths_neoplasms_under_5_": 304,
          "deaths_nutritional_deficiencies_under_5_": 2768,
          "deaths_other_neonatal_disorders_under_5_": 1109,
          "deaths_syphilis_under_5_": 302,
          "deaths_tuberculosis_under_5_": 1102,
          "deaths_whooping_cough_under_5_": 490,
          "entity": "Rwanda",
          "year": 1993
         },
         {
          "deaths_congenital_birth_defects_under_5_": 1584,
          "deaths_diarrheal_diseases_under_5_": 11725,
          "deaths_drowning_under_5_": 189,
          "deaths_hivaids_under_5_": 1243,
          "deaths_lower_respiratory_infections_under_5_": 7320,
          "deaths_malaria_under_5_": 5950,
          "deaths_measles_under_5_": 2608,
          "deaths_meningitis_under_5_": 1250,
          "deaths_neonatal_encephalopathy_due_to_birth_asphyxia_and_trauma_under_5_": 1931,
          "deaths_neonatal_preterm_birth_under_5_": 1825,
          "deaths_neonatal_sepsis_and_other_neonatal_infections_under_5_": 821,
          "deaths_neoplasms_under_5_": 257,
          "deaths_nutritional_deficiencies_under_5_": 2525,
          "deaths_other_neonatal_disorders_under_5_": 988,
          "deaths_syphilis_under_5_": 237,
          "deaths_tuberculosis_under_5_": 958,
          "deaths_whooping_cough_under_5_": 657,
          "entity": "Rwanda",
          "year": 1994
         },
         {
          "deaths_congenital_birth_defects_under_5_": 1637,
          "deaths_diarrheal_diseases_under_5_": 10820,
          "deaths_drowning_under_5_": 170,
          "deaths_hivaids_under_5_": 1596,
          "deaths_lower_respiratory_infections_under_5_": 7075,
          "deaths_malaria_under_5_": 5856,
          "deaths_measles_under_5_": 2103,
          "deaths_meningitis_under_5_": 1202,
          "deaths_neonatal_encephalopathy_due_to_birth_asphyxia_and_trauma_under_5_": 2224,
          "deaths_neonatal_preterm_birth_under_5_": 2009,
          "deaths_neonatal_sepsis_and_other_neonatal_infections_under_5_": 996,
          "deaths_neoplasms_under_5_": 246,
          "deaths_nutritional_deficiencies_under_5_": 2290,
          "deaths_other_neonatal_disorders_under_5_": 1112,
          "deaths_syphilis_under_5_": 265,
          "deaths_tuberculosis_under_5_": 909,
          "deaths_whooping_cough_under_5_": 522,
          "entity": "Rwanda",
          "year": 1995
         },
         {
          "deaths_congenital_birth_defects_under_5_": 1737,
          "deaths_diarrheal_diseases_under_5_": 11850,
          "deaths_drowning_under_5_": 152,
          "deaths_hivaids_under_5_": 1686,
          "deaths_lower_respiratory_infections_under_5_": 7041,
          "deaths_malaria_under_5_": 5916,
          "deaths_measles_under_5_": 1561,
          "deaths_meningitis_under_5_": 1198,
          "deaths_neonatal_encephalopathy_due_to_birth_asphyxia_and_trauma_under_5_": 2515,
          "deaths_neonatal_preterm_birth_under_5_": 2205,
          "deaths_neonatal_sepsis_and_other_neonatal_infections_under_5_": 1145,
          "deaths_neoplasms_under_5_": 240,
          "deaths_nutritional_deficiencies_under_5_": 2213,
          "deaths_other_neonatal_disorders_under_5_": 1233,
          "deaths_syphilis_under_5_": 306,
          "deaths_tuberculosis_under_5_": 873,
          "deaths_whooping_cough_under_5_": 404,
          "entity": "Rwanda",
          "year": 1996
         },
         {
          "deaths_congenital_birth_defects_under_5_": 1818,
          "deaths_diarrheal_diseases_under_5_": 12291,
          "deaths_drowning_under_5_": 152,
          "deaths_hivaids_under_5_": 1731,
          "deaths_lower_respiratory_infections_under_5_": 7201,
          "deaths_malaria_under_5_": 6862,
          "deaths_measles_under_5_": 1592,
          "deaths_meningitis_under_5_": 1238,
          "deaths_neonatal_encephalopathy_due_to_birth_asphyxia_and_trauma_under_5_": 2679,
          "deaths_neonatal_preterm_birth_under_5_": 2311,
          "deaths_neonatal_sepsis_and_other_neonatal_infections_under_5_": 1184,
          "deaths_neoplasms_under_5_": 242,
          "deaths_nutritional_deficiencies_under_5_": 2291,
          "deaths_other_neonatal_disorders_under_5_": 1301,
          "deaths_syphilis_under_5_": 346,
          "deaths_tuberculosis_under_5_": 871,
          "deaths_whooping_cough_under_5_": 429,
          "entity": "Rwanda",
          "year": 1997
         },
         {
          "deaths_congenital_birth_defects_under_5_": 1875,
          "deaths_diarrheal_diseases_under_5_": 12506,
          "deaths_drowning_under_5_": 160,
          "deaths_hivaids_under_5_": 1834,
          "deaths_lower_respiratory_infections_under_5_": 7346,
          "deaths_malaria_under_5_": 7366,
          "deaths_measles_under_5_": 1930,
          "deaths_meningitis_under_5_": 1318,
          "deaths_neonatal_encephalopathy_due_to_birth_asphyxia_and_trauma_under_5_": 2725,
          "deaths_neonatal_preterm_birth_under_5_": 2319,
          "deaths_neonatal_sepsis_and_other_neonatal_infections_under_5_": 1169,
          "deaths_neoplasms_under_5_": 252,
          "deaths_nutritional_deficiencies_under_5_": 2429,
          "deaths_other_neonatal_disorders_under_5_": 1318,
          "deaths_syphilis_under_5_": 353,
          "deaths_tuberculosis_under_5_": 887,
          "deaths_whooping_cough_under_5_": 553,
          "entity": "Rwanda",
          "year": 1998
         },
         {
          "deaths_congenital_birth_defects_under_5_": 1859,
          "deaths_diarrheal_diseases_under_5_": 11984,
          "deaths_drowning_under_5_": 159,
          "deaths_hivaids_under_5_": 1920,
          "deaths_lower_respiratory_infections_under_5_": 7110,
          "deaths_malaria_under_5_": 7475,
          "deaths_measles_under_5_": 2145,
          "deaths_meningitis_under_5_": 1331,
          "deaths_neonatal_encephalopathy_due_to_birth_asphyxia_and_trauma_under_5_": 2677,
          "deaths_neonatal_preterm_birth_under_5_": 2207,
          "deaths_neonatal_sepsis_and_other_neonatal_infections_under_5_": 1170,
          "deaths_neoplasms_under_5_": 255,
          "deaths_nutritional_deficiencies_under_5_": 2443,
          "deaths_other_neonatal_disorders_under_5_": 1274,
          "deaths_syphilis_under_5_": 351,
          "deaths_tuberculosis_under_5_": 859,
          "deaths_whooping_cough_under_5_": 479,
          "entity": "Rwanda",
          "year": 1999
         },
         {
          "deaths_congenital_birth_defects_under_5_": 1854,
          "deaths_diarrheal_diseases_under_5_": 11324,
          "deaths_drowning_under_5_": 159,
          "deaths_hivaids_under_5_": 1973,
          "deaths_lower_respiratory_infections_under_5_": 6941,
          "deaths_malaria_under_5_": 7242,
          "deaths_measles_under_5_": 2124,
          "deaths_meningitis_under_5_": 1300,
          "deaths_neonatal_encephalopathy_due_to_birth_asphyxia_and_trauma_under_5_": 2666,
          "deaths_neonatal_preterm_birth_under_5_": 2127,
          "deaths_neonatal_sepsis_and_other_neonatal_infections_under_5_": 1180,
          "deaths_neoplasms_under_5_": 255,
          "deaths_nutritional_deficiencies_under_5_": 2436,
          "deaths_other_neonatal_disorders_under_5_": 1239,
          "deaths_syphilis_under_5_": 351,
          "deaths_tuberculosis_under_5_": 832,
          "deaths_whooping_cough_under_5_": 511,
          "entity": "Rwanda",
          "year": 2000
         },
         {
          "deaths_congenital_birth_defects_under_5_": 1875,
          "deaths_diarrheal_diseases_under_5_": 9931,
          "deaths_drowning_under_5_": 164,
          "deaths_hivaids_under_5_": 1963,
          "deaths_lower_respiratory_infections_under_5_": 6694,
          "deaths_malaria_under_5_": 7154,
          "deaths_measles_under_5_": 2087,
          "deaths_meningitis_under_5_": 1283,
          "deaths_neonatal_encephalopathy_due_to_birth_asphyxia_and_trauma_under_5_": 2706,
          "deaths_neonatal_preterm_birth_under_5_": 2109,
          "deaths_neonatal_sepsis_and_other_neonatal_infections_under_5_": 1200,
          "deaths_neoplasms_under_5_": 255,
          "deaths_nutritional_deficiencies_under_5_": 2351,
          "deaths_other_neonatal_disorders_under_5_": 1227,
          "deaths_syphilis_under_5_": 349,
          "deaths_tuberculosis_under_5_": 790,
          "deaths_whooping_cough_under_5_": 514,
          "entity": "Rwanda",
          "year": 2001
         },
         {
          "deaths_congenital_birth_defects_under_5_": 1950,
          "deaths_diarrheal_diseases_under_5_": 8925,
          "deaths_drowning_under_5_": 163,
          "deaths_hivaids_under_5_": 1911,
          "deaths_lower_respiratory_infections_under_5_": 6524,
          "deaths_malaria_under_5_": 5964,
          "deaths_measles_under_5_": 2185,
          "deaths_meningitis_under_5_": 1279,
          "deaths_neonatal_encephalopathy_due_to_birth_asphyxia_and_trauma_under_5_": 2772,
          "deaths_neonatal_preterm_birth_under_5_": 2127,
          "deaths_neonatal_sepsis_and_other_neonatal_infections_under_5_": 1237,
          "deaths_neoplasms_under_5_": 266,
          "deaths_nutritional_deficiencies_under_5_": 2287,
          "deaths_other_neonatal_disorders_under_5_": 1248,
          "deaths_syphilis_under_5_": 344,
          "deaths_tuberculosis_under_5_": 753,
          "deaths_whooping_cough_under_5_": 547,
          "entity": "Rwanda",
          "year": 2002
         },
         {
          "deaths_congenital_birth_defects_under_5_": 2038,
          "deaths_diarrheal_diseases_under_5_": 8027,
          "deaths_drowning_under_5_": 168,
          "deaths_hivaids_under_5_": 1507,
          "deaths_lower_respiratory_infections_under_5_": 6385,
          "deaths_malaria_under_5_": 4725,
          "deaths_measles_under_5_": 2328,
          "deaths_meningitis_under_5_": 1251,
          "deaths_neonatal_encephalopathy_due_to_birth_asphyxia_and_trauma_under_5_": 2819,
          "deaths_neonatal_preterm_birth_under_5_": 2138,
          "deaths_neonatal_sepsis_and_other_neonatal_infections_under_5_": 1270,
          "deaths_neoplasms_under_5_": 280,
          "deaths_nutritional_deficiencies_under_5_": 2214,
          "deaths_other_neonatal_disorders_under_5_": 1275,
          "deaths_syphilis_under_5_": 335,
          "deaths_tuberculosis_under_5_": 712,
          "deaths_whooping_cough_under_5_": 525,
          "entity": "Rwanda",
          "year": 2003
         },
         {
          "deaths_congenital_birth_defects_under_5_": 2222,
          "deaths_diarrheal_diseases_under_5_": 7677,
          "deaths_drowning_under_5_": 178,
          "deaths_hivaids_under_5_": 1102,
          "deaths_lower_respiratory_infections_under_5_": 6656,
          "deaths_malaria_under_5_": 3437,
          "deaths_measles_under_5_": 633,
          "deaths_meningitis_under_5_": 1375,
          "deaths_neonatal_encephalopathy_due_to_birth_asphyxia_and_trauma_under_5_": 2841,
          "deaths_neonatal_preterm_birth_under_5_": 2138,
          "deaths_neonatal_sepsis_and_other_neonatal_infections_under_5_": 1299,
          "deaths_neoplasms_under_5_": 323,
          "deaths_nutritional_deficiencies_under_5_": 2314,
          "deaths_other_neonatal_disorders_under_5_": 1300,
          "deaths_syphilis_under_5_": 332,
          "deaths_tuberculosis_under_5_": 730,
          "deaths_whooping_cough_under_5_": 617,
          "entity": "Rwanda",
          "year": 2004
         },
         {
          "deaths_congenital_birth_defects_under_5_": 2266,
          "deaths_diarrheal_diseases_under_5_": 6759,
          "deaths_drowning_under_5_": 183,
          "deaths_hivaids_under_5_": 995,
          "deaths_lower_respiratory_infections_under_5_": 6433,
          "deaths_malaria_under_5_": 2255,
          "deaths_measles_under_5_": 501,
          "deaths_meningitis_under_5_": 1379,
          "deaths_neonatal_encephalopathy_due_to_birth_asphyxia_and_trauma_under_5_": 2823,
          "deaths_neonatal_preterm_birth_under_5_": 2105,
          "deaths_neonatal_sepsis_and_other_neonatal_infections_under_5_": 1304,
          "deaths_neoplasms_under_5_": 337,
          "deaths_nutritional_deficiencies_under_5_": 2190,
          "deaths_other_neonatal_disorders_under_5_": 1293,
          "deaths_syphilis_under_5_": 329,
          "deaths_tuberculosis_under_5_": 688,
          "deaths_whooping_cough_under_5_": 600,
          "entity": "Rwanda",
          "year": 2005
         },
         {
          "deaths_congenital_birth_defects_under_5_": 2212,
          "deaths_diarrheal_diseases_under_5_": 5744,
          "deaths_drowning_under_5_": 180,
          "deaths_hivaids_under_5_": 845,
          "deaths_lower_respiratory_infections_under_5_": 5942,
          "deaths_malaria_under_5_": 1718,
          "deaths_measles_under_5_": 585,
          "deaths_meningitis_under_5_": 1318,
          "deaths_neonatal_encephalopathy_due_to_birth_asphyxia_and_trauma_under_5_": 2749,
          "deaths_neonatal_preterm_birth_under_5_": 2025,
          "deaths_neonatal_sepsis_and_other_neonatal_infections_under_5_": 1282,
          "deaths_neoplasms_under_5_": 333,
          "deaths_nutritional_deficiencies_under_5_": 1956,
          "deaths_other_neonatal_disorders_under_5_": 1241,
          "deaths_syphilis_under_5_": 328,
          "deaths_tuberculosis_under_5_": 622,
          "deaths_whooping_cough_under_5_": 556,
          "entity": "Rwanda",
          "year": 2006
         },
         {
          "deaths_congenital_birth_defects_under_5_": 2187,
          "deaths_diarrheal_diseases_under_5_": 4896,
          "deaths_drowning_under_5_": 178,
          "deaths_hivaids_under_5_": 670,
          "deaths_lower_respiratory_infections_under_5_": 5574,
          "deaths_malaria_under_5_": 1756,
          "deaths_measles_under_5_": 404,
          "deaths_meningitis_under_5_": 1268,
          "deaths_neonatal_encephalopathy_due_to_birth_asphyxia_and_trauma_under_5_": 2698,
          "deaths_neonatal_preterm_birth_under_5_": 1971,
          "deaths_neonatal_sepsis_and_other_neonatal_infections_under_5_": 1252,
          "deaths_neoplasms_under_5_": 335,
          "deaths_nutritional_deficiencies_under_5_": 1786,
          "deaths_other_neonatal_disorders_under_5_": 1209,
          "deaths_syphilis_under_5_": 326,
          "deaths_tuberculosis_under_5_": 570,
          "deaths_whooping_cough_under_5_": 483,
          "entity": "Rwanda",
          "year": 2007
         },
         {
          "deaths_congenital_birth_defects_under_5_": 2138,
          "deaths_diarrheal_diseases_under_5_": 4038,
          "deaths_drowning_under_5_": 161,
          "deaths_hivaids_under_5_": 514,
          "deaths_lower_respiratory_infections_under_5_": 5114,
          "deaths_malaria_under_5_": 2290,
          "deaths_measles_under_5_": 538,
          "deaths_meningitis_under_5_": 1187,
          "deaths_neonatal_encephalopathy_due_to_birth_asphyxia_and_trauma_under_5_": 2710,
          "deaths_neonatal_preterm_birth_under_5_": 1972,
          "deaths_neonatal_sepsis_and_other_neonatal_infections_under_5_": 1225,
          "deaths_neoplasms_under_5_": 326,
          "deaths_nutritional_deficiencies_under_5_": 1583,
          "deaths_other_neonatal_disorders_under_5_": 1210,
          "deaths_syphilis_under_5_": 323,
          "deaths_tuberculosis_under_5_": 506,
          "deaths_whooping_cough_under_5_": 414,
          "entity": "Rwanda",
          "year": 2008
         },
         {
          "deaths_congenital_birth_defects_under_5_": 1955,
          "deaths_diarrheal_diseases_under_5_": 3283,
          "deaths_drowning_under_5_": 139,
          "deaths_hivaids_under_5_": 431,
          "deaths_lower_respiratory_infections_under_5_": 4188,
          "deaths_malaria_under_5_": 2727,
          "deaths_measles_under_5_": 1220,
          "deaths_meningitis_under_5_": 664,
          "deaths_neonatal_encephalopathy_due_to_birth_asphyxia_and_trauma_under_5_": 2596,
          "deaths_neonatal_preterm_birth_under_5_": 1863,
          "deaths_neonatal_sepsis_and_other_neonatal_infections_under_5_": 1190,
          "deaths_neoplasms_under_5_": 292,
          "deaths_nutritional_deficiencies_under_5_": 1270,
          "deaths_other_neonatal_disorders_under_5_": 1151,
          "deaths_syphilis_under_5_": 320,
          "deaths_tuberculosis_under_5_": 407,
          "deaths_whooping_cough_under_5_": 341,
          "entity": "Rwanda",
          "year": 2009
         },
         {
          "deaths_congenital_birth_defects_under_5_": 1952,
          "deaths_diarrheal_diseases_under_5_": 2851,
          "deaths_drowning_under_5_": 138,
          "deaths_hivaids_under_5_": 330,
          "deaths_lower_respiratory_infections_under_5_": 3970,
          "deaths_malaria_under_5_": 3034,
          "deaths_measles_under_5_": 720,
          "deaths_meningitis_under_5_": 620,
          "deaths_neonatal_encephalopathy_due_to_birth_asphyxia_and_trauma_under_5_": 2588,
          "deaths_neonatal_preterm_birth_under_5_": 1849,
          "deaths_neonatal_sepsis_and_other_neonatal_infections_under_5_": 1181,
          "deaths_neoplasms_under_5_": 295,
          "deaths_nutritional_deficiencies_under_5_": 1193,
          "deaths_other_neonatal_disorders_under_5_": 1156,
          "deaths_syphilis_under_5_": 327,
          "deaths_tuberculosis_under_5_": 379,
          "deaths_whooping_cough_under_5_": 300,
          "entity": "Rwanda",
          "year": 2010
         },
         {
          "deaths_congenital_birth_defects_under_5_": 1901,
          "deaths_diarrheal_diseases_under_5_": 2576,
          "deaths_drowning_under_5_": 129,
          "deaths_hivaids_under_5_": 203,
          "deaths_lower_respiratory_infections_under_5_": 3673,
          "deaths_malaria_under_5_": 2820,
          "deaths_measles_under_5_": 735,
          "deaths_meningitis_under_5_": 578,
          "deaths_neonatal_encephalopathy_due_to_birth_asphyxia_and_trauma_under_5_": 2529,
          "deaths_neonatal_preterm_birth_under_5_": 1797,
          "deaths_neonatal_sepsis_and_other_neonatal_infections_under_5_": 1166,
          "deaths_neoplasms_under_5_": 288,
          "deaths_nutritional_deficiencies_under_5_": 1087,
          "deaths_other_neonatal_disorders_under_5_": 1137,
          "deaths_syphilis_under_5_": 332,
          "deaths_tuberculosis_under_5_": 344,
          "deaths_whooping_cough_under_5_": 258,
          "entity": "Rwanda",
          "year": 2011
         },
         {
          "deaths_congenital_birth_defects_under_5_": 1897,
          "deaths_diarrheal_diseases_under_5_": 2259,
          "deaths_drowning_under_5_": 119,
          "deaths_hivaids_under_5_": 143,
          "deaths_lower_respiratory_infections_under_5_": 3473,
          "deaths_malaria_under_5_": 2330,
          "deaths_measles_under_5_": 1097,
          "deaths_meningitis_under_5_": 552,
          "deaths_neonatal_encephalopathy_due_to_birth_asphyxia_and_trauma_under_5_": 2585,
          "deaths_neonatal_preterm_birth_under_5_": 1842,
          "deaths_neonatal_sepsis_and_other_neonatal_infections_under_5_": 1170,
          "deaths_neoplasms_under_5_": 284,
          "deaths_nutritional_deficiencies_under_5_": 1011,
          "deaths_other_neonatal_disorders_under_5_": 1173,
          "deaths_syphilis_under_5_": 342,
          "deaths_tuberculosis_under_5_": 316,
          "deaths_whooping_cough_under_5_": 223,
          "entity": "Rwanda",
          "year": 2012
         },
         {
          "deaths_congenital_birth_defects_under_5_": 1698,
          "deaths_diarrheal_diseases_under_5_": 1980,
          "deaths_drowning_under_5_": 101,
          "deaths_hivaids_under_5_": 90,
          "deaths_lower_respiratory_infections_under_5_": 2860,
          "deaths_malaria_under_5_": 1765,
          "deaths_measles_under_5_": 1150,
          "deaths_meningitis_under_5_": 462,
          "deaths_neonatal_encephalopathy_due_to_birth_asphyxia_and_trauma_under_5_": 2339,
          "deaths_neonatal_preterm_birth_under_5_": 1634,
          "deaths_neonatal_sepsis_and_other_neonatal_infections_under_5_": 1110,
          "deaths_neoplasms_under_5_": 255,
          "deaths_nutritional_deficiencies_under_5_": 821,
          "deaths_other_neonatal_disorders_under_5_": 1058,
          "deaths_syphilis_under_5_": 341,
          "deaths_tuberculosis_under_5_": 253,
          "deaths_whooping_cough_under_5_": 209,
          "entity": "Rwanda",
          "year": 2013
         },
         {
          "deaths_congenital_birth_defects_under_5_": 1744,
          "deaths_diarrheal_diseases_under_5_": 2019,
          "deaths_drowning_under_5_": 109,
          "deaths_hivaids_under_5_": 86,
          "deaths_lower_respiratory_infections_under_5_": 2879,
          "deaths_malaria_under_5_": 1814,
          "deaths_measles_under_5_": 227,
          "deaths_meningitis_under_5_": 479,
          "deaths_neonatal_encephalopathy_due_to_birth_asphyxia_and_trauma_under_5_": 2253,
          "deaths_neonatal_preterm_birth_under_5_": 1565,
          "deaths_neonatal_sepsis_and_other_neonatal_infections_under_5_": 1085,
          "deaths_neoplasms_under_5_": 276,
          "deaths_nutritional_deficiencies_under_5_": 853,
          "deaths_other_neonatal_disorders_under_5_": 1038,
          "deaths_syphilis_under_5_": 351,
          "deaths_tuberculosis_under_5_": 259,
          "deaths_whooping_cough_under_5_": 220,
          "entity": "Rwanda",
          "year": 2014
         },
         {
          "deaths_congenital_birth_defects_under_5_": 1734,
          "deaths_diarrheal_diseases_under_5_": 1952,
          "deaths_drowning_under_5_": 107,
          "deaths_hivaids_under_5_": 100,
          "deaths_lower_respiratory_infections_under_5_": 2775,
          "deaths_malaria_under_5_": 2029,
          "deaths_measles_under_5_": 183,
          "deaths_meningitis_under_5_": 468,
          "deaths_neonatal_encephalopathy_due_to_birth_asphyxia_and_trauma_under_5_": 2233,
          "deaths_neonatal_preterm_birth_under_5_": 1552,
          "deaths_neonatal_sepsis_and_other_neonatal_infections_under_5_": 1069,
          "deaths_neoplasms_under_5_": 273,
          "deaths_nutritional_deficiencies_under_5_": 824,
          "deaths_other_neonatal_disorders_under_5_": 1048,
          "deaths_syphilis_under_5_": 355,
          "deaths_tuberculosis_under_5_": 244,
          "deaths_whooping_cough_under_5_": 206,
          "entity": "Rwanda",
          "year": 2015
         },
         {
          "deaths_congenital_birth_defects_under_5_": 1680,
          "deaths_diarrheal_diseases_under_5_": 1811,
          "deaths_drowning_under_5_": 98,
          "deaths_hivaids_under_5_": 107,
          "deaths_lower_respiratory_infections_under_5_": 2571,
          "deaths_malaria_under_5_": 2540,
          "deaths_measles_under_5_": 163,
          "deaths_meningitis_under_5_": 436,
          "deaths_neonatal_encephalopathy_due_to_birth_asphyxia_and_trauma_under_5_": 2233,
          "deaths_neonatal_preterm_birth_under_5_": 1555,
          "deaths_neonatal_sepsis_and_other_neonatal_infections_under_5_": 1050,
          "deaths_neoplasms_under_5_": 257,
          "deaths_nutritional_deficiencies_under_5_": 757,
          "deaths_other_neonatal_disorders_under_5_": 1064,
          "deaths_syphilis_under_5_": 314,
          "deaths_tuberculosis_under_5_": 218,
          "deaths_whooping_cough_under_5_": 182,
          "entity": "Rwanda",
          "year": 2016
         },
         {
          "deaths_congenital_birth_defects_under_5_": 1607,
          "deaths_diarrheal_diseases_under_5_": 1693,
          "deaths_drowning_under_5_": 86,
          "deaths_hivaids_under_5_": 109,
          "deaths_lower_respiratory_infections_under_5_": 2329,
          "deaths_malaria_under_5_": 2676,
          "deaths_measles_under_5_": 156,
          "deaths_meningitis_under_5_": 398,
          "deaths_neonatal_encephalopathy_due_to_birth_asphyxia_and_trauma_under_5_": 2196,
          "deaths_neonatal_preterm_birth_under_5_": 1530,
          "deaths_neonatal_sepsis_and_other_neonatal_infections_under_5_": 1028,
          "deaths_neoplasms_under_5_": 240,
          "deaths_nutritional_deficiencies_under_5_": 683,
          "deaths_other_neonatal_disorders_under_5_": 1059,
          "deaths_syphilis_under_5_": 270,
          "deaths_tuberculosis_under_5_": 190,
          "deaths_whooping_cough_under_5_": 169,
          "entity": "Rwanda",
          "year": 2017
         },
         {
          "deaths_congenital_birth_defects_under_5_": 1605,
          "deaths_diarrheal_diseases_under_5_": 1598,
          "deaths_drowning_under_5_": 84,
          "deaths_hivaids_under_5_": 109,
          "deaths_lower_respiratory_infections_under_5_": 2231,
          "deaths_malaria_under_5_": 2148,
          "deaths_measles_under_5_": 84,
          "deaths_meningitis_under_5_": 386,
          "deaths_neonatal_encephalopathy_due_to_birth_asphyxia_and_trauma_under_5_": 2137,
          "deaths_neonatal_preterm_birth_under_5_": 1484,
          "deaths_neonatal_sepsis_and_other_neonatal_infections_under_5_": 1022,
          "deaths_neoplasms_under_5_": 245,
          "deaths_nutritional_deficiencies_under_5_": 654,
          "deaths_other_neonatal_disorders_under_5_": 1041,
          "deaths_syphilis_under_5_": 269,
          "deaths_tuberculosis_under_5_": 177,
          "deaths_whooping_cough_under_5_": 177,
          "entity": "Rwanda",
          "year": 2018
         },
         {
          "deaths_congenital_birth_defects_under_5_": 1565,
          "deaths_diarrheal_diseases_under_5_": 1442,
          "deaths_drowning_under_5_": 78,
          "deaths_hivaids_under_5_": 108,
          "deaths_lower_respiratory_infections_under_5_": 2076,
          "deaths_malaria_under_5_": 2097,
          "deaths_measles_under_5_": 183,
          "deaths_meningitis_under_5_": 361,
          "deaths_neonatal_encephalopathy_due_to_birth_asphyxia_and_trauma_under_5_": 2092,
          "deaths_neonatal_preterm_birth_under_5_": 1445,
          "deaths_neonatal_sepsis_and_other_neonatal_infections_under_5_": 1016,
          "deaths_neoplasms_under_5_": 236,
          "deaths_nutritional_deficiencies_under_5_": 600,
          "deaths_other_neonatal_disorders_under_5_": 1023,
          "deaths_syphilis_under_5_": 270,
          "deaths_tuberculosis_under_5_": 159,
          "deaths_whooping_cough_under_5_": 175,
          "entity": "Rwanda",
          "year": 2019
         },
         {
          "deaths_congenital_birth_defects_under_5_": 2185,
          "deaths_diarrheal_diseases_under_5_": 3858,
          "deaths_drowning_under_5_": 233,
          "deaths_hivaids_under_5_": 69,
          "deaths_lower_respiratory_infections_under_5_": 8910,
          "deaths_malaria_under_5_": 3928,
          "deaths_measles_under_5_": 3070,
          "deaths_meningitis_under_5_": 1875,
          "deaths_neonatal_encephalopathy_due_to_birth_asphyxia_and_trauma_under_5_": 2502,
          "deaths_neonatal_preterm_birth_under_5_": 2737,
          "deaths_neonatal_sepsis_and_other_neonatal_infections_under_5_": 1034,
          "deaths_neoplasms_under_5_": 355,
          "deaths_nutritional_deficiencies_under_5_": 6812,
          "deaths_other_neonatal_disorders_under_5_": 1537,
          "deaths_syphilis_under_5_": 837,
          "deaths_tuberculosis_under_5_": 1042,
          "deaths_whooping_cough_under_5_": 1157,
          "entity": "South Sudan",
          "year": 1990
         },
         {
          "deaths_congenital_birth_defects_under_5_": 2162,
          "deaths_diarrheal_diseases_under_5_": 3828,
          "deaths_drowning_under_5_": 232,
          "deaths_hivaids_under_5_": 100,
          "deaths_lower_respiratory_infections_under_5_": 8900,
          "deaths_malaria_under_5_": 3993,
          "deaths_measles_under_5_": 3055,
          "deaths_meningitis_under_5_": 1864,
          "deaths_neonatal_encephalopathy_due_to_birth_asphyxia_and_trauma_under_5_": 2552,
          "deaths_neonatal_preterm_birth_under_5_": 2749,
          "deaths_neonatal_sepsis_and_other_neonatal_infections_under_5_": 1058,
          "deaths_neoplasms_under_5_": 349,
          "deaths_nutritional_deficiencies_under_5_": 6739,
          "deaths_other_neonatal_disorders_under_5_": 1527,
          "deaths_syphilis_under_5_": 852,
          "deaths_tuberculosis_under_5_": 1044,
          "deaths_whooping_cough_under_5_": 1175,
          "entity": "South Sudan",
          "year": 1991
         },
         {
          "deaths_congenital_birth_defects_under_5_": 2160,
          "deaths_diarrheal_diseases_under_5_": 3831,
          "deaths_drowning_under_5_": 229,
          "deaths_hivaids_under_5_": 141,
          "deaths_lower_respiratory_infections_under_5_": 9010,
          "deaths_malaria_under_5_": 4065,
          "deaths_measles_under_5_": 3094,
          "deaths_meningitis_under_5_": 1870,
          "deaths_neonatal_encephalopathy_due_to_birth_asphyxia_and_trauma_under_5_": 2609,
          "deaths_neonatal_preterm_birth_under_5_": 2761,
          "deaths_neonatal_sepsis_and_other_neonatal_infections_under_5_": 1084,
          "deaths_neoplasms_under_5_": 348,
          "deaths_nutritional_deficiencies_under_5_": 6730,
          "deaths_other_neonatal_disorders_under_5_": 1525,
          "deaths_syphilis_under_5_": 867,
          "deaths_tuberculosis_under_5_": 1067,
          "deaths_whooping_cough_under_5_": 1233,
          "entity": "South Sudan",
          "year": 1992
         },
         {
          "deaths_congenital_birth_defects_under_5_": 2148,
          "deaths_diarrheal_diseases_under_5_": 3809,
          "deaths_drowning_under_5_": 229,
          "deaths_hivaids_under_5_": 191,
          "deaths_lower_respiratory_infections_under_5_": 9100,
          "deaths_malaria_under_5_": 4158,
          "deaths_measles_under_5_": 3126,
          "deaths_meningitis_under_5_": 1866,
          "deaths_neonatal_encephalopathy_due_to_birth_asphyxia_and_trauma_under_5_": 2672,
          "deaths_neonatal_preterm_birth_under_5_": 2776,
          "deaths_neonatal_sepsis_and_other_neonatal_infections_under_5_": 1106,
          "deaths_neoplasms_under_5_": 345,
          "deaths_nutritional_deficiencies_under_5_": 6672,
          "deaths_other_neonatal_disorders_under_5_": 1532,
          "deaths_syphilis_under_5_": 884,
          "deaths_tuberculosis_under_5_": 1089,
          "deaths_whooping_cough_under_5_": 1301,
          "entity": "South Sudan",
          "year": 1993
         },
         {
          "deaths_congenital_birth_defects_under_5_": 2134,
          "deaths_diarrheal_diseases_under_5_": 3806,
          "deaths_drowning_under_5_": 222,
          "deaths_hivaids_under_5_": 251,
          "deaths_lower_respiratory_infections_under_5_": 9103,
          "deaths_malaria_under_5_": 4267,
          "deaths_measles_under_5_": 3134,
          "deaths_meningitis_under_5_": 1851,
          "deaths_neonatal_encephalopathy_due_to_birth_asphyxia_and_trauma_under_5_": 2734,
          "deaths_neonatal_preterm_birth_under_5_": 2783,
          "deaths_neonatal_sepsis_and_other_neonatal_infections_under_5_": 1128,
          "deaths_neoplasms_under_5_": 340,
          "deaths_nutritional_deficiencies_under_5_": 6571,
          "deaths_other_neonatal_disorders_under_5_": 1542,
          "deaths_syphilis_under_5_": 900,
          "deaths_tuberculosis_under_5_": 1101,
          "deaths_whooping_cough_under_5_": 1333,
          "entity": "South Sudan",
          "year": 1994
         },
         {
          "deaths_congenital_birth_defects_under_5_": 2141,
          "deaths_diarrheal_diseases_under_5_": 3835,
          "deaths_drowning_under_5_": 229,
          "deaths_hivaids_under_5_": 319,
          "deaths_lower_respiratory_infections_under_5_": 9203,
          "deaths_malaria_under_5_": 4493,
          "deaths_measles_under_5_": 3230,
          "deaths_meningitis_under_5_": 1868,
          "deaths_neonatal_encephalopathy_due_to_birth_asphyxia_and_trauma_under_5_": 2806,
          "deaths_neonatal_preterm_birth_under_5_": 2791,
          "deaths_neonatal_sepsis_and_other_neonatal_infections_under_5_": 1152,
          "deaths_neoplasms_under_5_": 345,
          "deaths_nutritional_deficiencies_under_5_": 6604,
          "deaths_other_neonatal_disorders_under_5_": 1560,
          "deaths_syphilis_under_5_": 918,
          "deaths_tuberculosis_under_5_": 1127,
          "deaths_whooping_cough_under_5_": 1374,
          "entity": "South Sudan",
          "year": 1995
         },
         {
          "deaths_congenital_birth_defects_under_5_": 2125,
          "deaths_diarrheal_diseases_under_5_": 3800,
          "deaths_drowning_under_5_": 219,
          "deaths_hivaids_under_5_": 393,
          "deaths_lower_respiratory_infections_under_5_": 9033,
          "deaths_malaria_under_5_": 4645,
          "deaths_measles_under_5_": 3217,
          "deaths_meningitis_under_5_": 1841,
          "deaths_neonatal_encephalopathy_due_to_birth_asphyxia_and_trauma_under_5_": 2887,
          "deaths_neonatal_preterm_birth_under_5_": 2802,
          "deaths_neonatal_sepsis_and_other_neonatal_infections_under_5_": 1178,
          "deaths_neoplasms_under_5_": 338,
          "deaths_nutritional_deficiencies_under_5_": 6448,
          "deaths_other_neonatal_disorders_under_5_": 1565,
          "deaths_syphilis_under_5_": 938,
          "deaths_tuberculosis_under_5_": 1105,
          "deaths_whooping_cough_under_5_": 1404,
          "entity": "South Sudan",
          "year": 1996
         },
         {
          "deaths_congenital_birth_defects_under_5_": 2097,
          "deaths_diarrheal_diseases_under_5_": 3768,
          "deaths_drowning_under_5_": 211,
          "deaths_hivaids_under_5_": 469,
          "deaths_lower_respiratory_infections_under_5_": 8821,
          "deaths_malaria_under_5_": 4775,
          "deaths_measles_under_5_": 3214,
          "deaths_meningitis_under_5_": 1795,
          "deaths_neonatal_encephalopathy_due_to_birth_asphyxia_and_trauma_under_5_": 2971,
          "deaths_neonatal_preterm_birth_under_5_": 2807,
          "deaths_neonatal_sepsis_and_other_neonatal_infections_under_5_": 1198,
          "deaths_neoplasms_under_5_": 328,
          "deaths_nutritional_deficiencies_under_5_": 6249,
          "deaths_other_neonatal_disorders_under_5_": 1572,
          "deaths_syphilis_under_5_": 956,
          "deaths_tuberculosis_under_5_": 1070,
          "deaths_whooping_cough_under_5_": 1416,
          "entity": "South Sudan",
          "year": 1997
         },
         {
          "deaths_congenital_birth_defects_under_5_": 2078,
          "deaths_diarrheal_diseases_under_5_": 3736,
          "deaths_drowning_under_5_": 203,
          "deaths_hivaids_under_5_": 545,
          "deaths_lower_respiratory_infections_under_5_": 8594,
          "deaths_malaria_under_5_": 4908,
          "deaths_measles_under_5_": 3226,
          "deaths_meningitis_under_5_": 1763,
          "deaths_neonatal_encephalopathy_due_to_birth_asphyxia_and_trauma_under_5_": 3075,
          "deaths_neonatal_preterm_birth_under_5_": 2828,
          "deaths_neonatal_sepsis_and_other_neonatal_infections_under_5_": 1226,
          "deaths_neoplasms_under_5_": 320,
          "deaths_nutritional_deficiencies_under_5_": 6063,
          "deaths_other_neonatal_disorders_under_5_": 1592,
          "deaths_syphilis_under_5_": 978,
          "deaths_tuberculosis_under_5_": 1038,
          "deaths_whooping_cough_under_5_": 1418,
          "entity": "South Sudan",
          "year": 1998
         },
         {
          "deaths_congenital_birth_defects_under_5_": 2055,
          "deaths_diarrheal_diseases_under_5_": 3786,
          "deaths_drowning_under_5_": 195,
          "deaths_hivaids_under_5_": 617,
          "deaths_lower_respiratory_infections_under_5_": 8332,
          "deaths_malaria_under_5_": 5006,
          "deaths_measles_under_5_": 3159,
          "deaths_meningitis_under_5_": 1727,
          "deaths_neonatal_encephalopathy_due_to_birth_asphyxia_and_trauma_under_5_": 3184,
          "deaths_neonatal_preterm_birth_under_5_": 2845,
          "deaths_neonatal_sepsis_and_other_neonatal_infections_under_5_": 1251,
          "deaths_neoplasms_under_5_": 312,
          "deaths_nutritional_deficiencies_under_5_": 5824,
          "deaths_other_neonatal_disorders_under_5_": 1616,
          "deaths_syphilis_under_5_": 1000,
          "deaths_tuberculosis_under_5_": 1000,
          "deaths_whooping_cough_under_5_": 1493,
          "entity": "South Sudan",
          "year": 1999
         },
         {
          "deaths_congenital_birth_defects_under_5_": 2054,
          "deaths_diarrheal_diseases_under_5_": 3874,
          "deaths_drowning_under_5_": 190,
          "deaths_hivaids_under_5_": 683,
          "deaths_lower_respiratory_infections_under_5_": 8132,
          "deaths_malaria_under_5_": 5120,
          "deaths_measles_under_5_": 2851,
          "deaths_meningitis_under_5_": 1714,
          "deaths_neonatal_encephalopathy_due_to_birth_asphyxia_and_trauma_under_5_": 3290,
          "deaths_neonatal_preterm_birth_under_5_": 2859,
          "deaths_neonatal_sepsis_and_other_neonatal_infections_under_5_": 1275,
          "deaths_neoplasms_under_5_": 306,
          "deaths_nutritional_deficiencies_under_5_": 5602,
          "deaths_other_neonatal_disorders_under_5_": 1636,
          "deaths_syphilis_under_5_": 1020,
          "deaths_tuberculosis_under_5_": 972,
          "deaths_whooping_cough_under_5_": 1546,
          "entity": "South Sudan",
          "year": 2000
         },
         {
          "deaths_congenital_birth_defects_under_5_": 2063,
          "deaths_diarrheal_diseases_under_5_": 3945,
          "deaths_drowning_under_5_": 183,
          "deaths_hivaids_under_5_": 743,
          "deaths_lower_respiratory_infections_under_5_": 7896,
          "deaths_malaria_under_5_": 5276,
          "deaths_measles_under_5_": 2758,
          "deaths_meningitis_under_5_": 1698,
          "deaths_neonatal_encephalopathy_due_to_birth_asphyxia_and_trauma_under_5_": 3392,
          "deaths_neonatal_preterm_birth_under_5_": 2883,
          "deaths_neonatal_sepsis_and_other_neonatal_infections_under_5_": 1296,
          "deaths_neoplasms_under_5_": 299,
          "deaths_nutritional_deficiencies_under_5_": 5304,
          "deaths_other_neonatal_disorders_under_5_": 1646,
          "deaths_syphilis_under_5_": 1054,
          "deaths_tuberculosis_under_5_": 937,
          "deaths_whooping_cough_under_5_": 1492,
          "entity": "South Sudan",
          "year": 2001
         },
         {
          "deaths_congenital_birth_defects_under_5_": 2096,
          "deaths_diarrheal_diseases_under_5_": 4056,
          "deaths_drowning_under_5_": 180,
          "deaths_hivaids_under_5_": 795,
          "deaths_lower_respiratory_infections_under_5_": 7740,
          "deaths_malaria_under_5_": 5077,
          "deaths_measles_under_5_": 2786,
          "deaths_meningitis_under_5_": 1699,
          "deaths_neonatal_encephalopathy_due_to_birth_asphyxia_and_trauma_under_5_": 3486,
          "deaths_neonatal_preterm_birth_under_5_": 2914,
          "deaths_neonatal_sepsis_and_other_neonatal_infections_under_5_": 1318,
          "deaths_neoplasms_under_5_": 296,
          "deaths_nutritional_deficiencies_under_5_": 5033,
          "deaths_other_neonatal_disorders_under_5_": 1673,
          "deaths_syphilis_under_5_": 1110,
          "deaths_tuberculosis_under_5_": 911,
          "deaths_whooping_cough_under_5_": 1503,
          "entity": "South Sudan",
          "year": 2002
         },
         {
          "deaths_congenital_birth_defects_under_5_": 2133,
          "deaths_diarrheal_diseases_under_5_": 4163,
          "deaths_drowning_under_5_": 177,
          "deaths_hivaids_under_5_": 839,
          "deaths_lower_respiratory_infections_under_5_": 7591,
          "deaths_malaria_under_5_": 4983,
          "deaths_measles_under_5_": 2843,
          "deaths_meningitis_under_5_": 1702,
          "deaths_neonatal_encephalopathy_due_to_birth_asphyxia_and_trauma_under_5_": 3575,
          "deaths_neonatal_preterm_birth_under_5_": 2950,
          "deaths_neonatal_sepsis_and_other_neonatal_infections_under_5_": 1339,
          "deaths_neoplasms_under_5_": 295,
          "deaths_nutritional_deficiencies_under_5_": 4762,
          "deaths_other_neonatal_disorders_under_5_": 1710,
          "deaths_syphilis_under_5_": 1175,
          "deaths_tuberculosis_under_5_": 883,
          "deaths_whooping_cough_under_5_": 1556,
          "entity": "South Sudan",
          "year": 2003
         },
         {
          "deaths_congenital_birth_defects_under_5_": 2198,
          "deaths_diarrheal_diseases_under_5_": 4334,
          "deaths_drowning_under_5_": 178,
          "deaths_hivaids_under_5_": 877,
          "deaths_lower_respiratory_infections_under_5_": 7575,
          "deaths_malaria_under_5_": 4913,
          "deaths_measles_under_5_": 2617,
          "deaths_meningitis_under_5_": 1739,
          "deaths_neonatal_encephalopathy_due_to_birth_asphyxia_and_trauma_under_5_": 3665,
          "deaths_neonatal_preterm_birth_under_5_": 2991,
          "deaths_neonatal_sepsis_and_other_neonatal_infections_under_5_": 1364,
          "deaths_neoplasms_under_5_": 302,
          "deaths_nutritional_deficiencies_under_5_": 4571,
          "deaths_other_neonatal_disorders_under_5_": 1758,
          "deaths_syphilis_under_5_": 1243,
          "deaths_tuberculosis_under_5_": 876,
          "deaths_whooping_cough_under_5_": 1537,
          "entity": "South Sudan",
          "year": 2004
         },
         {
          "deaths_congenital_birth_defects_under_5_": 2311,
          "deaths_diarrheal_diseases_under_5_": 4610,
          "deaths_drowning_under_5_": 187,
          "deaths_hivaids_under_5_": 908,
          "deaths_lower_respiratory_infections_under_5_": 7805,
          "deaths_malaria_under_5_": 5012,
          "deaths_measles_under_5_": 1274,
          "deaths_meningitis_under_5_": 1837,
          "deaths_neonatal_encephalopathy_due_to_birth_asphyxia_and_trauma_under_5_": 3758,
          "deaths_neonatal_preterm_birth_under_5_": 3041,
          "deaths_neonatal_sepsis_and_other_neonatal_infections_under_5_": 1392,
          "deaths_neoplasms_under_5_": 322,
          "deaths_nutritional_deficiencies_under_5_": 4577,
          "deaths_other_neonatal_disorders_under_5_": 1817,
          "deaths_syphilis_under_5_": 1307,
          "deaths_tuberculosis_under_5_": 906,
          "deaths_whooping_cough_under_5_": 1636,
          "entity": "South Sudan",
          "year": 2005
         },
         {
          "deaths_congenital_birth_defects_under_5_": 2401,
          "deaths_diarrheal_diseases_under_5_": 5757,
          "deaths_drowning_under_5_": 197,
          "deaths_hivaids_under_5_": 933,
          "deaths_lower_respiratory_infections_under_5_": 7974,
          "deaths_malaria_under_5_": 4940,
          "deaths_measles_under_5_": 735,
          "deaths_meningitis_under_5_": 1903,
          "deaths_neonatal_encephalopathy_due_to_birth_asphyxia_and_trauma_under_5_": 3848,
          "deaths_neonatal_preterm_birth_under_5_": 3086,
          "deaths_neonatal_sepsis_and_other_neonatal_infections_under_5_": 1418,
          "deaths_neoplasms_under_5_": 335,
          "deaths_nutritional_deficiencies_under_5_": 4417,
          "deaths_other_neonatal_disorders_under_5_": 1851,
          "deaths_syphilis_under_5_": 1361,
          "deaths_tuberculosis_under_5_": 925,
          "deaths_whooping_cough_under_5_": 1686,
          "entity": "South Sudan",
          "year": 2006
         },
         {
          "deaths_congenital_birth_defects_under_5_": 2486,
          "deaths_diarrheal_diseases_under_5_": 5458,
          "deaths_drowning_under_5_": 203,
          "deaths_hivaids_under_5_": 954,
          "deaths_lower_respiratory_infections_under_5_": 8121,
          "deaths_malaria_under_5_": 4751,
          "deaths_measles_under_5_": 487,
          "deaths_meningitis_under_5_": 1965,
          "deaths_neonatal_encephalopathy_due_to_birth_asphyxia_and_trauma_under_5_": 3934,
          "deaths_neonatal_preterm_birth_under_5_": 3133,
          "deaths_neonatal_sepsis_and_other_neonatal_infections_under_5_": 1443,
          "deaths_neoplasms_under_5_": 348,
          "deaths_nutritional_deficiencies_under_5_": 4143,
          "deaths_other_neonatal_disorders_under_5_": 1892,
          "deaths_syphilis_under_5_": 1418,
          "deaths_tuberculosis_under_5_": 945,
          "deaths_whooping_cough_under_5_": 1808,
          "entity": "South Sudan",
          "year": 2007
         },
         {
          "deaths_congenital_birth_defects_under_5_": 2572,
          "deaths_diarrheal_diseases_under_5_": 5228,
          "deaths_drowning_under_5_": 205,
          "deaths_hivaids_under_5_": 978,
          "deaths_lower_respiratory_infections_under_5_": 8285,
          "deaths_malaria_under_5_": 4567,
          "deaths_measles_under_5_": 423,
          "deaths_meningitis_under_5_": 2034,
          "deaths_neonatal_encephalopathy_due_to_birth_asphyxia_and_trauma_under_5_": 4023,
          "deaths_neonatal_preterm_birth_under_5_": 3185,
          "deaths_neonatal_sepsis_and_other_neonatal_infections_under_5_": 1466,
          "deaths_neoplasms_under_5_": 360,
          "deaths_nutritional_deficiencies_under_5_": 3855,
          "deaths_other_neonatal_disorders_under_5_": 1940,
          "deaths_syphilis_under_5_": 1477,
          "deaths_tuberculosis_under_5_": 968,
          "deaths_whooping_cough_under_5_": 1813,
          "entity": "South Sudan",
          "year": 2008
         },
         {
          "deaths_congenital_birth_defects_under_5_": 2621,
          "deaths_diarrheal_diseases_under_5_": 5117,
          "deaths_drowning_under_5_": 200,
          "deaths_hivaids_under_5_": 988,
          "deaths_lower_respiratory_infections_under_5_": 8314,
          "deaths_malaria_under_5_": 4273,
          "deaths_measles_under_5_": 616,
          "deaths_meningitis_under_5_": 2040,
          "deaths_neonatal_encephalopathy_due_to_birth_asphyxia_and_trauma_under_5_": 4089,
          "deaths_neonatal_preterm_birth_under_5_": 3220,
          "deaths_neonatal_sepsis_and_other_neonatal_infections_under_5_": 1483,
          "deaths_neoplasms_under_5_": 365,
          "deaths_nutritional_deficiencies_under_5_": 3545,
          "deaths_other_neonatal_disorders_under_5_": 1981,
          "deaths_syphilis_under_5_": 1525,
          "deaths_tuberculosis_under_5_": 967,
          "deaths_whooping_cough_under_5_": 1884,
          "entity": "South Sudan",
          "year": 2009
         },
         {
          "deaths_congenital_birth_defects_under_5_": 2628,
          "deaths_diarrheal_diseases_under_5_": 5042,
          "deaths_drowning_under_5_": 194,
          "deaths_hivaids_under_5_": 970,
          "deaths_lower_respiratory_infections_under_5_": 8133,
          "deaths_malaria_under_5_": 3988,
          "deaths_measles_under_5_": 1232,
          "deaths_meningitis_under_5_": 2021,
          "deaths_neonatal_encephalopathy_due_to_birth_asphyxia_and_trauma_under_5_": 4157,
          "deaths_neonatal_preterm_birth_under_5_": 3257,
          "deaths_neonatal_sepsis_and_other_neonatal_infections_under_5_": 1499,
          "deaths_neoplasms_under_5_": 363,
          "deaths_nutritional_deficiencies_under_5_": 3245,
          "deaths_other_neonatal_disorders_under_5_": 2029,
          "deaths_syphilis_under_5_": 1560,
          "deaths_tuberculosis_under_5_": 938,
          "deaths_whooping_cough_under_5_": 1871,
          "entity": "South Sudan",
          "year": 2010
         },
         {
          "deaths_congenital_birth_defects_under_5_": 2663,
          "deaths_diarrheal_diseases_under_5_": 4982,
          "deaths_drowning_under_5_": 191,
          "deaths_hivaids_under_5_": 924,
          "deaths_lower_respiratory_infections_under_5_": 8033,
          "deaths_malaria_under_5_": 3838,
          "deaths_measles_under_5_": 1510,
          "deaths_meningitis_under_5_": 2021,
          "deaths_neonatal_encephalopathy_due_to_birth_asphyxia_and_trauma_under_5_": 4212,
          "deaths_neonatal_preterm_birth_under_5_": 3287,
          "deaths_neonatal_sepsis_and_other_neonatal_infections_under_5_": 1515,
          "deaths_neoplasms_under_5_": 365,
          "deaths_nutritional_deficiencies_under_5_": 3058,
          "deaths_other_neonatal_disorders_under_5_": 2045,
          "deaths_syphilis_under_5_": 1602,
          "deaths_tuberculosis_under_5_": 920,
          "deaths_whooping_cough_under_5_": 1794,
          "entity": "South Sudan",
          "year": 2011
         },
         {
          "deaths_congenital_birth_defects_under_5_": 2679,
          "deaths_diarrheal_diseases_under_5_": 4928,
          "deaths_drowning_under_5_": 191,
          "deaths_hivaids_under_5_": 861,
          "deaths_lower_respiratory_infections_under_5_": 7935,
          "deaths_malaria_under_5_": 3901,
          "deaths_measles_under_5_": 1557,
          "deaths_meningitis_under_5_": 2031,
          "deaths_neonatal_encephalopathy_due_to_birth_asphyxia_and_trauma_under_5_": 4195,
          "deaths_neonatal_preterm_birth_under_5_": 3265,
          "deaths_neonatal_sepsis_and_other_neonatal_infections_under_5_": 1494,
          "deaths_neoplasms_under_5_": 371,
          "deaths_nutritional_deficiencies_under_5_": 2920,
          "deaths_other_neonatal_disorders_under_5_": 2043,
          "deaths_syphilis_under_5_": 1648,
          "deaths_tuberculosis_under_5_": 918,
          "deaths_whooping_cough_under_5_": 1699,
          "entity": "South Sudan",
          "year": 2012
         },
         {
          "deaths_congenital_birth_defects_under_5_": 2672,
          "deaths_diarrheal_diseases_under_5_": 4891,
          "deaths_drowning_under_5_": 197,
          "deaths_hivaids_under_5_": 806,
          "deaths_lower_respiratory_infections_under_5_": 7926,
          "deaths_malaria_under_5_": 4069,
          "deaths_measles_under_5_": 858,
          "deaths_meningitis_under_5_": 2055,
          "deaths_neonatal_encephalopathy_due_to_birth_asphyxia_and_trauma_under_5_": 4086,
          "deaths_neonatal_preterm_birth_under_5_": 3173,
          "deaths_neonatal_sepsis_and_other_neonatal_infections_under_5_": 1438,
          "deaths_neoplasms_under_5_": 377,
          "deaths_nutritional_deficiencies_under_5_": 2830,
          "deaths_other_neonatal_disorders_under_5_": 2016,
          "deaths_syphilis_under_5_": 1613,
          "deaths_tuberculosis_under_5_": 931,
          "deaths_whooping_cough_under_5_": 1693,
          "entity": "South Sudan",
          "year": 2013
         },
         {
          "deaths_congenital_birth_defects_under_5_": 2607,
          "deaths_diarrheal_diseases_under_5_": 4824,
          "deaths_drowning_under_5_": 193,
          "deaths_hivaids_under_5_": 778,
          "deaths_lower_respiratory_infections_under_5_": 7688,
          "deaths_malaria_under_5_": 3987,
          "deaths_measles_under_5_": 792,
          "deaths_meningitis_under_5_": 1929,
          "deaths_neonatal_encephalopathy_due_to_birth_asphyxia_and_trauma_under_5_": 3927,
          "deaths_neonatal_preterm_birth_under_5_": 3041,
          "deaths_neonatal_sepsis_and_other_neonatal_infections_under_5_": 1373,
          "deaths_neoplasms_under_5_": 370,
          "deaths_nutritional_deficiencies_under_5_": 2653,
          "deaths_other_neonatal_disorders_under_5_": 1974,
          "deaths_syphilis_under_5_": 1546,
          "deaths_tuberculosis_under_5_": 917,
          "deaths_whooping_cough_under_5_": 1608,
          "entity": "South Sudan",
          "year": 2014
         },
         {
          "deaths_congenital_birth_defects_under_5_": 2490,
          "deaths_diarrheal_diseases_under_5_": 4416,
          "deaths_drowning_under_5_": 189,
          "deaths_hivaids_under_5_": 668,
          "deaths_lower_respiratory_infections_under_5_": 7259,
          "deaths_malaria_under_5_": 4097,
          "deaths_measles_under_5_": 352,
          "deaths_meningitis_under_5_": 1829,
          "deaths_neonatal_encephalopathy_due_to_birth_asphyxia_and_trauma_under_5_": 3608,
          "deaths_neonatal_preterm_birth_under_5_": 2809,
          "deaths_neonatal_sepsis_and_other_neonatal_infections_under_5_": 1227,
          "deaths_neoplasms_under_5_": 356,
          "deaths_nutritional_deficiencies_under_5_": 2458,
          "deaths_other_neonatal_disorders_under_5_": 1885,
          "deaths_syphilis_under_5_": 1456,
          "deaths_tuberculosis_under_5_": 886,
          "deaths_whooping_cough_under_5_": 1639,
          "entity": "South Sudan",
          "year": 2015
         },
         {
          "deaths_congenital_birth_defects_under_5_": 2307,
          "deaths_diarrheal_diseases_under_5_": 4066,
          "deaths_drowning_under_5_": 177,
          "deaths_hivaids_under_5_": 471,
          "deaths_lower_respiratory_infections_under_5_": 6622,
          "deaths_malaria_under_5_": 3928,
          "deaths_measles_under_5_": 278,
          "deaths_meningitis_under_5_": 1686,
          "deaths_neonatal_encephalopathy_due_to_birth_asphyxia_and_trauma_under_5_": 3283,
          "deaths_neonatal_preterm_birth_under_5_": 2546,
          "deaths_neonatal_sepsis_and_other_neonatal_infections_under_5_": 1110,
          "deaths_neoplasms_under_5_": 330,
          "deaths_nutritional_deficiencies_under_5_": 2209,
          "deaths_other_neonatal_disorders_under_5_": 1774,
          "deaths_syphilis_under_5_": 1377,
          "deaths_tuberculosis_under_5_": 811,
          "deaths_whooping_cough_under_5_": 1491,
          "entity": "South Sudan",
          "year": 2016
         },
         {
          "deaths_congenital_birth_defects_under_5_": 2175,
          "deaths_diarrheal_diseases_under_5_": 3768,
          "deaths_drowning_under_5_": 157,
          "deaths_hivaids_under_5_": 300,
          "deaths_lower_respiratory_infections_under_5_": 5926,
          "deaths_malaria_under_5_": 3816,
          "deaths_measles_under_5_": 333,
          "deaths_meningitis_under_5_": 1525,
          "deaths_neonatal_encephalopathy_due_to_birth_asphyxia_and_trauma_under_5_": 3192,
          "deaths_neonatal_preterm_birth_under_5_": 2442,
          "deaths_neonatal_sepsis_and_other_neonatal_infections_under_5_": 1124,
          "deaths_neoplasms_under_5_": 306,
          "deaths_nutritional_deficiencies_under_5_": 1934,
          "deaths_other_neonatal_disorders_under_5_": 1722,
          "deaths_syphilis_under_5_": 1361,
          "deaths_tuberculosis_under_5_": 711,
          "deaths_whooping_cough_under_5_": 1355,
          "entity": "South Sudan",
          "year": 2017
         },
         {
          "deaths_congenital_birth_defects_under_5_": 2159,
          "deaths_diarrheal_diseases_under_5_": 3613,
          "deaths_drowning_under_5_": 146,
          "deaths_hivaids_under_5_": 211,
          "deaths_lower_respiratory_infections_under_5_": 5581,
          "deaths_malaria_under_5_": 3778,
          "deaths_measles_under_5_": 210,
          "deaths_meningitis_under_5_": 1444,
          "deaths_neonatal_encephalopathy_due_to_birth_asphyxia_and_trauma_under_5_": 3270,
          "deaths_neonatal_preterm_birth_under_5_": 2481,
          "deaths_neonatal_sepsis_and_other_neonatal_infections_under_5_": 1175,
          "deaths_neoplasms_under_5_": 299,
          "deaths_nutritional_deficiencies_under_5_": 1762,
          "deaths_other_neonatal_disorders_under_5_": 1738,
          "deaths_syphilis_under_5_": 1256,
          "deaths_tuberculosis_under_5_": 655,
          "deaths_whooping_cough_under_5_": 1260,
          "entity": "South Sudan",
          "year": 2018
         },
         {
          "deaths_congenital_birth_defects_under_5_": 2153,
          "deaths_diarrheal_diseases_under_5_": 3452,
          "deaths_drowning_under_5_": 136,
          "deaths_hivaids_under_5_": 186,
          "deaths_lower_respiratory_infections_under_5_": 5373,
          "deaths_malaria_under_5_": 4010,
          "deaths_measles_under_5_": 227,
          "deaths_meningitis_under_5_": 1399,
          "deaths_neonatal_encephalopathy_due_to_birth_asphyxia_and_trauma_under_5_": 3332,
          "deaths_neonatal_preterm_birth_under_5_": 2518,
          "deaths_neonatal_sepsis_and_other_neonatal_infections_under_5_": 1211,
          "deaths_neoplasms_under_5_": 292,
          "deaths_nutritional_deficiencies_under_5_": 1640,
          "deaths_other_neonatal_disorders_under_5_": 1758,
          "deaths_syphilis_under_5_": 1060,
          "deaths_tuberculosis_under_5_": 613,
          "deaths_whooping_cough_under_5_": 1086,
          "entity": "South Sudan",
          "year": 2019
         },
         {
          "deaths_congenital_birth_defects_under_5_": 18590,
          "deaths_diarrheal_diseases_under_5_": 21725,
          "deaths_drowning_under_5_": 2077,
          "deaths_hivaids_under_5_": 49,
          "deaths_lower_respiratory_infections_under_5_": 14802,
          "deaths_malaria_under_5_": 1927,
          "deaths_measles_under_5_": 22224,
          "deaths_meningitis_under_5_": 2314,
          "deaths_neonatal_encephalopathy_due_to_birth_asphyxia_and_trauma_under_5_": 3931,
          "deaths_neonatal_preterm_birth_under_5_": 26706,
          "deaths_neonatal_sepsis_and_other_neonatal_infections_under_5_": 624,
          "deaths_neoplasms_under_5_": 721,
          "deaths_nutritional_deficiencies_under_5_": 3377,
          "deaths_other_neonatal_disorders_under_5_": 5978,
          "deaths_syphilis_under_5_": 818,
          "deaths_tuberculosis_under_5_": 858,
          "deaths_whooping_cough_under_5_": 2402,
          "entity": "Sudan",
          "year": 1990
         },
         {
          "deaths_congenital_birth_defects_under_5_": 18556,
          "deaths_diarrheal_diseases_under_5_": 22290,
          "deaths_drowning_under_5_": 2033,
          "deaths_hivaids_under_5_": 68,
          "deaths_lower_respiratory_infections_under_5_": 14498,
          "deaths_malaria_under_5_": 1948,
          "deaths_measles_under_5_": 21698,
          "deaths_meningitis_under_5_": 1778,
          "deaths_neonatal_encephalopathy_due_to_birth_asphyxia_and_trauma_under_5_": 3926,
          "deaths_neonatal_preterm_birth_under_5_": 26657,
          "deaths_neonatal_sepsis_and_other_neonatal_infections_under_5_": 639,
          "deaths_neoplasms_under_5_": 720,
          "deaths_nutritional_deficiencies_under_5_": 3319,
          "deaths_other_neonatal_disorders_under_5_": 6041,
          "deaths_syphilis_under_5_": 1014,
          "deaths_tuberculosis_under_5_": 814,
          "deaths_whooping_cough_under_5_": 2439,
          "entity": "Sudan",
          "year": 1991
         },
         {
          "deaths_congenital_birth_defects_under_5_": 18590,
          "deaths_diarrheal_diseases_under_5_": 22749,
          "deaths_drowning_under_5_": 1998,
          "deaths_hivaids_under_5_": 91,
          "deaths_lower_respiratory_infections_under_5_": 14288,
          "deaths_malaria_under_5_": 2015,
          "deaths_measles_under_5_": 21144,
          "deaths_meningitis_under_5_": 1770,
          "deaths_neonatal_encephalopathy_due_to_birth_asphyxia_and_trauma_under_5_": 3904,
          "deaths_neonatal_preterm_birth_under_5_": 26493,
          "deaths_neonatal_sepsis_and_other_neonatal_infections_under_5_": 648,
          "deaths_neoplasms_under_5_": 720,
          "deaths_nutritional_deficiencies_under_5_": 3311,
          "deaths_other_neonatal_disorders_under_5_": 6094,
          "deaths_syphilis_under_5_": 1202,
          "deaths_tuberculosis_under_5_": 778,
          "deaths_whooping_cough_under_5_": 2381,
          "entity": "Sudan",
          "year": 1992
         },
         {
          "deaths_congenital_birth_defects_under_5_": 18456,
          "deaths_diarrheal_diseases_under_5_": 23132,
          "deaths_drowning_under_5_": 1972,
          "deaths_hivaids_under_5_": 118,
          "deaths_lower_respiratory_infections_under_5_": 13997,
          "deaths_malaria_under_5_": 2046,
          "deaths_measles_under_5_": 20540,
          "deaths_meningitis_under_5_": 1746,
          "deaths_neonatal_encephalopathy_due_to_birth_asphyxia_and_trauma_under_5_": 3843,
          "deaths_neonatal_preterm_birth_under_5_": 26040,
          "deaths_neonatal_sepsis_and_other_neonatal_infections_under_5_": 654,
          "deaths_neoplasms_under_5_": 715,
          "deaths_nutritional_deficiencies_under_5_": 3292,
          "deaths_other_neonatal_disorders_under_5_": 6091,
          "deaths_syphilis_under_5_": 1344,
          "deaths_tuberculosis_under_5_": 742,
          "deaths_whooping_cough_under_5_": 2338,
          "entity": "Sudan",
          "year": 1993
         },
         {
          "deaths_congenital_birth_defects_under_5_": 18327,
          "deaths_diarrheal_diseases_under_5_": 23547,
          "deaths_drowning_under_5_": 1933,
          "deaths_hivaids_under_5_": 149,
          "deaths_lower_respiratory_infections_under_5_": 13673,
          "deaths_malaria_under_5_": 2078,
          "deaths_measles_under_5_": 19999,
          "deaths_meningitis_under_5_": 1725,
          "deaths_neonatal_encephalopathy_due_to_birth_asphyxia_and_trauma_under_5_": 3780,
          "deaths_neonatal_preterm_birth_under_5_": 25577,
          "deaths_neonatal_sepsis_and_other_neonatal_infections_under_5_": 659,
          "deaths_neoplasms_under_5_": 711,
          "deaths_nutritional_deficiencies_under_5_": 3269,
          "deaths_other_neonatal_disorders_under_5_": 6080,
          "deaths_syphilis_under_5_": 1445,
          "deaths_tuberculosis_under_5_": 704,
          "deaths_whooping_cough_under_5_": 2196,
          "entity": "Sudan",
          "year": 1994
         },
         {
          "deaths_congenital_birth_defects_under_5_": 18084,
          "deaths_diarrheal_diseases_under_5_": 23738,
          "deaths_drowning_under_5_": 1875,
          "deaths_hivaids_under_5_": 184,
          "deaths_lower_respiratory_infections_under_5_": 13213,
          "deaths_malaria_under_5_": 2116,
          "deaths_measles_under_5_": 19277,
          "deaths_meningitis_under_5_": 1688,
          "deaths_neonatal_encephalopathy_due_to_birth_asphyxia_and_trauma_under_5_": 3699,
          "deaths_neonatal_preterm_birth_under_5_": 25009,
          "deaths_neonatal_sepsis_and_other_neonatal_infections_under_5_": 661,
          "deaths_neoplasms_under_5_": 701,
          "deaths_nutritional_deficiencies_under_5_": 3202,
          "deaths_other_neonatal_disorders_under_5_": 6037,
          "deaths_syphilis_under_5_": 1470,
          "deaths_tuberculosis_under_5_": 659,
          "deaths_whooping_cough_under_5_": 2135,
          "entity": "Sudan",
          "year": 1995
         },
         {
          "deaths_congenital_birth_defects_under_5_": 17919,
          "deaths_diarrheal_diseases_under_5_": 24159,
          "deaths_drowning_under_5_": 1827,
          "deaths_hivaids_under_5_": 222,
          "deaths_lower_respiratory_infections_under_5_": 12698,
          "deaths_malaria_under_5_": 2148,
          "deaths_measles_under_5_": 18450,
          "deaths_meningitis_under_5_": 1646,
          "deaths_neonatal_encephalopathy_due_to_birth_asphyxia_and_trauma_under_5_": 3639,
          "deaths_neonatal_preterm_birth_under_5_": 24605,
          "deaths_neonatal_sepsis_and_other_neonatal_infections_under_5_": 672,
          "deaths_neoplasms_under_5_": 692,
          "deaths_nutritional_deficiencies_under_5_": 3130,
          "deaths_other_neonatal_disorders_under_5_": 5977,
          "deaths_syphilis_under_5_": 1467,
          "deaths_tuberculosis_under_5_": 615,
          "deaths_whooping_cough_under_5_": 2118,
          "entity": "Sudan",
          "year": 1996
         },
         {
          "deaths_congenital_birth_defects_under_5_": 17768,
          "deaths_diarrheal_diseases_under_5_": 23366,
          "deaths_drowning_under_5_": 1769,
          "deaths_hivaids_under_5_": 259,
          "deaths_lower_respiratory_infections_under_5_": 12244,
          "deaths_malaria_under_5_": 2209,
          "deaths_measles_under_5_": 17434,
          "deaths_meningitis_under_5_": 1605,
          "deaths_neonatal_encephalopathy_due_to_birth_asphyxia_and_trauma_under_5_": 3586,
          "deaths_neonatal_preterm_birth_under_5_": 24261,
          "deaths_neonatal_sepsis_and_other_neonatal_infections_under_5_": 683,
          "deaths_neoplasms_under_5_": 683,
          "deaths_nutritional_deficiencies_under_5_": 3027,
          "deaths_other_neonatal_disorders_under_5_": 5930,
          "deaths_syphilis_under_5_": 1483,
          "deaths_tuberculosis_under_5_": 574,
          "deaths_whooping_cough_under_5_": 2027,
          "entity": "Sudan",
          "year": 1997
         },
         {
          "deaths_congenital_birth_defects_under_5_": 17562,
          "deaths_diarrheal_diseases_under_5_": 24310,
          "deaths_drowning_under_5_": 1700,
          "deaths_hivaids_under_5_": 294,
          "deaths_lower_respiratory_infections_under_5_": 11794,
          "deaths_malaria_under_5_": 2258,
          "deaths_measles_under_5_": 16538,
          "deaths_meningitis_under_5_": 1763,
          "deaths_neonatal_encephalopathy_due_to_birth_asphyxia_and_trauma_under_5_": 3529,
          "deaths_neonatal_preterm_birth_under_5_": 23910,
          "deaths_neonatal_sepsis_and_other_neonatal_infections_under_5_": 691,
          "deaths_neoplasms_under_5_": 671,
          "deaths_nutritional_deficiencies_under_5_": 2896,
          "deaths_other_neonatal_disorders_under_5_": 5892,
          "deaths_syphilis_under_5_": 1496,
          "deaths_tuberculosis_under_5_": 540,
          "deaths_whooping_cough_under_5_": 2069,
          "entity": "Sudan",
          "year": 1998
         },
         {
          "deaths_congenital_birth_defects_under_5_": 17240,
          "deaths_diarrheal_diseases_under_5_": 23068,
          "deaths_drowning_under_5_": 1615,
          "deaths_hivaids_under_5_": 326,
          "deaths_lower_respiratory_infections_under_5_": 11239,
          "deaths_malaria_under_5_": 2263,
          "deaths_measles_under_5_": 15770,
          "deaths_meningitis_under_5_": 2494,
          "deaths_neonatal_encephalopathy_due_to_birth_asphyxia_and_trauma_under_5_": 3455,
          "deaths_neonatal_preterm_birth_under_5_": 23439,
          "deaths_neonatal_sepsis_and_other_neonatal_infections_under_5_": 698,
          "deaths_neoplasms_under_5_": 655,
          "deaths_nutritional_deficiencies_under_5_": 2729,
          "deaths_other_neonatal_disorders_under_5_": 5833,
          "deaths_syphilis_under_5_": 1504,
          "deaths_tuberculosis_under_5_": 503,
          "deaths_whooping_cough_under_5_": 2018,
          "entity": "Sudan",
          "year": 1999
         },
         {
          "deaths_congenital_birth_defects_under_5_": 17066,
          "deaths_diarrheal_diseases_under_5_": 22490,
          "deaths_drowning_under_5_": 1546,
          "deaths_hivaids_under_5_": 355,
          "deaths_lower_respiratory_infections_under_5_": 10862,
          "deaths_malaria_under_5_": 2348,
          "deaths_measles_under_5_": 14102,
          "deaths_meningitis_under_5_": 1816,
          "deaths_neonatal_encephalopathy_due_to_birth_asphyxia_and_trauma_under_5_": 3389,
          "deaths_neonatal_preterm_birth_under_5_": 23072,
          "deaths_neonatal_sepsis_and_other_neonatal_infections_under_5_": 708,
          "deaths_neoplasms_under_5_": 656,
          "deaths_nutritional_deficiencies_under_5_": 2664,
          "deaths_other_neonatal_disorders_under_5_": 5761,
          "deaths_syphilis_under_5_": 1519,
          "deaths_tuberculosis_under_5_": 473,
          "deaths_whooping_cough_under_5_": 1952,
          "entity": "Sudan",
          "year": 2000
         },
         {
          "deaths_congenital_birth_defects_under_5_": 16782,
          "deaths_diarrheal_diseases_under_5_": 21712,
          "deaths_drowning_under_5_": 1442,
          "deaths_hivaids_under_5_": 380,
          "deaths_lower_respiratory_infections_under_5_": 10328,
          "deaths_malaria_under_5_": 2316,
          "deaths_measles_under_5_": 13394,
          "deaths_meningitis_under_5_": 1664,
          "deaths_neonatal_encephalopathy_due_to_birth_asphyxia_and_trauma_under_5_": 3319,
          "deaths_neonatal_preterm_birth_under_5_": 22740,
          "deaths_neonatal_sepsis_and_other_neonatal_infections_under_5_": 715,
          "deaths_neoplasms_under_5_": 655,
          "deaths_nutritional_deficiencies_under_5_": 2483,
          "deaths_other_neonatal_disorders_under_5_": 5614,
          "deaths_syphilis_under_5_": 1489,
          "deaths_tuberculosis_under_5_": 440,
          "deaths_whooping_cough_under_5_": 2045,
          "entity": "Sudan",
          "year": 2001
         },
         {
          "deaths_congenital_birth_defects_under_5_": 16408,
          "deaths_diarrheal_diseases_under_5_": 20831,
          "deaths_drowning_under_5_": 1347,
          "deaths_hivaids_under_5_": 401,
          "deaths_lower_respiratory_infections_under_5_": 9798,
          "deaths_malaria_under_5_": 1807,
          "deaths_measles_under_5_": 13179,
          "deaths_meningitis_under_5_": 1694,
          "deaths_neonatal_encephalopathy_due_to_birth_asphyxia_and_trauma_under_5_": 3253,
          "deaths_neonatal_preterm_birth_under_5_": 22408,
          "deaths_neonatal_sepsis_and_other_neonatal_infections_under_5_": 715,
          "deaths_neoplasms_under_5_": 648,
          "deaths_nutritional_deficiencies_under_5_": 2271,
          "deaths_other_neonatal_disorders_under_5_": 5477,
          "deaths_syphilis_under_5_": 1382,
          "deaths_tuberculosis_under_5_": 412,
          "deaths_whooping_cough_under_5_": 2058,
          "entity": "Sudan",
          "year": 2002
         },
         {
          "deaths_congenital_birth_defects_under_5_": 15992,
          "deaths_diarrheal_diseases_under_5_": 19883,
          "deaths_drowning_under_5_": 1231,
          "deaths_hivaids_under_5_": 421,
          "deaths_lower_respiratory_infections_under_5_": 9159,
          "deaths_malaria_under_5_": 1633,
          "deaths_measles_under_5_": 12905,
          "deaths_meningitis_under_5_": 1397,
          "deaths_neonatal_encephalopathy_due_to_birth_asphyxia_and_trauma_under_5_": 3198,
          "deaths_neonatal_preterm_birth_under_5_": 22172,
          "deaths_neonatal_sepsis_and_other_neonatal_infections_under_5_": 717,
          "deaths_neoplasms_under_5_": 628,
          "deaths_nutritional_deficiencies_under_5_": 1998,
          "deaths_other_neonatal_disorders_under_5_": 5376,
          "deaths_syphilis_under_5_": 1248,
          "deaths_tuberculosis_under_5_": 381,
          "deaths_whooping_cough_under_5_": 2072,
          "entity": "Sudan",
          "year": 2003
         },
         {
          "deaths_congenital_birth_defects_under_5_": 15742,
          "deaths_diarrheal_diseases_under_5_": 19191,
          "deaths_drowning_under_5_": 1153,
          "deaths_hivaids_under_5_": 438,
          "deaths_lower_respiratory_infections_under_5_": 8672,
          "deaths_malaria_under_5_": 1490,
          "deaths_measles_under_5_": 11398,
          "deaths_meningitis_under_5_": 1359,
          "deaths_neonatal_encephalopathy_due_to_birth_asphyxia_and_trauma_under_5_": 3164,
          "deaths_neonatal_preterm_birth_under_5_": 22063,
          "deaths_neonatal_sepsis_and_other_neonatal_infections_under_5_": 723,
          "deaths_neoplasms_under_5_": 621,
          "deaths_nutritional_deficiencies_under_5_": 1834,
          "deaths_other_neonatal_disorders_under_5_": 5316,
          "deaths_syphilis_under_5_": 1145,
          "deaths_tuberculosis_under_5_": 358,
          "deaths_whooping_cough_under_5_": 2171,
          "entity": "Sudan",
          "year": 2004
         },
         {
          "deaths_congenital_birth_defects_under_5_": 16151,
          "deaths_diarrheal_diseases_under_5_": 19492,
          "deaths_drowning_under_5_": 1220,
          "deaths_hivaids_under_5_": 452,
          "deaths_lower_respiratory_infections_under_5_": 8797,
          "deaths_malaria_under_5_": 1603,
          "deaths_measles_under_5_": 5668,
          "deaths_meningitis_under_5_": 1427,
          "deaths_neonatal_encephalopathy_due_to_birth_asphyxia_and_trauma_under_5_": 3175,
          "deaths_neonatal_preterm_birth_under_5_": 22163,
          "deaths_neonatal_sepsis_and_other_neonatal_infections_under_5_": 733,
          "deaths_neoplasms_under_5_": 678,
          "deaths_nutritional_deficiencies_under_5_": 1808,
          "deaths_other_neonatal_disorders_under_5_": 5343,
          "deaths_syphilis_under_5_": 1123,
          "deaths_tuberculosis_under_5_": 368,
          "deaths_whooping_cough_under_5_": 2231,
          "entity": "Sudan",
          "year": 2005
         },
         {
          "deaths_congenital_birth_defects_under_5_": 16114,
          "deaths_diarrheal_diseases_under_5_": 19511,
          "deaths_drowning_under_5_": 1194,
          "deaths_hivaids_under_5_": 463,
          "deaths_lower_respiratory_infections_under_5_": 8519,
          "deaths_malaria_under_5_": 1575,
          "deaths_measles_under_5_": 3192,
          "deaths_meningitis_under_5_": 1620,
          "deaths_neonatal_encephalopathy_due_to_birth_asphyxia_and_trauma_under_5_": 3148,
          "deaths_neonatal_preterm_birth_under_5_": 22061,
          "deaths_neonatal_sepsis_and_other_neonatal_infections_under_5_": 734,
          "deaths_neoplasms_under_5_": 694,
          "deaths_nutritional_deficiencies_under_5_": 1696,
          "deaths_other_neonatal_disorders_under_5_": 5297,
          "deaths_syphilis_under_5_": 1157,
          "deaths_tuberculosis_under_5_": 353,
          "deaths_whooping_cough_under_5_": 2145,
          "entity": "Sudan",
          "year": 2006
         },
         {
          "deaths_congenital_birth_defects_under_5_": 15832,
          "deaths_diarrheal_diseases_under_5_": 17966,
          "deaths_drowning_under_5_": 1135,
          "deaths_hivaids_under_5_": 473,
          "deaths_lower_respiratory_infections_under_5_": 8057,
          "deaths_malaria_under_5_": 1376,
          "deaths_measles_under_5_": 2010,
          "deaths_meningitis_under_5_": 1787,
          "deaths_neonatal_encephalopathy_due_to_birth_asphyxia_and_trauma_under_5_": 3092,
          "deaths_neonatal_preterm_birth_under_5_": 21756,
          "deaths_neonatal_sepsis_and_other_neonatal_infections_under_5_": 728,
          "deaths_neoplasms_under_5_": 691,
          "deaths_nutritional_deficiencies_under_5_": 1531,
          "deaths_other_neonatal_disorders_under_5_": 5232,
          "deaths_syphilis_under_5_": 1209,
          "deaths_tuberculosis_under_5_": 330,
          "deaths_whooping_cough_under_5_": 2156,
          "entity": "Sudan",
          "year": 2007
         },
         {
          "deaths_congenital_birth_defects_under_5_": 15440,
          "deaths_diarrheal_diseases_under_5_": 16866,
          "deaths_drowning_under_5_": 1067,
          "deaths_hivaids_under_5_": 468,
          "deaths_lower_respiratory_infections_under_5_": 7565,
          "deaths_malaria_under_5_": 1149,
          "deaths_measles_under_5_": 1639,
          "deaths_meningitis_under_5_": 1124,
          "deaths_neonatal_encephalopathy_due_to_birth_asphyxia_and_trauma_under_5_": 3022,
          "deaths_neonatal_preterm_birth_under_5_": 21344,
          "deaths_neonatal_sepsis_and_other_neonatal_infections_under_5_": 718,
          "deaths_neoplasms_under_5_": 680,
          "deaths_nutritional_deficiencies_under_5_": 1403,
          "deaths_other_neonatal_disorders_under_5_": 5165,
          "deaths_syphilis_under_5_": 1267,
          "deaths_tuberculosis_under_5_": 309,
          "deaths_whooping_cough_under_5_": 2059,
          "entity": "Sudan",
          "year": 2008
         },
         {
          "deaths_congenital_birth_defects_under_5_": 14986,
          "deaths_diarrheal_diseases_under_5_": 15616,
          "deaths_drowning_under_5_": 994,
          "deaths_hivaids_under_5_": 451,
          "deaths_lower_respiratory_infections_under_5_": 7048,
          "deaths_malaria_under_5_": 1017,
          "deaths_measles_under_5_": 1741,
          "deaths_meningitis_under_5_": 1053,
          "deaths_neonatal_encephalopathy_due_to_birth_asphyxia_and_trauma_under_5_": 2944,
          "deaths_neonatal_preterm_birth_under_5_": 20924,
          "deaths_neonatal_sepsis_and_other_neonatal_infections_under_5_": 702,
          "deaths_neoplasms_under_5_": 660,
          "deaths_nutritional_deficiencies_under_5_": 1269,
          "deaths_other_neonatal_disorders_under_5_": 5118,
          "deaths_syphilis_under_5_": 1310,
          "deaths_tuberculosis_under_5_": 283,
          "deaths_whooping_cough_under_5_": 1980,
          "entity": "Sudan",
          "year": 2009
         },
         {
          "deaths_congenital_birth_defects_under_5_": 14303,
          "deaths_diarrheal_diseases_under_5_": 14027,
          "deaths_drowning_under_5_": 885,
          "deaths_hivaids_under_5_": 452,
          "deaths_lower_respiratory_infections_under_5_": 6382,
          "deaths_malaria_under_5_": 893,
          "deaths_measles_under_5_": 3054,
          "deaths_meningitis_under_5_": 1036,
          "deaths_neonatal_encephalopathy_due_to_birth_asphyxia_and_trauma_under_5_": 2854,
          "deaths_neonatal_preterm_birth_under_5_": 20462,
          "deaths_neonatal_sepsis_and_other_neonatal_infections_under_5_": 685,
          "deaths_neoplasms_under_5_": 616,
          "deaths_nutritional_deficiencies_under_5_": 1117,
          "deaths_other_neonatal_disorders_under_5_": 5084,
          "deaths_syphilis_under_5_": 1310,
          "deaths_tuberculosis_under_5_": 245,
          "deaths_whooping_cough_under_5_": 1790,
          "entity": "Sudan",
          "year": 2010
         },
         {
          "deaths_congenital_birth_defects_under_5_": 13834,
          "deaths_diarrheal_diseases_under_5_": 12213,
          "deaths_drowning_under_5_": 798,
          "deaths_hivaids_under_5_": 464,
          "deaths_lower_respiratory_infections_under_5_": 5802,
          "deaths_malaria_under_5_": 830,
          "deaths_measles_under_5_": 3564,
          "deaths_meningitis_under_5_": 892,
          "deaths_neonatal_encephalopathy_due_to_birth_asphyxia_and_trauma_under_5_": 2756,
          "deaths_neonatal_preterm_birth_under_5_": 19925,
          "deaths_neonatal_sepsis_and_other_neonatal_infections_under_5_": 671,
          "deaths_neoplasms_under_5_": 587,
          "deaths_nutritional_deficiencies_under_5_": 1012,
          "deaths_other_neonatal_disorders_under_5_": 5033,
          "deaths_syphilis_under_5_": 1282,
          "deaths_tuberculosis_under_5_": 214,
          "deaths_whooping_cough_under_5_": 1736,
          "entity": "Sudan",
          "year": 2011
         },
         {
          "deaths_congenital_birth_defects_under_5_": 13486,
          "deaths_diarrheal_diseases_under_5_": 11074,
          "deaths_drowning_under_5_": 757,
          "deaths_hivaids_under_5_": 478,
          "deaths_lower_respiratory_infections_under_5_": 5431,
          "deaths_malaria_under_5_": 847,
          "deaths_measles_under_5_": 3045,
          "deaths_meningitis_under_5_": 860,
          "deaths_neonatal_encephalopathy_due_to_birth_asphyxia_and_trauma_under_5_": 2668,
          "deaths_neonatal_preterm_birth_under_5_": 19316,
          "deaths_neonatal_sepsis_and_other_neonatal_infections_under_5_": 659,
          "deaths_neoplasms_under_5_": 580,
          "deaths_nutritional_deficiencies_under_5_": 932,
          "deaths_other_neonatal_disorders_under_5_": 5004,
          "deaths_syphilis_under_5_": 1261,
          "deaths_tuberculosis_under_5_": 196,
          "deaths_whooping_cough_under_5_": 1533,
          "entity": "Sudan",
          "year": 2012
         },
         {
          "deaths_congenital_birth_defects_under_5_": 12981,
          "deaths_diarrheal_diseases_under_5_": 9993,
          "deaths_drowning_under_5_": 700,
          "deaths_hivaids_under_5_": 488,
          "deaths_lower_respiratory_infections_under_5_": 4913,
          "deaths_malaria_under_5_": 866,
          "deaths_measles_under_5_": 3101,
          "deaths_meningitis_under_5_": 598,
          "deaths_neonatal_encephalopathy_due_to_birth_asphyxia_and_trauma_under_5_": 2570,
          "deaths_neonatal_preterm_birth_under_5_": 18612,
          "deaths_neonatal_sepsis_and_other_neonatal_infections_under_5_": 646,
          "deaths_neoplasms_under_5_": 559,
          "deaths_nutritional_deficiencies_under_5_": 845,
          "deaths_other_neonatal_disorders_under_5_": 4971,
          "deaths_syphilis_under_5_": 1243,
          "deaths_tuberculosis_under_5_": 178,
          "deaths_whooping_cough_under_5_": 1420,
          "entity": "Sudan",
          "year": 2013
         },
         {
          "deaths_congenital_birth_defects_under_5_": 12766,
          "deaths_diarrheal_diseases_under_5_": 9457,
          "deaths_drowning_under_5_": 705,
          "deaths_hivaids_under_5_": 488,
          "deaths_lower_respiratory_infections_under_5_": 4760,
          "deaths_malaria_under_5_": 994,
          "deaths_measles_under_5_": 766,
          "deaths_meningitis_under_5_": 539,
          "deaths_neonatal_encephalopathy_due_to_birth_asphyxia_and_trauma_under_5_": 2495,
          "deaths_neonatal_preterm_birth_under_5_": 17976,
          "deaths_neonatal_sepsis_and_other_neonatal_infections_under_5_": 637,
          "deaths_neoplasms_under_5_": 583,
          "deaths_nutritional_deficiencies_under_5_": 812,
          "deaths_other_neonatal_disorders_under_5_": 4985,
          "deaths_syphilis_under_5_": 1231,
          "deaths_tuberculosis_under_5_": 174,
          "deaths_whooping_cough_under_5_": 1384,
          "entity": "Sudan",
          "year": 2014
         },
         {
          "deaths_congenital_birth_defects_under_5_": 12281,
          "deaths_diarrheal_diseases_under_5_": 8543,
          "deaths_drowning_under_5_": 646,
          "deaths_hivaids_under_5_": 466,
          "deaths_lower_respiratory_infections_under_5_": 4331,
          "deaths_malaria_under_5_": 1031,
          "deaths_measles_under_5_": 502,
          "deaths_meningitis_under_5_": 485,
          "deaths_neonatal_encephalopathy_due_to_birth_asphyxia_and_trauma_under_5_": 2384,
          "deaths_neonatal_preterm_birth_under_5_": 17248,
          "deaths_neonatal_sepsis_and_other_neonatal_infections_under_5_": 621,
          "deaths_neoplasms_under_5_": 560,
          "deaths_nutritional_deficiencies_under_5_": 737,
          "deaths_other_neonatal_disorders_under_5_": 4938,
          "deaths_syphilis_under_5_": 1191,
          "deaths_tuberculosis_under_5_": 155,
          "deaths_whooping_cough_under_5_": 1253,
          "entity": "Sudan",
          "year": 2015
         },
         {
          "deaths_congenital_birth_defects_under_5_": 11755,
          "deaths_diarrheal_diseases_under_5_": 7864,
          "deaths_drowning_under_5_": 591,
          "deaths_hivaids_under_5_": 391,
          "deaths_lower_respiratory_infections_under_5_": 3947,
          "deaths_malaria_under_5_": 1122,
          "deaths_measles_under_5_": 223,
          "deaths_meningitis_under_5_": 450,
          "deaths_neonatal_encephalopathy_due_to_birth_asphyxia_and_trauma_under_5_": 2293,
          "deaths_neonatal_preterm_birth_under_5_": 16524,
          "deaths_neonatal_sepsis_and_other_neonatal_infections_under_5_": 613,
          "deaths_neoplasms_under_5_": 535,
          "deaths_nutritional_deficiencies_under_5_": 665,
          "deaths_other_neonatal_disorders_under_5_": 4942,
          "deaths_syphilis_under_5_": 1113,
          "deaths_tuberculosis_under_5_": 137,
          "deaths_whooping_cough_under_5_": 1184,
          "entity": "Sudan",
          "year": 2016
         },
         {
          "deaths_congenital_birth_defects_under_5_": 11153,
          "deaths_diarrheal_diseases_under_5_": 7849,
          "deaths_drowning_under_5_": 535,
          "deaths_hivaids_under_5_": 272,
          "deaths_lower_respiratory_infections_under_5_": 3546,
          "deaths_malaria_under_5_": 1194,
          "deaths_measles_under_5_": 173,
          "deaths_meningitis_under_5_": 406,
          "deaths_neonatal_encephalopathy_due_to_birth_asphyxia_and_trauma_under_5_": 2179,
          "deaths_neonatal_preterm_birth_under_5_": 15720,
          "deaths_neonatal_sepsis_and_other_neonatal_infections_under_5_": 593,
          "deaths_neoplasms_under_5_": 506,
          "deaths_nutritional_deficiencies_under_5_": 596,
          "deaths_other_neonatal_disorders_under_5_": 4940,
          "deaths_syphilis_under_5_": 1035,
          "deaths_tuberculosis_under_5_": 118,
          "deaths_whooping_cough_under_5_": 1007,
          "entity": "Sudan",
          "year": 2017
         },
         {
          "deaths_congenital_birth_defects_under_5_": 10661,
          "deaths_diarrheal_diseases_under_5_": 6207,
          "deaths_drowning_under_5_": 493,
          "deaths_hivaids_under_5_": 164,
          "deaths_lower_respiratory_infections_under_5_": 3199,
          "deaths_malaria_under_5_": 1042,
          "deaths_measles_under_5_": 216,
          "deaths_meningitis_under_5_": 365,
          "deaths_neonatal_encephalopathy_due_to_birth_asphyxia_and_trauma_under_5_": 2069,
          "deaths_neonatal_preterm_birth_under_5_": 14924,
          "deaths_neonatal_sepsis_and_other_neonatal_infections_under_5_": 577,
          "deaths_neoplasms_under_5_": 487,
          "deaths_nutritional_deficiencies_under_5_": 516,
          "deaths_other_neonatal_disorders_under_5_": 4713,
          "deaths_syphilis_under_5_": 1005,
          "deaths_tuberculosis_under_5_": 102,
          "deaths_whooping_cough_under_5_": 1089,
          "entity": "Sudan",
          "year": 2018
         },
         {
          "deaths_congenital_birth_defects_under_5_": 10227,
          "deaths_diarrheal_diseases_under_5_": 5359,
          "deaths_drowning_under_5_": 451,
          "deaths_hivaids_under_5_": 116,
          "deaths_lower_respiratory_infections_under_5_": 2912,
          "deaths_malaria_under_5_": 975,
          "deaths_measles_under_5_": 592,
          "deaths_meningitis_under_5_": 333,
          "deaths_neonatal_encephalopathy_due_to_birth_asphyxia_and_trauma_under_5_": 1969,
          "deaths_neonatal_preterm_birth_under_5_": 14192,
          "deaths_neonatal_sepsis_and_other_neonatal_infections_under_5_": 569,
          "deaths_neoplasms_under_5_": 464,
          "deaths_nutritional_deficiencies_under_5_": 454,
          "deaths_other_neonatal_disorders_under_5_": 4516,
          "deaths_syphilis_under_5_": 991,
          "deaths_tuberculosis_under_5_": 89,
          "deaths_whooping_cough_under_5_": 941,
          "entity": "Sudan",
          "year": 2019
         },
         {
          "deaths_congenital_birth_defects_under_5_": 9487,
          "deaths_diarrheal_diseases_under_5_": 21919,
          "deaths_drowning_under_5_": 623,
          "deaths_hivaids_under_5_": 8056,
          "deaths_lower_respiratory_infections_under_5_": 34828,
          "deaths_malaria_under_5_": 28242,
          "deaths_measles_under_5_": 13534,
          "deaths_meningitis_under_5_": 3196,
          "deaths_neonatal_encephalopathy_due_to_birth_asphyxia_and_trauma_under_5_": 11592,
          "deaths_neonatal_preterm_birth_under_5_": 8088,
          "deaths_neonatal_sepsis_and_other_neonatal_infections_under_5_": 4557,
          "deaths_neoplasms_under_5_": 1469,
          "deaths_nutritional_deficiencies_under_5_": 10261,
          "deaths_other_neonatal_disorders_under_5_": 5506,
          "deaths_syphilis_under_5_": 5197,
          "deaths_tuberculosis_under_5_": 2878,
          "deaths_whooping_cough_under_5_": 2768,
          "entity": "Tanzania",
          "year": 1990
         },
         {
          "deaths_congenital_birth_defects_under_5_": 9492,
          "deaths_diarrheal_diseases_under_5_": 22321,
          "deaths_drowning_under_5_": 600,
          "deaths_hivaids_under_5_": 10093,
          "deaths_lower_respiratory_infections_under_5_": 34426,
          "deaths_malaria_under_5_": 28189,
          "deaths_measles_under_5_": 13453,
          "deaths_meningitis_under_5_": 3109,
          "deaths_neonatal_encephalopathy_due_to_birth_asphyxia_and_trauma_under_5_": 11982,
          "deaths_neonatal_preterm_birth_under_5_": 7942,
          "deaths_neonatal_sepsis_and_other_neonatal_infections_under_5_": 4680,
          "deaths_neoplasms_under_5_": 1454,
          "deaths_nutritional_deficiencies_under_5_": 10723,
          "deaths_other_neonatal_disorders_under_5_": 5389,
          "deaths_syphilis_under_5_": 5281,
          "deaths_tuberculosis_under_5_": 2857,
          "deaths_whooping_cough_under_5_": 2577,
          "entity": "Tanzania",
          "year": 1991
         },
         {
          "deaths_congenital_birth_defects_under_5_": 9527,
          "deaths_diarrheal_diseases_under_5_": 24362,
          "deaths_drowning_under_5_": 587,
          "deaths_hivaids_under_5_": 11977,
          "deaths_lower_respiratory_infections_under_5_": 34293,
          "deaths_malaria_under_5_": 27818,
          "deaths_measles_under_5_": 13216,
          "deaths_meningitis_under_5_": 3077,
          "deaths_neonatal_encephalopathy_due_to_birth_asphyxia_and_trauma_under_5_": 12356,
          "deaths_neonatal_preterm_birth_under_5_": 7811,
          "deaths_neonatal_sepsis_and_other_neonatal_infections_under_5_": 4808,
          "deaths_neoplasms_under_5_": 1448,
          "deaths_nutritional_deficiencies_under_5_": 11149,
          "deaths_other_neonatal_disorders_under_5_": 5319,
          "deaths_syphilis_under_5_": 5358,
          "deaths_tuberculosis_under_5_": 2843,
          "deaths_whooping_cough_under_5_": 2486,
          "entity": "Tanzania",
          "year": 1992
         },
         {
          "deaths_congenital_birth_defects_under_5_": 9584,
          "deaths_diarrheal_diseases_under_5_": 22572,
          "deaths_drowning_under_5_": 561,
          "deaths_hivaids_under_5_": 13609,
          "deaths_lower_respiratory_infections_under_5_": 34222,
          "deaths_malaria_under_5_": 27745,
          "deaths_measles_under_5_": 12895,
          "deaths_meningitis_under_5_": 3257,
          "deaths_neonatal_encephalopathy_due_to_birth_asphyxia_and_trauma_under_5_": 12740,
          "deaths_neonatal_preterm_birth_under_5_": 7742,
          "deaths_neonatal_sepsis_and_other_neonatal_infections_under_5_": 4931,
          "deaths_neoplasms_under_5_": 1445,
          "deaths_nutritional_deficiencies_under_5_": 11514,
          "deaths_other_neonatal_disorders_under_5_": 5300,
          "deaths_syphilis_under_5_": 5444,
          "deaths_tuberculosis_under_5_": 2827,
          "deaths_whooping_cough_under_5_": 2481,
          "entity": "Tanzania",
          "year": 1993
         },
         {
          "deaths_congenital_birth_defects_under_5_": 9575,
          "deaths_diarrheal_diseases_under_5_": 22821,
          "deaths_drowning_under_5_": 562,
          "deaths_hivaids_under_5_": 14988,
          "deaths_lower_respiratory_infections_under_5_": 34088,
          "deaths_malaria_under_5_": 27919,
          "deaths_measles_under_5_": 12701,
          "deaths_meningitis_under_5_": 3015,
          "deaths_neonatal_encephalopathy_due_to_birth_asphyxia_and_trauma_under_5_": 13138,
          "deaths_neonatal_preterm_birth_under_5_": 7724,
          "deaths_neonatal_sepsis_and_other_neonatal_infections_under_5_": 5045,
          "deaths_neoplasms_under_5_": 1428,
          "deaths_nutritional_deficiencies_under_5_": 11634,
          "deaths_other_neonatal_disorders_under_5_": 5313,
          "deaths_syphilis_under_5_": 5526,
          "deaths_tuberculosis_under_5_": 2816,
          "deaths_whooping_cough_under_5_": 2369,
          "entity": "Tanzania",
          "year": 1994
         },
         {
          "deaths_congenital_birth_defects_under_5_": 9514,
          "deaths_diarrheal_diseases_under_5_": 23038,
          "deaths_drowning_under_5_": 533,
          "deaths_hivaids_under_5_": 16099,
          "deaths_lower_respiratory_infections_under_5_": 33684,
          "deaths_malaria_under_5_": 28067,
          "deaths_measles_under_5_": 12585,
          "deaths_meningitis_under_5_": 2952,
          "deaths_neonatal_encephalopathy_due_to_birth_asphyxia_and_trauma_under_5_": 13521,
          "deaths_neonatal_preterm_birth_under_5_": 7694,
          "deaths_neonatal_sepsis_and_other_neonatal_infections_under_5_": 5133,
          "deaths_neoplasms_under_5_": 1401,
          "deaths_nutritional_deficiencies_under_5_": 11485,
          "deaths_other_neonatal_disorders_under_5_": 5332,
          "deaths_syphilis_under_5_": 5602,
          "deaths_tuberculosis_under_5_": 2781,
          "deaths_whooping_cough_under_5_": 2211,
          "entity": "Tanzania",
          "year": 1995
         },
         {
          "deaths_congenital_birth_defects_under_5_": 9533,
          "deaths_diarrheal_diseases_under_5_": 20929,
          "deaths_drowning_under_5_": 530,
          "deaths_hivaids_under_5_": 16878,
          "deaths_lower_respiratory_infections_under_5_": 33362,
          "deaths_malaria_under_5_": 28837,
          "deaths_measles_under_5_": 12803,
          "deaths_meningitis_under_5_": 3095,
          "deaths_neonatal_encephalopathy_due_to_birth_asphyxia_and_trauma_under_5_": 13632,
          "deaths_neonatal_preterm_birth_under_5_": 8102,
          "deaths_neonatal_sepsis_and_other_neonatal_infections_under_5_": 5302,
          "deaths_neoplasms_under_5_": 1396,
          "deaths_nutritional_deficiencies_under_5_": 11121,
          "deaths_other_neonatal_disorders_under_5_": 5351,
          "deaths_syphilis_under_5_": 5589,
          "deaths_tuberculosis_under_5_": 2780,
          "deaths_whooping_cough_under_5_": 2212,
          "entity": "Tanzania",
          "year": 1996
         },
         {
          "deaths_congenital_birth_defects_under_5_": 9577,
          "deaths_diarrheal_diseases_under_5_": 21398,
          "deaths_drowning_under_5_": 566,
          "deaths_hivaids_under_5_": 17396,
          "deaths_lower_respiratory_infections_under_5_": 32865,
          "deaths_malaria_under_5_": 29980,
          "deaths_measles_under_5_": 12925,
          "deaths_meningitis_under_5_": 2953,
          "deaths_neonatal_encephalopathy_due_to_birth_asphyxia_and_trauma_under_5_": 13892,
          "deaths_neonatal_preterm_birth_under_5_": 8390,
          "deaths_neonatal_sepsis_and_other_neonatal_infections_under_5_": 5479,
          "deaths_neoplasms_under_5_": 1401,
          "deaths_nutritional_deficiencies_under_5_": 10612,
          "deaths_other_neonatal_disorders_under_5_": 5398,
          "deaths_syphilis_under_5_": 5441,
          "deaths_tuberculosis_under_5_": 2756,
          "deaths_whooping_cough_under_5_": 2130,
          "entity": "Tanzania",
          "year": 1997
         },
         {
          "deaths_congenital_birth_defects_under_5_": 9635,
          "deaths_diarrheal_diseases_under_5_": 19625,
          "deaths_drowning_under_5_": 550,
          "deaths_hivaids_under_5_": 17677,
          "deaths_lower_respiratory_infections_under_5_": 32123,
          "deaths_malaria_under_5_": 30860,
          "deaths_measles_under_5_": 12919,
          "deaths_meningitis_under_5_": 2931,
          "deaths_neonatal_encephalopathy_due_to_birth_asphyxia_and_trauma_under_5_": 14133,
          "deaths_neonatal_preterm_birth_under_5_": 8656,
          "deaths_neonatal_sepsis_and_other_neonatal_infections_under_5_": 5687,
          "deaths_neoplasms_under_5_": 1408,
          "deaths_nutritional_deficiencies_under_5_": 9961,
          "deaths_other_neonatal_disorders_under_5_": 5510,
          "deaths_syphilis_under_5_": 5253,
          "deaths_tuberculosis_under_5_": 2704,
          "deaths_whooping_cough_under_5_": 2314,
          "entity": "Tanzania",
          "year": 1998
         },
         {
          "deaths_congenital_birth_defects_under_5_": 9695,
          "deaths_diarrheal_diseases_under_5_": 16025,
          "deaths_drowning_under_5_": 573,
          "deaths_hivaids_under_5_": 17823,
          "deaths_lower_respiratory_infections_under_5_": 31135,
          "deaths_malaria_under_5_": 31459,
          "deaths_measles_under_5_": 13215,
          "deaths_meningitis_under_5_": 2933,
          "deaths_neonatal_encephalopathy_due_to_birth_asphyxia_and_trauma_under_5_": 14291,
          "deaths_neonatal_preterm_birth_under_5_": 9650,
          "deaths_neonatal_sepsis_and_other_neonatal_infections_under_5_": 5636,
          "deaths_neoplasms_under_5_": 1416,
          "deaths_nutritional_deficiencies_under_5_": 9523,
          "deaths_other_neonatal_disorders_under_5_": 5322,
          "deaths_syphilis_under_5_": 5078,
          "deaths_tuberculosis_under_5_": 2688,
          "deaths_whooping_cough_under_5_": 2319,
          "entity": "Tanzania",
          "year": 1999
         },
         {
          "deaths_congenital_birth_defects_under_5_": 9693,
          "deaths_diarrheal_diseases_under_5_": 13548,
          "deaths_drowning_under_5_": 573,
          "deaths_hivaids_under_5_": 17823,
          "deaths_lower_respiratory_infections_under_5_": 29695,
          "deaths_malaria_under_5_": 31594,
          "deaths_measles_under_5_": 13490,
          "deaths_meningitis_under_5_": 2834,
          "deaths_neonatal_encephalopathy_due_to_birth_asphyxia_and_trauma_under_5_": 14311,
          "deaths_neonatal_preterm_birth_under_5_": 10504,
          "deaths_neonatal_sepsis_and_other_neonatal_infections_under_5_": 5609,
          "deaths_neoplasms_under_5_": 1398,
          "deaths_nutritional_deficiencies_under_5_": 8952,
          "deaths_other_neonatal_disorders_under_5_": 5187,
          "deaths_syphilis_under_5_": 4952,
          "deaths_tuberculosis_under_5_": 2650,
          "deaths_whooping_cough_under_5_": 2416,
          "entity": "Tanzania",
          "year": 2000
         },
         {
          "deaths_congenital_birth_defects_under_5_": 9937,
          "deaths_diarrheal_diseases_under_5_": 12750,
          "deaths_drowning_under_5_": 612,
          "deaths_hivaids_under_5_": 17600,
          "deaths_lower_respiratory_infections_under_5_": 28502,
          "deaths_malaria_under_5_": 32249,
          "deaths_measles_under_5_": 10427,
          "deaths_meningitis_under_5_": 3171,
          "deaths_neonatal_encephalopathy_due_to_birth_asphyxia_and_trauma_under_5_": 14583,
          "deaths_neonatal_preterm_birth_under_5_": 10812,
          "deaths_neonatal_sepsis_and_other_neonatal_infections_under_5_": 5583,
          "deaths_neoplasms_under_5_": 1432,
          "deaths_nutritional_deficiencies_under_5_": 8329,
          "deaths_other_neonatal_disorders_under_5_": 5043,
          "deaths_syphilis_under_5_": 4967,
          "deaths_tuberculosis_under_5_": 2647,
          "deaths_whooping_cough_under_5_": 2436,
          "entity": "Tanzania",
          "year": 2001
         },
         {
          "deaths_congenital_birth_defects_under_5_": 10428,
          "deaths_diarrheal_diseases_under_5_": 12426,
          "deaths_drowning_under_5_": 685,
          "deaths_hivaids_under_5_": 17201,
          "deaths_lower_respiratory_infections_under_5_": 28120,
          "deaths_malaria_under_5_": 31104,
          "deaths_measles_under_5_": 6585,
          "deaths_meningitis_under_5_": 3231,
          "deaths_neonatal_encephalopathy_due_to_birth_asphyxia_and_trauma_under_5_": 15008,
          "deaths_neonatal_preterm_birth_under_5_": 10700,
          "deaths_neonatal_sepsis_and_other_neonatal_infections_under_5_": 5705,
          "deaths_neoplasms_under_5_": 1524,
          "deaths_nutritional_deficiencies_under_5_": 8058,
          "deaths_other_neonatal_disorders_under_5_": 5061,
          "deaths_syphilis_under_5_": 5096,
          "deaths_tuberculosis_under_5_": 2669,
          "deaths_whooping_cough_under_5_": 2709,
          "entity": "Tanzania",
          "year": 2002
         },
         {
          "deaths_congenital_birth_defects_under_5_": 11095,
          "deaths_diarrheal_diseases_under_5_": 11628,
          "deaths_drowning_under_5_": 718,
          "deaths_hivaids_under_5_": 16705,
          "deaths_lower_respiratory_infections_under_5_": 28082,
          "deaths_malaria_under_5_": 28550,
          "deaths_measles_under_5_": 3025,
          "deaths_meningitis_under_5_": 3425,
          "deaths_neonatal_encephalopathy_due_to_birth_asphyxia_and_trauma_under_5_": 15372,
          "deaths_neonatal_preterm_birth_under_5_": 10656,
          "deaths_neonatal_sepsis_and_other_neonatal_infections_under_5_": 5862,
          "deaths_neoplasms_under_5_": 1660,
          "deaths_nutritional_deficiencies_under_5_": 8058,
          "deaths_other_neonatal_disorders_under_5_": 5125,
          "deaths_syphilis_under_5_": 5306,
          "deaths_tuberculosis_under_5_": 2724,
          "deaths_whooping_cough_under_5_": 2785,
          "entity": "Tanzania",
          "year": 2003
         },
         {
          "deaths_congenital_birth_defects_under_5_": 11551,
          "deaths_diarrheal_diseases_under_5_": 10960,
          "deaths_drowning_under_5_": 764,
          "deaths_hivaids_under_5_": 16063,
          "deaths_lower_respiratory_infections_under_5_": 27421,
          "deaths_malaria_under_5_": 24715,
          "deaths_measles_under_5_": 2955,
          "deaths_meningitis_under_5_": 3482,
          "deaths_neonatal_encephalopathy_due_to_birth_asphyxia_and_trauma_under_5_": 15757,
          "deaths_neonatal_preterm_birth_under_5_": 10528,
          "deaths_neonatal_sepsis_and_other_neonatal_infections_under_5_": 6029,
          "deaths_neoplasms_under_5_": 1737,
          "deaths_nutritional_deficiencies_under_5_": 7839,
          "deaths_other_neonatal_disorders_under_5_": 5196,
          "deaths_syphilis_under_5_": 5477,
          "deaths_tuberculosis_under_5_": 2712,
          "deaths_whooping_cough_under_5_": 2854,
          "entity": "Tanzania",
          "year": 2004
         },
         {
          "deaths_congenital_birth_defects_under_5_": 11814,
          "deaths_diarrheal_diseases_under_5_": 9475,
          "deaths_drowning_under_5_": 753,
          "deaths_hivaids_under_5_": 15364,
          "deaths_lower_respiratory_infections_under_5_": 26158,
          "deaths_malaria_under_5_": 22545,
          "deaths_measles_under_5_": 3928,
          "deaths_meningitis_under_5_": 3498,
          "deaths_neonatal_encephalopathy_due_to_birth_asphyxia_and_trauma_under_5_": 16193,
          "deaths_neonatal_preterm_birth_under_5_": 10414,
          "deaths_neonatal_sepsis_and_other_neonatal_infections_under_5_": 6190,
          "deaths_neoplasms_under_5_": 1765,
          "deaths_nutritional_deficiencies_under_5_": 7698,
          "deaths_other_neonatal_disorders_under_5_": 5293,
          "deaths_syphilis_under_5_": 5543,
          "deaths_tuberculosis_under_5_": 2650,
          "deaths_whooping_cough_under_5_": 2804,
          "entity": "Tanzania",
          "year": 2005
         },
         {
          "deaths_congenital_birth_defects_under_5_": 12485,
          "deaths_diarrheal_diseases_under_5_": 8763,
          "deaths_drowning_under_5_": 839,
          "deaths_hivaids_under_5_": 14429,
          "deaths_lower_respiratory_infections_under_5_": 26160,
          "deaths_malaria_under_5_": 19369,
          "deaths_measles_under_5_": 3586,
          "deaths_meningitis_under_5_": 3663,
          "deaths_neonatal_encephalopathy_due_to_birth_asphyxia_and_trauma_under_5_": 16600,
          "deaths_neonatal_preterm_birth_under_5_": 10206,
          "deaths_neonatal_sepsis_and_other_neonatal_infections_under_5_": 6486,
          "deaths_neoplasms_under_5_": 1879,
          "deaths_nutritional_deficiencies_under_5_": 7270,
          "deaths_other_neonatal_disorders_under_5_": 5509,
          "deaths_syphilis_under_5_": 5505,
          "deaths_tuberculosis_under_5_": 2751,
          "deaths_whooping_cough_under_5_": 2873,
          "entity": "Tanzania",
          "year": 2006
         },
         {
          "deaths_congenital_birth_defects_under_5_": 12920,
          "deaths_diarrheal_diseases_under_5_": 8372,
          "deaths_drowning_under_5_": 816,
          "deaths_hivaids_under_5_": 13006,
          "deaths_lower_respiratory_infections_under_5_": 25906,
          "deaths_malaria_under_5_": 15618,
          "deaths_measles_under_5_": 4848,
          "deaths_meningitis_under_5_": 3807,
          "deaths_neonatal_encephalopathy_due_to_birth_asphyxia_and_trauma_under_5_": 16972,
          "deaths_neonatal_preterm_birth_under_5_": 10413,
          "deaths_neonatal_sepsis_and_other_neonatal_infections_under_5_": 6692,
          "deaths_neoplasms_under_5_": 1943,
          "deaths_nutritional_deficiencies_under_5_": 7249,
          "deaths_other_neonatal_disorders_under_5_": 5665,
          "deaths_syphilis_under_5_": 5102,
          "deaths_tuberculosis_under_5_": 2758,
          "deaths_whooping_cough_under_5_": 2971,
          "entity": "Tanzania",
          "year": 2007
         },
         {
          "deaths_congenital_birth_defects_under_5_": 12944,
          "deaths_diarrheal_diseases_under_5_": 7911,
          "deaths_drowning_under_5_": 786,
          "deaths_hivaids_under_5_": 11454,
          "deaths_lower_respiratory_infections_under_5_": 25033,
          "deaths_malaria_under_5_": 14359,
          "deaths_measles_under_5_": 7628,
          "deaths_meningitis_under_5_": 3650,
          "deaths_neonatal_encephalopathy_due_to_birth_asphyxia_and_trauma_under_5_": 17215,
          "deaths_neonatal_preterm_birth_under_5_": 10504,
          "deaths_neonatal_sepsis_and_other_neonatal_infections_under_5_": 6802,
          "deaths_neoplasms_under_5_": 1922,
          "deaths_nutritional_deficiencies_under_5_": 6841,
          "deaths_other_neonatal_disorders_under_5_": 5795,
          "deaths_syphilis_under_5_": 4519,
          "deaths_tuberculosis_under_5_": 2635,
          "deaths_whooping_cough_under_5_": 2838,
          "entity": "Tanzania",
          "year": 2008
         },
         {
          "deaths_congenital_birth_defects_under_5_": 13407,
          "deaths_diarrheal_diseases_under_5_": 7427,
          "deaths_drowning_under_5_": 860,
          "deaths_hivaids_under_5_": 9412,
          "deaths_lower_respiratory_infections_under_5_": 25484,
          "deaths_malaria_under_5_": 16502,
          "deaths_measles_under_5_": 2775,
          "deaths_meningitis_under_5_": 3503,
          "deaths_neonatal_encephalopathy_due_to_birth_asphyxia_and_trauma_under_5_": 17460,
          "deaths_neonatal_preterm_birth_under_5_": 10647,
          "deaths_neonatal_sepsis_and_other_neonatal_infections_under_5_": 6914,
          "deaths_neoplasms_under_5_": 2046,
          "deaths_nutritional_deficiencies_under_5_": 6953,
          "deaths_other_neonatal_disorders_under_5_": 5957,
          "deaths_syphilis_under_5_": 4032,
          "deaths_tuberculosis_under_5_": 2690,
          "deaths_whooping_cough_under_5_": 3119,
          "entity": "Tanzania",
          "year": 2009
         },
         {
          "deaths_congenital_birth_defects_under_5_": 13451,
          "deaths_diarrheal_diseases_under_5_": 6591,
          "deaths_drowning_under_5_": 846,
          "deaths_hivaids_under_5_": 6906,
          "deaths_lower_respiratory_infections_under_5_": 24795,
          "deaths_malaria_under_5_": 17369,
          "deaths_measles_under_5_": 2619,
          "deaths_meningitis_under_5_": 3445,
          "deaths_neonatal_encephalopathy_due_to_birth_asphyxia_and_trauma_under_5_": 17518,
          "deaths_neonatal_preterm_birth_under_5_": 10687,
          "deaths_neonatal_sepsis_and_other_neonatal_infections_under_5_": 6953,
          "deaths_neoplasms_under_5_": 2079,
          "deaths_nutritional_deficiencies_under_5_": 6714,
          "deaths_other_neonatal_disorders_under_5_": 6057,
          "deaths_syphilis_under_5_": 3732,
          "deaths_tuberculosis_under_5_": 2581,
          "deaths_whooping_cough_under_5_": 2983,
          "entity": "Tanzania",
          "year": 2010
         },
         {
          "deaths_congenital_birth_defects_under_5_": 13528,
          "deaths_diarrheal_diseases_under_5_": 5868,
          "deaths_drowning_under_5_": 869,
          "deaths_hivaids_under_5_": 5100,
          "deaths_lower_respiratory_infections_under_5_": 24276,
          "deaths_malaria_under_5_": 15025,
          "deaths_measles_under_5_": 4409,
          "deaths_meningitis_under_5_": 3402,
          "deaths_neonatal_encephalopathy_due_to_birth_asphyxia_and_trauma_under_5_": 17527,
          "deaths_neonatal_preterm_birth_under_5_": 10704,
          "deaths_neonatal_sepsis_and_other_neonatal_infections_under_5_": 6977,
          "deaths_neoplasms_under_5_": 2125,
          "deaths_nutritional_deficiencies_under_5_": 6547,
          "deaths_other_neonatal_disorders_under_5_": 6113,
          "deaths_syphilis_under_5_": 3643,
          "deaths_tuberculosis_under_5_": 2505,
          "deaths_whooping_cough_under_5_": 2903,
          "entity": "Tanzania",
          "year": 2011
         },
         {
          "deaths_congenital_birth_defects_under_5_": 13811,
          "deaths_diarrheal_diseases_under_5_": 5525,
          "deaths_drowning_under_5_": 879,
          "deaths_hivaids_under_5_": 4547,
          "deaths_lower_respiratory_infections_under_5_": 24363,
          "deaths_malaria_under_5_": 12650,
          "deaths_measles_under_5_": 3280,
          "deaths_meningitis_under_5_": 3439,
          "deaths_neonatal_encephalopathy_due_to_birth_asphyxia_and_trauma_under_5_": 17526,
          "deaths_neonatal_preterm_birth_under_5_": 10711,
          "deaths_neonatal_sepsis_and_other_neonatal_infections_under_5_": 7007,
          "deaths_neoplasms_under_5_": 2235,
          "deaths_nutritional_deficiencies_under_5_": 6585,
          "deaths_other_neonatal_disorders_under_5_": 6180,
          "deaths_syphilis_under_5_": 3609,
          "deaths_tuberculosis_under_5_": 2519,
          "deaths_whooping_cough_under_5_": 2970,
          "entity": "Tanzania",
          "year": 2012
         },
         {
          "deaths_congenital_birth_defects_under_5_": 13837,
          "deaths_diarrheal_diseases_under_5_": 4911,
          "deaths_drowning_under_5_": 891,
          "deaths_hivaids_under_5_": 4114,
          "deaths_lower_respiratory_infections_under_5_": 23418,
          "deaths_malaria_under_5_": 12204,
          "deaths_measles_under_5_": 4228,
          "deaths_meningitis_under_5_": 2201,
          "deaths_neonatal_encephalopathy_due_to_birth_asphyxia_and_trauma_under_5_": 17553,
          "deaths_neonatal_preterm_birth_under_5_": 10739,
          "deaths_neonatal_sepsis_and_other_neonatal_infections_under_5_": 7049,
          "deaths_neoplasms_under_5_": 2264,
          "deaths_nutritional_deficiencies_under_5_": 6398,
          "deaths_other_neonatal_disorders_under_5_": 6266,
          "deaths_syphilis_under_5_": 3622,
          "deaths_tuberculosis_under_5_": 2482,
          "deaths_whooping_cough_under_5_": 2761,
          "entity": "Tanzania",
          "year": 2013
         },
         {
          "deaths_congenital_birth_defects_under_5_": 13103,
          "deaths_diarrheal_diseases_under_5_": 4361,
          "deaths_drowning_under_5_": 790,
          "deaths_hivaids_under_5_": 3087,
          "deaths_lower_respiratory_infections_under_5_": 21660,
          "deaths_malaria_under_5_": 12357,
          "deaths_measles_under_5_": 7816,
          "deaths_meningitis_under_5_": 2000,
          "deaths_neonatal_encephalopathy_due_to_birth_asphyxia_and_trauma_under_5_": 17371,
          "deaths_neonatal_preterm_birth_under_5_": 10643,
          "deaths_neonatal_sepsis_and_other_neonatal_infections_under_5_": 6961,
          "deaths_neoplasms_under_5_": 2087,
          "deaths_nutritional_deficiencies_under_5_": 5678,
          "deaths_other_neonatal_disorders_under_5_": 6261,
          "deaths_syphilis_under_5_": 3576,
          "deaths_tuberculosis_under_5_": 2276,
          "deaths_whooping_cough_under_5_": 2813,
          "entity": "Tanzania",
          "year": 2014
         },
         {
          "deaths_congenital_birth_defects_under_5_": 13396,
          "deaths_diarrheal_diseases_under_5_": 4600,
          "deaths_drowning_under_5_": 856,
          "deaths_hivaids_under_5_": 2201,
          "deaths_lower_respiratory_infections_under_5_": 22271,
          "deaths_malaria_under_5_": 13606,
          "deaths_measles_under_5_": 1607,
          "deaths_meningitis_under_5_": 2045,
          "deaths_neonatal_encephalopathy_due_to_birth_asphyxia_and_trauma_under_5_": 17190,
          "deaths_neonatal_preterm_birth_under_5_": 10569,
          "deaths_neonatal_sepsis_and_other_neonatal_infections_under_5_": 6923,
          "deaths_neoplasms_under_5_": 2228,
          "deaths_nutritional_deficiencies_under_5_": 5850,
          "deaths_other_neonatal_disorders_under_5_": 6309,
          "deaths_syphilis_under_5_": 3700,
          "deaths_tuberculosis_under_5_": 2394,
          "deaths_whooping_cough_under_5_": 3225,
          "entity": "Tanzania",
          "year": 2015
         },
         {
          "deaths_congenital_birth_defects_under_5_": 13152,
          "deaths_diarrheal_diseases_under_5_": 4557,
          "deaths_drowning_under_5_": 842,
          "deaths_hivaids_under_5_": 1658,
          "deaths_lower_respiratory_infections_under_5_": 21266,
          "deaths_malaria_under_5_": 13671,
          "deaths_measles_under_5_": 1230,
          "deaths_meningitis_under_5_": 1968,
          "deaths_neonatal_encephalopathy_due_to_birth_asphyxia_and_trauma_under_5_": 16929,
          "deaths_neonatal_preterm_birth_under_5_": 10480,
          "deaths_neonatal_sepsis_and_other_neonatal_infections_under_5_": 6812,
          "deaths_neoplasms_under_5_": 2211,
          "deaths_nutritional_deficiencies_under_5_": 5592,
          "deaths_other_neonatal_disorders_under_5_": 6313,
          "deaths_syphilis_under_5_": 4005,
          "deaths_tuberculosis_under_5_": 2257,
          "deaths_whooping_cough_under_5_": 3190,
          "entity": "Tanzania",
          "year": 2016
         },
         {
          "deaths_congenital_birth_defects_under_5_": 12827,
          "deaths_diarrheal_diseases_under_5_": 4380,
          "deaths_drowning_under_5_": 777,
          "deaths_hivaids_under_5_": 1429,
          "deaths_lower_respiratory_infections_under_5_": 19818,
          "deaths_malaria_under_5_": 13398,
          "deaths_measles_under_5_": 1749,
          "deaths_meningitis_under_5_": 1861,
          "deaths_neonatal_encephalopathy_due_to_birth_asphyxia_and_trauma_under_5_": 16721,
          "deaths_neonatal_preterm_birth_under_5_": 10422,
          "deaths_neonatal_sepsis_and_other_neonatal_infections_under_5_": 6687,
          "deaths_neoplasms_under_5_": 2158,
          "deaths_nutritional_deficiencies_under_5_": 5254,
          "deaths_other_neonatal_disorders_under_5_": 6336,
          "deaths_syphilis_under_5_": 4271,
          "deaths_tuberculosis_under_5_": 2033,
          "deaths_whooping_cough_under_5_": 3176,
          "entity": "Tanzania",
          "year": 2017
         },
         {
          "deaths_congenital_birth_defects_under_5_": 12407,
          "deaths_diarrheal_diseases_under_5_": 3696,
          "deaths_drowning_under_5_": 722,
          "deaths_hivaids_under_5_": 1374,
          "deaths_lower_respiratory_infections_under_5_": 18232,
          "deaths_malaria_under_5_": 13427,
          "deaths_measles_under_5_": 1949,
          "deaths_meningitis_under_5_": 1729,
          "deaths_neonatal_encephalopathy_due_to_birth_asphyxia_and_trauma_under_5_": 16461,
          "deaths_neonatal_preterm_birth_under_5_": 10273,
          "deaths_neonatal_sepsis_and_other_neonatal_infections_under_5_": 6591,
          "deaths_neoplasms_under_5_": 2089,
          "deaths_nutritional_deficiencies_under_5_": 4726,
          "deaths_other_neonatal_disorders_under_5_": 6228,
          "deaths_syphilis_under_5_": 4123,
          "deaths_tuberculosis_under_5_": 1794,
          "deaths_whooping_cough_under_5_": 3050,
          "entity": "Tanzania",
          "year": 2018
         },
         {
          "deaths_congenital_birth_defects_under_5_": 12083,
          "deaths_diarrheal_diseases_under_5_": 3301,
          "deaths_drowning_under_5_": 670,
          "deaths_hivaids_under_5_": 1330,
          "deaths_lower_respiratory_infections_under_5_": 16979,
          "deaths_malaria_under_5_": 13364,
          "deaths_measles_under_5_": 2978,
          "deaths_meningitis_under_5_": 1622,
          "deaths_neonatal_encephalopathy_due_to_birth_asphyxia_and_trauma_under_5_": 16256,
          "deaths_neonatal_preterm_birth_under_5_": 10130,
          "deaths_neonatal_sepsis_and_other_neonatal_infections_under_5_": 6580,
          "deaths_neoplasms_under_5_": 2013,
          "deaths_nutritional_deficiencies_under_5_": 4295,
          "deaths_other_neonatal_disorders_under_5_": 6152,
          "deaths_syphilis_under_5_": 3770,
          "deaths_tuberculosis_under_5_": 1610,
          "deaths_whooping_cough_under_5_": 2874,
          "entity": "Tanzania",
          "year": 2019
         },
         {
          "deaths_congenital_birth_defects_under_5_": 4982,
          "deaths_diarrheal_diseases_under_5_": 16710,
          "deaths_drowning_under_5_": 401,
          "deaths_hivaids_under_5_": 19910,
          "deaths_lower_respiratory_infections_under_5_": 11977,
          "deaths_malaria_under_5_": 37672,
          "deaths_measles_under_5_": 10276,
          "deaths_meningitis_under_5_": 4756,
          "deaths_neonatal_encephalopathy_due_to_birth_asphyxia_and_trauma_under_5_": 10016,
          "deaths_neonatal_preterm_birth_under_5_": 6413,
          "deaths_neonatal_sepsis_and_other_neonatal_infections_under_5_": 3420,
          "deaths_neoplasms_under_5_": 766,
          "deaths_nutritional_deficiencies_under_5_": 6579,
          "deaths_other_neonatal_disorders_under_5_": 4038,
          "deaths_syphilis_under_5_": 1840,
          "deaths_tuberculosis_under_5_": 1930,
          "deaths_whooping_cough_under_5_": 2151,
          "entity": "Uganda",
          "year": 1990
         },
         {
          "deaths_congenital_birth_defects_under_5_": 5098,
          "deaths_diarrheal_diseases_under_5_": 16991,
          "deaths_drowning_under_5_": 410,
          "deaths_hivaids_under_5_": 20538,
          "deaths_lower_respiratory_infections_under_5_": 12398,
          "deaths_malaria_under_5_": 38231,
          "deaths_measles_under_5_": 10558,
          "deaths_meningitis_under_5_": 4860,
          "deaths_neonatal_encephalopathy_due_to_birth_asphyxia_and_trauma_under_5_": 10109,
          "deaths_neonatal_preterm_birth_under_5_": 6450,
          "deaths_neonatal_sepsis_and_other_neonatal_infections_under_5_": 3489,
          "deaths_neoplasms_under_5_": 802,
          "deaths_nutritional_deficiencies_under_5_": 6756,
          "deaths_other_neonatal_disorders_under_5_": 4023,
          "deaths_syphilis_under_5_": 1912,
          "deaths_tuberculosis_under_5_": 2015,
          "deaths_whooping_cough_under_5_": 2070,
          "entity": "Uganda",
          "year": 1991
         },
         {
          "deaths_congenital_birth_defects_under_5_": 5177,
          "deaths_diarrheal_diseases_under_5_": 17126,
          "deaths_drowning_under_5_": 412,
          "deaths_hivaids_under_5_": 20749,
          "deaths_lower_respiratory_infections_under_5_": 12681,
          "deaths_malaria_under_5_": 38596,
          "deaths_measles_under_5_": 10806,
          "deaths_meningitis_under_5_": 4950,
          "deaths_neonatal_encephalopathy_due_to_birth_asphyxia_and_trauma_under_5_": 10214,
          "deaths_neonatal_preterm_birth_under_5_": 6498,
          "deaths_neonatal_sepsis_and_other_neonatal_infections_under_5_": 3560,
          "deaths_neoplasms_under_5_": 831,
          "deaths_nutritional_deficiencies_under_5_": 6795,
          "deaths_other_neonatal_disorders_under_5_": 4021,
          "deaths_syphilis_under_5_": 1981,
          "deaths_tuberculosis_under_5_": 2078,
          "deaths_whooping_cough_under_5_": 1965,
          "entity": "Uganda",
          "year": 1992
         },
         {
          "deaths_congenital_birth_defects_under_5_": 5262,
          "deaths_diarrheal_diseases_under_5_": 17049,
          "deaths_drowning_under_5_": 396,
          "deaths_hivaids_under_5_": 20942,
          "deaths_lower_respiratory_infections_under_5_": 12960,
          "deaths_malaria_under_5_": 39068,
          "deaths_measles_under_5_": 11033,
          "deaths_meningitis_under_5_": 5218,
          "deaths_neonatal_encephalopathy_due_to_birth_asphyxia_and_trauma_under_5_": 10591,
          "deaths_neonatal_preterm_birth_under_5_": 6743,
          "deaths_neonatal_sepsis_and_other_neonatal_infections_under_5_": 3661,
          "deaths_neoplasms_under_5_": 854,
          "deaths_nutritional_deficiencies_under_5_": 6776,
          "deaths_other_neonatal_disorders_under_5_": 4134,
          "deaths_syphilis_under_5_": 2051,
          "deaths_tuberculosis_under_5_": 2131,
          "deaths_whooping_cough_under_5_": 1997,
          "entity": "Uganda",
          "year": 1993
         },
         {
          "deaths_congenital_birth_defects_under_5_": 5285,
          "deaths_diarrheal_diseases_under_5_": 16840,
          "deaths_drowning_under_5_": 403,
          "deaths_hivaids_under_5_": 20847,
          "deaths_lower_respiratory_infections_under_5_": 12949,
          "deaths_malaria_under_5_": 39235,
          "deaths_measles_under_5_": 11096,
          "deaths_meningitis_under_5_": 4804,
          "deaths_neonatal_encephalopathy_due_to_birth_asphyxia_and_trauma_under_5_": 10981,
          "deaths_neonatal_preterm_birth_under_5_": 6989,
          "deaths_neonatal_sepsis_and_other_neonatal_infections_under_5_": 3730,
          "deaths_neoplasms_under_5_": 872,
          "deaths_nutritional_deficiencies_under_5_": 6595,
          "deaths_other_neonatal_disorders_under_5_": 4241,
          "deaths_syphilis_under_5_": 2114,
          "deaths_tuberculosis_under_5_": 2129,
          "deaths_whooping_cough_under_5_": 2077,
          "entity": "Uganda",
          "year": 1994
         },
         {
          "deaths_congenital_birth_defects_under_5_": 5356,
          "deaths_diarrheal_diseases_under_5_": 16627,
          "deaths_drowning_under_5_": 394,
          "deaths_hivaids_under_5_": 20781,
          "deaths_lower_respiratory_infections_under_5_": 12983,
          "deaths_malaria_under_5_": 39761,
          "deaths_measles_under_5_": 11104,
          "deaths_meningitis_under_5_": 4808,
          "deaths_neonatal_encephalopathy_due_to_birth_asphyxia_and_trauma_under_5_": 11465,
          "deaths_neonatal_preterm_birth_under_5_": 7301,
          "deaths_neonatal_sepsis_and_other_neonatal_infections_under_5_": 3786,
          "deaths_neoplasms_under_5_": 909,
          "deaths_nutritional_deficiencies_under_5_": 6483,
          "deaths_other_neonatal_disorders_under_5_": 4385,
          "deaths_syphilis_under_5_": 2182,
          "deaths_tuberculosis_under_5_": 2131,
          "deaths_whooping_cough_under_5_": 2083,
          "entity": "Uganda",
          "year": 1995
         },
         {
          "deaths_congenital_birth_defects_under_5_": 5469,
          "deaths_diarrheal_diseases_under_5_": 16065,
          "deaths_drowning_under_5_": 393,
          "deaths_hivaids_under_5_": 20681,
          "deaths_lower_respiratory_infections_under_5_": 13056,
          "deaths_malaria_under_5_": 40620,
          "deaths_measles_under_5_": 11057,
          "deaths_meningitis_under_5_": 4846,
          "deaths_neonatal_encephalopathy_due_to_birth_asphyxia_and_trauma_under_5_": 12045,
          "deaths_neonatal_preterm_birth_under_5_": 7675,
          "deaths_neonatal_sepsis_and_other_neonatal_infections_under_5_": 3851,
          "deaths_neoplasms_under_5_": 867,
          "deaths_nutritional_deficiencies_under_5_": 6358,
          "deaths_other_neonatal_disorders_under_5_": 4488,
          "deaths_syphilis_under_5_": 2205,
          "deaths_tuberculosis_under_5_": 2145,
          "deaths_whooping_cough_under_5_": 2166,
          "entity": "Uganda",
          "year": 1996
         },
         {
          "deaths_congenital_birth_defects_under_5_": 5622,
          "deaths_diarrheal_diseases_under_5_": 15624,
          "deaths_drowning_under_5_": 388,
          "deaths_hivaids_under_5_": 20619,
          "deaths_lower_respiratory_infections_under_5_": 13190,
          "deaths_malaria_under_5_": 41723,
          "deaths_measles_under_5_": 10924,
          "deaths_meningitis_under_5_": 4911,
          "deaths_neonatal_encephalopathy_due_to_birth_asphyxia_and_trauma_under_5_": 12564,
          "deaths_neonatal_preterm_birth_under_5_": 7999,
          "deaths_neonatal_sepsis_and_other_neonatal_infections_under_5_": 3959,
          "deaths_neoplasms_under_5_": 860,
          "deaths_nutritional_deficiencies_under_5_": 6200,
          "deaths_other_neonatal_disorders_under_5_": 4594,
          "deaths_syphilis_under_5_": 2167,
          "deaths_tuberculosis_under_5_": 2170,
          "deaths_whooping_cough_under_5_": 2205,
          "entity": "Uganda",
          "year": 1997
         },
         {
          "deaths_congenital_birth_defects_under_5_": 5768,
          "deaths_diarrheal_diseases_under_5_": 14811,
          "deaths_drowning_under_5_": 379,
          "deaths_hivaids_under_5_": 20534,
          "deaths_lower_respiratory_infections_under_5_": 13288,
          "deaths_malaria_under_5_": 42967,
          "deaths_measles_under_5_": 10505,
          "deaths_meningitis_under_5_": 4956,
          "deaths_neonatal_encephalopathy_due_to_birth_asphyxia_and_trauma_under_5_": 12925,
          "deaths_neonatal_preterm_birth_under_5_": 8201,
          "deaths_neonatal_sepsis_and_other_neonatal_infections_under_5_": 4112,
          "deaths_neoplasms_under_5_": 835,
          "deaths_nutritional_deficiencies_under_5_": 5967,
          "deaths_other_neonatal_disorders_under_5_": 4685,
          "deaths_syphilis_under_5_": 2099,
          "deaths_tuberculosis_under_5_": 2181,
          "deaths_whooping_cough_under_5_": 2381,
          "entity": "Uganda",
          "year": 1998
         },
         {
          "deaths_congenital_birth_defects_under_5_": 5876,
          "deaths_diarrheal_diseases_under_5_": 13775,
          "deaths_drowning_under_5_": 372,
          "deaths_hivaids_under_5_": 20329,
          "deaths_lower_respiratory_infections_under_5_": 13144,
          "deaths_malaria_under_5_": 44122,
          "deaths_measles_under_5_": 9739,
          "deaths_meningitis_under_5_": 4940,
          "deaths_neonatal_encephalopathy_due_to_birth_asphyxia_and_trauma_under_5_": 13279,
          "deaths_neonatal_preterm_birth_under_5_": 8408,
          "deaths_neonatal_sepsis_and_other_neonatal_infections_under_5_": 4249,
          "deaths_neoplasms_under_5_": 803,
          "deaths_nutritional_deficiencies_under_5_": 5678,
          "deaths_other_neonatal_disorders_under_5_": 4772,
          "deaths_syphilis_under_5_": 2041,
          "deaths_tuberculosis_under_5_": 2153,
          "deaths_whooping_cough_under_5_": 2484,
          "entity": "Uganda",
          "year": 1999
         },
         {
          "deaths_congenital_birth_defects_under_5_": 6043,
          "deaths_diarrheal_diseases_under_5_": 12623,
          "deaths_drowning_under_5_": 363,
          "deaths_hivaids_under_5_": 20155,
          "deaths_lower_respiratory_infections_under_5_": 12943,
          "deaths_malaria_under_5_": 44784,
          "deaths_measles_under_5_": 9025,
          "deaths_meningitis_under_5_": 4945,
          "deaths_neonatal_encephalopathy_due_to_birth_asphyxia_and_trauma_under_5_": 13752,
          "deaths_neonatal_preterm_birth_under_5_": 8695,
          "deaths_neonatal_sepsis_and_other_neonatal_infections_under_5_": 4389,
          "deaths_neoplasms_under_5_": 790,
          "deaths_nutritional_deficiencies_under_5_": 5466,
          "deaths_other_neonatal_disorders_under_5_": 4903,
          "deaths_syphilis_under_5_": 2043,
          "deaths_tuberculosis_under_5_": 2110,
          "deaths_whooping_cough_under_5_": 2588,
          "entity": "Uganda",
          "year": 2000
         },
         {
          "deaths_congenital_birth_defects_under_5_": 6339,
          "deaths_diarrheal_diseases_under_5_": 11760,
          "deaths_drowning_under_5_": 382,
          "deaths_hivaids_under_5_": 19947,
          "deaths_lower_respiratory_infections_under_5_": 12903,
          "deaths_malaria_under_5_": 46425,
          "deaths_measles_under_5_": 6127,
          "deaths_meningitis_under_5_": 5074,
          "deaths_neonatal_encephalopathy_due_to_birth_asphyxia_and_trauma_under_5_": 14128,
          "deaths_neonatal_preterm_birth_under_5_": 8908,
          "deaths_neonatal_sepsis_and_other_neonatal_infections_under_5_": 4520,
          "deaths_neoplasms_under_5_": 810,
          "deaths_nutritional_deficiencies_under_5_": 5395,
          "deaths_other_neonatal_disorders_under_5_": 4957,
          "deaths_syphilis_under_5_": 2095,
          "deaths_tuberculosis_under_5_": 2093,
          "deaths_whooping_cough_under_5_": 2563,
          "entity": "Uganda",
          "year": 2001
         },
         {
          "deaths_congenital_birth_defects_under_5_": 6494,
          "deaths_diarrheal_diseases_under_5_": 10870,
          "deaths_drowning_under_5_": 380,
          "deaths_hivaids_under_5_": 19637,
          "deaths_lower_respiratory_infections_under_5_": 12587,
          "deaths_malaria_under_5_": 46838,
          "deaths_measles_under_5_": 5026,
          "deaths_meningitis_under_5_": 4854,
          "deaths_neonatal_encephalopathy_due_to_birth_asphyxia_and_trauma_under_5_": 14097,
          "deaths_neonatal_preterm_birth_under_5_": 8821,
          "deaths_neonatal_sepsis_and_other_neonatal_infections_under_5_": 4613,
          "deaths_neoplasms_under_5_": 813,
          "deaths_nutritional_deficiencies_under_5_": 5228,
          "deaths_other_neonatal_disorders_under_5_": 4883,
          "deaths_syphilis_under_5_": 2130,
          "deaths_tuberculosis_under_5_": 2019,
          "deaths_whooping_cough_under_5_": 2406,
          "entity": "Uganda",
          "year": 2002
         },
         {
          "deaths_congenital_birth_defects_under_5_": 6568,
          "deaths_diarrheal_diseases_under_5_": 9675,
          "deaths_drowning_under_5_": 378,
          "deaths_hivaids_under_5_": 19186,
          "deaths_lower_respiratory_infections_under_5_": 12091,
          "deaths_malaria_under_5_": 46054,
          "deaths_measles_under_5_": 5053,
          "deaths_meningitis_under_5_": 4761,
          "deaths_neonatal_encephalopathy_due_to_birth_asphyxia_and_trauma_under_5_": 13958,
          "deaths_neonatal_preterm_birth_under_5_": 8664,
          "deaths_neonatal_sepsis_and_other_neonatal_infections_under_5_": 4692,
          "deaths_neoplasms_under_5_": 805,
          "deaths_nutritional_deficiencies_under_5_": 4867,
          "deaths_other_neonatal_disorders_under_5_": 4791,
          "deaths_syphilis_under_5_": 2160,
          "deaths_tuberculosis_under_5_": 1900,
          "deaths_whooping_cough_under_5_": 2289,
          "entity": "Uganda",
          "year": 2003
         },
         {
          "deaths_congenital_birth_defects_under_5_": 6967,
          "deaths_diarrheal_diseases_under_5_": 9229,
          "deaths_drowning_under_5_": 398,
          "deaths_hivaids_under_5_": 18858,
          "deaths_lower_respiratory_infections_under_5_": 12410,
          "deaths_malaria_under_5_": 46340,
          "deaths_measles_under_5_": 837,
          "deaths_meningitis_under_5_": 4924,
          "deaths_neonatal_encephalopathy_due_to_birth_asphyxia_and_trauma_under_5_": 14292,
          "deaths_neonatal_preterm_birth_under_5_": 8868,
          "deaths_neonatal_sepsis_and_other_neonatal_infections_under_5_": 4840,
          "deaths_neoplasms_under_5_": 858,
          "deaths_nutritional_deficiencies_under_5_": 4945,
          "deaths_other_neonatal_disorders_under_5_": 4895,
          "deaths_syphilis_under_5_": 2238,
          "deaths_tuberculosis_under_5_": 1936,
          "deaths_whooping_cough_under_5_": 2309,
          "entity": "Uganda",
          "year": 2004
         },
         {
          "deaths_congenital_birth_defects_under_5_": 7210,
          "deaths_diarrheal_diseases_under_5_": 8607,
          "deaths_drowning_under_5_": 403,
          "deaths_hivaids_under_5_": 18296,
          "deaths_lower_respiratory_infections_under_5_": 12269,
          "deaths_malaria_under_5_": 42383,
          "deaths_measles_under_5_": 651,
          "deaths_meningitis_under_5_": 4963,
          "deaths_neonatal_encephalopathy_due_to_birth_asphyxia_and_trauma_under_5_": 14612,
          "deaths_neonatal_preterm_birth_under_5_": 9072,
          "deaths_neonatal_sepsis_and_other_neonatal_infections_under_5_": 4970,
          "deaths_neoplasms_under_5_": 926,
          "deaths_nutritional_deficiencies_under_5_": 4823,
          "deaths_other_neonatal_disorders_under_5_": 5019,
          "deaths_syphilis_under_5_": 2320,
          "deaths_tuberculosis_under_5_": 1868,
          "deaths_whooping_cough_under_5_": 2282,
          "entity": "Uganda",
          "year": 2005
         },
         {
          "deaths_congenital_birth_defects_under_5_": 7297,
          "deaths_diarrheal_diseases_under_5_": 8078,
          "deaths_drowning_under_5_": 407,
          "deaths_hivaids_under_5_": 17545,
          "deaths_lower_respiratory_infections_under_5_": 11878,
          "deaths_malaria_under_5_": 38292,
          "deaths_measles_under_5_": 963,
          "deaths_meningitis_under_5_": 4926,
          "deaths_neonatal_encephalopathy_due_to_birth_asphyxia_and_trauma_under_5_": 14747,
          "deaths_neonatal_preterm_birth_under_5_": 9161,
          "deaths_neonatal_sepsis_and_other_neonatal_infections_under_5_": 5043,
          "deaths_neoplasms_under_5_": 959,
          "deaths_nutritional_deficiencies_under_5_": 4570,
          "deaths_other_neonatal_disorders_under_5_": 5067,
          "deaths_syphilis_under_5_": 2454,
          "deaths_tuberculosis_under_5_": 1760,
          "deaths_whooping_cough_under_5_": 2392,
          "entity": "Uganda",
          "year": 2006
         },
         {
          "deaths_congenital_birth_defects_under_5_": 7230,
          "deaths_diarrheal_diseases_under_5_": 7633,
          "deaths_drowning_under_5_": 397,
          "deaths_hivaids_under_5_": 16641,
          "deaths_lower_respiratory_infections_under_5_": 11401,
          "deaths_malaria_under_5_": 36278,
          "deaths_measles_under_5_": 719,
          "deaths_meningitis_under_5_": 4722,
          "deaths_neonatal_encephalopathy_due_to_birth_asphyxia_and_trauma_under_5_": 14764,
          "deaths_neonatal_preterm_birth_under_5_": 9178,
          "deaths_neonatal_sepsis_and_other_neonatal_infections_under_5_": 5034,
          "deaths_neoplasms_under_5_": 952,
          "deaths_nutritional_deficiencies_under_5_": 4282,
          "deaths_other_neonatal_disorders_under_5_": 5101,
          "deaths_syphilis_under_5_": 2653,
          "deaths_tuberculosis_under_5_": 1649,
          "deaths_whooping_cough_under_5_": 2279,
          "entity": "Uganda",
          "year": 2007
         },
         {
          "deaths_congenital_birth_defects_under_5_": 7020,
          "deaths_diarrheal_diseases_under_5_": 7096,
          "deaths_drowning_under_5_": 367,
          "deaths_hivaids_under_5_": 15573,
          "deaths_lower_respiratory_infections_under_5_": 10768,
          "deaths_malaria_under_5_": 35275,
          "deaths_measles_under_5_": 1120,
          "deaths_meningitis_under_5_": 4392,
          "deaths_neonatal_encephalopathy_due_to_birth_asphyxia_and_trauma_under_5_": 14632,
          "deaths_neonatal_preterm_birth_under_5_": 9099,
          "deaths_neonatal_sepsis_and_other_neonatal_infections_under_5_": 4965,
          "deaths_neoplasms_under_5_": 925,
          "deaths_nutritional_deficiencies_under_5_": 3926,
          "deaths_other_neonatal_disorders_under_5_": 5102,
          "deaths_syphilis_under_5_": 2857,
          "deaths_tuberculosis_under_5_": 1522,
          "deaths_whooping_cough_under_5_": 2247,
          "entity": "Uganda",
          "year": 2008
         },
         {
          "deaths_congenital_birth_defects_under_5_": 6889,
          "deaths_diarrheal_diseases_under_5_": 6684,
          "deaths_drowning_under_5_": 355,
          "deaths_hivaids_under_5_": 14389,
          "deaths_lower_respiratory_infections_under_5_": 10271,
          "deaths_malaria_under_5_": 32638,
          "deaths_measles_under_5_": 3620,
          "deaths_meningitis_under_5_": 4153,
          "deaths_neonatal_encephalopathy_due_to_birth_asphyxia_and_trauma_under_5_": 14604,
          "deaths_neonatal_preterm_birth_under_5_": 9106,
          "deaths_neonatal_sepsis_and_other_neonatal_infections_under_5_": 4920,
          "deaths_neoplasms_under_5_": 905,
          "deaths_nutritional_deficiencies_under_5_": 3669,
          "deaths_other_neonatal_disorders_under_5_": 5169,
          "deaths_syphilis_under_5_": 3052,
          "deaths_tuberculosis_under_5_": 1414,
          "deaths_whooping_cough_under_5_": 2225,
          "entity": "Uganda",
          "year": 2009
         },
         {
          "deaths_congenital_birth_defects_under_5_": 7107,
          "deaths_diarrheal_diseases_under_5_": 6564,
          "deaths_drowning_under_5_": 384,
          "deaths_hivaids_under_5_": 12039,
          "deaths_lower_respiratory_infections_under_5_": 10381,
          "deaths_malaria_under_5_": 31749,
          "deaths_measles_under_5_": 2416,
          "deaths_meningitis_under_5_": 4266,
          "deaths_neonatal_encephalopathy_due_to_birth_asphyxia_and_trauma_under_5_": 14778,
          "deaths_neonatal_preterm_birth_under_5_": 9268,
          "deaths_neonatal_sepsis_and_other_neonatal_infections_under_5_": 4932,
          "deaths_neoplasms_under_5_": 977,
          "deaths_nutritional_deficiencies_under_5_": 3723,
          "deaths_other_neonatal_disorders_under_5_": 5334,
          "deaths_syphilis_under_5_": 3227,
          "deaths_tuberculosis_under_5_": 1419,
          "deaths_whooping_cough_under_5_": 2260,
          "entity": "Uganda",
          "year": 2010
         },
         {
          "deaths_congenital_birth_defects_under_5_": 7230,
          "deaths_diarrheal_diseases_under_5_": 6358,
          "deaths_drowning_under_5_": 395,
          "deaths_hivaids_under_5_": 8596,
          "deaths_lower_respiratory_infections_under_5_": 10236,
          "deaths_malaria_under_5_": 28354,
          "deaths_measles_under_5_": 2811,
          "deaths_meningitis_under_5_": 4284,
          "deaths_neonatal_encephalopathy_due_to_birth_asphyxia_and_trauma_under_5_": 14762,
          "deaths_neonatal_preterm_birth_under_5_": 9307,
          "deaths_neonatal_sepsis_and_other_neonatal_infections_under_5_": 4914,
          "deaths_neoplasms_under_5_": 1023,
          "deaths_nutritional_deficiencies_under_5_": 3712,
          "deaths_other_neonatal_disorders_under_5_": 5367,
          "deaths_syphilis_under_5_": 3347,
          "deaths_tuberculosis_under_5_": 1391,
          "deaths_whooping_cough_under_5_": 2413,
          "entity": "Uganda",
          "year": 2011
         },
         {
          "deaths_congenital_birth_defects_under_5_": 7327,
          "deaths_diarrheal_diseases_under_5_": 6539,
          "deaths_drowning_under_5_": 413,
          "deaths_hivaids_under_5_": 5823,
          "deaths_lower_respiratory_infections_under_5_": 10174,
          "deaths_malaria_under_5_": 22719,
          "deaths_measles_under_5_": 4531,
          "deaths_meningitis_under_5_": 4340,
          "deaths_neonatal_encephalopathy_due_to_birth_asphyxia_and_trauma_under_5_": 14702,
          "deaths_neonatal_preterm_birth_under_5_": 9312,
          "deaths_neonatal_sepsis_and_other_neonatal_infections_under_5_": 4907,
          "deaths_neoplasms_under_5_": 1075,
          "deaths_nutritional_deficiencies_under_5_": 3707,
          "deaths_other_neonatal_disorders_under_5_": 5397,
          "deaths_syphilis_under_5_": 3464,
          "deaths_tuberculosis_under_5_": 1378,
          "deaths_whooping_cough_under_5_": 2621,
          "entity": "Uganda",
          "year": 2012
         },
         {
          "deaths_congenital_birth_defects_under_5_": 7951,
          "deaths_diarrheal_diseases_under_5_": 7264,
          "deaths_drowning_under_5_": 497,
          "deaths_hivaids_under_5_": 3762,
          "deaths_lower_respiratory_infections_under_5_": 10870,
          "deaths_malaria_under_5_": 18649,
          "deaths_measles_under_5_": 2804,
          "deaths_meningitis_under_5_": 3629,
          "deaths_neonatal_encephalopathy_due_to_birth_asphyxia_and_trauma_under_5_": 14834,
          "deaths_neonatal_preterm_birth_under_5_": 9469,
          "deaths_neonatal_sepsis_and_other_neonatal_infections_under_5_": 5006,
          "deaths_neoplasms_under_5_": 1272,
          "deaths_nutritional_deficiencies_under_5_": 4181,
          "deaths_other_neonatal_disorders_under_5_": 5559,
          "deaths_syphilis_under_5_": 3687,
          "deaths_tuberculosis_under_5_": 1562,
          "deaths_whooping_cough_under_5_": 2951,
          "entity": "Uganda",
          "year": 2013
         },
         {
          "deaths_congenital_birth_defects_under_5_": 8177,
          "deaths_diarrheal_diseases_under_5_": 7497,
          "deaths_drowning_under_5_": 524,
          "deaths_hivaids_under_5_": 2519,
          "deaths_lower_respiratory_infections_under_5_": 11158,
          "deaths_malaria_under_5_": 16156,
          "deaths_measles_under_5_": 2925,
          "deaths_meningitis_under_5_": 3618,
          "deaths_neonatal_encephalopathy_due_to_birth_asphyxia_and_trauma_under_5_": 14756,
          "deaths_neonatal_preterm_birth_under_5_": 9469,
          "deaths_neonatal_sepsis_and_other_neonatal_infections_under_5_": 5019,
          "deaths_neoplasms_under_5_": 1346,
          "deaths_nutritional_deficiencies_under_5_": 4308,
          "deaths_other_neonatal_disorders_under_5_": 5626,
          "deaths_syphilis_under_5_": 3795,
          "deaths_tuberculosis_under_5_": 1627,
          "deaths_whooping_cough_under_5_": 2943,
          "entity": "Uganda",
          "year": 2014
         },
         {
          "deaths_congenital_birth_defects_under_5_": 7784,
          "deaths_diarrheal_diseases_under_5_": 6983,
          "deaths_drowning_under_5_": 489,
          "deaths_hivaids_under_5_": 1985,
          "deaths_lower_respiratory_infections_under_5_": 10264,
          "deaths_malaria_under_5_": 17948,
          "deaths_measles_under_5_": 3951,
          "deaths_meningitis_under_5_": 3203,
          "deaths_neonatal_encephalopathy_due_to_birth_asphyxia_and_trauma_under_5_": 14323,
          "deaths_neonatal_preterm_birth_under_5_": 9240,
          "deaths_neonatal_sepsis_and_other_neonatal_infections_under_5_": 4891,
          "deaths_neoplasms_under_5_": 1261,
          "deaths_nutritional_deficiencies_under_5_": 3924,
          "deaths_other_neonatal_disorders_under_5_": 5523,
          "deaths_syphilis_under_5_": 3756,
          "deaths_tuberculosis_under_5_": 1482,
          "deaths_whooping_cough_under_5_": 2787,
          "entity": "Uganda",
          "year": 2015
         },
         {
          "deaths_congenital_birth_defects_under_5_": 7872,
          "deaths_diarrheal_diseases_under_5_": 6653,
          "deaths_drowning_under_5_": 484,
          "deaths_hivaids_under_5_": 1895,
          "deaths_lower_respiratory_infections_under_5_": 10091,
          "deaths_malaria_under_5_": 21924,
          "deaths_measles_under_5_": 2289,
          "deaths_meningitis_under_5_": 3106,
          "deaths_neonatal_encephalopathy_due_to_birth_asphyxia_and_trauma_under_5_": 14888,
          "deaths_neonatal_preterm_birth_under_5_": 9764,
          "deaths_neonatal_sepsis_and_other_neonatal_infections_under_5_": 4877,
          "deaths_neoplasms_under_5_": 1258,
          "deaths_nutritional_deficiencies_under_5_": 3856,
          "deaths_other_neonatal_disorders_under_5_": 5827,
          "deaths_syphilis_under_5_": 3783,
          "deaths_tuberculosis_under_5_": 1429,
          "deaths_whooping_cough_under_5_": 2637,
          "entity": "Uganda",
          "year": 2016
         },
         {
          "deaths_congenital_birth_defects_under_5_": 7016,
          "deaths_diarrheal_diseases_under_5_": 5767,
          "deaths_drowning_under_5_": 389,
          "deaths_hivaids_under_5_": 1796,
          "deaths_lower_respiratory_infections_under_5_": 8271,
          "deaths_malaria_under_5_": 21887,
          "deaths_measles_under_5_": 2218,
          "deaths_meningitis_under_5_": 2552,
          "deaths_neonatal_encephalopathy_due_to_birth_asphyxia_and_trauma_under_5_": 14002,
          "deaths_neonatal_preterm_birth_under_5_": 9148,
          "deaths_neonatal_sepsis_and_other_neonatal_infections_under_5_": 4650,
          "deaths_neoplasms_under_5_": 1072,
          "deaths_nutritional_deficiencies_under_5_": 3117,
          "deaths_other_neonatal_disorders_under_5_": 5487,
          "deaths_syphilis_under_5_": 3702,
          "deaths_tuberculosis_under_5_": 1118,
          "deaths_whooping_cough_under_5_": 2206,
          "entity": "Uganda",
          "year": 2017
         },
         {
          "deaths_congenital_birth_defects_under_5_": 6832,
          "deaths_diarrheal_diseases_under_5_": 5190,
          "deaths_drowning_under_5_": 365,
          "deaths_hivaids_under_5_": 1783,
          "deaths_lower_respiratory_infections_under_5_": 7649,
          "deaths_malaria_under_5_": 17760,
          "deaths_measles_under_5_": 3565,
          "deaths_meningitis_under_5_": 2378,
          "deaths_neonatal_encephalopathy_due_to_birth_asphyxia_and_trauma_under_5_": 13428,
          "deaths_neonatal_preterm_birth_under_5_": 8783,
          "deaths_neonatal_sepsis_and_other_neonatal_infections_under_5_": 4578,
          "deaths_neoplasms_under_5_": 1048,
          "deaths_nutritional_deficiencies_under_5_": 2856,
          "deaths_other_neonatal_disorders_under_5_": 5298,
          "deaths_syphilis_under_5_": 4470,
          "deaths_tuberculosis_under_5_": 1001,
          "deaths_whooping_cough_under_5_": 2166,
          "entity": "Uganda",
          "year": 2018
         },
         {
          "deaths_congenital_birth_defects_under_5_": 6471,
          "deaths_diarrheal_diseases_under_5_": 4493,
          "deaths_drowning_under_5_": 332,
          "deaths_hivaids_under_5_": 1776,
          "deaths_lower_respiratory_infections_under_5_": 6886,
          "deaths_malaria_under_5_": 17386,
          "deaths_measles_under_5_": 3759,
          "deaths_meningitis_under_5_": 2156,
          "deaths_neonatal_encephalopathy_due_to_birth_asphyxia_and_trauma_under_5_": 12788,
          "deaths_neonatal_preterm_birth_under_5_": 8360,
          "deaths_neonatal_sepsis_and_other_neonatal_infections_under_5_": 4431,
          "deaths_neoplasms_under_5_": 983,
          "deaths_nutritional_deficiencies_under_5_": 2545,
          "deaths_other_neonatal_disorders_under_5_": 5060,
          "deaths_syphilis_under_5_": 5943,
          "deaths_tuberculosis_under_5_": 874,
          "deaths_whooping_cough_under_5_": 2102,
          "entity": "Uganda",
          "year": 2019
         }
        ]
       },
       "height": 400,
       "layer": [
        {
         "data": {
          "name": "data-e3cb4f07d9f61f08d3ac355056052134"
         },
         "encoding": {
          "color": {
           "field": "entity",
           "legend": null,
           "scale": {
            "scheme": "greys"
           },
           "type": "nominal"
          },
          "opacity": {
           "value": 0.8
          },
          "x": {
           "field": "year",
           "type": "ordinal"
          },
          "y": {
           "axis": {
            "tickCount": 6
           },
           "field": "deaths_tuberculosis_under_5_",
           "type": "quantitative"
          }
         },
         "mark": {
          "point": true,
          "type": "line"
         }
        },
        {
         "data": {
          "name": "data-8df3b2ce3c2ce15608d91585717319c8"
         },
         "encoding": {
          "color": {
           "condition": {
            "test": "(datum.entity === 'Kenya')",
            "value": "darkorange"
           },
           "value": "grey"
          },
          "x": {
           "field": "year",
           "type": "ordinal"
          },
          "y": {
           "axis": {
            "tickCount": 6
           },
           "field": "deaths_tuberculosis_under_5_",
           "type": "quantitative"
          }
         },
         "mark": {
          "color": "darkorange",
          "point": true,
          "type": "line"
         },
         "title": "Under 5 deaths from Tuberculosis among Kenya and her neighbors"
        },
        {
         "data": {
          "name": "data-e3cb4f07d9f61f08d3ac355056052134"
         },
         "encoding": {
          "color": {
           "condition": {
            "test": "(datum.entity === 'Kenya')",
            "value": "darkorange"
           },
           "value": "grey"
          },
          "opacity": {
           "value": 0.8
          },
          "text": {
           "field": "entity",
           "type": "ordinal"
          },
          "x": {
           "aggregate": "max",
           "field": "year",
           "title": "",
           "type": "ordinal"
          },
          "y": {
           "aggregate": {
            "argmax": "year"
           },
           "field": "deaths_tuberculosis_under_5_",
           "title": "",
           "type": "quantitative"
          }
         },
         "mark": {
          "align": "left",
          "dx": 3,
          "type": "text"
         }
        }
       ],
       "title": {
        "anchor": "start",
        "color": "darkorange",
        "fontSize": 14,
        "offset": 10,
        "subtitle": "Annual reported TB deaths of under 5 in Kenya and other East African countries, from 1990 to 2019.",
        "subtitleColor": "gray",
        "subtitleFontSize": 14,
        "text": "Number of deaths from tuberculosis; children under 5 years"
       },
       "width": 1200
      },
      "text/plain": [
       "<VegaLite 5 object>\n",
       "\n",
       "If you see this message, it means the renderer has not been properly enabled\n",
       "for the frontend that you are using. For more information, see\n",
       "https://altair-viz.github.io/user_guide/display_frontends.html#troubleshooting\n"
      ]
     },
     "execution_count": 6,
     "metadata": {},
     "output_type": "execute_result"
    }
   ],
   "source": [
    "linechart = alt.Chart(death_cause_df[death_cause_df.entity.str.contains('Kenya|Uganda|Tanzania|Sudan|South Sudan|Rwanda|Djibouti')]).mark_line(point=True).encode(\n",
    "    alt.X('year:O'),\n",
    "    alt.Y('deaths_tuberculosis_under_5_:Q', axis=alt.Axis(tickCount=6)), \n",
    "    alt.OpacityValue(0.8),\n",
    "    alt.Color(\"entity\", scale=alt.Scale(scheme=\"greys\"), legend=None),\n",
    "    #tooltip=['entity','deaths_tuberculosis_under_5_:Q']\n",
    ")\n",
    "\n",
    "kenyachart = alt.Chart(death_cause_df[death_cause_df.entity.str.contains('Kenya')], \n",
    "                  title=\"Under 5 deaths from Tuberculosis among Kenya and her neighbors\").mark_line(point=True, color=\"darkorange\").encode(\n",
    "    alt.X('year:O'),\n",
    "    alt.Y('deaths_tuberculosis_under_5_:Q', axis=alt.Axis(tickCount=6)),\n",
    "    color=alt.condition(alt.datum.entity == \"Kenya\" , alt.value(\"darkorange\"), alt.value(\"grey\"))\n",
    ")\n",
    "\n",
    "country_list =['Kenya','Uganda','Tanzania','Sudan','South Sudan','Rwanda','Djibouti']\n",
    "\n",
    "label = linechart.mark_text(dx=3, align='left').encode(alt.X('max(year):O', title=\"\"),\n",
    "                                                   alt.Y('deaths_tuberculosis_under_5_:Q',  aggregate={'argmax':'year'}, title=\"\"),\n",
    "                                                   alt.Text('entity:O'),\n",
    "                                                   color=alt.condition(alt.datum.entity == \"Kenya\" , alt.value(\"darkorange\"), alt.value(\"grey\")))\n",
    "\n",
    "(linechart + kenyachart + label).properties(width=1200, height=400,\n",
    "                                            title={\"text\":\"Number of deaths from tuberculosis; children under 5 years\",\n",
    "                                                   \"fontSize\":14,\n",
    "                                                   \"color\":\"darkorange\",\n",
    "                                                   \"anchor\":\"start\",\n",
    "                                                   \"offset\":10,\n",
    "                                                   \"subtitle\":\"Annual reported TB deaths of under 5 in Kenya and other East African countries, from 1990 to 2019.\",\n",
    "                                                   \"subtitleFontSize\":14,\n",
    "                                                   \"subtitleColor\":\"gray\"}\n",
    "                                           ).configure_view(stroke=None)"
   ]
  },
  {
   "cell_type": "markdown",
   "id": "a7ac0fb3-30a1-4af5-801d-0f89802a97a3",
   "metadata": {},
   "source": [
    "### Under five causes of death slope chart"
   ]
  },
  {
   "cell_type": "code",
   "execution_count": 7,
   "id": "ef7b6ccd-0f5a-40b7-bd40-68b43bfc92d5",
   "metadata": {
    "tags": []
   },
   "outputs": [
    {
     "data": {
      "application/vnd.vegalite.v5+json": {
       "$schema": "https://vega.github.io/schema/vega-lite/v5.14.1.json",
       "config": {
        "view": {
         "continuousHeight": 300,
         "continuousWidth": 300,
         "stroke": null
        }
       },
       "data": {
        "name": "data-4f07ad8fdf25c5f27d5a8f362b8763dc"
       },
       "datasets": {
        "data-4f07ad8fdf25c5f27d5a8f362b8763dc": [
         {
          "deaths_congenital_birth_defects_under_5_": 3688,
          "deaths_diarrheal_diseases_under_5_": 12453,
          "deaths_drowning_under_5_": 269,
          "deaths_hivaids_under_5_": 6836,
          "deaths_lower_respiratory_infections_under_5_": 15821,
          "deaths_malaria_under_5_": 9707,
          "deaths_measles_under_5_": 7286,
          "deaths_meningitis_under_5_": 2772,
          "deaths_neonatal_encephalopathy_due_to_birth_asphyxia_and_trauma_under_5_": 5401,
          "deaths_neonatal_preterm_birth_under_5_": 4832,
          "deaths_neonatal_sepsis_and_other_neonatal_infections_under_5_": 3050,
          "deaths_neoplasms_under_5_": 420,
          "deaths_nutritional_deficiencies_under_5_": 5444,
          "deaths_other_neonatal_disorders_under_5_": 3855,
          "deaths_syphilis_under_5_": 1542,
          "deaths_tuberculosis_under_5_": 999,
          "deaths_whooping_cough_under_5_": 1210,
          "year": 1990
         },
         {
          "deaths_congenital_birth_defects_under_5_": 3239,
          "deaths_diarrheal_diseases_under_5_": 7847,
          "deaths_drowning_under_5_": 123,
          "deaths_hivaids_under_5_": 2540,
          "deaths_lower_respiratory_infections_under_5_": 6307,
          "deaths_malaria_under_5_": 4618,
          "deaths_measles_under_5_": 369,
          "deaths_meningitis_under_5_": 916,
          "deaths_neonatal_encephalopathy_due_to_birth_asphyxia_and_trauma_under_5_": 6686,
          "deaths_neonatal_preterm_birth_under_5_": 4362,
          "deaths_neonatal_sepsis_and_other_neonatal_infections_under_5_": 3313,
          "deaths_neoplasms_under_5_": 350,
          "deaths_nutritional_deficiencies_under_5_": 2229,
          "deaths_other_neonatal_disorders_under_5_": 3746,
          "deaths_syphilis_under_5_": 899,
          "deaths_tuberculosis_under_5_": 316,
          "deaths_whooping_cough_under_5_": 962,
          "year": 2019
         }
        ]
       },
       "height": 500,
       "layer": [
        {
         "encoding": {
          "color": {
           "field": "key",
           "legend": null,
           "scale": {
            "scheme": "greys"
           },
           "type": "nominal"
          },
          "opacity": {
           "value": 0.8
          },
          "x": {
           "field": "year",
           "title": "",
           "type": "ordinal"
          },
          "y": {
           "axis": {
            "tickCount": 4
           },
           "field": "value",
           "title": "number of deaths",
           "type": "quantitative"
          }
         },
         "mark": {
          "type": "line"
         },
         "transform": [
          {
           "fold": [
            "deaths_malaria_under_5_",
            "deaths_hivaids_under_5_",
            "deaths_meningitis_under_5_",
            "deaths_nutritional_deficiencies_under_5_",
            "deaths_lower_respiratory_infections_under_5_",
            "deaths_measles_under_5_",
            "deaths_neonatal_sepsis_and_other_neonatal_infections_under_5_",
            "deaths_neonatal_encephalopathy_due_to_birth_asphyxia_and_trauma_under_5_",
            "deaths_tuberculosis_under_5_",
            "deaths_diarrheal_diseases_under_5_"
           ]
          }
         ]
        },
        {
         "encoding": {
          "color": {
           "field": "key",
           "legend": null,
           "scale": {
            "scheme": "greys"
           },
           "type": "nominal"
          },
          "opacity": {
           "value": 0.8
          },
          "text": {
           "field": "key",
           "type": "nominal"
          },
          "x": {
           "aggregate": "min",
           "field": "year",
           "title": "",
           "type": "ordinal"
          },
          "y": {
           "aggregate": {
            "argmin": "year"
           },
           "field": "value",
           "title": "",
           "type": "quantitative"
          }
         },
         "mark": {
          "align": "right",
          "baseline": "middle",
          "dx": -40,
          "dy": 0,
          "fontWeight": "bold",
          "type": "text"
         },
         "transform": [
          {
           "fold": [
            "deaths_malaria_under_5_",
            "deaths_hivaids_under_5_",
            "deaths_meningitis_under_5_",
            "deaths_nutritional_deficiencies_under_5_",
            "deaths_lower_respiratory_infections_under_5_",
            "deaths_measles_under_5_",
            "deaths_neonatal_sepsis_and_other_neonatal_infections_under_5_",
            "deaths_neonatal_encephalopathy_due_to_birth_asphyxia_and_trauma_under_5_",
            "deaths_tuberculosis_under_5_",
            "deaths_diarrheal_diseases_under_5_"
           ]
          }
         ]
        },
        {
         "encoding": {
          "color": {
           "field": "key",
           "legend": null,
           "scale": {
            "scheme": "greys"
           },
           "type": "nominal"
          },
          "opacity": {
           "value": 0.8
          },
          "text": {
           "field": "key",
           "type": "nominal"
          },
          "x": {
           "aggregate": "max",
           "field": "year",
           "title": "",
           "type": "ordinal"
          },
          "y": {
           "aggregate": {
            "argmax": "year"
           },
           "field": "value",
           "title": "",
           "type": "quantitative"
          }
         },
         "mark": {
          "align": "left",
          "baseline": "middle",
          "dx": 40,
          "dy": 0,
          "fontWeight": "bold",
          "type": "text"
         },
         "transform": [
          {
           "fold": [
            "deaths_malaria_under_5_",
            "deaths_hivaids_under_5_",
            "deaths_meningitis_under_5_",
            "deaths_nutritional_deficiencies_under_5_",
            "deaths_lower_respiratory_infections_under_5_",
            "deaths_measles_under_5_",
            "deaths_neonatal_sepsis_and_other_neonatal_infections_under_5_",
            "deaths_neonatal_encephalopathy_due_to_birth_asphyxia_and_trauma_under_5_",
            "deaths_tuberculosis_under_5_",
            "deaths_diarrheal_diseases_under_5_"
           ]
          }
         ]
        }
       ],
       "width": {
        "step": 300
       }
      },
      "text/plain": [
       "<VegaLite 5 object>\n",
       "\n",
       "If you see this message, it means the renderer has not been properly enabled\n",
       "for the frontend that you are using. For more information, see\n",
       "https://altair-viz.github.io/user_guide/display_frontends.html#troubleshooting\n"
      ]
     },
     "execution_count": 7,
     "metadata": {},
     "output_type": "execute_result"
    }
   ],
   "source": [
    "slope = alt.Chart(kenya_under5_df[(kenya_under5_df.year == kenya_under5_df.year.min()) | (kenya_under5_df.year == kenya_under5_df.year.max())]).transform_fold(\n",
    "['deaths_malaria_under_5_','deaths_hivaids_under_5_',\n",
    " 'deaths_meningitis_under_5_','deaths_nutritional_deficiencies_under_5_',\n",
    " 'deaths_lower_respiratory_infections_under_5_','deaths_measles_under_5_',\n",
    " 'deaths_neonatal_sepsis_and_other_neonatal_infections_under_5_',\n",
    " 'deaths_neonatal_encephalopathy_due_to_birth_asphyxia_and_trauma_under_5_',\n",
    " 'deaths_tuberculosis_under_5_','deaths_diarrheal_diseases_under_5_'],\n",
    ").mark_line().encode(\n",
    "    alt.X('year:O', title=\"\"),\n",
    "    alt.Y('value:Q', title=\"number of deaths\", axis=alt.Axis(tickCount=4)),\n",
    "    alt.Color('key:N', scale=alt.Scale(scheme=\"greys\"), legend=None),\n",
    "    alt.OpacityValue(0.8)).properties(width={\"step\":300},height=500)\n",
    "\n",
    "labeltextmax = slope.mark_text(dx=40, dy=0,\n",
    "                            align='left', baseline='middle',\n",
    "                            fontWeight='bold').encode(alt.X('max(year):O', title=\"\"),\n",
    "                                                   alt.Y('value:Q',  aggregate={'argmax':'year'}, title=\"\"),\n",
    "                                                   alt.Text('key:N'))\n",
    "labelvaluemax = slope.mark_text(dx=20, dy=0, \n",
    "                                align='left', baseline='middle').encode(alt.X('max(year):O', title=\"\"),\n",
    "                                                                        alt.Y('value:Q', aggregate={'argmax':'year'}),\n",
    "                                                                        alt.Text(\"value:Q\"))\n",
    "\n",
    "labeltextmin = slope.mark_text(dx=-40, dy=0,\n",
    "                            align='right', baseline='middle',\n",
    "                            fontWeight='bold').encode(alt.X('min(year):O', title=\"\"),\n",
    "                                                   alt.Y('value:Q',  aggregate={'argmin':'year'}, title=\"\"),\n",
    "                                                   alt.Text('key:N'))\n",
    "\n",
    "labelvaluemin = slope.mark_text(dx=-20, dy=0, \n",
    "                                align='right', baseline='middle').encode(alt.X('min(year):O', title=\"\"),\n",
    "                                                                        alt.Y('value:Q', aggregate={'argmin':'year'}),\n",
    "                                                                        alt.Text(\"value:Q\"))\n",
    "\n",
    "(slope + labeltextmin + labeltextmax).properties().configure_view(stroke=None)\n"
   ]
  },
  {
   "cell_type": "markdown",
   "id": "78e56139-89c1-4175-9527-8051f365edb0",
   "metadata": {},
   "source": [
    "### Age group tb deaths normalized stacked bar chart"
   ]
  },
  {
   "cell_type": "code",
   "execution_count": 8,
   "id": "4f89c7e6-4b2c-4a37-a10e-ba7c45ab3c80",
   "metadata": {},
   "outputs": [
    {
     "data": {
      "application/vnd.vegalite.v5+json": {
       "$schema": "https://vega.github.io/schema/vega-lite/v5.14.1.json",
       "config": {
        "view": {
         "continuousHeight": 300,
         "continuousWidth": 300
        }
       },
       "data": {
        "name": "data-398776269df7c900e5ccab5b7931df2b"
       },
       "datasets": {
        "data-398776269df7c900e5ccab5b7931df2b": [
         {
          "deaths_tuberculosis_15-49_years_rate": 33.31,
          "deaths_tuberculosis_5-14_years_rate": 2,
          "deaths_tuberculosis_50-69_years_rate": 207.85,
          "deaths_tuberculosis_70+_years_rate": 664.95,
          "deaths_tuberculosis_under_5_rate": 22.99,
          "year": 1990
         },
         {
          "deaths_tuberculosis_15-49_years_rate": 33.5,
          "deaths_tuberculosis_5-14_years_rate": 1.97,
          "deaths_tuberculosis_50-69_years_rate": 205.82,
          "deaths_tuberculosis_70+_years_rate": 652.83,
          "deaths_tuberculosis_under_5_rate": 21.24,
          "year": 1991
         },
         {
          "deaths_tuberculosis_15-49_years_rate": 34.23,
          "deaths_tuberculosis_5-14_years_rate": 1.95,
          "deaths_tuberculosis_50-69_years_rate": 207.05,
          "deaths_tuberculosis_70+_years_rate": 650.55,
          "deaths_tuberculosis_under_5_rate": 19.91,
          "year": 1992
         },
         {
          "deaths_tuberculosis_15-49_years_rate": 34.98,
          "deaths_tuberculosis_5-14_years_rate": 1.93,
          "deaths_tuberculosis_50-69_years_rate": 208.76,
          "deaths_tuberculosis_70+_years_rate": 650.42,
          "deaths_tuberculosis_under_5_rate": 18.73,
          "year": 1993
         },
         {
          "deaths_tuberculosis_15-49_years_rate": 35.53,
          "deaths_tuberculosis_5-14_years_rate": 1.89,
          "deaths_tuberculosis_50-69_years_rate": 208.74,
          "deaths_tuberculosis_70+_years_rate": 645.17,
          "deaths_tuberculosis_under_5_rate": 17.56,
          "year": 1994
         },
         {
          "deaths_tuberculosis_15-49_years_rate": 35.84,
          "deaths_tuberculosis_5-14_years_rate": 1.84,
          "deaths_tuberculosis_50-69_years_rate": 207.83,
          "deaths_tuberculosis_70+_years_rate": 635.56,
          "deaths_tuberculosis_under_5_rate": 16.41,
          "year": 1995
         },
         {
          "deaths_tuberculosis_15-49_years_rate": 36.13,
          "deaths_tuberculosis_5-14_years_rate": 1.76,
          "deaths_tuberculosis_50-69_years_rate": 207.34,
          "deaths_tuberculosis_70+_years_rate": 626.01,
          "deaths_tuberculosis_under_5_rate": 15.36,
          "year": 1996
         },
         {
          "deaths_tuberculosis_15-49_years_rate": 37.01,
          "deaths_tuberculosis_5-14_years_rate": 1.73,
          "deaths_tuberculosis_50-69_years_rate": 210.69,
          "deaths_tuberculosis_70+_years_rate": 626.03,
          "deaths_tuberculosis_under_5_rate": 14.49,
          "year": 1997
         },
         {
          "deaths_tuberculosis_15-49_years_rate": 38.26,
          "deaths_tuberculosis_5-14_years_rate": 1.7,
          "deaths_tuberculosis_50-69_years_rate": 216.3,
          "deaths_tuberculosis_70+_years_rate": 630.93,
          "deaths_tuberculosis_under_5_rate": 13.67,
          "year": 1998
         },
         {
          "deaths_tuberculosis_15-49_years_rate": 38.9,
          "deaths_tuberculosis_5-14_years_rate": 1.65,
          "deaths_tuberculosis_50-69_years_rate": 218.01,
          "deaths_tuberculosis_70+_years_rate": 627.17,
          "deaths_tuberculosis_under_5_rate": 12.87,
          "year": 1999
         },
         {
          "deaths_tuberculosis_15-49_years_rate": 40.41,
          "deaths_tuberculosis_5-14_years_rate": 1.67,
          "deaths_tuberculosis_50-69_years_rate": 223.14,
          "deaths_tuberculosis_70+_years_rate": 627.67,
          "deaths_tuberculosis_under_5_rate": 12.71,
          "year": 2000
         },
         {
          "deaths_tuberculosis_15-49_years_rate": 41.13,
          "deaths_tuberculosis_5-14_years_rate": 1.62,
          "deaths_tuberculosis_50-69_years_rate": 223.54,
          "deaths_tuberculosis_70+_years_rate": 616.84,
          "deaths_tuberculosis_under_5_rate": 11.66,
          "year": 2001
         },
         {
          "deaths_tuberculosis_15-49_years_rate": 42.49,
          "deaths_tuberculosis_5-14_years_rate": 1.62,
          "deaths_tuberculosis_50-69_years_rate": 226.82,
          "deaths_tuberculosis_70+_years_rate": 612.44,
          "deaths_tuberculosis_under_5_rate": 11.02,
          "year": 2002
         },
         {
          "deaths_tuberculosis_15-49_years_rate": 44.17,
          "deaths_tuberculosis_5-14_years_rate": 1.75,
          "deaths_tuberculosis_50-69_years_rate": 229.52,
          "deaths_tuberculosis_70+_years_rate": 603.89,
          "deaths_tuberculosis_under_5_rate": 10.77,
          "year": 2003
         },
         {
          "deaths_tuberculosis_15-49_years_rate": 44.71,
          "deaths_tuberculosis_5-14_years_rate": 1.72,
          "deaths_tuberculosis_50-69_years_rate": 226.78,
          "deaths_tuberculosis_70+_years_rate": 587.54,
          "deaths_tuberculosis_under_5_rate": 10.14,
          "year": 2004
         },
         {
          "deaths_tuberculosis_15-49_years_rate": 44.48,
          "deaths_tuberculosis_5-14_years_rate": 1.67,
          "deaths_tuberculosis_50-69_years_rate": 222.04,
          "deaths_tuberculosis_70+_years_rate": 571.29,
          "deaths_tuberculosis_under_5_rate": 9.81,
          "year": 2005
         },
         {
          "deaths_tuberculosis_15-49_years_rate": 43.92,
          "deaths_tuberculosis_5-14_years_rate": 1.64,
          "deaths_tuberculosis_50-69_years_rate": 217.33,
          "deaths_tuberculosis_70+_years_rate": 558.04,
          "deaths_tuberculosis_under_5_rate": 9.48,
          "year": 2006
         },
         {
          "deaths_tuberculosis_15-49_years_rate": 43.16,
          "deaths_tuberculosis_5-14_years_rate": 1.65,
          "deaths_tuberculosis_50-69_years_rate": 213.21,
          "deaths_tuberculosis_70+_years_rate": 547.6,
          "deaths_tuberculosis_under_5_rate": 9.29,
          "year": 2007
         },
         {
          "deaths_tuberculosis_15-49_years_rate": 42.42,
          "deaths_tuberculosis_5-14_years_rate": 1.64,
          "deaths_tuberculosis_50-69_years_rate": 208.69,
          "deaths_tuberculosis_70+_years_rate": 540.11,
          "deaths_tuberculosis_under_5_rate": 8.87,
          "year": 2008
         },
         {
          "deaths_tuberculosis_15-49_years_rate": 41.63,
          "deaths_tuberculosis_5-14_years_rate": 1.65,
          "deaths_tuberculosis_50-69_years_rate": 203.64,
          "deaths_tuberculosis_70+_years_rate": 530.21,
          "deaths_tuberculosis_under_5_rate": 8.76,
          "year": 2009
         },
         {
          "deaths_tuberculosis_15-49_years_rate": 40.53,
          "deaths_tuberculosis_5-14_years_rate": 1.68,
          "deaths_tuberculosis_50-69_years_rate": 196.7,
          "deaths_tuberculosis_70+_years_rate": 514.01,
          "deaths_tuberculosis_under_5_rate": 9.04,
          "year": 2010
         },
         {
          "deaths_tuberculosis_15-49_years_rate": 39.31,
          "deaths_tuberculosis_5-14_years_rate": 1.7,
          "deaths_tuberculosis_50-69_years_rate": 189.48,
          "deaths_tuberculosis_70+_years_rate": 496.94,
          "deaths_tuberculosis_under_5_rate": 9.04,
          "year": 2011
         },
         {
          "deaths_tuberculosis_15-49_years_rate": 37.87,
          "deaths_tuberculosis_5-14_years_rate": 1.61,
          "deaths_tuberculosis_50-69_years_rate": 181.79,
          "deaths_tuberculosis_70+_years_rate": 480.82,
          "deaths_tuberculosis_under_5_rate": 8.43,
          "year": 2012
         },
         {
          "deaths_tuberculosis_15-49_years_rate": 36.53,
          "deaths_tuberculosis_5-14_years_rate": 1.53,
          "deaths_tuberculosis_50-69_years_rate": 175.05,
          "deaths_tuberculosis_70+_years_rate": 469.93,
          "deaths_tuberculosis_under_5_rate": 8.1,
          "year": 2013
         },
         {
          "deaths_tuberculosis_15-49_years_rate": 35.45,
          "deaths_tuberculosis_5-14_years_rate": 1.46,
          "deaths_tuberculosis_50-69_years_rate": 170.16,
          "deaths_tuberculosis_70+_years_rate": 463.88,
          "deaths_tuberculosis_under_5_rate": 7.66,
          "year": 2014
         },
         {
          "deaths_tuberculosis_15-49_years_rate": 34.14,
          "deaths_tuberculosis_5-14_years_rate": 1.36,
          "deaths_tuberculosis_50-69_years_rate": 164.84,
          "deaths_tuberculosis_70+_years_rate": 456.87,
          "deaths_tuberculosis_under_5_rate": 6.97,
          "year": 2015
         },
         {
          "deaths_tuberculosis_15-49_years_rate": 32.51,
          "deaths_tuberculosis_5-14_years_rate": 1.26,
          "deaths_tuberculosis_50-69_years_rate": 157.63,
          "deaths_tuberculosis_70+_years_rate": 442.07,
          "deaths_tuberculosis_under_5_rate": 6.26,
          "year": 2016
         },
         {
          "deaths_tuberculosis_15-49_years_rate": 30.87,
          "deaths_tuberculosis_5-14_years_rate": 1.19,
          "deaths_tuberculosis_50-69_years_rate": 149.47,
          "deaths_tuberculosis_70+_years_rate": 423.93,
          "deaths_tuberculosis_under_5_rate": 5.94,
          "year": 2017
         },
         {
          "deaths_tuberculosis_15-49_years_rate": 29.36,
          "deaths_tuberculosis_5-14_years_rate": 1.11,
          "deaths_tuberculosis_50-69_years_rate": 141.42,
          "deaths_tuberculosis_70+_years_rate": 403.78,
          "deaths_tuberculosis_under_5_rate": 5.36,
          "year": 2018
         },
         {
          "deaths_tuberculosis_15-49_years_rate": 28.14,
          "deaths_tuberculosis_5-14_years_rate": 1.03,
          "deaths_tuberculosis_50-69_years_rate": 134.91,
          "deaths_tuberculosis_70+_years_rate": 387.02,
          "deaths_tuberculosis_under_5_rate": 4.92,
          "year": 2019
         }
        ]
       },
       "encoding": {
        "color": {
         "field": "key",
         "legend": {
          "orient": "top",
          "title": ""
         },
         "scale": {
          "scheme": "viridis"
         },
         "type": "nominal"
        },
        "opacity": {
         "condition": {
          "param": "param_2",
          "value": 1
         },
         "value": 0.3
        },
        "x": {
         "field": "year",
         "title": "",
         "type": "ordinal"
        },
        "y": {
         "axis": {
          "format": "%",
          "tickCount": 5
         },
         "field": "value",
         "stack": "normalize",
         "title": "",
         "type": "quantitative"
        }
       },
       "height": 400,
       "mark": {
        "type": "bar"
       },
       "params": [
        {
         "bind": "legend",
         "name": "param_2",
         "select": {
          "fields": [
           "key"
          ],
          "type": "point"
         }
        }
       ],
       "title": {
        "anchor": "start",
        "offset": 10,
        "subtitle": "Data visualized in contribution of each age group to the overall reported deaths. 5-14 years age group making up the lowest numbers in mortality rates resulting from TB while 70+ years makes up for the highest numbers",
        "subtitleFontSize": 12,
        "text": "TB Deaths Rates In Kenya in 5 key age groups"
       },
       "transform": [
        {
         "fold": [
          "deaths_tuberculosis_under_5_rate",
          "deaths_tuberculosis_70+_years_rate",
          "deaths_tuberculosis_5-14_years_rate",
          "deaths_tuberculosis_15-49_years_rate",
          "deaths_tuberculosis_50-69_years_rate"
         ]
        }
       ],
       "width": 1200
      },
      "text/plain": [
       "<VegaLite 5 object>\n",
       "\n",
       "If you see this message, it means the renderer has not been properly enabled\n",
       "for the frontend that you are using. For more information, see\n",
       "https://altair-viz.github.io/user_guide/display_frontends.html#troubleshooting\n"
      ]
     },
     "execution_count": 8,
     "metadata": {},
     "output_type": "execute_result"
    }
   ],
   "source": [
    "selection = alt.selection_single(fields=['key'], bind='legend')\n",
    "\n",
    "alt.Chart(age_group).transform_fold([\n",
    "    'deaths_tuberculosis_under_5_rate',\n",
    "    'deaths_tuberculosis_70+_years_rate',\n",
    "    'deaths_tuberculosis_5-14_years_rate',\n",
    "    'deaths_tuberculosis_15-49_years_rate',\n",
    "    'deaths_tuberculosis_50-69_years_rate']).mark_bar().encode(\n",
    "alt.X('year:O', title=\"\"),\n",
    "alt.Y('value:Q', stack='normalize', axis=alt.Axis(format=\"%\", tickCount=5), title=\"\"),\n",
    "alt.Color('key:N', scale=alt.Scale(scheme='viridis'),\n",
    "                                   #domain=['Below 5 Years','70+ Years','5-14 Years','15-49 Years','50-69 Years']),\n",
    "                                   legend=alt.Legend(orient=\"top\", title=\"\")),\n",
    "opacity=alt.condition(selection, alt.value(1), alt.value(0.3))).add_selection(selection).properties(\n",
    "    height=400,\n",
    "    width=1200,\n",
    "    title={\"text\":\"TB Deaths Rates In Kenya in 5 key age groups\",\n",
    "           \"anchor\":\"start\",\n",
    "           \"offset\":10,\n",
    "           \"subtitle\":\"Data visualized in contribution of each age group to the overall reported deaths. 5-14 years age group making up the lowest numbers in mortality rates resulting from TB while 70+ years makes up for the highest numbers\",\n",
    "           \"subtitleFontSize\":12})"
   ]
  },
  {
   "cell_type": "code",
   "execution_count": 9,
   "id": "34ae0b34-a978-4422-9b23-aa63967f0db1",
   "metadata": {},
   "outputs": [
    {
     "data": {
      "text/plain": [
       "3000    2.469123\n",
       "3001    2.320399\n",
       "3002    2.179076\n",
       "3003    2.047397\n",
       "3004    1.932027\n",
       "3005    1.828453\n",
       "3006    1.732461\n",
       "3007    1.628181\n",
       "3008    1.517439\n",
       "3009    1.432228\n",
       "3010    1.403489\n",
       "3011    1.303099\n",
       "3012    1.232125\n",
       "3013    1.209976\n",
       "3014    1.164326\n",
       "3015    1.155082\n",
       "3016    1.141605\n",
       "3017    1.140003\n",
       "3018    1.106358\n",
       "3019    1.114660\n",
       "3020    1.186414\n",
       "3021    1.227477\n",
       "3022    1.186455\n",
       "3023    1.171977\n",
       "3024    1.128778\n",
       "3025    1.049414\n",
       "3026    0.978538\n",
       "3027    0.971541\n",
       "3028    0.922500\n",
       "3029    0.884860\n",
       "dtype: float64"
      ]
     },
     "execution_count": 9,
     "metadata": {},
     "output_type": "execute_result"
    }
   ],
   "source": [
    "(age_group['deaths_tuberculosis_under_5_rate']/((age_group['deaths_tuberculosis_under_5_rate']+age_group['deaths_tuberculosis_70+_years_rate']+age_group['deaths_tuberculosis_5-14_years_rate']+age_group['deaths_tuberculosis_15-49_years_rate']+age_group['deaths_tuberculosis_50-69_years_rate'])))*100"
   ]
  },
  {
   "cell_type": "code",
   "execution_count": null,
   "id": "05804548-57cb-466a-9121-a12b266cbfb9",
   "metadata": {},
   "outputs": [],
   "source": []
  },
  {
   "cell_type": "code",
   "execution_count": 10,
   "id": "82fd3d3a-1413-484e-899f-368f48d08d5b",
   "metadata": {
    "tags": []
   },
   "outputs": [],
   "source": [
    "#for year in age_group.year:print(age_group.deaths_tuberculosis_under_5_rate)"
   ]
  },
  {
   "cell_type": "markdown",
   "id": "276d1a8a-81e9-4562-b401-3b6a44bbdeb8",
   "metadata": {},
   "source": [
    "### Overall tb deaths all ages in Kenya and neighbors"
   ]
  },
  {
   "cell_type": "code",
   "execution_count": 11,
   "id": "87b07e5f-42d7-4e01-89cd-ff0f1a9c3049",
   "metadata": {},
   "outputs": [
    {
     "data": {
      "text/html": [
       "<div>\n",
       "<style scoped>\n",
       "    .dataframe tbody tr th:only-of-type {\n",
       "        vertical-align: middle;\n",
       "    }\n",
       "\n",
       "    .dataframe tbody tr th {\n",
       "        vertical-align: top;\n",
       "    }\n",
       "\n",
       "    .dataframe thead th {\n",
       "        text-align: right;\n",
       "    }\n",
       "</style>\n",
       "<table border=\"1\" class=\"dataframe\">\n",
       "  <thead>\n",
       "    <tr style=\"text-align: right;\">\n",
       "      <th></th>\n",
       "      <th>Entity</th>\n",
       "      <th>Year</th>\n",
       "      <th>Deaths - Tuberculosis - Sex: Both - Age: All Ages (Number)</th>\n",
       "    </tr>\n",
       "  </thead>\n",
       "  <tbody>\n",
       "    <tr>\n",
       "      <th>3000</th>\n",
       "      <td>Kenya</td>\n",
       "      <td>1990</td>\n",
       "      <td>9991</td>\n",
       "    </tr>\n",
       "    <tr>\n",
       "      <th>3001</th>\n",
       "      <td>Kenya</td>\n",
       "      <td>1991</td>\n",
       "      <td>10170</td>\n",
       "    </tr>\n",
       "    <tr>\n",
       "      <th>3002</th>\n",
       "      <td>Kenya</td>\n",
       "      <td>1992</td>\n",
       "      <td>10522</td>\n",
       "    </tr>\n",
       "    <tr>\n",
       "      <th>3003</th>\n",
       "      <td>Kenya</td>\n",
       "      <td>1993</td>\n",
       "      <td>10918</td>\n",
       "    </tr>\n",
       "    <tr>\n",
       "      <th>3004</th>\n",
       "      <td>Kenya</td>\n",
       "      <td>1994</td>\n",
       "      <td>11256</td>\n",
       "    </tr>\n",
       "    <tr>\n",
       "      <th>3005</th>\n",
       "      <td>Kenya</td>\n",
       "      <td>1995</td>\n",
       "      <td>11542</td>\n",
       "    </tr>\n",
       "    <tr>\n",
       "      <th>3006</th>\n",
       "      <td>Kenya</td>\n",
       "      <td>1996</td>\n",
       "      <td>11842</td>\n",
       "    </tr>\n",
       "    <tr>\n",
       "      <th>3007</th>\n",
       "      <td>Kenya</td>\n",
       "      <td>1997</td>\n",
       "      <td>12354</td>\n",
       "    </tr>\n",
       "    <tr>\n",
       "      <th>3008</th>\n",
       "      <td>Kenya</td>\n",
       "      <td>1998</td>\n",
       "      <td>13007</td>\n",
       "    </tr>\n",
       "    <tr>\n",
       "      <th>3009</th>\n",
       "      <td>Kenya</td>\n",
       "      <td>1999</td>\n",
       "      <td>13481</td>\n",
       "    </tr>\n",
       "    <tr>\n",
       "      <th>3010</th>\n",
       "      <td>Kenya</td>\n",
       "      <td>2000</td>\n",
       "      <td>14213</td>\n",
       "    </tr>\n",
       "    <tr>\n",
       "      <th>3011</th>\n",
       "      <td>Kenya</td>\n",
       "      <td>2001</td>\n",
       "      <td>14672</td>\n",
       "    </tr>\n",
       "    <tr>\n",
       "      <th>3012</th>\n",
       "      <td>Kenya</td>\n",
       "      <td>2002</td>\n",
       "      <td>15359</td>\n",
       "    </tr>\n",
       "    <tr>\n",
       "      <th>3013</th>\n",
       "      <td>Kenya</td>\n",
       "      <td>2003</td>\n",
       "      <td>16112</td>\n",
       "    </tr>\n",
       "    <tr>\n",
       "      <th>3014</th>\n",
       "      <td>Kenya</td>\n",
       "      <td>2004</td>\n",
       "      <td>16501</td>\n",
       "    </tr>\n",
       "    <tr>\n",
       "      <th>3015</th>\n",
       "      <td>Kenya</td>\n",
       "      <td>2005</td>\n",
       "      <td>16734</td>\n",
       "    </tr>\n",
       "    <tr>\n",
       "      <th>3016</th>\n",
       "      <td>Kenya</td>\n",
       "      <td>2006</td>\n",
       "      <td>16935</td>\n",
       "    </tr>\n",
       "    <tr>\n",
       "      <th>3017</th>\n",
       "      <td>Kenya</td>\n",
       "      <td>2007</td>\n",
       "      <td>17149</td>\n",
       "    </tr>\n",
       "    <tr>\n",
       "      <th>3018</th>\n",
       "      <td>Kenya</td>\n",
       "      <td>2008</td>\n",
       "      <td>17366</td>\n",
       "    </tr>\n",
       "    <tr>\n",
       "      <th>3019</th>\n",
       "      <td>Kenya</td>\n",
       "      <td>2009</td>\n",
       "      <td>17573</td>\n",
       "    </tr>\n",
       "    <tr>\n",
       "      <th>3020</th>\n",
       "      <td>Kenya</td>\n",
       "      <td>2010</td>\n",
       "      <td>17656</td>\n",
       "    </tr>\n",
       "    <tr>\n",
       "      <th>3021</th>\n",
       "      <td>Kenya</td>\n",
       "      <td>2011</td>\n",
       "      <td>17676</td>\n",
       "    </tr>\n",
       "    <tr>\n",
       "      <th>3022</th>\n",
       "      <td>Kenya</td>\n",
       "      <td>2012</td>\n",
       "      <td>17578</td>\n",
       "    </tr>\n",
       "    <tr>\n",
       "      <th>3023</th>\n",
       "      <td>Kenya</td>\n",
       "      <td>2013</td>\n",
       "      <td>17568</td>\n",
       "    </tr>\n",
       "    <tr>\n",
       "      <th>3024</th>\n",
       "      <td>Kenya</td>\n",
       "      <td>2014</td>\n",
       "      <td>17692</td>\n",
       "    </tr>\n",
       "    <tr>\n",
       "      <th>3025</th>\n",
       "      <td>Kenya</td>\n",
       "      <td>2015</td>\n",
       "      <td>17714</td>\n",
       "    </tr>\n",
       "    <tr>\n",
       "      <th>3026</th>\n",
       "      <td>Kenya</td>\n",
       "      <td>2016</td>\n",
       "      <td>17513</td>\n",
       "    </tr>\n",
       "    <tr>\n",
       "      <th>3027</th>\n",
       "      <td>Kenya</td>\n",
       "      <td>2017</td>\n",
       "      <td>17247</td>\n",
       "    </tr>\n",
       "    <tr>\n",
       "      <th>3028</th>\n",
       "      <td>Kenya</td>\n",
       "      <td>2018</td>\n",
       "      <td>16948</td>\n",
       "    </tr>\n",
       "    <tr>\n",
       "      <th>3029</th>\n",
       "      <td>Kenya</td>\n",
       "      <td>2019</td>\n",
       "      <td>16781</td>\n",
       "    </tr>\n",
       "  </tbody>\n",
       "</table>\n",
       "</div>"
      ],
      "text/plain": [
       "     Entity  Year  Deaths - Tuberculosis - Sex: Both - Age: All Ages (Number)\n",
       "3000  Kenya  1990                                               9991         \n",
       "3001  Kenya  1991                                              10170         \n",
       "3002  Kenya  1992                                              10522         \n",
       "3003  Kenya  1993                                              10918         \n",
       "3004  Kenya  1994                                              11256         \n",
       "3005  Kenya  1995                                              11542         \n",
       "3006  Kenya  1996                                              11842         \n",
       "3007  Kenya  1997                                              12354         \n",
       "3008  Kenya  1998                                              13007         \n",
       "3009  Kenya  1999                                              13481         \n",
       "3010  Kenya  2000                                              14213         \n",
       "3011  Kenya  2001                                              14672         \n",
       "3012  Kenya  2002                                              15359         \n",
       "3013  Kenya  2003                                              16112         \n",
       "3014  Kenya  2004                                              16501         \n",
       "3015  Kenya  2005                                              16734         \n",
       "3016  Kenya  2006                                              16935         \n",
       "3017  Kenya  2007                                              17149         \n",
       "3018  Kenya  2008                                              17366         \n",
       "3019  Kenya  2009                                              17573         \n",
       "3020  Kenya  2010                                              17656         \n",
       "3021  Kenya  2011                                              17676         \n",
       "3022  Kenya  2012                                              17578         \n",
       "3023  Kenya  2013                                              17568         \n",
       "3024  Kenya  2014                                              17692         \n",
       "3025  Kenya  2015                                              17714         \n",
       "3026  Kenya  2016                                              17513         \n",
       "3027  Kenya  2017                                              17247         \n",
       "3028  Kenya  2018                                              16948         \n",
       "3029  Kenya  2019                                              16781         "
      ]
     },
     "execution_count": 11,
     "metadata": {},
     "output_type": "execute_result"
    }
   ],
   "source": [
    "(pd.read_csv('datasets/number-of-deaths-from-tuberculosis-by-world-region.csv').query('Entity == @country_filter').drop(columns =['Code']))"
   ]
  },
  {
   "cell_type": "code",
   "execution_count": 12,
   "id": "9c500b06-6d0c-4bb7-81ba-ef7811857d36",
   "metadata": {},
   "outputs": [],
   "source": [
    "deaths_tb_total = (pd.read_csv('datasets/number-of-deaths-from-tuberculosis-by-world-region.csv').drop(columns =['Code']))\n",
    "deaths_tb_total.rename(columns={\"Deaths - Tuberculosis - Sex: Both - Age: All Ages (Number)\":\"TB Deaths\"}, inplace=True)\n",
    "ea_tb_deaths = deaths_tb_total[deaths_tb_total.Entity.str.contains('Kenya|Uganda|Tanzania|Sudan|South Sudan|Rwanda|Djibouti')]"
   ]
  },
  {
   "cell_type": "code",
   "execution_count": 13,
   "id": "a5f17797-1dca-4524-a528-8b6a81f1d81a",
   "metadata": {},
   "outputs": [
    {
     "data": {
      "application/vnd.vegalite.v5+json": {
       "$schema": "https://vega.github.io/schema/vega-lite/v5.14.1.json",
       "config": {
        "view": {
         "continuousHeight": 300,
         "continuousWidth": 300,
         "stroke": null
        }
       },
       "data": {
        "name": "data-3874e8fda815d621b4e0d78d32b42435"
       },
       "datasets": {
        "data-3874e8fda815d621b4e0d78d32b42435": [
         {
          "Entity": "Djibouti",
          "TB Deaths": 265,
          "Year": 1990
         },
         {
          "Entity": "Djibouti",
          "TB Deaths": 437,
          "Year": 2019
         },
         {
          "Entity": "Kenya",
          "TB Deaths": 9991,
          "Year": 1990
         },
         {
          "Entity": "Kenya",
          "TB Deaths": 16781,
          "Year": 2019
         },
         {
          "Entity": "Rwanda",
          "TB Deaths": 10100,
          "Year": 1990
         },
         {
          "Entity": "Rwanda",
          "TB Deaths": 3960,
          "Year": 2019
         },
         {
          "Entity": "South Sudan",
          "TB Deaths": 4638,
          "Year": 1990
         },
         {
          "Entity": "South Sudan",
          "TB Deaths": 4387,
          "Year": 2019
         },
         {
          "Entity": "Sudan",
          "TB Deaths": 2970,
          "Year": 1990
         },
         {
          "Entity": "Sudan",
          "TB Deaths": 1110,
          "Year": 2019
         },
         {
          "Entity": "Tanzania",
          "TB Deaths": 19959,
          "Year": 1990
         },
         {
          "Entity": "Tanzania",
          "TB Deaths": 20170,
          "Year": 2019
         },
         {
          "Entity": "Uganda",
          "TB Deaths": 13319,
          "Year": 1990
         },
         {
          "Entity": "Uganda",
          "TB Deaths": 13886,
          "Year": 2019
         }
        ]
       },
       "height": 500,
       "layer": [
        {
         "encoding": {
          "color": {
           "field": "Entity",
           "legend": null,
           "scale": {
            "scheme": "greys"
           },
           "type": "nominal"
          },
          "opacity": {
           "value": 0.8
          },
          "x": {
           "field": "Year",
           "title": "",
           "type": "ordinal"
          },
          "y": {
           "axis": {
            "tickCount": 4
           },
           "field": "TB Deaths",
           "title": "number of deaths",
           "type": "quantitative"
          }
         },
         "mark": {
          "type": "line"
         }
        },
        {
         "encoding": {
          "color": {
           "field": "Entity",
           "legend": null,
           "scale": {
            "scheme": "greys"
           },
           "type": "nominal"
          },
          "opacity": {
           "value": 0.8
          },
          "text": {
           "field": "Entity",
           "type": "nominal"
          },
          "x": {
           "field": "Year",
           "title": "",
           "type": "ordinal"
          },
          "y": {
           "axis": {
            "tickCount": 4
           },
           "field": "TB Deaths",
           "title": "number of deaths",
           "type": "quantitative"
          }
         },
         "mark": {
          "align": "left",
          "baseline": "middle",
          "dx": 10,
          "dy": 0,
          "fontWeight": "bold",
          "type": "text"
         }
        }
       ],
       "width": {
        "step": 300
       }
      },
      "text/plain": [
       "<VegaLite 5 object>\n",
       "\n",
       "If you see this message, it means the renderer has not been properly enabled\n",
       "for the frontend that you are using. For more information, see\n",
       "https://altair-viz.github.io/user_guide/display_frontends.html#troubleshooting\n"
      ]
     },
     "execution_count": 13,
     "metadata": {},
     "output_type": "execute_result"
    }
   ],
   "source": [
    "ea_deaths = alt.Chart(ea_tb_deaths[(ea_tb_deaths.Year == ea_tb_deaths.Year.min()) | (ea_tb_deaths.Year == ea_tb_deaths.Year.max())]).mark_line().encode(\n",
    "    alt.X('Year:O', title=\"\"),\n",
    "    alt.Y('TB Deaths', title=\"number of deaths\", axis=alt.Axis(tickCount=4)),\n",
    "    alt.Color('Entity:N', scale=alt.Scale(scheme=\"greys\"), legend=None),\n",
    "    alt.OpacityValue(0.8)).properties(width={\"step\":300},height=500)\n",
    "\n",
    "labelna = ea_deaths.mark_text(dx=10, dy=0, align='left', baseline='middle', fontWeight='bold').encode(text=\"Entity:N\")\n",
    "#label = slope.mark_text(dx=10, dy=0, align='left', baseline='middle').encode(text=\"value:Q\")\n",
    "\n",
    "(ea_deaths + labelna).properties().configure_view(stroke=None)\n"
   ]
  },
  {
   "cell_type": "markdown",
   "id": "b75ccdd7-77c9-4447-ab7d-b384d3f4383c",
   "metadata": {},
   "source": [
    "### TB Incidences in East africa"
   ]
  },
  {
   "cell_type": "code",
   "execution_count": 14,
   "id": "fc979365-7fd1-457a-a7ed-129e907b1b13",
   "metadata": {},
   "outputs": [
    {
     "data": {
      "application/vnd.vegalite.v5+json": {
       "$schema": "https://vega.github.io/schema/vega-lite/v5.14.1.json",
       "config": {
        "view": {
         "continuousHeight": 300,
         "continuousWidth": 300
        }
       },
       "data": {
        "name": "data-f1bdc09dc69c283cf2c7f9360b3a95f2"
       },
       "datasets": {
        "data-f1bdc09dc69c283cf2c7f9360b3a95f2": [
         {
          "Entity": "Djibouti",
          "Incidence of tuberculosis (per 100,000 people)": 692,
          "Year": 2000
         },
         {
          "Entity": "Djibouti",
          "Incidence of tuberculosis (per 100,000 people)": 716,
          "Year": 2001
         },
         {
          "Entity": "Djibouti",
          "Incidence of tuberculosis (per 100,000 people)": 534,
          "Year": 2002
         },
         {
          "Entity": "Djibouti",
          "Incidence of tuberculosis (per 100,000 people)": 532,
          "Year": 2003
         },
         {
          "Entity": "Djibouti",
          "Incidence of tuberculosis (per 100,000 people)": 476,
          "Year": 2004
         },
         {
          "Entity": "Djibouti",
          "Incidence of tuberculosis (per 100,000 people)": 496,
          "Year": 2005
         },
         {
          "Entity": "Djibouti",
          "Incidence of tuberculosis (per 100,000 people)": 474,
          "Year": 2006
         },
         {
          "Entity": "Djibouti",
          "Incidence of tuberculosis (per 100,000 people)": 496,
          "Year": 2007
         },
         {
          "Entity": "Djibouti",
          "Incidence of tuberculosis (per 100,000 people)": 564,
          "Year": 2008
         },
         {
          "Entity": "Djibouti",
          "Incidence of tuberculosis (per 100,000 people)": 571,
          "Year": 2009
         },
         {
          "Entity": "Djibouti",
          "Incidence of tuberculosis (per 100,000 people)": 621,
          "Year": 2010
         },
         {
          "Entity": "Djibouti",
          "Incidence of tuberculosis (per 100,000 people)": 540,
          "Year": 2011
         },
         {
          "Entity": "Djibouti",
          "Incidence of tuberculosis (per 100,000 people)": 500,
          "Year": 2012
         },
         {
          "Entity": "Djibouti",
          "Incidence of tuberculosis (per 100,000 people)": 447,
          "Year": 2013
         },
         {
          "Entity": "Djibouti",
          "Incidence of tuberculosis (per 100,000 people)": 337,
          "Year": 2014
         },
         {
          "Entity": "Djibouti",
          "Incidence of tuberculosis (per 100,000 people)": 367,
          "Year": 2015
         },
         {
          "Entity": "Djibouti",
          "Incidence of tuberculosis (per 100,000 people)": 339,
          "Year": 2016
         },
         {
          "Entity": "Djibouti",
          "Incidence of tuberculosis (per 100,000 people)": 272,
          "Year": 2017
         },
         {
          "Entity": "Djibouti",
          "Incidence of tuberculosis (per 100,000 people)": 260,
          "Year": 2018
         },
         {
          "Entity": "Djibouti",
          "Incidence of tuberculosis (per 100,000 people)": 234,
          "Year": 2019
         },
         {
          "Entity": "Djibouti",
          "Incidence of tuberculosis (per 100,000 people)": 220,
          "Year": 2020
         },
         {
          "Entity": "Djibouti",
          "Incidence of tuberculosis (per 100,000 people)": 204,
          "Year": 2021
         },
         {
          "Entity": "Kenya",
          "Incidence of tuberculosis (per 100,000 people)": 451,
          "Year": 2000
         },
         {
          "Entity": "Kenya",
          "Incidence of tuberculosis (per 100,000 people)": 499,
          "Year": 2001
         },
         {
          "Entity": "Kenya",
          "Incidence of tuberculosis (per 100,000 people)": 534,
          "Year": 2002
         },
         {
          "Entity": "Kenya",
          "Incidence of tuberculosis (per 100,000 people)": 610,
          "Year": 2003
         },
         {
          "Entity": "Kenya",
          "Incidence of tuberculosis (per 100,000 people)": 634,
          "Year": 2004
         },
         {
          "Entity": "Kenya",
          "Incidence of tuberculosis (per 100,000 people)": 630,
          "Year": 2005
         },
         {
          "Entity": "Kenya",
          "Incidence of tuberculosis (per 100,000 people)": 646,
          "Year": 2006
         },
         {
          "Entity": "Kenya",
          "Incidence of tuberculosis (per 100,000 people)": 618,
          "Year": 2007
         },
         {
          "Entity": "Kenya",
          "Incidence of tuberculosis (per 100,000 people)": 564,
          "Year": 2008
         },
         {
          "Entity": "Kenya",
          "Incidence of tuberculosis (per 100,000 people)": 566,
          "Year": 2009
         },
         {
          "Entity": "Kenya",
          "Incidence of tuberculosis (per 100,000 people)": 531,
          "Year": 2010
         },
         {
          "Entity": "Kenya",
          "Incidence of tuberculosis (per 100,000 people)": 506,
          "Year": 2011
         },
         {
          "Entity": "Kenya",
          "Incidence of tuberculosis (per 100,000 people)": 471,
          "Year": 2012
         },
         {
          "Entity": "Kenya",
          "Incidence of tuberculosis (per 100,000 people)": 443,
          "Year": 2013
         },
         {
          "Entity": "Kenya",
          "Incidence of tuberculosis (per 100,000 people)": 423,
          "Year": 2014
         },
         {
          "Entity": "Kenya",
          "Incidence of tuberculosis (per 100,000 people)": 380,
          "Year": 2015
         },
         {
          "Entity": "Kenya",
          "Incidence of tuberculosis (per 100,000 people)": 348,
          "Year": 2016
         },
         {
          "Entity": "Kenya",
          "Incidence of tuberculosis (per 100,000 people)": 319,
          "Year": 2017
         },
         {
          "Entity": "Kenya",
          "Incidence of tuberculosis (per 100,000 people)": 292,
          "Year": 2018
         },
         {
          "Entity": "Kenya",
          "Incidence of tuberculosis (per 100,000 people)": 267,
          "Year": 2019
         },
         {
          "Entity": "Kenya",
          "Incidence of tuberculosis (per 100,000 people)": 250,
          "Year": 2020
         },
         {
          "Entity": "Kenya",
          "Incidence of tuberculosis (per 100,000 people)": 251,
          "Year": 2021
         },
         {
          "Entity": "Rwanda",
          "Incidence of tuberculosis (per 100,000 people)": 96,
          "Year": 2000
         },
         {
          "Entity": "Rwanda",
          "Incidence of tuberculosis (per 100,000 people)": 83,
          "Year": 2001
         },
         {
          "Entity": "Rwanda",
          "Incidence of tuberculosis (per 100,000 people)": 89,
          "Year": 2002
         },
         {
          "Entity": "Rwanda",
          "Incidence of tuberculosis (per 100,000 people)": 100,
          "Year": 2003
         },
         {
          "Entity": "Rwanda",
          "Incidence of tuberculosis (per 100,000 people)": 93,
          "Year": 2004
         },
         {
          "Entity": "Rwanda",
          "Incidence of tuberculosis (per 100,000 people)": 102,
          "Year": 2005
         },
         {
          "Entity": "Rwanda",
          "Incidence of tuberculosis (per 100,000 people)": 112,
          "Year": 2006
         },
         {
          "Entity": "Rwanda",
          "Incidence of tuberculosis (per 100,000 people)": 106,
          "Year": 2007
         },
         {
          "Entity": "Rwanda",
          "Incidence of tuberculosis (per 100,000 people)": 101,
          "Year": 2008
         },
         {
          "Entity": "Rwanda",
          "Incidence of tuberculosis (per 100,000 people)": 95,
          "Year": 2009
         },
         {
          "Entity": "Rwanda",
          "Incidence of tuberculosis (per 100,000 people)": 83,
          "Year": 2010
         },
         {
          "Entity": "Rwanda",
          "Incidence of tuberculosis (per 100,000 people)": 80,
          "Year": 2011
         },
         {
          "Entity": "Rwanda",
          "Incidence of tuberculosis (per 100,000 people)": 72,
          "Year": 2012
         },
         {
          "Entity": "Rwanda",
          "Incidence of tuberculosis (per 100,000 people)": 66,
          "Year": 2013
         },
         {
          "Entity": "Rwanda",
          "Incidence of tuberculosis (per 100,000 people)": 65,
          "Year": 2014
         },
         {
          "Entity": "Rwanda",
          "Incidence of tuberculosis (per 100,000 people)": 61,
          "Year": 2015
         },
         {
          "Entity": "Rwanda",
          "Incidence of tuberculosis (per 100,000 people)": 62,
          "Year": 2016
         },
         {
          "Entity": "Rwanda",
          "Incidence of tuberculosis (per 100,000 people)": 58,
          "Year": 2017
         },
         {
          "Entity": "Rwanda",
          "Incidence of tuberculosis (per 100,000 people)": 59,
          "Year": 2018
         },
         {
          "Entity": "Rwanda",
          "Incidence of tuberculosis (per 100,000 people)": 57,
          "Year": 2019
         },
         {
          "Entity": "Rwanda",
          "Incidence of tuberculosis (per 100,000 people)": 57,
          "Year": 2020
         },
         {
          "Entity": "Rwanda",
          "Incidence of tuberculosis (per 100,000 people)": 56,
          "Year": 2021
         },
         {
          "Entity": "South Sudan",
          "Incidence of tuberculosis (per 100,000 people)": 227,
          "Year": 2011
         },
         {
          "Entity": "South Sudan",
          "Incidence of tuberculosis (per 100,000 people)": 227,
          "Year": 2012
         },
         {
          "Entity": "South Sudan",
          "Incidence of tuberculosis (per 100,000 people)": 227,
          "Year": 2013
         },
         {
          "Entity": "South Sudan",
          "Incidence of tuberculosis (per 100,000 people)": 227,
          "Year": 2014
         },
         {
          "Entity": "South Sudan",
          "Incidence of tuberculosis (per 100,000 people)": 227,
          "Year": 2015
         },
         {
          "Entity": "South Sudan",
          "Incidence of tuberculosis (per 100,000 people)": 227,
          "Year": 2016
         },
         {
          "Entity": "South Sudan",
          "Incidence of tuberculosis (per 100,000 people)": 227,
          "Year": 2017
         },
         {
          "Entity": "South Sudan",
          "Incidence of tuberculosis (per 100,000 people)": 227,
          "Year": 2018
         },
         {
          "Entity": "South Sudan",
          "Incidence of tuberculosis (per 100,000 people)": 227,
          "Year": 2019
         },
         {
          "Entity": "South Sudan",
          "Incidence of tuberculosis (per 100,000 people)": 227,
          "Year": 2020
         },
         {
          "Entity": "South Sudan",
          "Incidence of tuberculosis (per 100,000 people)": 227,
          "Year": 2021
         },
         {
          "Entity": "Sudan",
          "Incidence of tuberculosis (per 100,000 people)": 148,
          "Year": 2000
         },
         {
          "Entity": "Sudan",
          "Incidence of tuberculosis (per 100,000 people)": 139,
          "Year": 2001
         },
         {
          "Entity": "Sudan",
          "Incidence of tuberculosis (per 100,000 people)": 139,
          "Year": 2002
         },
         {
          "Entity": "Sudan",
          "Incidence of tuberculosis (per 100,000 people)": 138,
          "Year": 2003
         },
         {
          "Entity": "Sudan",
          "Incidence of tuberculosis (per 100,000 people)": 142,
          "Year": 2004
         },
         {
          "Entity": "Sudan",
          "Incidence of tuberculosis (per 100,000 people)": 143,
          "Year": 2005
         },
         {
          "Entity": "Sudan",
          "Incidence of tuberculosis (per 100,000 people)": 146,
          "Year": 2006
         },
         {
          "Entity": "Sudan",
          "Incidence of tuberculosis (per 100,000 people)": 144,
          "Year": 2007
         },
         {
          "Entity": "Sudan",
          "Incidence of tuberculosis (per 100,000 people)": 116,
          "Year": 2008
         },
         {
          "Entity": "Sudan",
          "Incidence of tuberculosis (per 100,000 people)": 121,
          "Year": 2009
         },
         {
          "Entity": "Sudan",
          "Incidence of tuberculosis (per 100,000 people)": 119,
          "Year": 2010
         },
         {
          "Entity": "Sudan",
          "Incidence of tuberculosis (per 100,000 people)": 105,
          "Year": 2011
         },
         {
          "Entity": "Sudan",
          "Incidence of tuberculosis (per 100,000 people)": 103,
          "Year": 2012
         },
         {
          "Entity": "Sudan",
          "Incidence of tuberculosis (per 100,000 people)": 100,
          "Year": 2013
         },
         {
          "Entity": "Sudan",
          "Incidence of tuberculosis (per 100,000 people)": 94,
          "Year": 2014
         },
         {
          "Entity": "Sudan",
          "Incidence of tuberculosis (per 100,000 people)": 88,
          "Year": 2015
         },
         {
          "Entity": "Sudan",
          "Incidence of tuberculosis (per 100,000 people)": 82,
          "Year": 2016
         },
         {
          "Entity": "Sudan",
          "Incidence of tuberculosis (per 100,000 people)": 77,
          "Year": 2017
         },
         {
          "Entity": "Sudan",
          "Incidence of tuberculosis (per 100,000 people)": 71,
          "Year": 2018
         },
         {
          "Entity": "Sudan",
          "Incidence of tuberculosis (per 100,000 people)": 67,
          "Year": 2019
         },
         {
          "Entity": "Sudan",
          "Incidence of tuberculosis (per 100,000 people)": 62,
          "Year": 2020
         },
         {
          "Entity": "Sudan",
          "Incidence of tuberculosis (per 100,000 people)": 58,
          "Year": 2021
         },
         {
          "Entity": "Tanzania",
          "Incidence of tuberculosis (per 100,000 people)": 503,
          "Year": 2000
         },
         {
          "Entity": "Tanzania",
          "Incidence of tuberculosis (per 100,000 people)": 506,
          "Year": 2001
         },
         {
          "Entity": "Tanzania",
          "Incidence of tuberculosis (per 100,000 people)": 509,
          "Year": 2002
         },
         {
          "Entity": "Tanzania",
          "Incidence of tuberculosis (per 100,000 people)": 510,
          "Year": 2003
         },
         {
          "Entity": "Tanzania",
          "Incidence of tuberculosis (per 100,000 people)": 510,
          "Year": 2004
         },
         {
          "Entity": "Tanzania",
          "Incidence of tuberculosis (per 100,000 people)": 510,
          "Year": 2005
         },
         {
          "Entity": "Tanzania",
          "Incidence of tuberculosis (per 100,000 people)": 504,
          "Year": 2006
         },
         {
          "Entity": "Tanzania",
          "Incidence of tuberculosis (per 100,000 people)": 492,
          "Year": 2007
         },
         {
          "Entity": "Tanzania",
          "Incidence of tuberculosis (per 100,000 people)": 474,
          "Year": 2008
         },
         {
          "Entity": "Tanzania",
          "Incidence of tuberculosis (per 100,000 people)": 452,
          "Year": 2009
         },
         {
          "Entity": "Tanzania",
          "Incidence of tuberculosis (per 100,000 people)": 426,
          "Year": 2010
         },
         {
          "Entity": "Tanzania",
          "Incidence of tuberculosis (per 100,000 people)": 401,
          "Year": 2011
         },
         {
          "Entity": "Tanzania",
          "Incidence of tuberculosis (per 100,000 people)": 378,
          "Year": 2012
         },
         {
          "Entity": "Tanzania",
          "Incidence of tuberculosis (per 100,000 people)": 336,
          "Year": 2013
         },
         {
          "Entity": "Tanzania",
          "Incidence of tuberculosis (per 100,000 people)": 327,
          "Year": 2014
         },
         {
          "Entity": "Tanzania",
          "Incidence of tuberculosis (per 100,000 people)": 306,
          "Year": 2015
         },
         {
          "Entity": "Tanzania",
          "Incidence of tuberculosis (per 100,000 people)": 287,
          "Year": 2016
         },
         {
          "Entity": "Tanzania",
          "Incidence of tuberculosis (per 100,000 people)": 269,
          "Year": 2017
         },
         {
          "Entity": "Tanzania",
          "Incidence of tuberculosis (per 100,000 people)": 253,
          "Year": 2018
         },
         {
          "Entity": "Tanzania",
          "Incidence of tuberculosis (per 100,000 people)": 237,
          "Year": 2019
         },
         {
          "Entity": "Tanzania",
          "Incidence of tuberculosis (per 100,000 people)": 222,
          "Year": 2020
         },
         {
          "Entity": "Tanzania",
          "Incidence of tuberculosis (per 100,000 people)": 208,
          "Year": 2021
         },
         {
          "Entity": "Uganda",
          "Incidence of tuberculosis (per 100,000 people)": 276,
          "Year": 2000
         },
         {
          "Entity": "Uganda",
          "Incidence of tuberculosis (per 100,000 people)": 266,
          "Year": 2001
         },
         {
          "Entity": "Uganda",
          "Incidence of tuberculosis (per 100,000 people)": 256,
          "Year": 2002
         },
         {
          "Entity": "Uganda",
          "Incidence of tuberculosis (per 100,000 people)": 248,
          "Year": 2003
         },
         {
          "Entity": "Uganda",
          "Incidence of tuberculosis (per 100,000 people)": 240,
          "Year": 2004
         },
         {
          "Entity": "Uganda",
          "Incidence of tuberculosis (per 100,000 people)": 233,
          "Year": 2005
         },
         {
          "Entity": "Uganda",
          "Incidence of tuberculosis (per 100,000 people)": 227,
          "Year": 2006
         },
         {
          "Entity": "Uganda",
          "Incidence of tuberculosis (per 100,000 people)": 222,
          "Year": 2007
         },
         {
          "Entity": "Uganda",
          "Incidence of tuberculosis (per 100,000 people)": 217,
          "Year": 2008
         },
         {
          "Entity": "Uganda",
          "Incidence of tuberculosis (per 100,000 people)": 213,
          "Year": 2009
         },
         {
          "Entity": "Uganda",
          "Incidence of tuberculosis (per 100,000 people)": 210,
          "Year": 2010
         },
         {
          "Entity": "Uganda",
          "Incidence of tuberculosis (per 100,000 people)": 207,
          "Year": 2011
         },
         {
          "Entity": "Uganda",
          "Incidence of tuberculosis (per 100,000 people)": 205,
          "Year": 2012
         },
         {
          "Entity": "Uganda",
          "Incidence of tuberculosis (per 100,000 people)": 203,
          "Year": 2013
         },
         {
          "Entity": "Uganda",
          "Incidence of tuberculosis (per 100,000 people)": 202,
          "Year": 2014
         },
         {
          "Entity": "Uganda",
          "Incidence of tuberculosis (per 100,000 people)": 202,
          "Year": 2015
         },
         {
          "Entity": "Uganda",
          "Incidence of tuberculosis (per 100,000 people)": 201,
          "Year": 2016
         },
         {
          "Entity": "Uganda",
          "Incidence of tuberculosis (per 100,000 people)": 201,
          "Year": 2017
         },
         {
          "Entity": "Uganda",
          "Incidence of tuberculosis (per 100,000 people)": 200,
          "Year": 2018
         },
         {
          "Entity": "Uganda",
          "Incidence of tuberculosis (per 100,000 people)": 200,
          "Year": 2019
         },
         {
          "Entity": "Uganda",
          "Incidence of tuberculosis (per 100,000 people)": 199,
          "Year": 2020
         },
         {
          "Entity": "Uganda",
          "Incidence of tuberculosis (per 100,000 people)": 199,
          "Year": 2021
         }
        ]
       },
       "layer": [
        {
         "encoding": {
          "x": {
           "field": "Year",
           "title": "",
           "type": "ordinal"
          },
          "y": {
           "field": "Incidence of tuberculosis (per 100,000 people)",
           "type": "quantitative"
          }
         },
         "mark": {
          "color": "grey",
          "type": "bar"
         },
         "title": "TB incidences in Kenya",
         "transform": [
          {
           "filter": "(datum.Entity === 'Kenya')"
          }
         ]
        },
        {
         "encoding": {
          "text": {
           "field": "Incidence of tuberculosis (per 100,000 people)",
           "type": "quantitative"
          },
          "x": {
           "field": "Year",
           "title": "",
           "type": "ordinal"
          },
          "y": {
           "field": "Incidence of tuberculosis (per 100,000 people)",
           "type": "quantitative"
          }
         },
         "mark": {
          "align": "center",
          "baseline": "middle",
          "dx": 0,
          "dy": 10,
          "fontSize": 10,
          "type": "text"
         },
         "title": "TB incidences in Kenya",
         "transform": [
          {
           "filter": "(datum.Entity === 'Kenya')"
          }
         ]
        }
       ],
       "width": 800
      },
      "text/plain": [
       "<VegaLite 5 object>\n",
       "\n",
       "If you see this message, it means the renderer has not been properly enabled\n",
       "for the frontend that you are using. For more information, see\n",
       "https://altair-viz.github.io/user_guide/display_frontends.html#troubleshooting\n"
      ]
     },
     "execution_count": 14,
     "metadata": {},
     "output_type": "execute_result"
    }
   ],
   "source": [
    "tb_incidence = (pd.read_csv('datasets/incidence-of-tuberculosis-sdgs.csv').drop(columns='Code'))\n",
    "\n",
    "incidences = alt.Chart(tb_incidence[tb_incidence.Entity.str.contains('Kenya|Uganda|Tanzania|Sudan|South Sudan|Rwanda|Djibouti')]).transform_filter(alt.datum.Entity == 'Kenya').mark_bar(color=\"grey\").encode(\n",
    "    alt.X(\"Year:O\", title=\"\"), alt.Y(\"Incidence of tuberculosis (per 100,000 people):Q\"),).properties(title=\"TB incidences in Kenya\")\n",
    "\n",
    "text = incidences.mark_text(align=\"center\", baseline=\"middle\", dy=10, dx=0, fontSize=10).encode(text=\"Incidence of tuberculosis (per 100,000 people):Q\")\n",
    "\n",
    "(incidences + text).properties(width=800)"
   ]
  },
  {
   "cell_type": "markdown",
   "id": "5175fa38-7687-4aa1-b112-3d917004b80e",
   "metadata": {},
   "source": [
    "##### incidences of tb in east africa area chart"
   ]
  },
  {
   "cell_type": "code",
   "execution_count": 15,
   "id": "db4b797f-9db0-4532-9d97-c6e3178cd5da",
   "metadata": {},
   "outputs": [
    {
     "data": {
      "application/vnd.vegalite.v5+json": {
       "$schema": "https://vega.github.io/schema/vega-lite/v5.14.1.json",
       "config": {
        "view": {
         "continuousHeight": 300,
         "continuousWidth": 300
        }
       },
       "data": {
        "name": "data-f1bdc09dc69c283cf2c7f9360b3a95f2"
       },
       "datasets": {
        "data-f1bdc09dc69c283cf2c7f9360b3a95f2": [
         {
          "Entity": "Djibouti",
          "Incidence of tuberculosis (per 100,000 people)": 692,
          "Year": 2000
         },
         {
          "Entity": "Djibouti",
          "Incidence of tuberculosis (per 100,000 people)": 716,
          "Year": 2001
         },
         {
          "Entity": "Djibouti",
          "Incidence of tuberculosis (per 100,000 people)": 534,
          "Year": 2002
         },
         {
          "Entity": "Djibouti",
          "Incidence of tuberculosis (per 100,000 people)": 532,
          "Year": 2003
         },
         {
          "Entity": "Djibouti",
          "Incidence of tuberculosis (per 100,000 people)": 476,
          "Year": 2004
         },
         {
          "Entity": "Djibouti",
          "Incidence of tuberculosis (per 100,000 people)": 496,
          "Year": 2005
         },
         {
          "Entity": "Djibouti",
          "Incidence of tuberculosis (per 100,000 people)": 474,
          "Year": 2006
         },
         {
          "Entity": "Djibouti",
          "Incidence of tuberculosis (per 100,000 people)": 496,
          "Year": 2007
         },
         {
          "Entity": "Djibouti",
          "Incidence of tuberculosis (per 100,000 people)": 564,
          "Year": 2008
         },
         {
          "Entity": "Djibouti",
          "Incidence of tuberculosis (per 100,000 people)": 571,
          "Year": 2009
         },
         {
          "Entity": "Djibouti",
          "Incidence of tuberculosis (per 100,000 people)": 621,
          "Year": 2010
         },
         {
          "Entity": "Djibouti",
          "Incidence of tuberculosis (per 100,000 people)": 540,
          "Year": 2011
         },
         {
          "Entity": "Djibouti",
          "Incidence of tuberculosis (per 100,000 people)": 500,
          "Year": 2012
         },
         {
          "Entity": "Djibouti",
          "Incidence of tuberculosis (per 100,000 people)": 447,
          "Year": 2013
         },
         {
          "Entity": "Djibouti",
          "Incidence of tuberculosis (per 100,000 people)": 337,
          "Year": 2014
         },
         {
          "Entity": "Djibouti",
          "Incidence of tuberculosis (per 100,000 people)": 367,
          "Year": 2015
         },
         {
          "Entity": "Djibouti",
          "Incidence of tuberculosis (per 100,000 people)": 339,
          "Year": 2016
         },
         {
          "Entity": "Djibouti",
          "Incidence of tuberculosis (per 100,000 people)": 272,
          "Year": 2017
         },
         {
          "Entity": "Djibouti",
          "Incidence of tuberculosis (per 100,000 people)": 260,
          "Year": 2018
         },
         {
          "Entity": "Djibouti",
          "Incidence of tuberculosis (per 100,000 people)": 234,
          "Year": 2019
         },
         {
          "Entity": "Djibouti",
          "Incidence of tuberculosis (per 100,000 people)": 220,
          "Year": 2020
         },
         {
          "Entity": "Djibouti",
          "Incidence of tuberculosis (per 100,000 people)": 204,
          "Year": 2021
         },
         {
          "Entity": "Kenya",
          "Incidence of tuberculosis (per 100,000 people)": 451,
          "Year": 2000
         },
         {
          "Entity": "Kenya",
          "Incidence of tuberculosis (per 100,000 people)": 499,
          "Year": 2001
         },
         {
          "Entity": "Kenya",
          "Incidence of tuberculosis (per 100,000 people)": 534,
          "Year": 2002
         },
         {
          "Entity": "Kenya",
          "Incidence of tuberculosis (per 100,000 people)": 610,
          "Year": 2003
         },
         {
          "Entity": "Kenya",
          "Incidence of tuberculosis (per 100,000 people)": 634,
          "Year": 2004
         },
         {
          "Entity": "Kenya",
          "Incidence of tuberculosis (per 100,000 people)": 630,
          "Year": 2005
         },
         {
          "Entity": "Kenya",
          "Incidence of tuberculosis (per 100,000 people)": 646,
          "Year": 2006
         },
         {
          "Entity": "Kenya",
          "Incidence of tuberculosis (per 100,000 people)": 618,
          "Year": 2007
         },
         {
          "Entity": "Kenya",
          "Incidence of tuberculosis (per 100,000 people)": 564,
          "Year": 2008
         },
         {
          "Entity": "Kenya",
          "Incidence of tuberculosis (per 100,000 people)": 566,
          "Year": 2009
         },
         {
          "Entity": "Kenya",
          "Incidence of tuberculosis (per 100,000 people)": 531,
          "Year": 2010
         },
         {
          "Entity": "Kenya",
          "Incidence of tuberculosis (per 100,000 people)": 506,
          "Year": 2011
         },
         {
          "Entity": "Kenya",
          "Incidence of tuberculosis (per 100,000 people)": 471,
          "Year": 2012
         },
         {
          "Entity": "Kenya",
          "Incidence of tuberculosis (per 100,000 people)": 443,
          "Year": 2013
         },
         {
          "Entity": "Kenya",
          "Incidence of tuberculosis (per 100,000 people)": 423,
          "Year": 2014
         },
         {
          "Entity": "Kenya",
          "Incidence of tuberculosis (per 100,000 people)": 380,
          "Year": 2015
         },
         {
          "Entity": "Kenya",
          "Incidence of tuberculosis (per 100,000 people)": 348,
          "Year": 2016
         },
         {
          "Entity": "Kenya",
          "Incidence of tuberculosis (per 100,000 people)": 319,
          "Year": 2017
         },
         {
          "Entity": "Kenya",
          "Incidence of tuberculosis (per 100,000 people)": 292,
          "Year": 2018
         },
         {
          "Entity": "Kenya",
          "Incidence of tuberculosis (per 100,000 people)": 267,
          "Year": 2019
         },
         {
          "Entity": "Kenya",
          "Incidence of tuberculosis (per 100,000 people)": 250,
          "Year": 2020
         },
         {
          "Entity": "Kenya",
          "Incidence of tuberculosis (per 100,000 people)": 251,
          "Year": 2021
         },
         {
          "Entity": "Rwanda",
          "Incidence of tuberculosis (per 100,000 people)": 96,
          "Year": 2000
         },
         {
          "Entity": "Rwanda",
          "Incidence of tuberculosis (per 100,000 people)": 83,
          "Year": 2001
         },
         {
          "Entity": "Rwanda",
          "Incidence of tuberculosis (per 100,000 people)": 89,
          "Year": 2002
         },
         {
          "Entity": "Rwanda",
          "Incidence of tuberculosis (per 100,000 people)": 100,
          "Year": 2003
         },
         {
          "Entity": "Rwanda",
          "Incidence of tuberculosis (per 100,000 people)": 93,
          "Year": 2004
         },
         {
          "Entity": "Rwanda",
          "Incidence of tuberculosis (per 100,000 people)": 102,
          "Year": 2005
         },
         {
          "Entity": "Rwanda",
          "Incidence of tuberculosis (per 100,000 people)": 112,
          "Year": 2006
         },
         {
          "Entity": "Rwanda",
          "Incidence of tuberculosis (per 100,000 people)": 106,
          "Year": 2007
         },
         {
          "Entity": "Rwanda",
          "Incidence of tuberculosis (per 100,000 people)": 101,
          "Year": 2008
         },
         {
          "Entity": "Rwanda",
          "Incidence of tuberculosis (per 100,000 people)": 95,
          "Year": 2009
         },
         {
          "Entity": "Rwanda",
          "Incidence of tuberculosis (per 100,000 people)": 83,
          "Year": 2010
         },
         {
          "Entity": "Rwanda",
          "Incidence of tuberculosis (per 100,000 people)": 80,
          "Year": 2011
         },
         {
          "Entity": "Rwanda",
          "Incidence of tuberculosis (per 100,000 people)": 72,
          "Year": 2012
         },
         {
          "Entity": "Rwanda",
          "Incidence of tuberculosis (per 100,000 people)": 66,
          "Year": 2013
         },
         {
          "Entity": "Rwanda",
          "Incidence of tuberculosis (per 100,000 people)": 65,
          "Year": 2014
         },
         {
          "Entity": "Rwanda",
          "Incidence of tuberculosis (per 100,000 people)": 61,
          "Year": 2015
         },
         {
          "Entity": "Rwanda",
          "Incidence of tuberculosis (per 100,000 people)": 62,
          "Year": 2016
         },
         {
          "Entity": "Rwanda",
          "Incidence of tuberculosis (per 100,000 people)": 58,
          "Year": 2017
         },
         {
          "Entity": "Rwanda",
          "Incidence of tuberculosis (per 100,000 people)": 59,
          "Year": 2018
         },
         {
          "Entity": "Rwanda",
          "Incidence of tuberculosis (per 100,000 people)": 57,
          "Year": 2019
         },
         {
          "Entity": "Rwanda",
          "Incidence of tuberculosis (per 100,000 people)": 57,
          "Year": 2020
         },
         {
          "Entity": "Rwanda",
          "Incidence of tuberculosis (per 100,000 people)": 56,
          "Year": 2021
         },
         {
          "Entity": "South Sudan",
          "Incidence of tuberculosis (per 100,000 people)": 227,
          "Year": 2011
         },
         {
          "Entity": "South Sudan",
          "Incidence of tuberculosis (per 100,000 people)": 227,
          "Year": 2012
         },
         {
          "Entity": "South Sudan",
          "Incidence of tuberculosis (per 100,000 people)": 227,
          "Year": 2013
         },
         {
          "Entity": "South Sudan",
          "Incidence of tuberculosis (per 100,000 people)": 227,
          "Year": 2014
         },
         {
          "Entity": "South Sudan",
          "Incidence of tuberculosis (per 100,000 people)": 227,
          "Year": 2015
         },
         {
          "Entity": "South Sudan",
          "Incidence of tuberculosis (per 100,000 people)": 227,
          "Year": 2016
         },
         {
          "Entity": "South Sudan",
          "Incidence of tuberculosis (per 100,000 people)": 227,
          "Year": 2017
         },
         {
          "Entity": "South Sudan",
          "Incidence of tuberculosis (per 100,000 people)": 227,
          "Year": 2018
         },
         {
          "Entity": "South Sudan",
          "Incidence of tuberculosis (per 100,000 people)": 227,
          "Year": 2019
         },
         {
          "Entity": "South Sudan",
          "Incidence of tuberculosis (per 100,000 people)": 227,
          "Year": 2020
         },
         {
          "Entity": "South Sudan",
          "Incidence of tuberculosis (per 100,000 people)": 227,
          "Year": 2021
         },
         {
          "Entity": "Sudan",
          "Incidence of tuberculosis (per 100,000 people)": 148,
          "Year": 2000
         },
         {
          "Entity": "Sudan",
          "Incidence of tuberculosis (per 100,000 people)": 139,
          "Year": 2001
         },
         {
          "Entity": "Sudan",
          "Incidence of tuberculosis (per 100,000 people)": 139,
          "Year": 2002
         },
         {
          "Entity": "Sudan",
          "Incidence of tuberculosis (per 100,000 people)": 138,
          "Year": 2003
         },
         {
          "Entity": "Sudan",
          "Incidence of tuberculosis (per 100,000 people)": 142,
          "Year": 2004
         },
         {
          "Entity": "Sudan",
          "Incidence of tuberculosis (per 100,000 people)": 143,
          "Year": 2005
         },
         {
          "Entity": "Sudan",
          "Incidence of tuberculosis (per 100,000 people)": 146,
          "Year": 2006
         },
         {
          "Entity": "Sudan",
          "Incidence of tuberculosis (per 100,000 people)": 144,
          "Year": 2007
         },
         {
          "Entity": "Sudan",
          "Incidence of tuberculosis (per 100,000 people)": 116,
          "Year": 2008
         },
         {
          "Entity": "Sudan",
          "Incidence of tuberculosis (per 100,000 people)": 121,
          "Year": 2009
         },
         {
          "Entity": "Sudan",
          "Incidence of tuberculosis (per 100,000 people)": 119,
          "Year": 2010
         },
         {
          "Entity": "Sudan",
          "Incidence of tuberculosis (per 100,000 people)": 105,
          "Year": 2011
         },
         {
          "Entity": "Sudan",
          "Incidence of tuberculosis (per 100,000 people)": 103,
          "Year": 2012
         },
         {
          "Entity": "Sudan",
          "Incidence of tuberculosis (per 100,000 people)": 100,
          "Year": 2013
         },
         {
          "Entity": "Sudan",
          "Incidence of tuberculosis (per 100,000 people)": 94,
          "Year": 2014
         },
         {
          "Entity": "Sudan",
          "Incidence of tuberculosis (per 100,000 people)": 88,
          "Year": 2015
         },
         {
          "Entity": "Sudan",
          "Incidence of tuberculosis (per 100,000 people)": 82,
          "Year": 2016
         },
         {
          "Entity": "Sudan",
          "Incidence of tuberculosis (per 100,000 people)": 77,
          "Year": 2017
         },
         {
          "Entity": "Sudan",
          "Incidence of tuberculosis (per 100,000 people)": 71,
          "Year": 2018
         },
         {
          "Entity": "Sudan",
          "Incidence of tuberculosis (per 100,000 people)": 67,
          "Year": 2019
         },
         {
          "Entity": "Sudan",
          "Incidence of tuberculosis (per 100,000 people)": 62,
          "Year": 2020
         },
         {
          "Entity": "Sudan",
          "Incidence of tuberculosis (per 100,000 people)": 58,
          "Year": 2021
         },
         {
          "Entity": "Tanzania",
          "Incidence of tuberculosis (per 100,000 people)": 503,
          "Year": 2000
         },
         {
          "Entity": "Tanzania",
          "Incidence of tuberculosis (per 100,000 people)": 506,
          "Year": 2001
         },
         {
          "Entity": "Tanzania",
          "Incidence of tuberculosis (per 100,000 people)": 509,
          "Year": 2002
         },
         {
          "Entity": "Tanzania",
          "Incidence of tuberculosis (per 100,000 people)": 510,
          "Year": 2003
         },
         {
          "Entity": "Tanzania",
          "Incidence of tuberculosis (per 100,000 people)": 510,
          "Year": 2004
         },
         {
          "Entity": "Tanzania",
          "Incidence of tuberculosis (per 100,000 people)": 510,
          "Year": 2005
         },
         {
          "Entity": "Tanzania",
          "Incidence of tuberculosis (per 100,000 people)": 504,
          "Year": 2006
         },
         {
          "Entity": "Tanzania",
          "Incidence of tuberculosis (per 100,000 people)": 492,
          "Year": 2007
         },
         {
          "Entity": "Tanzania",
          "Incidence of tuberculosis (per 100,000 people)": 474,
          "Year": 2008
         },
         {
          "Entity": "Tanzania",
          "Incidence of tuberculosis (per 100,000 people)": 452,
          "Year": 2009
         },
         {
          "Entity": "Tanzania",
          "Incidence of tuberculosis (per 100,000 people)": 426,
          "Year": 2010
         },
         {
          "Entity": "Tanzania",
          "Incidence of tuberculosis (per 100,000 people)": 401,
          "Year": 2011
         },
         {
          "Entity": "Tanzania",
          "Incidence of tuberculosis (per 100,000 people)": 378,
          "Year": 2012
         },
         {
          "Entity": "Tanzania",
          "Incidence of tuberculosis (per 100,000 people)": 336,
          "Year": 2013
         },
         {
          "Entity": "Tanzania",
          "Incidence of tuberculosis (per 100,000 people)": 327,
          "Year": 2014
         },
         {
          "Entity": "Tanzania",
          "Incidence of tuberculosis (per 100,000 people)": 306,
          "Year": 2015
         },
         {
          "Entity": "Tanzania",
          "Incidence of tuberculosis (per 100,000 people)": 287,
          "Year": 2016
         },
         {
          "Entity": "Tanzania",
          "Incidence of tuberculosis (per 100,000 people)": 269,
          "Year": 2017
         },
         {
          "Entity": "Tanzania",
          "Incidence of tuberculosis (per 100,000 people)": 253,
          "Year": 2018
         },
         {
          "Entity": "Tanzania",
          "Incidence of tuberculosis (per 100,000 people)": 237,
          "Year": 2019
         },
         {
          "Entity": "Tanzania",
          "Incidence of tuberculosis (per 100,000 people)": 222,
          "Year": 2020
         },
         {
          "Entity": "Tanzania",
          "Incidence of tuberculosis (per 100,000 people)": 208,
          "Year": 2021
         },
         {
          "Entity": "Uganda",
          "Incidence of tuberculosis (per 100,000 people)": 276,
          "Year": 2000
         },
         {
          "Entity": "Uganda",
          "Incidence of tuberculosis (per 100,000 people)": 266,
          "Year": 2001
         },
         {
          "Entity": "Uganda",
          "Incidence of tuberculosis (per 100,000 people)": 256,
          "Year": 2002
         },
         {
          "Entity": "Uganda",
          "Incidence of tuberculosis (per 100,000 people)": 248,
          "Year": 2003
         },
         {
          "Entity": "Uganda",
          "Incidence of tuberculosis (per 100,000 people)": 240,
          "Year": 2004
         },
         {
          "Entity": "Uganda",
          "Incidence of tuberculosis (per 100,000 people)": 233,
          "Year": 2005
         },
         {
          "Entity": "Uganda",
          "Incidence of tuberculosis (per 100,000 people)": 227,
          "Year": 2006
         },
         {
          "Entity": "Uganda",
          "Incidence of tuberculosis (per 100,000 people)": 222,
          "Year": 2007
         },
         {
          "Entity": "Uganda",
          "Incidence of tuberculosis (per 100,000 people)": 217,
          "Year": 2008
         },
         {
          "Entity": "Uganda",
          "Incidence of tuberculosis (per 100,000 people)": 213,
          "Year": 2009
         },
         {
          "Entity": "Uganda",
          "Incidence of tuberculosis (per 100,000 people)": 210,
          "Year": 2010
         },
         {
          "Entity": "Uganda",
          "Incidence of tuberculosis (per 100,000 people)": 207,
          "Year": 2011
         },
         {
          "Entity": "Uganda",
          "Incidence of tuberculosis (per 100,000 people)": 205,
          "Year": 2012
         },
         {
          "Entity": "Uganda",
          "Incidence of tuberculosis (per 100,000 people)": 203,
          "Year": 2013
         },
         {
          "Entity": "Uganda",
          "Incidence of tuberculosis (per 100,000 people)": 202,
          "Year": 2014
         },
         {
          "Entity": "Uganda",
          "Incidence of tuberculosis (per 100,000 people)": 202,
          "Year": 2015
         },
         {
          "Entity": "Uganda",
          "Incidence of tuberculosis (per 100,000 people)": 201,
          "Year": 2016
         },
         {
          "Entity": "Uganda",
          "Incidence of tuberculosis (per 100,000 people)": 201,
          "Year": 2017
         },
         {
          "Entity": "Uganda",
          "Incidence of tuberculosis (per 100,000 people)": 200,
          "Year": 2018
         },
         {
          "Entity": "Uganda",
          "Incidence of tuberculosis (per 100,000 people)": 200,
          "Year": 2019
         },
         {
          "Entity": "Uganda",
          "Incidence of tuberculosis (per 100,000 people)": 199,
          "Year": 2020
         },
         {
          "Entity": "Uganda",
          "Incidence of tuberculosis (per 100,000 people)": 199,
          "Year": 2021
         }
        ]
       },
       "encoding": {
        "color": {
         "field": "Entity",
         "legend": {
          "orient": "top",
          "title": ""
         },
         "scale": {
          "scheme": "viridis"
         },
         "type": "nominal"
        },
        "opacity": {
         "value": 0.8
        },
        "x": {
         "field": "Year",
         "title": "",
         "type": "ordinal"
        },
        "y": {
         "axis": {
          "tickCount": 12
         },
         "field": "Incidence of tuberculosis (per 100,000 people)",
         "type": "quantitative"
        }
       },
       "height": 400,
       "mark": {
        "color": {
         "gradient": "linear",
         "stops": [
          {
           "color": "white",
           "offset": 0
          },
          {
           "color": "darkgrey",
           "offset": 1
          }
         ],
         "x1": 1,
         "x2": 1,
         "y1": 1,
         "y2": 0
        },
        "line": {
         "color": "darkgrey"
        },
        "type": "area"
       },
       "title": {
        "anchor": "start",
        "offset": 10,
        "subtitle": "Reported incidences of Tuberculosis per 100,000 people for the seven countries; showing change in incidences reported by each of the selected countries over the period of 2000 to 2021.",
        "text": "TB Incidences in Kenya and her neighbors"
       },
       "width": 1000
      },
      "text/plain": [
       "<VegaLite 5 object>\n",
       "\n",
       "If you see this message, it means the renderer has not been properly enabled\n",
       "for the frontend that you are using. For more information, see\n",
       "https://altair-viz.github.io/user_guide/display_frontends.html#troubleshooting\n"
      ]
     },
     "execution_count": 15,
     "metadata": {},
     "output_type": "execute_result"
    }
   ],
   "source": [
    "incidence = alt.Chart(tb_incidence[tb_incidence.Entity.str.contains('Kenya|Uganda|Tanzania|Sudan|South Sudan|Rwanda|Djibouti')]).mark_area(\n",
    "    line={\"color\":\"darkgrey\"},\n",
    "    color=alt.Gradient(gradient=\"linear\",\n",
    "                       stops=[alt.GradientStop(color=\"white\", offset=0),\n",
    "                              alt.GradientStop(color=\"darkgrey\", offset=1),],x1=1,x2=1,y1=1,y2=0\n",
    "                      )).encode(alt.X('Year:O', title=\"\"),\n",
    "                                alt.Y('Incidence of tuberculosis (per 100,000 people):Q', axis=alt.Axis(tickCount=12)),\n",
    "                                alt.OpacityValue(0.8),\n",
    "                                alt.Color(\"Entity\", scale=alt.Scale(scheme=\"viridis\"),\n",
    "                                         legend=alt.Legend(orient=\"top\", title=\"\"))\n",
    "                               ).properties(width=1000, height=400,\n",
    "                                            title={\"text\":\"TB Incidences in Kenya and her neighbors\",\n",
    "                                                   \"anchor\":\"start\",\n",
    "                                                   \"offset\":10,\n",
    "                                                   \"subtitle\":\"Reported incidences of Tuberculosis per 100,000 people for the seven countries; showing change in incidences reported by each of the selected countries over the period of 2000 to 2021.\"})\n",
    "\n",
    "country_list =['Kenya','Uganda','Tanzania','Sudan','South Sudan','Rwanda','Djibouti']\n",
    "\n",
    "incidence_label = incidence.mark_text(dx=3, align='left').encode(alt.X('max(Year):O', title=\"\"),\n",
    "                                                   alt.Y('Incidence of tuberculosis (per 100,000 people):Q',\n",
    "                                                         aggregate={'argmax':'Year'},\n",
    "                                                         title=\"\"),\n",
    "                                                   alt.Text('Entity:O'),\n",
    "                                                   alt.Color('Entity:O',\n",
    "                                                             scale=alt.Scale(domain=country_list,\n",
    "                                                                             type='ordinal')))\n",
    "\n",
    "incidence"
   ]
  },
  {
   "cell_type": "markdown",
   "id": "e6434fea-70bd-4aab-92e7-a94ca7df1189",
   "metadata": {},
   "source": [
    "### TB indicators in Kenya"
   ]
  },
  {
   "cell_type": "code",
   "execution_count": 16,
   "id": "57e75ea5-ebc2-4221-855f-66f28fff190d",
   "metadata": {},
   "outputs": [],
   "source": [
    "kenyatb_indicators = pd.read_csv('datasets/tuberculosis_indicators_ken.csv')\n",
    "#pd.read_csv('datasets/tuberculosis_indicators_ken.csv').Indicator.unique()"
   ]
  },
  {
   "cell_type": "code",
   "execution_count": 17,
   "id": "f3ffd9a0-8b50-4d57-ab50-4d324498ab4e",
   "metadata": {},
   "outputs": [],
   "source": [
    "#alt.Chart(kenyatb_indicators).transform_flatten()"
   ]
  },
  {
   "cell_type": "markdown",
   "id": "0ff57bf8-66b2-4091-89e7-2ebe6bcdc453",
   "metadata": {},
   "source": [
    "columns to plot\n",
    "\n",
    "['Incidence of tuberculosis (per 100 000 population per year)','Incidence of tuberculosis (per 100 000 population) (HIV-positive cases)']\n",
    "\n",
    "['Number of incident tuberculosis cases','Number of incident tuberculosis cases,  (HIV-positive cases)']\n",
    "\n",
    "['Tuberculosis effective treatment coverage (%)',\n",
    "'Treatment success rate: new TB cases',\n",
    "'Treatment success rate: previously treated TB cases',\n",
    "'Treatment success rate: HIV-positive TB cases',\n",
    "'Treatment success rate for patients treated for MDR-TB (%)',\n",
    "'Treatment success rate for new pulmonary smear-negative and extrapulmonary tuberculosis cases',\n",
    "'Treatment success rate: XDR-TB cases',\n",
    "'Tuberculosis treatment coverage',]\n",
    "\n",
    "['Tuberculosis - new and relapse cases',\n",
    "'New or unknown treatment history cases: Pulmonary, bacteriologically confirmed',\n",
    "'New cases: Pulmonary, smear-positive',\n",
    "'New or unknown treatment history cases: Pulmonary, clinically diagnosed',\n",
    "'New cases: extrapulmonary',\n",
    "'Relapse cases: Pulmonary, bacteriologically confirmed',\n",
    "'Relapse cases: Pulmonary, clinically diagnosed',\n",
    "'Relapse cases: extrapulmonary']\n",
    "\n",
    "['Confirmed cases of MDR-TB',\n",
    "'Confirmed cases of MDR-TB started treatment for MDR-TB (%)',\n",
    "'Confirmed cases of RR-/MDR-TB',\n",
    "'Cases started on MDR-TB treatment',      \n",
    "'Estimated MDR-TB cases among notified pulmonary TB cases'] \n",
    "\n",
    "['Laboratories providing drug susceptibility testing (DST) (per 5 million population)',\n",
    "'Laboratories providing tuberculosis diagnostic services using culture (per 5 million population)',\n",
    "'Laboratories providing tuberculosis diagnostic services using sputum smear microscopy (per 100 000 population)']"
   ]
  },
  {
   "cell_type": "code",
   "execution_count": 18,
   "id": "56813297-8328-494a-be33-eacd3ec67be1",
   "metadata": {},
   "outputs": [
    {
     "data": {
      "application/vnd.vegalite.v5+json": {
       "$schema": "https://vega.github.io/schema/vega-lite/v5.14.1.json",
       "config": {
        "view": {
         "continuousHeight": 300,
         "continuousWidth": 300
        }
       },
       "data": {
        "name": "data-cf39aa03e3be92338d145af8d3185630"
       },
       "datasets": {
        "data-cf39aa03e3be92338d145af8d3185630": [
         {
          "Indicator": "Smear-positive tuberculosis case-detection rate (%)",
          "Value": 53,
          "Year": 2000
         },
         {
          "Indicator": "Smear-positive tuberculosis case-detection rate (%)",
          "Value": 68,
          "Year": 2008
         },
         {
          "Indicator": "Tuberculosis - new and relapse cases (TB_c_newinc)",
          "Value": 12320,
          "Year": 1991
         },
         {
          "Indicator": "Tuberculosis - new and relapse cases (TB_c_newinc)",
          "Value": 14599,
          "Year": 1992
         },
         {
          "Indicator": "Tuberculosis - new and relapse cases (TB_c_newinc)",
          "Value": 22930,
          "Year": 1994
         },
         {
          "Indicator": "Tuberculosis - new and relapse cases (TB_c_newinc)",
          "Value": 28142,
          "Year": 1995
         },
         {
          "Indicator": "Tuberculosis - new and relapse cases (TB_c_newinc)",
          "Value": 39738,
          "Year": 1997
         },
         {
          "Indicator": "Tuberculosis - new and relapse cases (TB_c_newinc)",
          "Value": 48936,
          "Year": 1998
         },
         {
          "Indicator": "Tuberculosis - new and relapse cases (TB_c_newinc)",
          "Value": 57266,
          "Year": 1999
         },
         {
          "Indicator": "Tuberculosis - new and relapse cases (TB_c_newinc)",
          "Value": 64159,
          "Year": 2000
         },
         {
          "Indicator": "Tuberculosis - new and relapse cases (TB_c_newinc)",
          "Value": 73017,
          "Year": 2001
         },
         {
          "Indicator": "Tuberculosis - new and relapse cases (TB_c_newinc)",
          "Value": 80183,
          "Year": 2002
         },
         {
          "Indicator": "Tuberculosis - new and relapse cases (TB_c_newinc)",
          "Value": 91522,
          "Year": 2003
         },
         {
          "Indicator": "Tuberculosis - new and relapse cases (TB_c_newinc)",
          "Value": 102680,
          "Year": 2005
         },
         {
          "Indicator": "Tuberculosis - new and relapse cases (TB_c_newinc)",
          "Value": 108342,
          "Year": 2006
         },
         {
          "Indicator": "Tuberculosis - new and relapse cases (TB_c_newinc)",
          "Value": 99941,
          "Year": 2008
         },
         {
          "Indicator": "Tuberculosis - new and relapse cases (TB_c_newinc)",
          "Value": 102997,
          "Year": 2009
         },
         {
          "Indicator": "Tuberculosis - new and relapse cases (TB_c_newinc)",
          "Value": 97320,
          "Year": 2011
         },
         {
          "Indicator": "Tuberculosis - new and relapse cases (TB_c_newinc)",
          "Value": 11788,
          "Year": 1990
         },
         {
          "Indicator": "Tuberculosis - new and relapse cases (TB_c_newinc)",
          "Value": 20451,
          "Year": 1993
         },
         {
          "Indicator": "Tuberculosis - new and relapse cases (TB_c_newinc)",
          "Value": 34980,
          "Year": 1996
         },
         {
          "Indicator": "Tuberculosis - new and relapse cases (TB_c_newinc)",
          "Value": 100573,
          "Year": 2004
         },
         {
          "Indicator": "Tuberculosis - new and relapse cases (TB_c_newinc)",
          "Value": 106438,
          "Year": 2007
         },
         {
          "Indicator": "Tuberculosis - new and relapse cases (TB_c_newinc)",
          "Value": 99272,
          "Year": 2010
         },
         {
          "Indicator": "New cases: pulmonary smear-negative",
          "Value": 9676,
          "Year": 1995
         },
         {
          "Indicator": "New cases: pulmonary smear-negative",
          "Value": 14340,
          "Year": 1997
         },
         {
          "Indicator": "New cases: pulmonary smear-negative",
          "Value": 17487,
          "Year": 1998
         },
         {
          "Indicator": "New cases: pulmonary smear-negative",
          "Value": 20667,
          "Year": 1999
         },
         {
          "Indicator": "New cases: pulmonary smear-negative",
          "Value": 24143,
          "Year": 2000
         },
         {
          "Indicator": "New cases: pulmonary smear-negative",
          "Value": 28097,
          "Year": 2001
         },
         {
          "Indicator": "New cases: pulmonary smear-negative",
          "Value": 31765,
          "Year": 2002
         },
         {
          "Indicator": "New cases: pulmonary smear-negative",
          "Value": 37135,
          "Year": 2003
         },
         {
          "Indicator": "New cases: pulmonary smear-negative",
          "Value": 43772,
          "Year": 2005
         },
         {
          "Indicator": "New cases: pulmonary smear-negative",
          "Value": 42686,
          "Year": 2006
         },
         {
          "Indicator": "New cases: pulmonary smear-negative",
          "Value": 35232,
          "Year": 2008
         },
         {
          "Indicator": "New cases: pulmonary smear-negative",
          "Value": 32787,
          "Year": 2009
         },
         {
          "Indicator": "New cases: pulmonary smear-negative",
          "Value": 30394,
          "Year": 2011
         },
         {
          "Indicator": "New cases: pulmonary smear-negative",
          "Value": 28574,
          "Year": 2012
         },
         {
          "Indicator": "New cases: pulmonary smear-negative",
          "Value": 11946,
          "Year": 1996
         },
         {
          "Indicator": "New cases: pulmonary smear-negative",
          "Value": 41220,
          "Year": 2004
         },
         {
          "Indicator": "New cases: pulmonary smear-negative",
          "Value": 42852,
          "Year": 2007
         },
         {
          "Indicator": "New cases: pulmonary smear-negative",
          "Value": 31842,
          "Year": 2010
         },
         {
          "Indicator": "New cases: pulmonary smear unknown/not done",
          "Value": 0,
          "Year": 2000
         },
         {
          "Indicator": "New cases: pulmonary smear unknown/not done",
          "Value": 0,
          "Year": 2001
         },
         {
          "Indicator": "New cases: pulmonary smear unknown/not done",
          "Value": 5652,
          "Year": 2006
         },
         {
          "Indicator": "New cases: pulmonary smear unknown/not done",
          "Value": 10883,
          "Year": 2008
         },
         {
          "Indicator": "New cases: pulmonary smear unknown/not done",
          "Value": 11727,
          "Year": 2009
         },
         {
          "Indicator": "New cases: pulmonary smear unknown/not done",
          "Value": 9416,
          "Year": 2011
         },
         {
          "Indicator": "New cases: pulmonary smear unknown/not done",
          "Value": 8123,
          "Year": 2012
         },
         {
          "Indicator": "New cases: pulmonary smear unknown/not done",
          "Value": 0,
          "Year": 2004
         },
         {
          "Indicator": "New cases: pulmonary smear unknown/not done",
          "Value": 7017,
          "Year": 2007
         },
         {
          "Indicator": "New cases: pulmonary smear unknown/not done",
          "Value": 10120,
          "Year": 2010
         },
         {
          "Indicator": "New cases: other",
          "Value": 0,
          "Year": 2008
         },
         {
          "Indicator": "New cases: other",
          "Value": 0,
          "Year": 2011
         },
         {
          "Indicator": "New cases: other",
          "Value": 0,
          "Year": 2012
         },
         {
          "Indicator": "New cases: other",
          "Value": 0,
          "Year": 2007
         },
         {
          "Indicator": "New cases: other",
          "Value": 0,
          "Year": 2010
         },
         {
          "Indicator": "Retreatment cases: treatment after failure (pulmonary smear and/or culture positive)",
          "Value": 65,
          "Year": 1997
         },
         {
          "Indicator": "Retreatment cases: treatment after failure (pulmonary smear and/or culture positive)",
          "Value": 44,
          "Year": 1998
         },
         {
          "Indicator": "Retreatment cases: treatment after failure (pulmonary smear and/or culture positive)",
          "Value": 52,
          "Year": 1999
         },
         {
          "Indicator": "Retreatment cases: treatment after failure (pulmonary smear and/or culture positive)",
          "Value": 35,
          "Year": 2000
         },
         {
          "Indicator": "Retreatment cases: treatment after failure (pulmonary smear and/or culture positive)",
          "Value": 50,
          "Year": 2001
         },
         {
          "Indicator": "Retreatment cases: treatment after failure (pulmonary smear and/or culture positive)",
          "Value": 104,
          "Year": 2003
         },
         {
          "Indicator": "Retreatment cases: treatment after failure (pulmonary smear and/or culture positive)",
          "Value": 81,
          "Year": 2005
         },
         {
          "Indicator": "Retreatment cases: treatment after failure (pulmonary smear and/or culture positive)",
          "Value": 121,
          "Year": 2006
         },
         {
          "Indicator": "Retreatment cases: treatment after failure (pulmonary smear and/or culture positive)",
          "Value": 3225,
          "Year": 2008
         },
         {
          "Indicator": "Retreatment cases: treatment after failure (pulmonary smear and/or culture positive)",
          "Value": 182,
          "Year": 2009
         },
         {
          "Indicator": "Retreatment cases: treatment after failure (pulmonary smear and/or culture positive)",
          "Value": 263,
          "Year": 2011
         },
         {
          "Indicator": "Retreatment cases: treatment after failure (pulmonary smear and/or culture positive)",
          "Value": 326,
          "Year": 2012
         },
         {
          "Indicator": "Retreatment cases: treatment after failure (pulmonary smear and/or culture positive)",
          "Value": 72,
          "Year": 2004
         },
         {
          "Indicator": "Retreatment cases: treatment after failure (pulmonary smear and/or culture positive)",
          "Value": 3285,
          "Year": 2007
         },
         {
          "Indicator": "Retreatment cases: treatment after failure (pulmonary smear and/or culture positive)",
          "Value": 245,
          "Year": 2010
         },
         {
          "Indicator": "Retreatment cases: treatment after default (pulmonary smear and/or culture positive)",
          "Value": 242,
          "Year": 1997
         },
         {
          "Indicator": "Retreatment cases: treatment after default (pulmonary smear and/or culture positive)",
          "Value": 433,
          "Year": 1998
         },
         {
          "Indicator": "Retreatment cases: treatment after default (pulmonary smear and/or culture positive)",
          "Value": 368,
          "Year": 1999
         },
         {
          "Indicator": "Retreatment cases: treatment after default (pulmonary smear and/or culture positive)",
          "Value": 317,
          "Year": 2000
         },
         {
          "Indicator": "Retreatment cases: treatment after default (pulmonary smear and/or culture positive)",
          "Value": 546,
          "Year": 2001
         },
         {
          "Indicator": "Retreatment cases: treatment after default (pulmonary smear and/or culture positive)",
          "Value": 1023,
          "Year": 2003
         },
         {
          "Indicator": "Retreatment cases: treatment after default (pulmonary smear and/or culture positive)",
          "Value": 1278,
          "Year": 2005
         },
         {
          "Indicator": "Retreatment cases: treatment after default (pulmonary smear and/or culture positive)",
          "Value": 1657,
          "Year": 2006
         },
         {
          "Indicator": "Retreatment cases: treatment after default (pulmonary smear and/or culture positive)",
          "Value": 1989,
          "Year": 2008
         },
         {
          "Indicator": "Retreatment cases: treatment after default (pulmonary smear and/or culture positive)",
          "Value": 1408,
          "Year": 2012
         },
         {
          "Indicator": "Retreatment cases: treatment after default (pulmonary smear and/or culture positive)",
          "Value": 1174,
          "Year": 2004
         },
         {
          "Indicator": "Retreatment cases: treatment after default (pulmonary smear and/or culture positive)",
          "Value": 1841,
          "Year": 2007
         },
         {
          "Indicator": "Retreatment cases: treatment after default (pulmonary smear and/or culture positive)",
          "Value": 1502,
          "Year": 2010
         },
         {
          "Indicator": "Retreatment cases: other",
          "Value": 307,
          "Year": 1997
         },
         {
          "Indicator": "Retreatment cases: other",
          "Value": 477,
          "Year": 1998
         },
         {
          "Indicator": "Retreatment cases: other",
          "Value": 420,
          "Year": 1999
         },
         {
          "Indicator": "Retreatment cases: other",
          "Value": 352,
          "Year": 2000
         },
         {
          "Indicator": "Retreatment cases: other",
          "Value": 596,
          "Year": 2001
         },
         {
          "Indicator": "Retreatment cases: other",
          "Value": 1931,
          "Year": 2002
         },
         {
          "Indicator": "Retreatment cases: other",
          "Value": 4362,
          "Year": 2005
         },
         {
          "Indicator": "Retreatment cases: other",
          "Value": 5114,
          "Year": 2006
         },
         {
          "Indicator": "Retreatment cases: other",
          "Value": 5096,
          "Year": 2008
         },
         {
          "Indicator": "Retreatment cases: other",
          "Value": 6886,
          "Year": 2009
         },
         {
          "Indicator": "Retreatment cases: other",
          "Value": 6398,
          "Year": 2011
         },
         {
          "Indicator": "Retreatment cases: other",
          "Value": 4428,
          "Year": 2012
         },
         {
          "Indicator": "Retreatment cases: other",
          "Value": 3999,
          "Year": 2004
         },
         {
          "Indicator": "Retreatment cases: other",
          "Value": 5159,
          "Year": 2007
         },
         {
          "Indicator": "Retreatment cases: other",
          "Value": 5064,
          "Year": 2010
         },
         {
          "Indicator": "Smear-positive tuberculosis treatment-success rate (%)",
          "Value": 73,
          "Year": 1994
         },
         {
          "Indicator": "Smear-positive tuberculosis treatment-success rate (%)",
          "Value": 75,
          "Year": 1995
         },
         {
          "Indicator": "Smear-positive tuberculosis treatment-success rate (%)",
          "Value": 77,
          "Year": 1996
         },
         {
          "Indicator": "Smear-positive tuberculosis treatment-success rate (%)",
          "Value": 65,
          "Year": 1997
         },
         {
          "Indicator": "Smear-positive tuberculosis treatment-success rate (%)",
          "Value": 77,
          "Year": 1998
         },
         {
          "Indicator": "Smear-positive tuberculosis treatment-success rate (%)",
          "Value": 79,
          "Year": 1999
         },
         {
          "Indicator": "Smear-positive tuberculosis treatment-success rate (%)",
          "Value": 80,
          "Year": 2000
         },
         {
          "Indicator": "Smear-positive tuberculosis treatment-success rate (%)",
          "Value": 80,
          "Year": 2001
         },
         {
          "Indicator": "Smear-positive tuberculosis treatment-success rate (%)",
          "Value": 79,
          "Year": 2002
         },
         {
          "Indicator": "Smear-positive tuberculosis treatment-success rate (%)",
          "Value": 80,
          "Year": 2003
         },
         {
          "Indicator": "Smear-positive tuberculosis treatment-success rate (%)",
          "Value": 80,
          "Year": 2004
         },
         {
          "Indicator": "Smear-positive tuberculosis treatment-success rate (%)",
          "Value": 82,
          "Year": 2005
         },
         {
          "Indicator": "Smear-positive tuberculosis treatment-success rate (%)",
          "Value": 85,
          "Year": 2006
         },
         {
          "Indicator": "Smear-positive tuberculosis treatment-success rate (%)",
          "Value": 85,
          "Year": 2007
         },
         {
          "Indicator": "Smear-positive tuberculosis treatment-success rate (%)",
          "Value": 85,
          "Year": 2008
         },
         {
          "Indicator": "Smear-positive tuberculosis treatment-success rate (%)",
          "Value": 86,
          "Year": 2009
         },
         {
          "Indicator": "Smear-positive tuberculosis treatment-success rate (%)",
          "Value": 87,
          "Year": 2010
         },
         {
          "Indicator": "Smear-positive tuberculosis treatment-success rate (%)",
          "Value": 88,
          "Year": 2011
         },
         {
          "Indicator": "Treatment success rate for new pulmonary smear-negative and extrapulmonary tuberculosis cases",
          "Value": 74,
          "Year": 2004
         },
         {
          "Indicator": "Treatment success rate for new pulmonary smear-negative and extrapulmonary tuberculosis cases",
          "Value": 80,
          "Year": 2005
         },
         {
          "Indicator": "Treatment success rate for new pulmonary smear-negative and extrapulmonary tuberculosis cases",
          "Value": 81,
          "Year": 2006
         },
         {
          "Indicator": "Treatment success rate for new pulmonary smear-negative and extrapulmonary tuberculosis cases",
          "Value": 82,
          "Year": 2007
         },
         {
          "Indicator": "Treatment success rate for new pulmonary smear-negative and extrapulmonary tuberculosis cases",
          "Value": 83,
          "Year": 2008
         },
         {
          "Indicator": "Treatment success rate for new pulmonary smear-negative and extrapulmonary tuberculosis cases",
          "Value": 82,
          "Year": 2009
         },
         {
          "Indicator": "Treatment success rate for new pulmonary smear-negative and extrapulmonary tuberculosis cases",
          "Value": 85,
          "Year": 2010
         },
         {
          "Indicator": "Treatment success rate for new pulmonary smear-negative and extrapulmonary tuberculosis cases",
          "Value": 85,
          "Year": 2011
         },
         {
          "Indicator": "Confirmed cases of MDR-TB",
          "Value": 44,
          "Year": 2005
         },
         {
          "Indicator": "Confirmed cases of MDR-TB",
          "Value": 89,
          "Year": 2006
         },
         {
          "Indicator": "Confirmed cases of MDR-TB",
          "Value": 82,
          "Year": 2007
         },
         {
          "Indicator": "Confirmed cases of MDR-TB",
          "Value": 102,
          "Year": 2008
         },
         {
          "Indicator": "Confirmed cases of MDR-TB",
          "Value": 150,
          "Year": 2009
         },
         {
          "Indicator": "Confirmed cases of MDR-TB",
          "Value": 112,
          "Year": 2010
         },
         {
          "Indicator": "Confirmed cases of MDR-TB",
          "Value": 166,
          "Year": 2011
         },
         {
          "Indicator": "Confirmed cases of MDR-TB",
          "Value": 225,
          "Year": 2012
         },
         {
          "Indicator": "Confirmed cases of MDR-TB started treatment for MDR-TB (%)",
          "Value": 27,
          "Year": 2008
         },
         {
          "Indicator": "Confirmed cases of MDR-TB started treatment for MDR-TB (%)",
          "Value": 93,
          "Year": 2009
         },
         {
          "Indicator": "Confirmed cases of MDR-TB started treatment for MDR-TB (%)",
          "Value": 105,
          "Year": 2010
         },
         {
          "Indicator": "Confirmed cases of MDR-TB started treatment for MDR-TB (%)",
          "Value": 94,
          "Year": 2011
         },
         {
          "Indicator": "Confirmed cases of MDR-TB started treatment for MDR-TB (%)",
          "Value": 86,
          "Year": 2012
         },
         {
          "Indicator": "Estimated MDR-TB cases among notified pulmonary TB cases",
          "Value": 2500,
          "Year": 2014
         },
         {
          "Indicator": "Number of prevalent tuberculosis cases",
          "Value": 41000,
          "Year": 1990
         },
         {
          "Indicator": "Number of prevalent tuberculosis cases",
          "Value": 38000,
          "Year": 1991
         },
         {
          "Indicator": "Number of prevalent tuberculosis cases",
          "Value": 35000,
          "Year": 1992
         },
         {
          "Indicator": "Number of prevalent tuberculosis cases",
          "Value": 34000,
          "Year": 1993
         },
         {
          "Indicator": "Number of prevalent tuberculosis cases",
          "Value": 35000,
          "Year": 1994
         },
         {
          "Indicator": "Number of prevalent tuberculosis cases",
          "Value": 37000,
          "Year": 1995
         },
         {
          "Indicator": "Number of prevalent tuberculosis cases",
          "Value": 42000,
          "Year": 1996
         },
         {
          "Indicator": "Number of prevalent tuberculosis cases",
          "Value": 48000,
          "Year": 1997
         },
         {
          "Indicator": "Number of prevalent tuberculosis cases",
          "Value": 55000,
          "Year": 1998
         },
         {
          "Indicator": "Number of prevalent tuberculosis cases",
          "Value": 64000,
          "Year": 1999
         },
         {
          "Indicator": "Number of prevalent tuberculosis cases",
          "Value": 72000,
          "Year": 2000
         },
         {
          "Indicator": "Number of prevalent tuberculosis cases",
          "Value": 82000,
          "Year": 2001
         },
         {
          "Indicator": "Number of prevalent tuberculosis cases",
          "Value": 91000,
          "Year": 2002
         },
         {
          "Indicator": "Number of prevalent tuberculosis cases",
          "Value": 100000,
          "Year": 2003
         },
         {
          "Indicator": "Number of prevalent tuberculosis cases",
          "Value": 110000,
          "Year": 2004
         },
         {
          "Indicator": "Number of prevalent tuberculosis cases",
          "Value": 110000,
          "Year": 2005
         },
         {
          "Indicator": "Number of prevalent tuberculosis cases",
          "Value": 110000,
          "Year": 2006
         },
         {
          "Indicator": "Number of prevalent tuberculosis cases",
          "Value": 120000,
          "Year": 2007
         },
         {
          "Indicator": "Number of prevalent tuberculosis cases",
          "Value": 120000,
          "Year": 2008
         },
         {
          "Indicator": "Number of prevalent tuberculosis cases",
          "Value": 110000,
          "Year": 2009
         },
         {
          "Indicator": "Number of prevalent tuberculosis cases",
          "Value": 110000,
          "Year": 2010
         },
         {
          "Indicator": "Number of prevalent tuberculosis cases",
          "Value": 110000,
          "Year": 2011
         },
         {
          "Indicator": "Number of prevalent tuberculosis cases",
          "Value": 120000,
          "Year": 2012
         },
         {
          "Indicator": "Number of prevalent tuberculosis cases",
          "Value": 120000,
          "Year": 2013
         },
         {
          "Indicator": "Number of prevalent tuberculosis cases",
          "Value": 120000,
          "Year": 2014
         },
         {
          "Indicator": "HIV-positive TB patients on CPT (co-trimoxazole preventive therapy) (%)",
          "Value": 44,
          "Year": 2005
         },
         {
          "Indicator": "HIV-positive TB patients on CPT (co-trimoxazole preventive therapy) (%)",
          "Value": 140,
          "Year": 2006
         },
         {
          "Indicator": "HIV-positive TB patients on CPT (co-trimoxazole preventive therapy) (%)",
          "Value": 93,
          "Year": 2007
         },
         {
          "Indicator": "HIV-positive TB patients on CPT (co-trimoxazole preventive therapy) (%)",
          "Value": 92,
          "Year": 2008
         },
         {
          "Indicator": "HIV-positive TB patients on CPT (co-trimoxazole preventive therapy) (%)",
          "Value": 92,
          "Year": 2009
         },
         {
          "Indicator": "HIV-positive TB patients on CPT (co-trimoxazole preventive therapy) (%)",
          "Value": 100,
          "Year": 2010
         },
         {
          "Indicator": "HIV-positive TB patients on CPT (co-trimoxazole preventive therapy) (%)",
          "Value": 97,
          "Year": 2011
         },
         {
          "Indicator": "HIV-positive TB patients on CPT (co-trimoxazole preventive therapy) (%)",
          "Value": 99,
          "Year": 2012
         },
         {
          "Indicator": "HIV-positive TB patients on CPT (co-trimoxazole preventive therapy) (%)",
          "Value": 99,
          "Year": 2013
         },
         {
          "Indicator": "HIV-positive TB patients on CPT (co-trimoxazole preventive therapy) (%)",
          "Value": 99,
          "Year": 2014
         },
         {
          "Indicator": "Second-line drug susceptibility testing (DST) available",
          "Value": null,
          "Year": 2007
         },
         {
          "Indicator": "Second-line drug susceptibility testing (DST) available",
          "Value": null,
          "Year": 2008
         },
         {
          "Indicator": "Second-line drug susceptibility testing (DST) available",
          "Value": null,
          "Year": 2009
         },
         {
          "Indicator": "Second-line drug susceptibility testing (DST) available",
          "Value": null,
          "Year": 2010
         },
         {
          "Indicator": "Second-line drug susceptibility testing (DST) available",
          "Value": null,
          "Year": 2011
         },
         {
          "Indicator": "Second-line drug susceptibility testing (DST) available",
          "Value": null,
          "Year": 2012
         },
         {
          "Indicator": "Second-line drug susceptibility testing (DST) available",
          "Value": null,
          "Year": 2013
         },
         {
          "Indicator": "Second-line drug susceptibility testing (DST) available",
          "Value": null,
          "Year": 2014
         },
         {
          "Indicator": "Laboratories providing drug susceptibility testing (DST) (per 5 million population)",
          "Value": 0.1,
          "Year": 2011
         },
         {
          "Indicator": "Laboratories providing drug susceptibility testing (DST) (per 5 million population)",
          "Value": 0.1,
          "Year": 2007
         },
         {
          "Indicator": "Laboratories providing drug susceptibility testing (DST) (per 5 million population)",
          "Value": 0.1,
          "Year": 2008
         },
         {
          "Indicator": "Laboratories providing tuberculosis diagnostic services using culture (per 5 million population)",
          "Value": 0.2,
          "Year": 2012
         },
         {
          "Indicator": "Laboratories providing drug susceptibility testing (DST) (per 5 million population)",
          "Value": 0.2,
          "Year": 2012
         },
         {
          "Indicator": "Laboratories providing drug susceptibility testing (DST) (per 5 million population)",
          "Value": 0.3,
          "Year": 2006
         },
         {
          "Indicator": "Laboratories providing drug susceptibility testing (DST) (per 5 million population)",
          "Value": 0.3,
          "Year": 2014
         },
         {
          "Indicator": "Laboratories providing tuberculosis diagnostic services using culture (per 5 million population)",
          "Value": 0.3,
          "Year": 2006
         },
         {
          "Indicator": "Laboratories providing tuberculosis diagnostic services using culture (per 5 million population)",
          "Value": 0.3,
          "Year": 2014
         },
         {
          "Indicator": "Laboratories providing tuberculosis diagnostic services using culture (per 5 million population)",
          "Value": 0.4,
          "Year": 2005
         },
         {
          "Indicator": "Laboratories providing drug susceptibility testing (DST) (per 5 million population)",
          "Value": 0.4,
          "Year": 2005
         },
         {
          "Indicator": "Laboratories providing drug susceptibility testing (DST) (per 5 million population)",
          "Value": 0.5,
          "Year": 2010
         },
         {
          "Indicator": "Laboratories providing drug susceptibility testing (DST) (per 5 million population)",
          "Value": 0.5,
          "Year": 2009
         },
         {
          "Indicator": "Laboratories providing drug susceptibility testing (DST) (per 5 million population)",
          "Value": 0.7,
          "Year": 2013
         },
         {
          "Indicator": "Laboratories providing tuberculosis diagnostic services using culture (per 5 million population)",
          "Value": 0.7,
          "Year": 2007
         },
         {
          "Indicator": "Laboratories providing tuberculosis diagnostic services using culture (per 5 million population)",
          "Value": 0.7,
          "Year": 2008
         },
         {
          "Indicator": "Laboratories providing tuberculosis diagnostic services using culture (per 5 million population)",
          "Value": 0.7,
          "Year": 2010
         },
         {
          "Indicator": "Laboratories providing tuberculosis diagnostic services using culture (per 5 million population)",
          "Value": 0.7,
          "Year": 2011
         },
         {
          "Indicator": "Laboratories providing tuberculosis diagnostic services using culture (per 5 million population)",
          "Value": 0.8,
          "Year": 2013
         },
         {
          "Indicator": "Laboratories providing tuberculosis diagnostic services using culture (per 5 million population)",
          "Value": 0.8,
          "Year": 2009
         },
         {
          "Indicator": "Laboratories providing tuberculosis diagnostic services using sputum smear microscopy (per 100 000 population)",
          "Value": 1.8,
          "Year": 2005
         },
         {
          "Indicator": "Laboratories providing tuberculosis diagnostic services using sputum smear microscopy (per 100 000 population)",
          "Value": 2.1,
          "Year": 2006
         },
         {
          "Indicator": "Laboratories providing tuberculosis diagnostic services using sputum smear microscopy (per 100 000 population)",
          "Value": 2.4,
          "Year": 2008
         },
         {
          "Indicator": "Laboratories providing tuberculosis diagnostic services using sputum smear microscopy (per 100 000 population)",
          "Value": 2.5,
          "Year": 2007
         },
         {
          "Indicator": "Laboratories providing tuberculosis diagnostic services using sputum smear microscopy (per 100 000 population)",
          "Value": 3,
          "Year": 2009
         },
         {
          "Indicator": "Laboratories providing tuberculosis diagnostic services using sputum smear microscopy (per 100 000 population)",
          "Value": 3.3,
          "Year": 2010
         },
         {
          "Indicator": "Laboratories providing tuberculosis diagnostic services using sputum smear microscopy (per 100 000 population)",
          "Value": 3.8,
          "Year": 2011
         },
         {
          "Indicator": "Laboratories providing tuberculosis diagnostic services using sputum smear microscopy (per 100 000 population)",
          "Value": 4.3,
          "Year": 2013
         },
         {
          "Indicator": "Laboratories providing tuberculosis diagnostic services using sputum smear microscopy (per 100 000 population)",
          "Value": 4.3,
          "Year": 2012
         },
         {
          "Indicator": "Laboratories providing tuberculosis diagnostic services using sputum smear microscopy (per 100 000 population)",
          "Value": 4.3,
          "Year": 2014
         },
         {
          "Indicator": "Total number of notified TB cases",
          "Value": 89294,
          "Year": 2014
         },
         {
          "Indicator": "Total number of notified TB cases",
          "Value": 89796,
          "Year": 2013
         },
         {
          "Indicator": "Total number of notified TB cases",
          "Value": 99149,
          "Year": 2012
         },
         {
          "Indicator": "Total number of notified TB cases",
          "Value": 103981,
          "Year": 2011
         },
         {
          "Indicator": "Total number of notified TB cases",
          "Value": 106083,
          "Year": 2010
         },
         {
          "Indicator": "Total number of notified TB cases",
          "Value": 110065,
          "Year": 2009
         },
         {
          "Indicator": "Total number of notified TB cases",
          "Value": 110251,
          "Year": 2008
         },
         {
          "Indicator": "Total number of notified TB cases",
          "Value": 116723,
          "Year": 2007
         },
         {
          "Indicator": "Total number of notified TB cases",
          "Value": 115234,
          "Year": 2006
         },
         {
          "Indicator": "Total number of notified TB cases",
          "Value": 108401,
          "Year": 2005
         },
         {
          "Indicator": "Total number of notified TB cases",
          "Value": 105818,
          "Year": 2004
         },
         {
          "Indicator": "Total number of notified TB cases",
          "Value": 95310,
          "Year": 2003
         },
         {
          "Indicator": "Tuberculosis effective treatment coverage (%)",
          "Value": 35.6,
          "Year": 1999
         },
         {
          "Indicator": "Tuberculosis effective treatment coverage (%)",
          "Value": 36,
          "Year": 2000
         },
         {
          "Indicator": "Tuberculosis effective treatment coverage (%)",
          "Value": 36,
          "Year": 2001
         },
         {
          "Indicator": "Tuberculosis effective treatment coverage (%)",
          "Value": 35.6,
          "Year": 2002
         },
         {
          "Indicator": "Tuberculosis effective treatment coverage (%)",
          "Value": 36,
          "Year": 2003
         },
         {
          "Indicator": "Tuberculosis effective treatment coverage (%)",
          "Value": 34.7,
          "Year": 2004
         },
         {
          "Indicator": "Tuberculosis effective treatment coverage (%)",
          "Value": 36.5,
          "Year": 2005
         },
         {
          "Indicator": "Tuberculosis effective treatment coverage (%)",
          "Value": 37.4,
          "Year": 2006
         },
         {
          "Indicator": "Tuberculosis effective treatment coverage (%)",
          "Value": 37.4,
          "Year": 2007
         },
         {
          "Indicator": "Tuberculosis effective treatment coverage (%)",
          "Value": 37.8,
          "Year": 2008
         },
         {
          "Indicator": "Tuberculosis effective treatment coverage (%)",
          "Value": 37.8,
          "Year": 2009
         },
         {
          "Indicator": "Tuberculosis effective treatment coverage (%)",
          "Value": 38.7,
          "Year": 2010
         },
         {
          "Indicator": "Tuberculosis effective treatment coverage (%)",
          "Value": 39.2,
          "Year": 2011
         },
         {
          "Indicator": "Tuberculosis effective treatment coverage (%)",
          "Value": 38.7,
          "Year": 2012
         },
         {
          "Indicator": "Tuberculosis effective treatment coverage (%)",
          "Value": 38.7,
          "Year": 2013
         },
         {
          "Indicator": "Tuberculosis effective treatment coverage (%)",
          "Value": 39.2,
          "Year": 2014
         },
         {
          "Indicator": "Tuberculosis effective treatment coverage (%)",
          "Value": 39.2,
          "Year": 2015
         },
         {
          "Indicator": "Tuberculosis effective treatment coverage (%)",
          "Value": 42.1,
          "Year": 2016
         },
         {
          "Indicator": "Tuberculosis effective treatment coverage (%)",
          "Value": 52.3,
          "Year": 2017
         },
         {
          "Indicator": "Treatment success rate: new TB cases",
          "Value": 75,
          "Year": 1995
         },
         {
          "Indicator": "Treatment success rate: new TB cases",
          "Value": 77,
          "Year": 1996
         },
         {
          "Indicator": "Treatment success rate: new TB cases",
          "Value": 65,
          "Year": 1997
         },
         {
          "Indicator": "Treatment success rate: new TB cases",
          "Value": 77,
          "Year": 1998
         },
         {
          "Indicator": "Treatment success rate: new TB cases",
          "Value": 79,
          "Year": 1999
         },
         {
          "Indicator": "Treatment success rate: new TB cases",
          "Value": 80,
          "Year": 2000
         },
         {
          "Indicator": "Treatment success rate: new TB cases",
          "Value": 80,
          "Year": 2001
         },
         {
          "Indicator": "Treatment success rate: new TB cases",
          "Value": 79,
          "Year": 2002
         },
         {
          "Indicator": "Treatment success rate: new TB cases",
          "Value": 80,
          "Year": 2003
         },
         {
          "Indicator": "Treatment success rate: new TB cases",
          "Value": 77,
          "Year": 2004
         },
         {
          "Indicator": "Treatment success rate: new TB cases",
          "Value": 81,
          "Year": 2005
         },
         {
          "Indicator": "Treatment success rate: new TB cases",
          "Value": 83,
          "Year": 2006
         },
         {
          "Indicator": "Treatment success rate: new TB cases",
          "Value": 83,
          "Year": 2007
         },
         {
          "Indicator": "Treatment success rate: new TB cases",
          "Value": 84,
          "Year": 2008
         },
         {
          "Indicator": "Treatment success rate: new TB cases",
          "Value": 84,
          "Year": 2009
         },
         {
          "Indicator": "Treatment success rate: new TB cases",
          "Value": 86,
          "Year": 2010
         },
         {
          "Indicator": "Treatment success rate: new TB cases",
          "Value": 87,
          "Year": 2011
         },
         {
          "Indicator": "Treatment success rate: new TB cases",
          "Value": 86,
          "Year": 2012
         },
         {
          "Indicator": "Treatment success rate: new TB cases",
          "Value": 86,
          "Year": 2013
         },
         {
          "Indicator": "Treatment success rate: new TB cases",
          "Value": 87,
          "Year": 2014
         },
         {
          "Indicator": "Treatment success rate: new TB cases",
          "Value": 87,
          "Year": 2015
         },
         {
          "Indicator": "Treatment success rate: new TB cases",
          "Value": 81,
          "Year": 2016
         },
         {
          "Indicator": "Treatment success rate: new TB cases",
          "Value": 83,
          "Year": 2017
         },
         {
          "Indicator": "Treatment success rate: new TB cases",
          "Value": 84,
          "Year": 2018
         },
         {
          "Indicator": "Treatment success rate: new TB cases",
          "Value": 86,
          "Year": 2019
         },
         {
          "Indicator": "Treatment success rate: new TB cases",
          "Value": 85,
          "Year": 2020
         },
         {
          "Indicator": "Treatment success rate: previously treated TB cases",
          "Value": 72,
          "Year": 1995
         },
         {
          "Indicator": "Treatment success rate: previously treated TB cases",
          "Value": 59,
          "Year": 1996
         },
         {
          "Indicator": "Treatment success rate: previously treated TB cases",
          "Value": 55,
          "Year": 1997
         },
         {
          "Indicator": "Treatment success rate: previously treated TB cases",
          "Value": 64,
          "Year": 1998
         },
         {
          "Indicator": "Treatment success rate: previously treated TB cases",
          "Value": 74,
          "Year": 1999
         },
         {
          "Indicator": "Treatment success rate: previously treated TB cases",
          "Value": 76,
          "Year": 2000
         },
         {
          "Indicator": "Treatment success rate: previously treated TB cases",
          "Value": 77,
          "Year": 2001
         },
         {
          "Indicator": "Treatment success rate: previously treated TB cases",
          "Value": 77,
          "Year": 2002
         },
         {
          "Indicator": "Treatment success rate: previously treated TB cases",
          "Value": 75,
          "Year": 2003
         },
         {
          "Indicator": "Treatment success rate: previously treated TB cases",
          "Value": 76,
          "Year": 2004
         },
         {
          "Indicator": "Treatment success rate: previously treated TB cases",
          "Value": 77,
          "Year": 2005
         },
         {
          "Indicator": "Treatment success rate: previously treated TB cases",
          "Value": 79,
          "Year": 2006
         },
         {
          "Indicator": "Treatment success rate: previously treated TB cases",
          "Value": 80,
          "Year": 2007
         },
         {
          "Indicator": "Treatment success rate: previously treated TB cases",
          "Value": 72,
          "Year": 2008
         },
         {
          "Indicator": "Treatment success rate: previously treated TB cases",
          "Value": 78,
          "Year": 2009
         },
         {
          "Indicator": "Treatment success rate: previously treated TB cases",
          "Value": 79,
          "Year": 2010
         },
         {
          "Indicator": "Treatment success rate: previously treated TB cases",
          "Value": 82,
          "Year": 2011
         },
         {
          "Indicator": "Treatment success rate: previously treated TB cases",
          "Value": 78,
          "Year": 2012
         },
         {
          "Indicator": "Treatment success rate: previously treated TB cases",
          "Value": 78,
          "Year": 2013
         },
         {
          "Indicator": "Treatment success rate: previously treated TB cases",
          "Value": 78,
          "Year": 2014
         },
         {
          "Indicator": "Treatment success rate: previously treated TB cases",
          "Value": 83,
          "Year": 2015
         },
         {
          "Indicator": "Treatment success rate: previously treated TB cases",
          "Value": 70,
          "Year": 2016
         },
         {
          "Indicator": "Treatment success rate: previously treated TB cases",
          "Value": 72,
          "Year": 2017
         },
         {
          "Indicator": "Treatment success rate: previously treated TB cases",
          "Value": 72,
          "Year": 2018
         },
         {
          "Indicator": "Treatment success rate: previously treated TB cases",
          "Value": 73,
          "Year": 2019
         },
         {
          "Indicator": "Treatment success rate: previously treated TB cases",
          "Value": 72,
          "Year": 2020
         },
         {
          "Indicator": "Treatment success rate: HIV-positive TB cases",
          "Value": 81,
          "Year": 2007
         },
         {
          "Indicator": "Treatment success rate: HIV-positive TB cases",
          "Value": 81,
          "Year": 2008
         },
         {
          "Indicator": "Treatment success rate: HIV-positive TB cases",
          "Value": 82,
          "Year": 2009
         },
         {
          "Indicator": "Treatment success rate: HIV-positive TB cases",
          "Value": 82,
          "Year": 2010
         },
         {
          "Indicator": "Treatment success rate: HIV-positive TB cases",
          "Value": 82,
          "Year": 2011
         },
         {
          "Indicator": "Treatment success rate: HIV-positive TB cases",
          "Value": 83,
          "Year": 2012
         },
         {
          "Indicator": "Treatment success rate: HIV-positive TB cases",
          "Value": 79,
          "Year": 2013
         },
         {
          "Indicator": "Treatment success rate: HIV-positive TB cases",
          "Value": 82,
          "Year": 2014
         },
         {
          "Indicator": "Treatment success rate: HIV-positive TB cases",
          "Value": 82,
          "Year": 2015
         },
         {
          "Indicator": "Treatment success rate: HIV-positive TB cases",
          "Value": 77,
          "Year": 2016
         },
         {
          "Indicator": "Treatment success rate: HIV-positive TB cases",
          "Value": 78,
          "Year": 2017
         },
         {
          "Indicator": "Treatment success rate: HIV-positive TB cases",
          "Value": 79,
          "Year": 2018
         },
         {
          "Indicator": "Treatment success rate: HIV-positive TB cases",
          "Value": 80,
          "Year": 2019
         },
         {
          "Indicator": "Treatment success rate: HIV-positive TB cases",
          "Value": 80,
          "Year": 2020
         },
         {
          "Indicator": "Treatment success rate for patients treated for MDR-TB (%)",
          "Value": 100,
          "Year": 2006
         },
         {
          "Indicator": "Treatment success rate for patients treated for MDR-TB (%)",
          "Value": 69,
          "Year": 2007
         },
         {
          "Indicator": "Treatment success rate for patients treated for MDR-TB (%)",
          "Value": 61,
          "Year": 2008
         },
         {
          "Indicator": "Treatment success rate for patients treated for MDR-TB (%)",
          "Value": 69,
          "Year": 2009
         },
         {
          "Indicator": "Treatment success rate for patients treated for MDR-TB (%)",
          "Value": 82,
          "Year": 2010
         },
         {
          "Indicator": "Treatment success rate for patients treated for MDR-TB (%)",
          "Value": 70,
          "Year": 2011
         },
         {
          "Indicator": "Treatment success rate for patients treated for MDR-TB (%)",
          "Value": 83,
          "Year": 2012
         },
         {
          "Indicator": "Treatment success rate for patients treated for MDR-TB (%)",
          "Value": 82,
          "Year": 2013
         },
         {
          "Indicator": "Treatment success rate for patients treated for MDR-TB (%)",
          "Value": 72,
          "Year": 2014
         },
         {
          "Indicator": "Treatment success rate for patients treated for MDR-TB (%)",
          "Value": 73,
          "Year": 2015
         },
         {
          "Indicator": "Treatment success rate for patients treated for MDR-TB (%)",
          "Value": 68,
          "Year": 2016
         },
         {
          "Indicator": "Treatment success rate for patients treated for MDR-TB (%)",
          "Value": 70,
          "Year": 2017
         },
         {
          "Indicator": "Treatment success rate for patients treated for MDR-TB (%)",
          "Value": 74,
          "Year": 2018
         },
         {
          "Indicator": "Treatment success rate for patients treated for MDR-TB (%)",
          "Value": 73,
          "Year": 2019
         },
         {
          "Indicator": "Treatment success rate: XDR-TB cases",
          "Value": 0,
          "Year": 2009
         },
         {
          "Indicator": "Treatment success rate: XDR-TB cases",
          "Value": 0,
          "Year": 2010
         },
         {
          "Indicator": "Treatment success rate: XDR-TB cases",
          "Value": 0,
          "Year": 2013
         },
         {
          "Indicator": "Treatment success rate: XDR-TB cases",
          "Value": 100,
          "Year": 2014
         },
         {
          "Indicator": "Treatment success rate: XDR-TB cases",
          "Value": 100,
          "Year": 2015
         },
         {
          "Indicator": "Treatment success rate: XDR-TB cases",
          "Value": 0,
          "Year": 2017
         },
         {
          "Indicator": "Treatment success rate: XDR-TB cases",
          "Value": 100,
          "Year": 2018
         },
         {
          "Indicator": "Treatment success rate: XDR-TB cases",
          "Value": 56,
          "Year": 2019
         },
         {
          "Indicator": "Confirmed cases of RR-/MDR-TB",
          "Value": 44,
          "Year": 2005
         },
         {
          "Indicator": "Confirmed cases of RR-/MDR-TB",
          "Value": 89,
          "Year": 2006
         },
         {
          "Indicator": "Confirmed cases of RR-/MDR-TB",
          "Value": 82,
          "Year": 2007
         },
         {
          "Indicator": "Confirmed cases of RR-/MDR-TB",
          "Value": 102,
          "Year": 2008
         },
         {
          "Indicator": "Confirmed cases of RR-/MDR-TB",
          "Value": 184,
          "Year": 2009
         },
         {
          "Indicator": "Confirmed cases of RR-/MDR-TB",
          "Value": 249,
          "Year": 2010
         },
         {
          "Indicator": "Confirmed cases of RR-/MDR-TB",
          "Value": 392,
          "Year": 2011
         },
         {
          "Indicator": "Confirmed cases of RR-/MDR-TB",
          "Value": 260,
          "Year": 2012
         },
         {
          "Indicator": "Confirmed cases of RR-/MDR-TB",
          "Value": 160,
          "Year": 2013
         },
         {
          "Indicator": "Confirmed cases of RR-/MDR-TB",
          "Value": 644,
          "Year": 2014
         },
         {
          "Indicator": "Confirmed cases of RR-/MDR-TB",
          "Value": 368,
          "Year": 2015
         },
         {
          "Indicator": "Confirmed cases of RR-/MDR-TB",
          "Value": 308,
          "Year": 2016
         },
         {
          "Indicator": "Confirmed cases of RR-/MDR-TB",
          "Value": 390,
          "Year": 2017
         },
         {
          "Indicator": "Confirmed cases of RR-/MDR-TB",
          "Value": 465,
          "Year": 2018
         },
         {
          "Indicator": "Confirmed cases of RR-/MDR-TB",
          "Value": 507,
          "Year": 2019
         },
         {
          "Indicator": "Confirmed cases of RR-/MDR-TB",
          "Value": 589,
          "Year": 2020
         },
         {
          "Indicator": "Confirmed cases of RR-/MDR-TB",
          "Value": 470,
          "Year": 2021
         },
         {
          "Indicator": "Cases started on MDR-TB treatment",
          "Value": 28,
          "Year": 2008
         },
         {
          "Indicator": "Cases started on MDR-TB treatment",
          "Value": 140,
          "Year": 2009
         },
         {
          "Indicator": "Cases started on MDR-TB treatment",
          "Value": 118,
          "Year": 2010
         },
         {
          "Indicator": "Cases started on MDR-TB treatment",
          "Value": 156,
          "Year": 2011
         },
         {
          "Indicator": "Cases started on MDR-TB treatment",
          "Value": 202,
          "Year": 2012
         },
         {
          "Indicator": "Cases started on MDR-TB treatment",
          "Value": 290,
          "Year": 2013
         },
         {
          "Indicator": "Cases started on MDR-TB treatment",
          "Value": 544,
          "Year": 2014
         },
         {
          "Indicator": "Cases started on MDR-TB treatment",
          "Value": 368,
          "Year": 2015
         },
         {
          "Indicator": "Cases started on MDR-TB treatment",
          "Value": 308,
          "Year": 2016
         },
         {
          "Indicator": "Cases started on MDR-TB treatment",
          "Value": 394,
          "Year": 2017
         },
         {
          "Indicator": "Cases started on MDR-TB treatment",
          "Value": 470,
          "Year": 2018
         },
         {
          "Indicator": "Cases started on MDR-TB treatment",
          "Value": 686,
          "Year": 2019
         },
         {
          "Indicator": "Cases started on MDR-TB treatment",
          "Value": 601,
          "Year": 2020
         },
         {
          "Indicator": "Cases started on MDR-TB treatment",
          "Value": 486,
          "Year": 2021
         },
         {
          "Indicator": "Previously treated cases tested for RR-/MDR-TB (%)",
          "Value": 20,
          "Year": 2005
         },
         {
          "Indicator": "Previously treated cases tested for RR-/MDR-TB (%)",
          "Value": 10,
          "Year": 2006
         },
         {
          "Indicator": "Previously treated cases tested for RR-/MDR-TB (%)",
          "Value": 42,
          "Year": 2007
         },
         {
          "Indicator": "Previously treated cases tested for RR-/MDR-TB (%)",
          "Value": 48,
          "Year": 2008
         },
         {
          "Indicator": "Previously treated cases tested for RR-/MDR-TB (%)",
          "Value": 18,
          "Year": 2009
         },
         {
          "Indicator": "Previously treated cases tested for RR-/MDR-TB (%)",
          "Value": 6.7,
          "Year": 2010
         },
         {
          "Indicator": "Previously treated cases tested for RR-/MDR-TB (%)",
          "Value": 12,
          "Year": 2011
         },
         {
          "Indicator": "Previously treated cases tested for RR-/MDR-TB (%)",
          "Value": 13,
          "Year": 2012
         },
         {
          "Indicator": "Previously treated cases tested for RR-/MDR-TB (%)",
          "Value": 22,
          "Year": 2013
         },
         {
          "Indicator": "Previously treated cases tested for RR-/MDR-TB (%)",
          "Value": 85,
          "Year": 2014
         },
         {
          "Indicator": "Previously treated cases tested for RR-/MDR-TB (%)",
          "Value": 40,
          "Year": 2015
         },
         {
          "Indicator": "Previously treated cases tested for RR-/MDR-TB (%)",
          "Value": 42,
          "Year": 2016
         },
         {
          "Indicator": "Previously treated cases tested for RR-/MDR-TB (%)",
          "Value": 52,
          "Year": 2017
         },
         {
          "Indicator": "Previously treated cases tested for RR-/MDR-TB (%)",
          "Value": 79,
          "Year": 2018
         },
         {
          "Indicator": "Previously treated cases tested for RR-/MDR-TB (%)",
          "Value": 86,
          "Year": 2019
         },
         {
          "Indicator": "Previously treated cases tested for RR-/MDR-TB (%)",
          "Value": 92,
          "Year": 2020
         },
         {
          "Indicator": "Previously treated cases tested for RR-/MDR-TB (%)",
          "Value": 73,
          "Year": 2021
         },
         {
          "Indicator": "New cases tested for RR-/MDR-TB (%)",
          "Value": 0,
          "Year": 2005
         },
         {
          "Indicator": "New cases tested for RR-/MDR-TB (%)",
          "Value": 0,
          "Year": 2006
         },
         {
          "Indicator": "New cases tested for RR-/MDR-TB (%)",
          "Value": 0,
          "Year": 2007
         },
         {
          "Indicator": "New cases tested for RR-/MDR-TB (%)",
          "Value": 0,
          "Year": 2008
         },
         {
          "Indicator": "New cases tested for RR-/MDR-TB (%)",
          "Value": 0,
          "Year": 2009
         },
         {
          "Indicator": "New cases tested for RR-/MDR-TB (%)",
          "Value": 0.25,
          "Year": 2011
         },
         {
          "Indicator": "New cases tested for RR-/MDR-TB (%)",
          "Value": 0.25,
          "Year": 2012
         },
         {
          "Indicator": "New cases tested for RR-/MDR-TB (%)",
          "Value": 0.37,
          "Year": 2013
         },
         {
          "Indicator": "New cases tested for RR-/MDR-TB (%)",
          "Value": 50,
          "Year": 2014
         },
         {
          "Indicator": "New cases tested for RR-/MDR-TB (%)",
          "Value": 16,
          "Year": 2015
         },
         {
          "Indicator": "New cases tested for RR-/MDR-TB (%)",
          "Value": 45,
          "Year": 2016
         },
         {
          "Indicator": "New cases tested for RR-/MDR-TB (%)",
          "Value": 83,
          "Year": 2017
         },
         {
          "Indicator": "New cases tested for RR-/MDR-TB (%)",
          "Value": 64,
          "Year": 2018
         },
         {
          "Indicator": "New cases tested for RR-/MDR-TB (%)",
          "Value": 76,
          "Year": 2019
         },
         {
          "Indicator": "New cases tested for RR-/MDR-TB (%)",
          "Value": 85,
          "Year": 2020
         },
         {
          "Indicator": "New cases tested for RR-/MDR-TB (%)",
          "Value": 63,
          "Year": 2021
         },
         {
          "Indicator": "TB patients with known HIV status (%)",
          "Value": 19,
          "Year": 2004
         },
         {
          "Indicator": "TB patients with known HIV status (%)",
          "Value": 14,
          "Year": 2005
         },
         {
          "Indicator": "TB patients with known HIV status (%)",
          "Value": 60,
          "Year": 2006
         },
         {
          "Indicator": "TB patients with known HIV status (%)",
          "Value": 79,
          "Year": 2007
         },
         {
          "Indicator": "TB patients with known HIV status (%)",
          "Value": 83,
          "Year": 2008
         },
         {
          "Indicator": "TB patients with known HIV status (%)",
          "Value": 88,
          "Year": 2009
         },
         {
          "Indicator": "TB patients with known HIV status (%)",
          "Value": 91,
          "Year": 2010
         },
         {
          "Indicator": "TB patients with known HIV status (%)",
          "Value": 93,
          "Year": 2011
         },
         {
          "Indicator": "TB patients with known HIV status (%)",
          "Value": 95,
          "Year": 2012
         },
         {
          "Indicator": "TB patients with known HIV status (%)",
          "Value": 94,
          "Year": 2013
         },
         {
          "Indicator": "TB patients with known HIV status (%)",
          "Value": 95,
          "Year": 2014
         },
         {
          "Indicator": "TB patients with known HIV status (%)",
          "Value": 97,
          "Year": 2015
         },
         {
          "Indicator": "TB patients with known HIV status (%)",
          "Value": 96,
          "Year": 2016
         },
         {
          "Indicator": "TB patients with known HIV status (%)",
          "Value": 96,
          "Year": 2017
         },
         {
          "Indicator": "TB patients with known HIV status (%)",
          "Value": 98,
          "Year": 2018
         },
         {
          "Indicator": "TB patients with known HIV status (%)",
          "Value": 98,
          "Year": 2019
         },
         {
          "Indicator": "TB patients with known HIV status (%)",
          "Value": 99,
          "Year": 2020
         },
         {
          "Indicator": "TB patients with known HIV status (%)",
          "Value": 97,
          "Year": 2021
         },
         {
          "Indicator": "Tested TB patients HIV-positive (%)",
          "Value": 60,
          "Year": 2004
         },
         {
          "Indicator": "Tested TB patients HIV-positive (%)",
          "Value": 57,
          "Year": 2005
         },
         {
          "Indicator": "Tested TB patients HIV-positive (%)",
          "Value": 52,
          "Year": 2006
         },
         {
          "Indicator": "Tested TB patients HIV-positive (%)",
          "Value": 48,
          "Year": 2007
         },
         {
          "Indicator": "Tested TB patients HIV-positive (%)",
          "Value": 45,
          "Year": 2008
         },
         {
          "Indicator": "Tested TB patients HIV-positive (%)",
          "Value": 44,
          "Year": 2009
         },
         {
          "Indicator": "Tested TB patients HIV-positive (%)",
          "Value": 41,
          "Year": 2010
         },
         {
          "Indicator": "Tested TB patients HIV-positive (%)",
          "Value": 39,
          "Year": 2011
         },
         {
          "Indicator": "Tested TB patients HIV-positive (%)",
          "Value": 38,
          "Year": 2012
         },
         {
          "Indicator": "Tested TB patients HIV-positive (%)",
          "Value": 37,
          "Year": 2013
         },
         {
          "Indicator": "Tested TB patients HIV-positive (%)",
          "Value": 36,
          "Year": 2014
         },
         {
          "Indicator": "Tested TB patients HIV-positive (%)",
          "Value": 33,
          "Year": 2015
         },
         {
          "Indicator": "Tested TB patients HIV-positive (%)",
          "Value": 31,
          "Year": 2016
         },
         {
          "Indicator": "Tested TB patients HIV-positive (%)",
          "Value": 29,
          "Year": 2017
         },
         {
          "Indicator": "Tested TB patients HIV-positive (%)",
          "Value": 27,
          "Year": 2018
         },
         {
          "Indicator": "Tested TB patients HIV-positive (%)",
          "Value": 26,
          "Year": 2019
         },
         {
          "Indicator": "Tested TB patients HIV-positive (%)",
          "Value": 25,
          "Year": 2020
         },
         {
          "Indicator": "Tested TB patients HIV-positive (%)",
          "Value": 24,
          "Year": 2021
         },
         {
          "Indicator": "HIV-positive TB patients on ART (antiretroviral therapy) (%)",
          "Value": 17,
          "Year": 2005
         },
         {
          "Indicator": "HIV-positive TB patients on ART (antiretroviral therapy) (%)",
          "Value": 43,
          "Year": 2006
         },
         {
          "Indicator": "HIV-positive TB patients on ART (antiretroviral therapy) (%)",
          "Value": 37,
          "Year": 2007
         },
         {
          "Indicator": "HIV-positive TB patients on ART (antiretroviral therapy) (%)",
          "Value": 30,
          "Year": 2008
         },
         {
          "Indicator": "HIV-positive TB patients on ART (antiretroviral therapy) (%)",
          "Value": 34,
          "Year": 2009
         },
         {
          "Indicator": "HIV-positive TB patients on ART (antiretroviral therapy) (%)",
          "Value": 48,
          "Year": 2010
         },
         {
          "Indicator": "HIV-positive TB patients on ART (antiretroviral therapy) (%)",
          "Value": 64,
          "Year": 2011
         },
         {
          "Indicator": "HIV-positive TB patients on ART (antiretroviral therapy) (%)",
          "Value": 89,
          "Year": 2012
         },
         {
          "Indicator": "HIV-positive TB patients on ART (antiretroviral therapy) (%)",
          "Value": 86,
          "Year": 2013
         },
         {
          "Indicator": "HIV-positive TB patients on ART (antiretroviral therapy) (%)",
          "Value": 87,
          "Year": 2014
         },
         {
          "Indicator": "HIV-positive TB patients on ART (antiretroviral therapy) (%)",
          "Value": 95,
          "Year": 2015
         },
         {
          "Indicator": "HIV-positive TB patients on ART (antiretroviral therapy) (%)",
          "Value": 95,
          "Year": 2016
         },
         {
          "Indicator": "HIV-positive TB patients on ART (antiretroviral therapy) (%)",
          "Value": 95,
          "Year": 2017
         },
         {
          "Indicator": "HIV-positive TB patients on ART (antiretroviral therapy) (%)",
          "Value": 97,
          "Year": 2018
         },
         {
          "Indicator": "HIV-positive TB patients on ART (antiretroviral therapy) (%)",
          "Value": 97,
          "Year": 2019
         },
         {
          "Indicator": "HIV-positive TB patients on ART (antiretroviral therapy) (%)",
          "Value": 97,
          "Year": 2020
         },
         {
          "Indicator": "HIV-positive TB patients on ART (antiretroviral therapy) (%)",
          "Value": 96,
          "Year": 2021
         },
         {
          "Indicator": "Estimated number of MDR/RR-TB incident cases",
          "Value": 2100,
          "Year": 2015
         },
         {
          "Indicator": "Estimated number of MDR/RR-TB incident cases",
          "Value": 1900,
          "Year": 2016
         },
         {
          "Indicator": "Estimated number of MDR/RR-TB incident cases",
          "Value": 1800,
          "Year": 2017
         },
         {
          "Indicator": "Estimated number of MDR/RR-TB incident cases",
          "Value": 1600,
          "Year": 2018
         },
         {
          "Indicator": "Estimated number of MDR/RR-TB incident cases",
          "Value": 1500,
          "Year": 2019
         },
         {
          "Indicator": "Estimated number of MDR/RR-TB incident cases",
          "Value": 1400,
          "Year": 2020
         },
         {
          "Indicator": "Estimated number of MDR/RR-TB incident cases",
          "Value": 1400,
          "Year": 2021
         },
         {
          "Indicator": "Number of deaths due to tuberculosis, excluding HIV",
          "Value": 30000,
          "Year": 2015
         },
         {
          "Indicator": "Number of deaths due to tuberculosis, excluding HIV",
          "Value": 29000,
          "Year": 2016
         },
         {
          "Indicator": "Number of deaths due to tuberculosis, excluding HIV",
          "Value": 25000,
          "Year": 2017
         },
         {
          "Indicator": "Number of deaths due to tuberculosis, excluding HIV",
          "Value": 19000,
          "Year": 2018
         },
         {
          "Indicator": "Number of deaths due to tuberculosis, excluding HIV",
          "Value": 19000,
          "Year": 2019
         },
         {
          "Indicator": "Number of deaths due to tuberculosis, excluding HIV",
          "Value": 20000,
          "Year": 2020
         },
         {
          "Indicator": "Number of deaths due to tuberculosis, excluding HIV",
          "Value": 20000,
          "Year": 2021
         },
         {
          "Indicator": "Number of deaths due to tuberculosis, excluding HIV",
          "Value": 13000,
          "Year": 2000
         },
         {
          "Indicator": "Number of deaths due to tuberculosis, excluding HIV",
          "Value": 17000,
          "Year": 2001
         },
         {
          "Indicator": "Number of deaths due to tuberculosis, excluding HIV",
          "Value": 20000,
          "Year": 2002
         },
         {
          "Indicator": "Number of deaths due to tuberculosis, excluding HIV",
          "Value": 25000,
          "Year": 2003
         },
         {
          "Indicator": "Number of deaths due to tuberculosis, excluding HIV",
          "Value": 27000,
          "Year": 2004
         },
         {
          "Indicator": "Number of deaths due to tuberculosis, excluding HIV",
          "Value": 27000,
          "Year": 2005
         },
         {
          "Indicator": "Number of deaths due to tuberculosis, excluding HIV",
          "Value": 29000,
          "Year": 2006
         },
         {
          "Indicator": "Number of deaths due to tuberculosis, excluding HIV",
          "Value": 31000,
          "Year": 2007
         },
         {
          "Indicator": "Number of deaths due to tuberculosis, excluding HIV",
          "Value": 31000,
          "Year": 2008
         },
         {
          "Indicator": "Number of deaths due to tuberculosis, excluding HIV",
          "Value": 32000,
          "Year": 2009
         },
         {
          "Indicator": "Number of deaths due to tuberculosis, excluding HIV",
          "Value": 33000,
          "Year": 2010
         },
         {
          "Indicator": "Number of deaths due to tuberculosis, excluding HIV",
          "Value": 33000,
          "Year": 2011
         },
         {
          "Indicator": "Number of deaths due to tuberculosis, excluding HIV",
          "Value": 32000,
          "Year": 2012
         },
         {
          "Indicator": "Number of deaths due to tuberculosis, excluding HIV",
          "Value": 31000,
          "Year": 2013
         },
         {
          "Indicator": "Number of deaths due to tuberculosis, excluding HIV",
          "Value": 31000,
          "Year": 2014
         },
         {
          "Indicator": "Deaths due to tuberculosis among HIV-negative people (per 100 000 population)",
          "Value": 64,
          "Year": 2015
         },
         {
          "Indicator": "Deaths due to tuberculosis among HIV-negative people (per 100 000 population)",
          "Value": 60,
          "Year": 2016
         },
         {
          "Indicator": "Deaths due to tuberculosis among HIV-negative people (per 100 000 population)",
          "Value": 50,
          "Year": 2017
         },
         {
          "Indicator": "Deaths due to tuberculosis among HIV-negative people (per 100 000 population)",
          "Value": 38,
          "Year": 2018
         },
         {
          "Indicator": "Deaths due to tuberculosis among HIV-negative people (per 100 000 population)",
          "Value": 37,
          "Year": 2019
         },
         {
          "Indicator": "Deaths due to tuberculosis among HIV-negative people (per 100 000 population)",
          "Value": 38,
          "Year": 2020
         },
         {
          "Indicator": "Deaths due to tuberculosis among HIV-negative people (per 100 000 population)",
          "Value": 39,
          "Year": 2021
         },
         {
          "Indicator": "Deaths due to tuberculosis among HIV-negative people (per 100 000 population)",
          "Value": 41,
          "Year": 2000
         },
         {
          "Indicator": "Deaths due to tuberculosis among HIV-negative people (per 100 000 population)",
          "Value": 52,
          "Year": 2001
         },
         {
          "Indicator": "Deaths due to tuberculosis among HIV-negative people (per 100 000 population)",
          "Value": 61,
          "Year": 2002
         },
         {
          "Indicator": "Deaths due to tuberculosis among HIV-negative people (per 100 000 population)",
          "Value": 73,
          "Year": 2003
         },
         {
          "Indicator": "Deaths due to tuberculosis among HIV-negative people (per 100 000 population)",
          "Value": 78,
          "Year": 2004
         },
         {
          "Indicator": "Deaths due to tuberculosis among HIV-negative people (per 100 000 population)",
          "Value": 77,
          "Year": 2005
         },
         {
          "Indicator": "Deaths due to tuberculosis among HIV-negative people (per 100 000 population)",
          "Value": 78,
          "Year": 2006
         },
         {
          "Indicator": "Deaths due to tuberculosis among HIV-negative people (per 100 000 population)",
          "Value": 81,
          "Year": 2007
         },
         {
          "Indicator": "Deaths due to tuberculosis among HIV-negative people (per 100 000 population)",
          "Value": 78,
          "Year": 2008
         },
         {
          "Indicator": "Deaths due to tuberculosis among HIV-negative people (per 100 000 population)",
          "Value": 80,
          "Year": 2009
         },
         {
          "Indicator": "Deaths due to tuberculosis among HIV-negative people (per 100 000 population)",
          "Value": 79,
          "Year": 2010
         },
         {
          "Indicator": "Deaths due to tuberculosis among HIV-negative people (per 100 000 population)",
          "Value": 77,
          "Year": 2011
         },
         {
          "Indicator": "Deaths due to tuberculosis among HIV-negative people (per 100 000 population)",
          "Value": 74,
          "Year": 2012
         },
         {
          "Indicator": "Deaths due to tuberculosis among HIV-negative people (per 100 000 population)",
          "Value": 70,
          "Year": 2013
         },
         {
          "Indicator": "Deaths due to tuberculosis among HIV-negative people (per 100 000 population)",
          "Value": 69,
          "Year": 2014
         },
         {
          "Indicator": "Number of incident tuberculosis cases",
          "Value": 178000,
          "Year": 2015
         },
         {
          "Indicator": "Number of incident tuberculosis cases",
          "Value": 167000,
          "Year": 2016
         },
         {
          "Indicator": "Number of incident tuberculosis cases",
          "Value": 156000,
          "Year": 2017
         },
         {
          "Indicator": "Number of incident tuberculosis cases",
          "Value": 146000,
          "Year": 2018
         },
         {
          "Indicator": "Number of incident tuberculosis cases",
          "Value": 136000,
          "Year": 2019
         },
         {
          "Indicator": "Number of incident tuberculosis cases",
          "Value": 130000,
          "Year": 2020
         },
         {
          "Indicator": "Number of incident tuberculosis cases",
          "Value": 133000,
          "Year": 2021
         },
         {
          "Indicator": "Number of incident tuberculosis cases",
          "Value": 139000,
          "Year": 2000
         },
         {
          "Indicator": "Number of incident tuberculosis cases",
          "Value": 159000,
          "Year": 2001
         },
         {
          "Indicator": "Number of incident tuberculosis cases",
          "Value": 175000,
          "Year": 2002
         },
         {
          "Indicator": "Number of incident tuberculosis cases",
          "Value": 206000,
          "Year": 2003
         },
         {
          "Indicator": "Number of incident tuberculosis cases",
          "Value": 221000,
          "Year": 2004
         },
         {
          "Indicator": "Number of incident tuberculosis cases",
          "Value": 226000,
          "Year": 2005
         },
         {
          "Indicator": "Number of incident tuberculosis cases",
          "Value": 239000,
          "Year": 2006
         },
         {
          "Indicator": "Number of incident tuberculosis cases",
          "Value": 235000,
          "Year": 2007
         },
         {
          "Indicator": "Number of incident tuberculosis cases",
          "Value": 221000,
          "Year": 2008
         },
         {
          "Indicator": "Number of incident tuberculosis cases",
          "Value": 228000,
          "Year": 2009
         },
         {
          "Indicator": "Number of incident tuberculosis cases",
          "Value": 220000,
          "Year": 2010
         },
         {
          "Indicator": "Number of incident tuberculosis cases",
          "Value": 216000,
          "Year": 2011
         },
         {
          "Indicator": "Number of incident tuberculosis cases",
          "Value": 206000,
          "Year": 2012
         },
         {
          "Indicator": "Number of incident tuberculosis cases",
          "Value": 198000,
          "Year": 2013
         },
         {
          "Indicator": "Number of incident tuberculosis cases",
          "Value": 194000,
          "Year": 2014
         },
         {
          "Indicator": "Incidence of tuberculosis (per 100 000 population per year)",
          "Value": 380,
          "Year": 2015
         },
         {
          "Indicator": "Incidence of tuberculosis (per 100 000 population per year)",
          "Value": 348,
          "Year": 2016
         },
         {
          "Indicator": "Incidence of tuberculosis (per 100 000 population per year)",
          "Value": 319,
          "Year": 2017
         },
         {
          "Indicator": "Incidence of tuberculosis (per 100 000 population per year)",
          "Value": 292,
          "Year": 2018
         },
         {
          "Indicator": "Incidence of tuberculosis (per 100 000 population per year)",
          "Value": 267,
          "Year": 2019
         },
         {
          "Indicator": "Incidence of tuberculosis (per 100 000 population per year)",
          "Value": 250,
          "Year": 2020
         },
         {
          "Indicator": "Incidence of tuberculosis (per 100 000 population per year)",
          "Value": 251,
          "Year": 2021
         },
         {
          "Indicator": "Incidence of tuberculosis (per 100 000 population per year)",
          "Value": 451,
          "Year": 2000
         },
         {
          "Indicator": "Incidence of tuberculosis (per 100 000 population per year)",
          "Value": 499,
          "Year": 2001
         },
         {
          "Indicator": "Incidence of tuberculosis (per 100 000 population per year)",
          "Value": 534,
          "Year": 2002
         },
         {
          "Indicator": "Incidence of tuberculosis (per 100 000 population per year)",
          "Value": 610,
          "Year": 2003
         },
         {
          "Indicator": "Incidence of tuberculosis (per 100 000 population per year)",
          "Value": 634,
          "Year": 2004
         },
         {
          "Indicator": "Incidence of tuberculosis (per 100 000 population per year)",
          "Value": 630,
          "Year": 2005
         },
         {
          "Indicator": "Incidence of tuberculosis (per 100 000 population per year)",
          "Value": 646,
          "Year": 2006
         },
         {
          "Indicator": "Incidence of tuberculosis (per 100 000 population per year)",
          "Value": 618,
          "Year": 2007
         },
         {
          "Indicator": "Incidence of tuberculosis (per 100 000 population per year)",
          "Value": 564,
          "Year": 2008
         },
         {
          "Indicator": "Incidence of tuberculosis (per 100 000 population per year)",
          "Value": 566,
          "Year": 2009
         },
         {
          "Indicator": "Incidence of tuberculosis (per 100 000 population per year)",
          "Value": 531,
          "Year": 2010
         },
         {
          "Indicator": "Incidence of tuberculosis (per 100 000 population per year)",
          "Value": 506,
          "Year": 2011
         },
         {
          "Indicator": "Incidence of tuberculosis (per 100 000 population per year)",
          "Value": 471,
          "Year": 2012
         },
         {
          "Indicator": "Incidence of tuberculosis (per 100 000 population per year)",
          "Value": 443,
          "Year": 2013
         },
         {
          "Indicator": "Incidence of tuberculosis (per 100 000 population per year)",
          "Value": 423,
          "Year": 2014
         },
         {
          "Indicator": "Incidence of tuberculosis (per 100 000 population) (HIV-positive cases)",
          "Value": 126,
          "Year": 2015
         },
         {
          "Indicator": "Incidence of tuberculosis (per 100 000 population) (HIV-positive cases)",
          "Value": 109,
          "Year": 2016
         },
         {
          "Indicator": "Incidence of tuberculosis (per 100 000 population) (HIV-positive cases)",
          "Value": 91,
          "Year": 2017
         },
         {
          "Indicator": "Incidence of tuberculosis (per 100 000 population) (HIV-positive cases)",
          "Value": 79,
          "Year": 2018
         },
         {
          "Indicator": "Incidence of tuberculosis (per 100 000 population) (HIV-positive cases)",
          "Value": 70,
          "Year": 2019
         },
         {
          "Indicator": "Incidence of tuberculosis (per 100 000 population) (HIV-positive cases)",
          "Value": 60,
          "Year": 2020
         },
         {
          "Indicator": "Incidence of tuberculosis (per 100 000 population) (HIV-positive cases)",
          "Value": 60,
          "Year": 2021
         },
         {
          "Indicator": "Incidence of tuberculosis (per 100 000 population) (HIV-positive cases)",
          "Value": 309,
          "Year": 2000
         },
         {
          "Indicator": "Incidence of tuberculosis (per 100 000 population) (HIV-positive cases)",
          "Value": 310,
          "Year": 2001
         },
         {
          "Indicator": "Incidence of tuberculosis (per 100 000 population) (HIV-positive cases)",
          "Value": 306,
          "Year": 2002
         },
         {
          "Indicator": "Incidence of tuberculosis (per 100 000 population) (HIV-positive cases)",
          "Value": 329,
          "Year": 2003
         },
         {
          "Indicator": "Incidence of tuberculosis (per 100 000 population) (HIV-positive cases)",
          "Value": 329,
          "Year": 2004
         },
         {
          "Indicator": "Incidence of tuberculosis (per 100 000 population) (HIV-positive cases)",
          "Value": 325,
          "Year": 2005
         },
         {
          "Indicator": "Incidence of tuberculosis (per 100 000 population) (HIV-positive cases)",
          "Value": 337,
          "Year": 2006
         },
         {
          "Indicator": "Incidence of tuberculosis (per 100 000 population) (HIV-positive cases)",
          "Value": 296,
          "Year": 2007
         },
         {
          "Indicator": "Incidence of tuberculosis (per 100 000 population) (HIV-positive cases)",
          "Value": 254,
          "Year": 2008
         },
         {
          "Indicator": "Incidence of tuberculosis (per 100 000 population) (HIV-positive cases)",
          "Value": 249,
          "Year": 2009
         },
         {
          "Indicator": "Incidence of tuberculosis (per 100 000 population) (HIV-positive cases)",
          "Value": 218,
          "Year": 2010
         },
         {
          "Indicator": "Incidence of tuberculosis (per 100 000 population) (HIV-positive cases)",
          "Value": 199,
          "Year": 2011
         },
         {
          "Indicator": "Incidence of tuberculosis (per 100 000 population) (HIV-positive cases)",
          "Value": 179,
          "Year": 2012
         },
         {
          "Indicator": "Incidence of tuberculosis (per 100 000 population) (HIV-positive cases)",
          "Value": 166,
          "Year": 2013
         },
         {
          "Indicator": "Incidence of tuberculosis (per 100 000 population) (HIV-positive cases)",
          "Value": 150,
          "Year": 2014
         },
         {
          "Indicator": "Number of incident tuberculosis cases,  (HIV-positive cases)",
          "Value": 59000,
          "Year": 2015
         },
         {
          "Indicator": "Number of incident tuberculosis cases,  (HIV-positive cases)",
          "Value": 52000,
          "Year": 2016
         },
         {
          "Indicator": "Number of incident tuberculosis cases,  (HIV-positive cases)",
          "Value": 45000,
          "Year": 2017
         },
         {
          "Indicator": "Number of incident tuberculosis cases,  (HIV-positive cases)",
          "Value": 39000,
          "Year": 2018
         },
         {
          "Indicator": "Number of incident tuberculosis cases,  (HIV-positive cases)",
          "Value": 36000,
          "Year": 2019
         },
         {
          "Indicator": "Number of incident tuberculosis cases,  (HIV-positive cases)",
          "Value": 31000,
          "Year": 2020
         },
         {
          "Indicator": "Number of incident tuberculosis cases,  (HIV-positive cases)",
          "Value": 32000,
          "Year": 2021
         },
         {
          "Indicator": "Number of incident tuberculosis cases,  (HIV-positive cases)",
          "Value": 95000,
          "Year": 2000
         },
         {
          "Indicator": "Number of incident tuberculosis cases,  (HIV-positive cases)",
          "Value": 99000,
          "Year": 2001
         },
         {
          "Indicator": "Number of incident tuberculosis cases,  (HIV-positive cases)",
          "Value": 100000,
          "Year": 2002
         },
         {
          "Indicator": "Number of incident tuberculosis cases,  (HIV-positive cases)",
          "Value": 111000,
          "Year": 2003
         },
         {
          "Indicator": "Number of incident tuberculosis cases,  (HIV-positive cases)",
          "Value": 114000,
          "Year": 2004
         },
         {
          "Indicator": "Number of incident tuberculosis cases,  (HIV-positive cases)",
          "Value": 116000,
          "Year": 2005
         },
         {
          "Indicator": "Number of incident tuberculosis cases,  (HIV-positive cases)",
          "Value": 124000,
          "Year": 2006
         },
         {
          "Indicator": "Number of incident tuberculosis cases,  (HIV-positive cases)",
          "Value": 112000,
          "Year": 2007
         },
         {
          "Indicator": "Number of incident tuberculosis cases,  (HIV-positive cases)",
          "Value": 100000,
          "Year": 2008
         },
         {
          "Indicator": "Number of incident tuberculosis cases,  (HIV-positive cases)",
          "Value": 100000,
          "Year": 2009
         },
         {
          "Indicator": "Number of incident tuberculosis cases,  (HIV-positive cases)",
          "Value": 90000,
          "Year": 2010
         },
         {
          "Indicator": "Number of incident tuberculosis cases,  (HIV-positive cases)",
          "Value": 85000,
          "Year": 2011
         },
         {
          "Indicator": "Number of incident tuberculosis cases,  (HIV-positive cases)",
          "Value": 78000,
          "Year": 2012
         },
         {
          "Indicator": "Number of incident tuberculosis cases,  (HIV-positive cases)",
          "Value": 74000,
          "Year": 2013
         },
         {
          "Indicator": "Number of incident tuberculosis cases,  (HIV-positive cases)",
          "Value": 69000,
          "Year": 2014
         },
         {
          "Indicator": "Tuberculosis treatment coverage",
          "Value": 46,
          "Year": 2015
         },
         {
          "Indicator": "Tuberculosis treatment coverage",
          "Value": 46,
          "Year": 2016
         },
         {
          "Indicator": "Tuberculosis treatment coverage",
          "Value": 54,
          "Year": 2017
         },
         {
          "Indicator": "Tuberculosis treatment coverage",
          "Value": 65,
          "Year": 2018
         },
         {
          "Indicator": "Tuberculosis treatment coverage",
          "Value": 62,
          "Year": 2019
         },
         {
          "Indicator": "Tuberculosis treatment coverage",
          "Value": 55,
          "Year": 2020
         },
         {
          "Indicator": "Tuberculosis treatment coverage",
          "Value": 57,
          "Year": 2021
         },
         {
          "Indicator": "Tuberculosis treatment coverage",
          "Value": 46,
          "Year": 2000
         },
         {
          "Indicator": "Tuberculosis treatment coverage",
          "Value": 46,
          "Year": 2001
         },
         {
          "Indicator": "Tuberculosis treatment coverage",
          "Value": 46,
          "Year": 2002
         },
         {
          "Indicator": "Tuberculosis treatment coverage",
          "Value": 46,
          "Year": 2003
         },
         {
          "Indicator": "Tuberculosis treatment coverage",
          "Value": 46,
          "Year": 2004
         },
         {
          "Indicator": "Tuberculosis treatment coverage",
          "Value": 45,
          "Year": 2005
         },
         {
          "Indicator": "Tuberculosis treatment coverage",
          "Value": 45,
          "Year": 2006
         },
         {
          "Indicator": "Tuberculosis treatment coverage",
          "Value": 45,
          "Year": 2007
         },
         {
          "Indicator": "Tuberculosis treatment coverage",
          "Value": 45,
          "Year": 2008
         },
         {
          "Indicator": "Tuberculosis treatment coverage",
          "Value": 45,
          "Year": 2009
         },
         {
          "Indicator": "Tuberculosis treatment coverage",
          "Value": 45,
          "Year": 2010
         },
         {
          "Indicator": "Tuberculosis treatment coverage",
          "Value": 45,
          "Year": 2011
         },
         {
          "Indicator": "Tuberculosis treatment coverage",
          "Value": 45,
          "Year": 2012
         },
         {
          "Indicator": "Tuberculosis treatment coverage",
          "Value": 45,
          "Year": 2013
         },
         {
          "Indicator": "Tuberculosis treatment coverage",
          "Value": 45,
          "Year": 2014
         },
         {
          "Indicator": "Number of incident tuberculosis cases in children aged 0 - 14",
          "Value": 16000,
          "Year": 2021
         },
         {
          "Indicator": "Tuberculosis - new and relapse cases",
          "Value": 64159,
          "Year": 2000
         },
         {
          "Indicator": "Tuberculosis - new and relapse cases",
          "Value": 73017,
          "Year": 2001
         },
         {
          "Indicator": "Tuberculosis - new and relapse cases",
          "Value": 80183,
          "Year": 2002
         },
         {
          "Indicator": "Tuberculosis - new and relapse cases",
          "Value": 94183,
          "Year": 2003
         },
         {
          "Indicator": "Tuberculosis - new and relapse cases",
          "Value": 100573,
          "Year": 2004
         },
         {
          "Indicator": "Tuberculosis - new and relapse cases",
          "Value": 102680,
          "Year": 2005
         },
         {
          "Indicator": "Tuberculosis - new and relapse cases",
          "Value": 108342,
          "Year": 2006
         },
         {
          "Indicator": "Tuberculosis - new and relapse cases",
          "Value": 106438,
          "Year": 2007
         },
         {
          "Indicator": "Tuberculosis - new and relapse cases",
          "Value": 99941,
          "Year": 2008
         },
         {
          "Indicator": "Tuberculosis - new and relapse cases",
          "Value": 102997,
          "Year": 2009
         },
         {
          "Indicator": "Tuberculosis - new and relapse cases",
          "Value": 99272,
          "Year": 2010
         },
         {
          "Indicator": "Tuberculosis - new and relapse cases",
          "Value": 97320,
          "Year": 2011
         },
         {
          "Indicator": "Tuberculosis - new and relapse cases",
          "Value": 92987,
          "Year": 2012
         },
         {
          "Indicator": "Tuberculosis - new and relapse cases",
          "Value": 89796,
          "Year": 2013
         },
         {
          "Indicator": "Tuberculosis - new and relapse cases",
          "Value": 88025,
          "Year": 2014
         },
         {
          "Indicator": "Tuberculosis - new and relapse cases",
          "Value": 81292,
          "Year": 2015
         },
         {
          "Indicator": "Tuberculosis - new and relapse cases",
          "Value": 76335,
          "Year": 2016
         },
         {
          "Indicator": "Tuberculosis - new and relapse cases",
          "Value": 83599,
          "Year": 2017
         },
         {
          "Indicator": "Tuberculosis - new and relapse cases",
          "Value": 94534,
          "Year": 2018
         },
         {
          "Indicator": "Tuberculosis - new and relapse cases",
          "Value": 84345,
          "Year": 2019
         },
         {
          "Indicator": "Tuberculosis - new and relapse cases",
          "Value": 71060,
          "Year": 2020
         },
         {
          "Indicator": "Tuberculosis - new and relapse cases",
          "Value": 76010,
          "Year": 2021
         },
         {
          "Indicator": "New or unknown treatment history cases: Pulmonary, bacteriologically confirmed",
          "Value": 34686,
          "Year": 2013
         },
         {
          "Indicator": "New or unknown treatment history cases: Pulmonary, bacteriologically confirmed",
          "Value": 34997,
          "Year": 2014
         },
         {
          "Indicator": "New or unknown treatment history cases: Pulmonary, bacteriologically confirmed",
          "Value": 36817,
          "Year": 2015
         },
         {
          "Indicator": "New or unknown treatment history cases: Pulmonary, bacteriologically confirmed",
          "Value": 40934,
          "Year": 2016
         },
         {
          "Indicator": "New or unknown treatment history cases: Pulmonary, bacteriologically confirmed",
          "Value": 44365,
          "Year": 2017
         },
         {
          "Indicator": "New or unknown treatment history cases: Pulmonary, bacteriologically confirmed",
          "Value": 44090,
          "Year": 2018
         },
         {
          "Indicator": "New or unknown treatment history cases: Pulmonary, bacteriologically confirmed",
          "Value": 43565,
          "Year": 2019
         },
         {
          "Indicator": "New or unknown treatment history cases: Pulmonary, bacteriologically confirmed",
          "Value": 38402,
          "Year": 2020
         },
         {
          "Indicator": "New or unknown treatment history cases: Pulmonary, bacteriologically confirmed",
          "Value": 39351,
          "Year": 2021
         },
         {
          "Indicator": "New cases: Pulmonary, smear-positive",
          "Value": 28773,
          "Year": 2000
         },
         {
          "Indicator": "New cases: Pulmonary, smear-positive",
          "Value": 31307,
          "Year": 2001
         },
         {
          "Indicator": "New cases: Pulmonary, smear-positive",
          "Value": 34337,
          "Year": 2002
         },
         {
          "Indicator": "New cases: Pulmonary, smear-positive",
          "Value": 38158,
          "Year": 2003
         },
         {
          "Indicator": "New cases: Pulmonary, smear-positive",
          "Value": 41167,
          "Year": 2004
         },
         {
          "Indicator": "New cases: Pulmonary, smear-positive",
          "Value": 40389,
          "Year": 2005
         },
         {
          "Indicator": "New cases: Pulmonary, smear-positive",
          "Value": 39154,
          "Year": 2006
         },
         {
          "Indicator": "New cases: Pulmonary, smear-positive",
          "Value": 38360,
          "Year": 2007
         },
         {
          "Indicator": "New cases: Pulmonary, smear-positive",
          "Value": 36811,
          "Year": 2008
         },
         {
          "Indicator": "New cases: Pulmonary, smear-positive",
          "Value": 37402,
          "Year": 2009
         },
         {
          "Indicator": "New cases: Pulmonary, smear-positive",
          "Value": 36260,
          "Year": 2010
         },
         {
          "Indicator": "New cases: Pulmonary, smear-positive",
          "Value": 37085,
          "Year": 2011
         },
         {
          "Indicator": "New cases: Pulmonary, smear-positive",
          "Value": 36937,
          "Year": 2012
         },
         {
          "Indicator": "New or unknown treatment history cases: Pulmonary, clinically diagnosed",
          "Value": 32153,
          "Year": 2013
         },
         {
          "Indicator": "New or unknown treatment history cases: Pulmonary, clinically diagnosed",
          "Value": 30872,
          "Year": 2014
         },
         {
          "Indicator": "New or unknown treatment history cases: Pulmonary, clinically diagnosed",
          "Value": 24234,
          "Year": 2015
         },
         {
          "Indicator": "New or unknown treatment history cases: Pulmonary, clinically diagnosed",
          "Value": 17730,
          "Year": 2016
         },
         {
          "Indicator": "New or unknown treatment history cases: Pulmonary, clinically diagnosed",
          "Value": 22182,
          "Year": 2017
         },
         {
          "Indicator": "New or unknown treatment history cases: Pulmonary, clinically diagnosed",
          "Value": 31857,
          "Year": 2018
         },
         {
          "Indicator": "New or unknown treatment history cases: Pulmonary, clinically diagnosed",
          "Value": 24351,
          "Year": 2019
         },
         {
          "Indicator": "New or unknown treatment history cases: Pulmonary, clinically diagnosed",
          "Value": 18558,
          "Year": 2020
         },
         {
          "Indicator": "New or unknown treatment history cases: Pulmonary, clinically diagnosed",
          "Value": 22629,
          "Year": 2021
         },
         {
          "Indicator": "New cases: extrapulmonary",
          "Value": 9118,
          "Year": 2000
         },
         {
          "Indicator": "New cases: extrapulmonary",
          "Value": 10723,
          "Year": 2001
         },
         {
          "Indicator": "New cases: extrapulmonary",
          "Value": 11578,
          "Year": 2002
         },
         {
          "Indicator": "New cases: extrapulmonary",
          "Value": 13403,
          "Year": 2003
         },
         {
          "Indicator": "New cases: extrapulmonary",
          "Value": 14949,
          "Year": 2004
         },
         {
          "Indicator": "New cases: extrapulmonary",
          "Value": 15265,
          "Year": 2005
         },
         {
          "Indicator": "New cases: extrapulmonary",
          "Value": 17443,
          "Year": 2006
         },
         {
          "Indicator": "New cases: extrapulmonary",
          "Value": 18032,
          "Year": 2007
         },
         {
          "Indicator": "New cases: extrapulmonary",
          "Value": 16881,
          "Year": 2008
         },
         {
          "Indicator": "New cases: extrapulmonary",
          "Value": 17438,
          "Year": 2009
         },
         {
          "Indicator": "New cases: extrapulmonary",
          "Value": 17382,
          "Year": 2010
         },
         {
          "Indicator": "New cases: extrapulmonary",
          "Value": 17069,
          "Year": 2011
         },
         {
          "Indicator": "New cases: extrapulmonary",
          "Value": 15934,
          "Year": 2012
         },
         {
          "Indicator": "New cases: extrapulmonary",
          "Value": 14478,
          "Year": 2013
         },
         {
          "Indicator": "New cases: extrapulmonary",
          "Value": 14640,
          "Year": 2014
         },
         {
          "Indicator": "New cases: extrapulmonary",
          "Value": 13690,
          "Year": 2015
         },
         {
          "Indicator": "New cases: extrapulmonary",
          "Value": 12672,
          "Year": 2016
         },
         {
          "Indicator": "New cases: extrapulmonary",
          "Value": 13011,
          "Year": 2017
         },
         {
          "Indicator": "New cases: extrapulmonary",
          "Value": 13338,
          "Year": 2018
         },
         {
          "Indicator": "New cases: extrapulmonary",
          "Value": 11724,
          "Year": 2019
         },
         {
          "Indicator": "New cases: extrapulmonary",
          "Value": 9791,
          "Year": 2020
         },
         {
          "Indicator": "New cases: extrapulmonary",
          "Value": 9606,
          "Year": 2021
         },
         {
          "Indicator": "Relapse cases: Pulmonary, bacteriologically confirmed",
          "Value": 4632,
          "Year": 2013
         },
         {
          "Indicator": "Relapse cases: Pulmonary, bacteriologically confirmed",
          "Value": 3569,
          "Year": 2014
         },
         {
          "Indicator": "Relapse cases: Pulmonary, bacteriologically confirmed",
          "Value": 2949,
          "Year": 2015
         },
         {
          "Indicator": "Relapse cases: Pulmonary, bacteriologically confirmed",
          "Value": 3280,
          "Year": 2016
         },
         {
          "Indicator": "Relapse cases: Pulmonary, bacteriologically confirmed",
          "Value": 2510,
          "Year": 2017
         },
         {
          "Indicator": "Relapse cases: Pulmonary, bacteriologically confirmed",
          "Value": 2949,
          "Year": 2018
         },
         {
          "Indicator": "Relapse cases: Pulmonary, bacteriologically confirmed",
          "Value": 2974,
          "Year": 2019
         },
         {
          "Indicator": "Relapse cases: Pulmonary, bacteriologically confirmed",
          "Value": 2980,
          "Year": 2020
         },
         {
          "Indicator": "Relapse cases: Pulmonary, bacteriologically confirmed",
          "Value": 2648,
          "Year": 2021
         },
         {
          "Indicator": "Relapse cases: Pulmonary, clinically diagnosed",
          "Value": 3847,
          "Year": 2013
         },
         {
          "Indicator": "Relapse cases: Pulmonary, clinically diagnosed",
          "Value": 2947,
          "Year": 2014
         },
         {
          "Indicator": "Relapse cases: Pulmonary, clinically diagnosed",
          "Value": 2884,
          "Year": 2015
         },
         {
          "Indicator": "Relapse cases: Pulmonary, clinically diagnosed",
          "Value": 1199,
          "Year": 2016
         },
         {
          "Indicator": "Relapse cases: Pulmonary, clinically diagnosed",
          "Value": 1189,
          "Year": 2017
         },
         {
          "Indicator": "Relapse cases: Pulmonary, clinically diagnosed",
          "Value": 1895,
          "Year": 2018
         },
         {
          "Indicator": "Relapse cases: Pulmonary, clinically diagnosed",
          "Value": 1425,
          "Year": 2019
         },
         {
          "Indicator": "Relapse cases: Pulmonary, clinically diagnosed",
          "Value": 1077,
          "Year": 2020
         },
         {
          "Indicator": "Relapse cases: Pulmonary, clinically diagnosed",
          "Value": 1525,
          "Year": 2021
         },
         {
          "Indicator": "Relapse cases: extrapulmonary",
          "Value": 0,
          "Year": 2013
         },
         {
          "Indicator": "Relapse cases: extrapulmonary",
          "Value": 1000,
          "Year": 2014
         },
         {
          "Indicator": "Relapse cases: extrapulmonary",
          "Value": 718,
          "Year": 2015
         },
         {
          "Indicator": "Relapse cases: extrapulmonary",
          "Value": 520,
          "Year": 2016
         },
         {
          "Indicator": "Relapse cases: extrapulmonary",
          "Value": 342,
          "Year": 2017
         },
         {
          "Indicator": "Relapse cases: extrapulmonary",
          "Value": 405,
          "Year": 2018
         },
         {
          "Indicator": "Relapse cases: extrapulmonary",
          "Value": 306,
          "Year": 2019
         },
         {
          "Indicator": "Relapse cases: extrapulmonary",
          "Value": 252,
          "Year": 2020
         },
         {
          "Indicator": "Relapse cases: extrapulmonary",
          "Value": 251,
          "Year": 2021
         },
         {
          "Indicator": "Relapse cases (pre-2013 definition)",
          "Value": 1773,
          "Year": 2000
         },
         {
          "Indicator": "Relapse cases (pre-2013 definition)",
          "Value": 2294,
          "Year": 2001
         },
         {
          "Indicator": "Relapse cases (pre-2013 definition)",
          "Value": 2503,
          "Year": 2002
         },
         {
          "Indicator": "Relapse cases (pre-2013 definition)",
          "Value": 2826,
          "Year": 2003
         },
         {
          "Indicator": "Relapse cases (pre-2013 definition)",
          "Value": 3237,
          "Year": 2004
         },
         {
          "Indicator": "Relapse cases (pre-2013 definition)",
          "Value": 3254,
          "Year": 2005
         },
         {
          "Indicator": "Relapse cases (pre-2013 definition)",
          "Value": 3407,
          "Year": 2006
         },
         {
          "Indicator": "Relapse cases (pre-2013 definition)",
          "Value": 177,
          "Year": 2007
         },
         {
          "Indicator": "Relapse cases (pre-2013 definition)",
          "Value": 134,
          "Year": 2008
         },
         {
          "Indicator": "Relapse cases (pre-2013 definition)",
          "Value": 3643,
          "Year": 2009
         },
         {
          "Indicator": "Relapse cases (pre-2013 definition)",
          "Value": 3668,
          "Year": 2010
         },
         {
          "Indicator": "Relapse cases (pre-2013 definition)",
          "Value": 3356,
          "Year": 2011
         },
         {
          "Indicator": "Relapse cases (pre-2013 definition)",
          "Value": 3419,
          "Year": 2012
         },
         {
          "Indicator": "Previously treated  cases, excluding relapse",
          "Value": 704,
          "Year": 2000
         },
         {
          "Indicator": "Previously treated  cases, excluding relapse",
          "Value": 1192,
          "Year": 2001
         },
         {
          "Indicator": "Previously treated  cases, excluding relapse",
          "Value": 1931,
          "Year": 2002
         },
         {
          "Indicator": "Previously treated  cases, excluding relapse",
          "Value": 1127,
          "Year": 2003
         },
         {
          "Indicator": "Previously treated  cases, excluding relapse",
          "Value": 5245,
          "Year": 2004
         },
         {
          "Indicator": "Previously treated  cases, excluding relapse",
          "Value": 5721,
          "Year": 2005
         },
         {
          "Indicator": "Previously treated  cases, excluding relapse",
          "Value": 6892,
          "Year": 2006
         },
         {
          "Indicator": "Previously treated  cases, excluding relapse",
          "Value": 10285,
          "Year": 2007
         },
         {
          "Indicator": "Previously treated  cases, excluding relapse",
          "Value": 10310,
          "Year": 2008
         },
         {
          "Indicator": "Previously treated  cases, excluding relapse",
          "Value": 7068,
          "Year": 2009
         },
         {
          "Indicator": "Previously treated  cases, excluding relapse",
          "Value": 6811,
          "Year": 2010
         },
         {
          "Indicator": "Previously treated  cases, excluding relapse",
          "Value": 6661,
          "Year": 2011
         },
         {
          "Indicator": "Previously treated  cases, excluding relapse",
          "Value": 6162,
          "Year": 2012
         },
         {
          "Indicator": "Previously treated  cases, excluding relapse",
          "Value": 1269,
          "Year": 2014
         },
         {
          "Indicator": "Previously treated  cases, excluding relapse",
          "Value": 226,
          "Year": 2015
         },
         {
          "Indicator": "Previously treated  cases, excluding relapse",
          "Value": 1041,
          "Year": 2016
         },
         {
          "Indicator": "Previously treated  cases, excluding relapse",
          "Value": 1589,
          "Year": 2017
         },
         {
          "Indicator": "Previously treated  cases, excluding relapse",
          "Value": 1944,
          "Year": 2018
         },
         {
          "Indicator": "Previously treated  cases, excluding relapse",
          "Value": 2040,
          "Year": 2019
         },
         {
          "Indicator": "Previously treated  cases, excluding relapse",
          "Value": 1599,
          "Year": 2020
         },
         {
          "Indicator": "Previously treated  cases, excluding relapse",
          "Value": 1844,
          "Year": 2021
         },
         {
          "Indicator": "Treatment history unknown",
          "Value": 2661,
          "Year": 2003
         },
         {
          "Indicator": "Treatment history unknown",
          "Value": 0,
          "Year": 2007
         },
         {
          "Indicator": "Treatment history unknown",
          "Value": 0,
          "Year": 2008
         },
         {
          "Indicator": "Treatment history unknown",
          "Value": 0,
          "Year": 2010
         },
         {
          "Indicator": "Treatment history unknown",
          "Value": 0,
          "Year": 2011
         },
         {
          "Indicator": "Treatment history unknown",
          "Value": 0,
          "Year": 2012
         },
         {
          "Indicator": "New cases: Pulmonary, smear-negative/unknown/not done and other new cases",
          "Value": 24143,
          "Year": 2000
         },
         {
          "Indicator": "New cases: Pulmonary, smear-negative/unknown/not done and other new cases",
          "Value": 28097,
          "Year": 2001
         },
         {
          "Indicator": "New cases: Pulmonary, smear-negative/unknown/not done and other new cases",
          "Value": 31765,
          "Year": 2002
         },
         {
          "Indicator": "New cases: Pulmonary, smear-negative/unknown/not done and other new cases",
          "Value": 37135,
          "Year": 2003
         },
         {
          "Indicator": "New cases: Pulmonary, smear-negative/unknown/not done and other new cases",
          "Value": 41220,
          "Year": 2004
         },
         {
          "Indicator": "New cases: Pulmonary, smear-negative/unknown/not done and other new cases",
          "Value": 43772,
          "Year": 2005
         },
         {
          "Indicator": "New cases: Pulmonary, smear-negative/unknown/not done and other new cases",
          "Value": 48338,
          "Year": 2006
         },
         {
          "Indicator": "New cases: Pulmonary, smear-negative/unknown/not done and other new cases",
          "Value": 49869,
          "Year": 2007
         },
         {
          "Indicator": "New cases: Pulmonary, smear-negative/unknown/not done and other new cases",
          "Value": 46115,
          "Year": 2008
         },
         {
          "Indicator": "New cases: Pulmonary, smear-negative/unknown/not done and other new cases",
          "Value": 44514,
          "Year": 2009
         },
         {
          "Indicator": "New cases: Pulmonary, smear-negative/unknown/not done and other new cases",
          "Value": 41962,
          "Year": 2010
         },
         {
          "Indicator": "New cases: Pulmonary, smear-negative/unknown/not done and other new cases",
          "Value": 39810,
          "Year": 2011
         },
         {
          "Indicator": "New cases: Pulmonary, smear-negative/unknown/not done and other new cases",
          "Value": 36697,
          "Year": 2012
         }
        ]
       },
       "layer": [
        {
         "encoding": {
          "x": {
           "field": "Year",
           "type": "ordinal"
          },
          "y": {
           "field": "Value",
           "type": "quantitative"
          }
         },
         "mark": {
          "type": "line"
         },
         "transform": [
          {
           "filter": "(datum.Indicator === 'New or unknown treatment history cases: Pulmonary, bacteriologically confirmed')"
          }
         ]
        },
        {
         "encoding": {
          "x": {
           "field": "Year",
           "type": "ordinal"
          },
          "y": {
           "field": "Value",
           "type": "quantitative"
          }
         },
         "mark": {
          "type": "line"
         },
         "transform": [
          {
           "filter": "(datum.Indicator === 'Relapse cases: Pulmonary, bacteriologically confirmed')"
          }
         ]
        }
       ]
      },
      "text/plain": [
       "<VegaLite 5 object>\n",
       "\n",
       "If you see this message, it means the renderer has not been properly enabled\n",
       "for the frontend that you are using. For more information, see\n",
       "https://altair-viz.github.io/user_guide/display_frontends.html#troubleshooting\n"
      ]
     },
     "execution_count": 18,
     "metadata": {},
     "output_type": "execute_result"
    }
   ],
   "source": [
    "alt.Chart(kenyatb_indicators).mark_line().encode(\n",
    "    x='Year:O', \n",
    "    y='Value:Q').transform_filter(alt.datum.Indicator == 'New or unknown treatment history cases: Pulmonary, bacteriologically confirmed') + alt.Chart(kenyatb_indicators).mark_line().encode(\n",
    "x='Year:O', y='Value:Q').transform_filter(alt.datum.Indicator == 'Relapse cases: Pulmonary, bacteriologically confirmed') "
   ]
  },
  {
   "cell_type": "code",
   "execution_count": 19,
   "id": "8e8fa806-aa0b-4420-9b95-7ffbf39ca7b6",
   "metadata": {},
   "outputs": [],
   "source": [
    "#alt.Chart(kenyatb_indicators).transform_flatten(['New or unknown treatment history cases: Pulmonary, bacteriologically confirmed','New cases: Pulmonary, smear-positive','New cases: pulmonary smear-negative','New cases: pulmonary smear unknown/not done','New cases: other','New or unknown treatment history cases: Pulmonary, clinically diagnosed','New cases: extrapulmonary','Relapse cases: Pulmonary, bacteriologically confirmed','Relapse cases: Pulmonary, clinically diagnosed',    'Relapse cases: extrapulmonary']).mark_line().encode(x='Year:O', y='Value:Q', color='Indicator:N')"
   ]
  },
  {
   "cell_type": "code",
   "execution_count": 20,
   "id": "bdeb7053-eb30-4d5f-b3f3-78a11c77303b",
   "metadata": {},
   "outputs": [],
   "source": [
    "import seaborn as sns"
   ]
  },
  {
   "cell_type": "code",
   "execution_count": 21,
   "id": "2d726dcc-a1d3-46f7-a439-96be98057685",
   "metadata": {},
   "outputs": [],
   "source": [
    "df = kenyatb_indicators[kenyatb_indicators.Indicator.str.contains('Confirmed cases of MDR-TB')]"
   ]
  },
  {
   "cell_type": "code",
   "execution_count": 22,
   "id": "8061591a-073b-4211-9e46-eeadfe721723",
   "metadata": {},
   "outputs": [
    {
     "data": {
      "text/html": [
       "<div>\n",
       "<style scoped>\n",
       "    .dataframe tbody tr th:only-of-type {\n",
       "        vertical-align: middle;\n",
       "    }\n",
       "\n",
       "    .dataframe tbody tr th {\n",
       "        vertical-align: top;\n",
       "    }\n",
       "\n",
       "    .dataframe thead th {\n",
       "        text-align: right;\n",
       "    }\n",
       "</style>\n",
       "<table border=\"1\" class=\"dataframe\">\n",
       "  <thead>\n",
       "    <tr style=\"text-align: right;\">\n",
       "      <th></th>\n",
       "      <th>Indicator</th>\n",
       "      <th>Year</th>\n",
       "      <th>Value</th>\n",
       "    </tr>\n",
       "  </thead>\n",
       "  <tbody>\n",
       "    <tr>\n",
       "      <th>126</th>\n",
       "      <td>Confirmed cases of MDR-TB</td>\n",
       "      <td>2005</td>\n",
       "      <td>44.0</td>\n",
       "    </tr>\n",
       "    <tr>\n",
       "      <th>127</th>\n",
       "      <td>Confirmed cases of MDR-TB</td>\n",
       "      <td>2006</td>\n",
       "      <td>89.0</td>\n",
       "    </tr>\n",
       "    <tr>\n",
       "      <th>128</th>\n",
       "      <td>Confirmed cases of MDR-TB</td>\n",
       "      <td>2007</td>\n",
       "      <td>82.0</td>\n",
       "    </tr>\n",
       "    <tr>\n",
       "      <th>129</th>\n",
       "      <td>Confirmed cases of MDR-TB</td>\n",
       "      <td>2008</td>\n",
       "      <td>102.0</td>\n",
       "    </tr>\n",
       "    <tr>\n",
       "      <th>130</th>\n",
       "      <td>Confirmed cases of MDR-TB</td>\n",
       "      <td>2009</td>\n",
       "      <td>150.0</td>\n",
       "    </tr>\n",
       "    <tr>\n",
       "      <th>131</th>\n",
       "      <td>Confirmed cases of MDR-TB</td>\n",
       "      <td>2010</td>\n",
       "      <td>112.0</td>\n",
       "    </tr>\n",
       "    <tr>\n",
       "      <th>132</th>\n",
       "      <td>Confirmed cases of MDR-TB</td>\n",
       "      <td>2011</td>\n",
       "      <td>166.0</td>\n",
       "    </tr>\n",
       "    <tr>\n",
       "      <th>133</th>\n",
       "      <td>Confirmed cases of MDR-TB</td>\n",
       "      <td>2012</td>\n",
       "      <td>225.0</td>\n",
       "    </tr>\n",
       "    <tr>\n",
       "      <th>134</th>\n",
       "      <td>Confirmed cases of MDR-TB started treatment fo...</td>\n",
       "      <td>2008</td>\n",
       "      <td>27.0</td>\n",
       "    </tr>\n",
       "    <tr>\n",
       "      <th>135</th>\n",
       "      <td>Confirmed cases of MDR-TB started treatment fo...</td>\n",
       "      <td>2009</td>\n",
       "      <td>93.0</td>\n",
       "    </tr>\n",
       "    <tr>\n",
       "      <th>136</th>\n",
       "      <td>Confirmed cases of MDR-TB started treatment fo...</td>\n",
       "      <td>2010</td>\n",
       "      <td>105.0</td>\n",
       "    </tr>\n",
       "    <tr>\n",
       "      <th>137</th>\n",
       "      <td>Confirmed cases of MDR-TB started treatment fo...</td>\n",
       "      <td>2011</td>\n",
       "      <td>94.0</td>\n",
       "    </tr>\n",
       "    <tr>\n",
       "      <th>138</th>\n",
       "      <td>Confirmed cases of MDR-TB started treatment fo...</td>\n",
       "      <td>2012</td>\n",
       "      <td>86.0</td>\n",
       "    </tr>\n",
       "  </tbody>\n",
       "</table>\n",
       "</div>"
      ],
      "text/plain": [
       "                                             Indicator  Year  Value\n",
       "126                          Confirmed cases of MDR-TB  2005   44.0\n",
       "127                          Confirmed cases of MDR-TB  2006   89.0\n",
       "128                          Confirmed cases of MDR-TB  2007   82.0\n",
       "129                          Confirmed cases of MDR-TB  2008  102.0\n",
       "130                          Confirmed cases of MDR-TB  2009  150.0\n",
       "131                          Confirmed cases of MDR-TB  2010  112.0\n",
       "132                          Confirmed cases of MDR-TB  2011  166.0\n",
       "133                          Confirmed cases of MDR-TB  2012  225.0\n",
       "134  Confirmed cases of MDR-TB started treatment fo...  2008   27.0\n",
       "135  Confirmed cases of MDR-TB started treatment fo...  2009   93.0\n",
       "136  Confirmed cases of MDR-TB started treatment fo...  2010  105.0\n",
       "137  Confirmed cases of MDR-TB started treatment fo...  2011   94.0\n",
       "138  Confirmed cases of MDR-TB started treatment fo...  2012   86.0"
      ]
     },
     "execution_count": 22,
     "metadata": {},
     "output_type": "execute_result"
    }
   ],
   "source": [
    "df"
   ]
  },
  {
   "cell_type": "code",
   "execution_count": 23,
   "id": "a9b5258a-80e0-4702-86d2-ed63c768e5fa",
   "metadata": {},
   "outputs": [
    {
     "data": {
      "text/plain": [
       "<Axes: xlabel='Year', ylabel='Indicator'>"
      ]
     },
     "execution_count": 23,
     "metadata": {},
     "output_type": "execute_result"
    },
    {
     "data": {
      "image/png": "[encoded data removed]",
      "text/plain": [
       "<Figure size 640x480 with 1 Axes>"
      ]
     },
     "metadata": {},
     "output_type": "display_data"
    }
   ],
   "source": [
    "sns.stripplot(data=df, x=df['Year'], y='Indicator')"
   ]
  },
  {
   "cell_type": "code",
   "execution_count": null,
   "id": "924fd60e-9c69-4838-b85a-21397a759f29",
   "metadata": {},
   "outputs": [],
   "source": []
  },
  {
   "cell_type": "code",
   "execution_count": 24,
   "id": "3c4bb8fb-8bb3-4f2b-94a0-904309bcf5a5",
   "metadata": {},
   "outputs": [
    {
     "data": {
      "text/plain": [
       "array(['Smear-positive tuberculosis case-detection rate (%)',\n",
       "       'Tuberculosis - new and relapse cases (TB_c_newinc)',\n",
       "       'New cases: pulmonary smear-negative',\n",
       "       'New cases: pulmonary smear unknown/not done', 'New cases: other',\n",
       "       'Retreatment cases: treatment after failure (pulmonary smear and/or culture positive)',\n",
       "       'Retreatment cases: treatment after default (pulmonary smear and/or culture positive)',\n",
       "       'Retreatment cases: other',\n",
       "       'Smear-positive tuberculosis treatment-success rate (%)',\n",
       "       'Treatment success rate for new pulmonary smear-negative and extrapulmonary tuberculosis cases',\n",
       "       'Confirmed cases of MDR-TB',\n",
       "       'Confirmed cases of MDR-TB started treatment for MDR-TB (%)',\n",
       "       'Estimated MDR-TB cases among notified pulmonary TB cases',\n",
       "       'Number of prevalent tuberculosis cases',\n",
       "       'HIV-positive TB patients on CPT (co-trimoxazole preventive therapy) (%)',\n",
       "       'Second-line drug susceptibility testing (DST) available',\n",
       "       'Laboratories providing drug susceptibility testing (DST) (per 5 million population)',\n",
       "       'Laboratories providing tuberculosis diagnostic services using culture (per 5 million population)',\n",
       "       'Laboratories providing tuberculosis diagnostic services using sputum smear microscopy (per 100 000 population)',\n",
       "       'Total number of notified TB cases',\n",
       "       'Tuberculosis effective treatment coverage (%)',\n",
       "       'Treatment success rate: new TB cases',\n",
       "       'Treatment success rate: previously treated TB cases',\n",
       "       'Treatment success rate: HIV-positive TB cases',\n",
       "       'Treatment success rate for patients treated for MDR-TB (%)',\n",
       "       'Treatment success rate: XDR-TB cases',\n",
       "       'Confirmed cases of RR-/MDR-TB',\n",
       "       'Cases started on MDR-TB treatment',\n",
       "       'Previously treated cases tested for RR-/MDR-TB (%)',\n",
       "       'New cases tested for RR-/MDR-TB (%)',\n",
       "       'TB patients with known HIV status (%)',\n",
       "       'Tested TB patients HIV-positive (%)',\n",
       "       'HIV-positive TB patients on ART (antiretroviral therapy) (%)',\n",
       "       'Estimated number of MDR/RR-TB incident cases',\n",
       "       'Number of deaths due to tuberculosis, excluding HIV',\n",
       "       'Deaths due to tuberculosis among HIV-negative people (per 100 000 population)',\n",
       "       'Number of incident tuberculosis cases',\n",
       "       'Incidence of tuberculosis (per 100 000 population per year)',\n",
       "       'Incidence of tuberculosis (per 100 000 population) (HIV-positive cases)',\n",
       "       'Number of incident tuberculosis cases,  (HIV-positive cases)',\n",
       "       'Tuberculosis treatment coverage',\n",
       "       'Number of incident tuberculosis cases in children aged 0 - 14',\n",
       "       'Tuberculosis - new and relapse cases',\n",
       "       'New or unknown treatment history cases: Pulmonary, bacteriologically confirmed',\n",
       "       'New cases: Pulmonary, smear-positive',\n",
       "       'New or unknown treatment history cases: Pulmonary, clinically diagnosed',\n",
       "       'New cases: extrapulmonary',\n",
       "       'Relapse cases: Pulmonary, bacteriologically confirmed',\n",
       "       'Relapse cases: Pulmonary, clinically diagnosed',\n",
       "       'Relapse cases: extrapulmonary',\n",
       "       'Relapse cases (pre-2013 definition)',\n",
       "       'Previously treated  cases, excluding relapse',\n",
       "       'Treatment history unknown',\n",
       "       'New cases: Pulmonary, smear-negative/unknown/not done and other new cases'],\n",
       "      dtype=object)"
      ]
     },
     "execution_count": 24,
     "metadata": {},
     "output_type": "execute_result"
    }
   ],
   "source": [
    "kenyatb_indicators.Indicator.unique()"
   ]
  },
  {
   "cell_type": "code",
   "execution_count": 25,
   "id": "e704e60c-558a-4cbc-ad68-2721c60f6436",
   "metadata": {},
   "outputs": [
    {
     "data": {
      "text/html": [
       "<div>\n",
       "<style scoped>\n",
       "    .dataframe tbody tr th:only-of-type {\n",
       "        vertical-align: middle;\n",
       "    }\n",
       "\n",
       "    .dataframe tbody tr th {\n",
       "        vertical-align: top;\n",
       "    }\n",
       "\n",
       "    .dataframe thead th {\n",
       "        text-align: right;\n",
       "    }\n",
       "</style>\n",
       "<table border=\"1\" class=\"dataframe\">\n",
       "  <thead>\n",
       "    <tr style=\"text-align: right;\">\n",
       "      <th></th>\n",
       "      <th>Indicator</th>\n",
       "      <th>Year</th>\n",
       "      <th>Value</th>\n",
       "    </tr>\n",
       "  </thead>\n",
       "  <tbody>\n",
       "    <tr>\n",
       "      <th>268</th>\n",
       "      <td>Treatment success rate: new TB cases</td>\n",
       "      <td>2019</td>\n",
       "      <td>86.0</td>\n",
       "    </tr>\n",
       "    <tr>\n",
       "      <th>294</th>\n",
       "      <td>Treatment success rate: previously treated TB ...</td>\n",
       "      <td>2019</td>\n",
       "      <td>73.0</td>\n",
       "    </tr>\n",
       "    <tr>\n",
       "      <th>308</th>\n",
       "      <td>Treatment success rate: HIV-positive TB cases</td>\n",
       "      <td>2019</td>\n",
       "      <td>80.0</td>\n",
       "    </tr>\n",
       "    <tr>\n",
       "      <th>323</th>\n",
       "      <td>Treatment success rate for patients treated fo...</td>\n",
       "      <td>2019</td>\n",
       "      <td>73.0</td>\n",
       "    </tr>\n",
       "    <tr>\n",
       "      <th>331</th>\n",
       "      <td>Treatment success rate: XDR-TB cases</td>\n",
       "      <td>2019</td>\n",
       "      <td>56.0</td>\n",
       "    </tr>\n",
       "    <tr>\n",
       "      <th>346</th>\n",
       "      <td>Confirmed cases of RR-/MDR-TB</td>\n",
       "      <td>2019</td>\n",
       "      <td>507.0</td>\n",
       "    </tr>\n",
       "    <tr>\n",
       "      <th>360</th>\n",
       "      <td>Cases started on MDR-TB treatment</td>\n",
       "      <td>2019</td>\n",
       "      <td>686.0</td>\n",
       "    </tr>\n",
       "    <tr>\n",
       "      <th>377</th>\n",
       "      <td>Previously treated cases tested for RR-/MDR-TB...</td>\n",
       "      <td>2019</td>\n",
       "      <td>86.0</td>\n",
       "    </tr>\n",
       "    <tr>\n",
       "      <th>393</th>\n",
       "      <td>New cases tested for RR-/MDR-TB (%)</td>\n",
       "      <td>2019</td>\n",
       "      <td>76.0</td>\n",
       "    </tr>\n",
       "    <tr>\n",
       "      <th>411</th>\n",
       "      <td>TB patients with known HIV status (%)</td>\n",
       "      <td>2019</td>\n",
       "      <td>98.0</td>\n",
       "    </tr>\n",
       "    <tr>\n",
       "      <th>429</th>\n",
       "      <td>Tested TB patients HIV-positive (%)</td>\n",
       "      <td>2019</td>\n",
       "      <td>26.0</td>\n",
       "    </tr>\n",
       "    <tr>\n",
       "      <th>446</th>\n",
       "      <td>HIV-positive TB patients on ART (antiretrovira...</td>\n",
       "      <td>2019</td>\n",
       "      <td>97.0</td>\n",
       "    </tr>\n",
       "    <tr>\n",
       "      <th>453</th>\n",
       "      <td>Estimated number of MDR/RR-TB incident cases</td>\n",
       "      <td>2019</td>\n",
       "      <td>1500.0</td>\n",
       "    </tr>\n",
       "    <tr>\n",
       "      <th>460</th>\n",
       "      <td>Number of deaths due to tuberculosis, excludin...</td>\n",
       "      <td>2019</td>\n",
       "      <td>19000.0</td>\n",
       "    </tr>\n",
       "    <tr>\n",
       "      <th>482</th>\n",
       "      <td>Deaths due to tuberculosis among HIV-negative ...</td>\n",
       "      <td>2019</td>\n",
       "      <td>37.0</td>\n",
       "    </tr>\n",
       "    <tr>\n",
       "      <th>504</th>\n",
       "      <td>Number of incident tuberculosis cases</td>\n",
       "      <td>2019</td>\n",
       "      <td>136000.0</td>\n",
       "    </tr>\n",
       "    <tr>\n",
       "      <th>526</th>\n",
       "      <td>Incidence of tuberculosis (per 100 000 populat...</td>\n",
       "      <td>2019</td>\n",
       "      <td>267.0</td>\n",
       "    </tr>\n",
       "    <tr>\n",
       "      <th>548</th>\n",
       "      <td>Incidence of tuberculosis (per 100 000 populat...</td>\n",
       "      <td>2019</td>\n",
       "      <td>70.0</td>\n",
       "    </tr>\n",
       "    <tr>\n",
       "      <th>570</th>\n",
       "      <td>Number of incident tuberculosis cases,  (HIV-p...</td>\n",
       "      <td>2019</td>\n",
       "      <td>36000.0</td>\n",
       "    </tr>\n",
       "    <tr>\n",
       "      <th>592</th>\n",
       "      <td>Tuberculosis treatment coverage</td>\n",
       "      <td>2019</td>\n",
       "      <td>62.0</td>\n",
       "    </tr>\n",
       "    <tr>\n",
       "      <th>630</th>\n",
       "      <td>Tuberculosis - new and relapse cases</td>\n",
       "      <td>2019</td>\n",
       "      <td>84345.0</td>\n",
       "    </tr>\n",
       "    <tr>\n",
       "      <th>639</th>\n",
       "      <td>New or unknown treatment history cases: Pulmon...</td>\n",
       "      <td>2019</td>\n",
       "      <td>43565.0</td>\n",
       "    </tr>\n",
       "    <tr>\n",
       "      <th>661</th>\n",
       "      <td>New or unknown treatment history cases: Pulmon...</td>\n",
       "      <td>2019</td>\n",
       "      <td>24351.0</td>\n",
       "    </tr>\n",
       "    <tr>\n",
       "      <th>683</th>\n",
       "      <td>New cases: extrapulmonary</td>\n",
       "      <td>2019</td>\n",
       "      <td>11724.0</td>\n",
       "    </tr>\n",
       "    <tr>\n",
       "      <th>692</th>\n",
       "      <td>Relapse cases: Pulmonary, bacteriologically co...</td>\n",
       "      <td>2019</td>\n",
       "      <td>2974.0</td>\n",
       "    </tr>\n",
       "    <tr>\n",
       "      <th>701</th>\n",
       "      <td>Relapse cases: Pulmonary, clinically diagnosed</td>\n",
       "      <td>2019</td>\n",
       "      <td>1425.0</td>\n",
       "    </tr>\n",
       "    <tr>\n",
       "      <th>710</th>\n",
       "      <td>Relapse cases: extrapulmonary</td>\n",
       "      <td>2019</td>\n",
       "      <td>306.0</td>\n",
       "    </tr>\n",
       "    <tr>\n",
       "      <th>744</th>\n",
       "      <td>Previously treated  cases, excluding relapse</td>\n",
       "      <td>2019</td>\n",
       "      <td>2040.0</td>\n",
       "    </tr>\n",
       "  </tbody>\n",
       "</table>\n",
       "</div>"
      ],
      "text/plain": [
       "                                             Indicator  Year     Value\n",
       "268               Treatment success rate: new TB cases  2019      86.0\n",
       "294  Treatment success rate: previously treated TB ...  2019      73.0\n",
       "308      Treatment success rate: HIV-positive TB cases  2019      80.0\n",
       "323  Treatment success rate for patients treated fo...  2019      73.0\n",
       "331               Treatment success rate: XDR-TB cases  2019      56.0\n",
       "346                      Confirmed cases of RR-/MDR-TB  2019     507.0\n",
       "360                  Cases started on MDR-TB treatment  2019     686.0\n",
       "377  Previously treated cases tested for RR-/MDR-TB...  2019      86.0\n",
       "393                New cases tested for RR-/MDR-TB (%)  2019      76.0\n",
       "411              TB patients with known HIV status (%)  2019      98.0\n",
       "429                Tested TB patients HIV-positive (%)  2019      26.0\n",
       "446  HIV-positive TB patients on ART (antiretrovira...  2019      97.0\n",
       "453       Estimated number of MDR/RR-TB incident cases  2019    1500.0\n",
       "460  Number of deaths due to tuberculosis, excludin...  2019   19000.0\n",
       "482  Deaths due to tuberculosis among HIV-negative ...  2019      37.0\n",
       "504              Number of incident tuberculosis cases  2019  136000.0\n",
       "526  Incidence of tuberculosis (per 100 000 populat...  2019     267.0\n",
       "548  Incidence of tuberculosis (per 100 000 populat...  2019      70.0\n",
       "570  Number of incident tuberculosis cases,  (HIV-p...  2019   36000.0\n",
       "592                    Tuberculosis treatment coverage  2019      62.0\n",
       "630               Tuberculosis - new and relapse cases  2019   84345.0\n",
       "639  New or unknown treatment history cases: Pulmon...  2019   43565.0\n",
       "661  New or unknown treatment history cases: Pulmon...  2019   24351.0\n",
       "683                          New cases: extrapulmonary  2019   11724.0\n",
       "692  Relapse cases: Pulmonary, bacteriologically co...  2019    2974.0\n",
       "701     Relapse cases: Pulmonary, clinically diagnosed  2019    1425.0\n",
       "710                      Relapse cases: extrapulmonary  2019     306.0\n",
       "744       Previously treated  cases, excluding relapse  2019    2040.0"
      ]
     },
     "execution_count": 25,
     "metadata": {},
     "output_type": "execute_result"
    }
   ],
   "source": [
    "kenyatb_indicators[kenyatb_indicators.Year == 2019]\n"
   ]
  },
  {
   "cell_type": "code",
   "execution_count": 26,
   "id": "b3c35ba1-bb1d-4a9d-a59c-0d5daa2acd33",
   "metadata": {},
   "outputs": [
    {
     "data": {
      "text/html": [
       "<div>\n",
       "<style scoped>\n",
       "    .dataframe tbody tr th:only-of-type {\n",
       "        vertical-align: middle;\n",
       "    }\n",
       "\n",
       "    .dataframe tbody tr th {\n",
       "        vertical-align: top;\n",
       "    }\n",
       "\n",
       "    .dataframe thead th {\n",
       "        text-align: right;\n",
       "    }\n",
       "</style>\n",
       "<table border=\"1\" class=\"dataframe\">\n",
       "  <thead>\n",
       "    <tr style=\"text-align: right;\">\n",
       "      <th></th>\n",
       "      <th>country</th>\n",
       "      <th>iso2</th>\n",
       "      <th>iso3</th>\n",
       "      <th>iso_numeric</th>\n",
       "      <th>g_whoregion</th>\n",
       "      <th>year</th>\n",
       "      <th>lab_sm</th>\n",
       "      <th>lab_sm_eqa</th>\n",
       "      <th>lab_sm_eqa_pass</th>\n",
       "      <th>lab_sm_led</th>\n",
       "      <th>...</th>\n",
       "      <th>dst_moxlev</th>\n",
       "      <th>dst_moxlev_eqa_pass</th>\n",
       "      <th>dst_bdq</th>\n",
       "      <th>dst_bdq_eqa_pass</th>\n",
       "      <th>dst_lzd</th>\n",
       "      <th>dst_lzd_eqa_pass</th>\n",
       "      <th>iso15189_accredited</th>\n",
       "      <th>qms_pending</th>\n",
       "      <th>lmis</th>\n",
       "      <th>m_wrd_etrans</th>\n",
       "    </tr>\n",
       "  </thead>\n",
       "  <tbody>\n",
       "    <tr>\n",
       "      <th>1413</th>\n",
       "      <td>Kenya</td>\n",
       "      <td>KE</td>\n",
       "      <td>KEN</td>\n",
       "      <td>404</td>\n",
       "      <td>AFR</td>\n",
       "      <td>2009</td>\n",
       "      <td>1183.0</td>\n",
       "      <td>614.0</td>\n",
       "      <td>405.0</td>\n",
       "      <td>NaN</td>\n",
       "      <td>...</td>\n",
       "      <td>NaN</td>\n",
       "      <td>NaN</td>\n",
       "      <td>NaN</td>\n",
       "      <td>NaN</td>\n",
       "      <td>NaN</td>\n",
       "      <td>NaN</td>\n",
       "      <td>NaN</td>\n",
       "      <td>NaN</td>\n",
       "      <td>NaN</td>\n",
       "      <td>NaN</td>\n",
       "    </tr>\n",
       "    <tr>\n",
       "      <th>1414</th>\n",
       "      <td>Kenya</td>\n",
       "      <td>KE</td>\n",
       "      <td>KEN</td>\n",
       "      <td>404</td>\n",
       "      <td>AFR</td>\n",
       "      <td>2010</td>\n",
       "      <td>1341.0</td>\n",
       "      <td>1116.0</td>\n",
       "      <td>1037.0</td>\n",
       "      <td>NaN</td>\n",
       "      <td>...</td>\n",
       "      <td>NaN</td>\n",
       "      <td>NaN</td>\n",
       "      <td>NaN</td>\n",
       "      <td>NaN</td>\n",
       "      <td>NaN</td>\n",
       "      <td>NaN</td>\n",
       "      <td>NaN</td>\n",
       "      <td>NaN</td>\n",
       "      <td>NaN</td>\n",
       "      <td>NaN</td>\n",
       "    </tr>\n",
       "    <tr>\n",
       "      <th>1415</th>\n",
       "      <td>Kenya</td>\n",
       "      <td>KE</td>\n",
       "      <td>KEN</td>\n",
       "      <td>404</td>\n",
       "      <td>AFR</td>\n",
       "      <td>2011</td>\n",
       "      <td>1581.0</td>\n",
       "      <td>1292.0</td>\n",
       "      <td>1234.0</td>\n",
       "      <td>150.0</td>\n",
       "      <td>...</td>\n",
       "      <td>NaN</td>\n",
       "      <td>NaN</td>\n",
       "      <td>NaN</td>\n",
       "      <td>NaN</td>\n",
       "      <td>NaN</td>\n",
       "      <td>NaN</td>\n",
       "      <td>NaN</td>\n",
       "      <td>NaN</td>\n",
       "      <td>NaN</td>\n",
       "      <td>NaN</td>\n",
       "    </tr>\n",
       "    <tr>\n",
       "      <th>1416</th>\n",
       "      <td>Kenya</td>\n",
       "      <td>KE</td>\n",
       "      <td>KEN</td>\n",
       "      <td>404</td>\n",
       "      <td>AFR</td>\n",
       "      <td>2012</td>\n",
       "      <td>1818.0</td>\n",
       "      <td>1519.0</td>\n",
       "      <td>1410.0</td>\n",
       "      <td>150.0</td>\n",
       "      <td>...</td>\n",
       "      <td>NaN</td>\n",
       "      <td>NaN</td>\n",
       "      <td>NaN</td>\n",
       "      <td>NaN</td>\n",
       "      <td>NaN</td>\n",
       "      <td>NaN</td>\n",
       "      <td>NaN</td>\n",
       "      <td>NaN</td>\n",
       "      <td>NaN</td>\n",
       "      <td>NaN</td>\n",
       "    </tr>\n",
       "    <tr>\n",
       "      <th>1417</th>\n",
       "      <td>Kenya</td>\n",
       "      <td>KE</td>\n",
       "      <td>KEN</td>\n",
       "      <td>404</td>\n",
       "      <td>AFR</td>\n",
       "      <td>2013</td>\n",
       "      <td>1860.0</td>\n",
       "      <td>1704.0</td>\n",
       "      <td>1704.0</td>\n",
       "      <td>160.0</td>\n",
       "      <td>...</td>\n",
       "      <td>NaN</td>\n",
       "      <td>NaN</td>\n",
       "      <td>NaN</td>\n",
       "      <td>NaN</td>\n",
       "      <td>NaN</td>\n",
       "      <td>NaN</td>\n",
       "      <td>NaN</td>\n",
       "      <td>NaN</td>\n",
       "      <td>NaN</td>\n",
       "      <td>NaN</td>\n",
       "    </tr>\n",
       "    <tr>\n",
       "      <th>1418</th>\n",
       "      <td>Kenya</td>\n",
       "      <td>KE</td>\n",
       "      <td>KEN</td>\n",
       "      <td>404</td>\n",
       "      <td>AFR</td>\n",
       "      <td>2014</td>\n",
       "      <td>1920.0</td>\n",
       "      <td>1574.0</td>\n",
       "      <td>1574.0</td>\n",
       "      <td>400.0</td>\n",
       "      <td>...</td>\n",
       "      <td>NaN</td>\n",
       "      <td>NaN</td>\n",
       "      <td>NaN</td>\n",
       "      <td>NaN</td>\n",
       "      <td>NaN</td>\n",
       "      <td>NaN</td>\n",
       "      <td>NaN</td>\n",
       "      <td>NaN</td>\n",
       "      <td>NaN</td>\n",
       "      <td>NaN</td>\n",
       "    </tr>\n",
       "    <tr>\n",
       "      <th>1419</th>\n",
       "      <td>Kenya</td>\n",
       "      <td>KE</td>\n",
       "      <td>KEN</td>\n",
       "      <td>404</td>\n",
       "      <td>AFR</td>\n",
       "      <td>2015</td>\n",
       "      <td>NaN</td>\n",
       "      <td>NaN</td>\n",
       "      <td>NaN</td>\n",
       "      <td>NaN</td>\n",
       "      <td>...</td>\n",
       "      <td>NaN</td>\n",
       "      <td>NaN</td>\n",
       "      <td>NaN</td>\n",
       "      <td>NaN</td>\n",
       "      <td>NaN</td>\n",
       "      <td>NaN</td>\n",
       "      <td>NaN</td>\n",
       "      <td>NaN</td>\n",
       "      <td>NaN</td>\n",
       "      <td>NaN</td>\n",
       "    </tr>\n",
       "    <tr>\n",
       "      <th>1420</th>\n",
       "      <td>Kenya</td>\n",
       "      <td>KE</td>\n",
       "      <td>KEN</td>\n",
       "      <td>404</td>\n",
       "      <td>AFR</td>\n",
       "      <td>2016</td>\n",
       "      <td>NaN</td>\n",
       "      <td>NaN</td>\n",
       "      <td>NaN</td>\n",
       "      <td>NaN</td>\n",
       "      <td>...</td>\n",
       "      <td>NaN</td>\n",
       "      <td>NaN</td>\n",
       "      <td>NaN</td>\n",
       "      <td>NaN</td>\n",
       "      <td>NaN</td>\n",
       "      <td>NaN</td>\n",
       "      <td>NaN</td>\n",
       "      <td>NaN</td>\n",
       "      <td>NaN</td>\n",
       "      <td>NaN</td>\n",
       "    </tr>\n",
       "    <tr>\n",
       "      <th>1421</th>\n",
       "      <td>Kenya</td>\n",
       "      <td>KE</td>\n",
       "      <td>KEN</td>\n",
       "      <td>404</td>\n",
       "      <td>AFR</td>\n",
       "      <td>2017</td>\n",
       "      <td>NaN</td>\n",
       "      <td>NaN</td>\n",
       "      <td>NaN</td>\n",
       "      <td>NaN</td>\n",
       "      <td>...</td>\n",
       "      <td>NaN</td>\n",
       "      <td>NaN</td>\n",
       "      <td>NaN</td>\n",
       "      <td>NaN</td>\n",
       "      <td>NaN</td>\n",
       "      <td>NaN</td>\n",
       "      <td>NaN</td>\n",
       "      <td>NaN</td>\n",
       "      <td>NaN</td>\n",
       "      <td>NaN</td>\n",
       "    </tr>\n",
       "    <tr>\n",
       "      <th>1422</th>\n",
       "      <td>Kenya</td>\n",
       "      <td>KE</td>\n",
       "      <td>KEN</td>\n",
       "      <td>404</td>\n",
       "      <td>AFR</td>\n",
       "      <td>2018</td>\n",
       "      <td>NaN</td>\n",
       "      <td>NaN</td>\n",
       "      <td>NaN</td>\n",
       "      <td>NaN</td>\n",
       "      <td>...</td>\n",
       "      <td>NaN</td>\n",
       "      <td>NaN</td>\n",
       "      <td>NaN</td>\n",
       "      <td>NaN</td>\n",
       "      <td>NaN</td>\n",
       "      <td>NaN</td>\n",
       "      <td>NaN</td>\n",
       "      <td>NaN</td>\n",
       "      <td>NaN</td>\n",
       "      <td>NaN</td>\n",
       "    </tr>\n",
       "    <tr>\n",
       "      <th>1423</th>\n",
       "      <td>Kenya</td>\n",
       "      <td>KE</td>\n",
       "      <td>KEN</td>\n",
       "      <td>404</td>\n",
       "      <td>AFR</td>\n",
       "      <td>2019</td>\n",
       "      <td>NaN</td>\n",
       "      <td>NaN</td>\n",
       "      <td>NaN</td>\n",
       "      <td>NaN</td>\n",
       "      <td>...</td>\n",
       "      <td>NaN</td>\n",
       "      <td>NaN</td>\n",
       "      <td>NaN</td>\n",
       "      <td>NaN</td>\n",
       "      <td>NaN</td>\n",
       "      <td>NaN</td>\n",
       "      <td>NaN</td>\n",
       "      <td>NaN</td>\n",
       "      <td>NaN</td>\n",
       "      <td>NaN</td>\n",
       "    </tr>\n",
       "    <tr>\n",
       "      <th>1424</th>\n",
       "      <td>Kenya</td>\n",
       "      <td>KE</td>\n",
       "      <td>KEN</td>\n",
       "      <td>404</td>\n",
       "      <td>AFR</td>\n",
       "      <td>2020</td>\n",
       "      <td>NaN</td>\n",
       "      <td>NaN</td>\n",
       "      <td>NaN</td>\n",
       "      <td>NaN</td>\n",
       "      <td>...</td>\n",
       "      <td>2.0</td>\n",
       "      <td>2.0</td>\n",
       "      <td>2.0</td>\n",
       "      <td>2.0</td>\n",
       "      <td>2.0</td>\n",
       "      <td>2.0</td>\n",
       "      <td>2.0</td>\n",
       "      <td>0.0</td>\n",
       "      <td>2.0</td>\n",
       "      <td>226.0</td>\n",
       "    </tr>\n",
       "    <tr>\n",
       "      <th>1425</th>\n",
       "      <td>Kenya</td>\n",
       "      <td>KE</td>\n",
       "      <td>KEN</td>\n",
       "      <td>404</td>\n",
       "      <td>AFR</td>\n",
       "      <td>2021</td>\n",
       "      <td>NaN</td>\n",
       "      <td>NaN</td>\n",
       "      <td>NaN</td>\n",
       "      <td>NaN</td>\n",
       "      <td>...</td>\n",
       "      <td>2.0</td>\n",
       "      <td>NaN</td>\n",
       "      <td>1.0</td>\n",
       "      <td>NaN</td>\n",
       "      <td>1.0</td>\n",
       "      <td>NaN</td>\n",
       "      <td>5.0</td>\n",
       "      <td>0.0</td>\n",
       "      <td>2.0</td>\n",
       "      <td>226.0</td>\n",
       "    </tr>\n",
       "    <tr>\n",
       "      <th>1426</th>\n",
       "      <td>Kenya</td>\n",
       "      <td>KE</td>\n",
       "      <td>KEN</td>\n",
       "      <td>404</td>\n",
       "      <td>AFR</td>\n",
       "      <td>2022</td>\n",
       "      <td>NaN</td>\n",
       "      <td>NaN</td>\n",
       "      <td>NaN</td>\n",
       "      <td>NaN</td>\n",
       "      <td>...</td>\n",
       "      <td>1.0</td>\n",
       "      <td>NaN</td>\n",
       "      <td>1.0</td>\n",
       "      <td>NaN</td>\n",
       "      <td>1.0</td>\n",
       "      <td>NaN</td>\n",
       "      <td>2.0</td>\n",
       "      <td>0.0</td>\n",
       "      <td>2.0</td>\n",
       "      <td>302.0</td>\n",
       "    </tr>\n",
       "  </tbody>\n",
       "</table>\n",
       "<p>14 rows × 74 columns</p>\n",
       "</div>"
      ],
      "text/plain": [
       "     country iso2 iso3  iso_numeric g_whoregion  year  lab_sm  lab_sm_eqa  \\\n",
       "1413   Kenya   KE  KEN          404         AFR  2009  1183.0       614.0   \n",
       "1414   Kenya   KE  KEN          404         AFR  2010  1341.0      1116.0   \n",
       "1415   Kenya   KE  KEN          404         AFR  2011  1581.0      1292.0   \n",
       "1416   Kenya   KE  KEN          404         AFR  2012  1818.0      1519.0   \n",
       "1417   Kenya   KE  KEN          404         AFR  2013  1860.0      1704.0   \n",
       "1418   Kenya   KE  KEN          404         AFR  2014  1920.0      1574.0   \n",
       "1419   Kenya   KE  KEN          404         AFR  2015     NaN         NaN   \n",
       "1420   Kenya   KE  KEN          404         AFR  2016     NaN         NaN   \n",
       "1421   Kenya   KE  KEN          404         AFR  2017     NaN         NaN   \n",
       "1422   Kenya   KE  KEN          404         AFR  2018     NaN         NaN   \n",
       "1423   Kenya   KE  KEN          404         AFR  2019     NaN         NaN   \n",
       "1424   Kenya   KE  KEN          404         AFR  2020     NaN         NaN   \n",
       "1425   Kenya   KE  KEN          404         AFR  2021     NaN         NaN   \n",
       "1426   Kenya   KE  KEN          404         AFR  2022     NaN         NaN   \n",
       "\n",
       "      lab_sm_eqa_pass  lab_sm_led  ...  dst_moxlev  dst_moxlev_eqa_pass  \\\n",
       "1413            405.0         NaN  ...         NaN                  NaN   \n",
       "1414           1037.0         NaN  ...         NaN                  NaN   \n",
       "1415           1234.0       150.0  ...         NaN                  NaN   \n",
       "1416           1410.0       150.0  ...         NaN                  NaN   \n",
       "1417           1704.0       160.0  ...         NaN                  NaN   \n",
       "1418           1574.0       400.0  ...         NaN                  NaN   \n",
       "1419              NaN         NaN  ...         NaN                  NaN   \n",
       "1420              NaN         NaN  ...         NaN                  NaN   \n",
       "1421              NaN         NaN  ...         NaN                  NaN   \n",
       "1422              NaN         NaN  ...         NaN                  NaN   \n",
       "1423              NaN         NaN  ...         NaN                  NaN   \n",
       "1424              NaN         NaN  ...         2.0                  2.0   \n",
       "1425              NaN         NaN  ...         2.0                  NaN   \n",
       "1426              NaN         NaN  ...         1.0                  NaN   \n",
       "\n",
       "      dst_bdq  dst_bdq_eqa_pass  dst_lzd  dst_lzd_eqa_pass  \\\n",
       "1413      NaN               NaN      NaN               NaN   \n",
       "1414      NaN               NaN      NaN               NaN   \n",
       "1415      NaN               NaN      NaN               NaN   \n",
       "1416      NaN               NaN      NaN               NaN   \n",
       "1417      NaN               NaN      NaN               NaN   \n",
       "1418      NaN               NaN      NaN               NaN   \n",
       "1419      NaN               NaN      NaN               NaN   \n",
       "1420      NaN               NaN      NaN               NaN   \n",
       "1421      NaN               NaN      NaN               NaN   \n",
       "1422      NaN               NaN      NaN               NaN   \n",
       "1423      NaN               NaN      NaN               NaN   \n",
       "1424      2.0               2.0      2.0               2.0   \n",
       "1425      1.0               NaN      1.0               NaN   \n",
       "1426      1.0               NaN      1.0               NaN   \n",
       "\n",
       "      iso15189_accredited  qms_pending  lmis  m_wrd_etrans  \n",
       "1413                  NaN          NaN   NaN           NaN  \n",
       "1414                  NaN          NaN   NaN           NaN  \n",
       "1415                  NaN          NaN   NaN           NaN  \n",
       "1416                  NaN          NaN   NaN           NaN  \n",
       "1417                  NaN          NaN   NaN           NaN  \n",
       "1418                  NaN          NaN   NaN           NaN  \n",
       "1419                  NaN          NaN   NaN           NaN  \n",
       "1420                  NaN          NaN   NaN           NaN  \n",
       "1421                  NaN          NaN   NaN           NaN  \n",
       "1422                  NaN          NaN   NaN           NaN  \n",
       "1423                  NaN          NaN   NaN           NaN  \n",
       "1424                  2.0          0.0   2.0         226.0  \n",
       "1425                  5.0          0.0   2.0         226.0  \n",
       "1426                  2.0          0.0   2.0         302.0  \n",
       "\n",
       "[14 rows x 74 columns]"
      ]
     },
     "execution_count": 26,
     "metadata": {},
     "output_type": "execute_result"
    }
   ],
   "source": [
    "(pd\n",
    " .read_csv('kenyatb_additional_data/TB_laboratories_2024-02-22.csv')\n",
    " .query('country == @country_filter'))"
   ]
  },
  {
   "cell_type": "code",
   "execution_count": null,
   "id": "40f7a7f4-cf7c-46ec-b7c3-cb51421ee28e",
   "metadata": {},
   "outputs": [],
   "source": []
  }
 ],
 "metadata": {
  "kernelspec": {
   "display_name": "Python 3.11.5 ('gisenv')",
   "language": "python",
   "name": "python3"
  },
  "language_info": {
   "codemirror_mode": {
    "name": "ipython",
    "version": 3
   },
   "file_extension": ".py",
   "mimetype": "text/x-python",
   "name": "python",
   "nbconvert_exporter": "python",
   "pygments_lexer": "ipython3",
   "version": "3.11.5"
  },
  "vscode": {
   "interpreter": {
    "hash": "acb79f9043e5b1c1529c64d2303b516ef5142c2511b32d722fdcb807fd03c767"
   }
  }
 },
 "nbformat": 4,
 "nbformat_minor": 5
}
